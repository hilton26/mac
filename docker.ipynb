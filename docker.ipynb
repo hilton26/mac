{
 "cells": [
  {
   "cell_type": "markdown",
   "id": "ac396cc9",
   "metadata": {},
   "source": [
    "# How to Dockerize a data science application\n",
    "#### Learn how to Dockerize your data science application in five minutes so your code runs perfectly when shared with colleagues.\n",
    "\n",
    "https://practicaldatascience.co.uk/data-engineering/how-to-dockerize-a-data-science-application"
   ]
  },
  {
   "cell_type": "markdown",
   "id": "a5c1140d",
   "metadata": {},
   "source": [
    "The phrase “It works on my machine” is a common one in most offices with a data science department. It’s very common to write an application that works perfectly in your local data science environment only to find your colleagues run into problems with the exact same code.\n",
    "\n",
    "Small differences in the version numbers of the packages you’re using can cause compatibility issues that prevent others from reviewing your code or running your model on their development environment.\n",
    "\n",
    "Docker is designed to overcome this issue and has become an industry standard tool for most data scientists and data engineers. Docker is a containerization application that lets you create a portable virtual operating system environment, complete with your code and the custom package versions required to run it.\n",
    "\n",
    "In this project I’ll show you how you can Dockerize a data science application. This will take your local application, wrap it up with a host operating system and your preferred Python version, and then install the packages required to run it flawlessly."
   ]
  },
  {
   "cell_type": "markdown",
   "id": "a9655d11",
   "metadata": {},
   "source": [
    "## Install Docker\n",
    "\n",
    "Firstly, I’m assuming that, like most data scientists, you’re running an Ubuntu data science workstation. Open a terminal and enter the commands below to install Docker using the apt package management system on Ubuntu.\n",
    "\n",
    "After you’ve installed docker.io, you’ll need to add your user to the docker group to give them the right permissions. Then you’ll need to enable the docker service. To confirm that Docker has installed, you can run docker --version to see the version number."
   ]
  },
  {
   "cell_type": "code",
   "execution_count": 5,
   "id": "8b204731",
   "metadata": {},
   "outputs": [
    {
     "ename": "SyntaxError",
     "evalue": "invalid syntax (3095411803.py, line 1)",
     "output_type": "error",
     "traceback": [
      "\u001b[1;36m  Cell \u001b[1;32mIn[5], line 1\u001b[1;36m\u001b[0m\n\u001b[1;33m    sudo apt install docker.io\u001b[0m\n\u001b[1;37m         ^\u001b[0m\n\u001b[1;31mSyntaxError\u001b[0m\u001b[1;31m:\u001b[0m invalid syntax\n"
     ]
    }
   ],
   "source": [
    "sudo apt install docker.io\n",
    "sudo usermod -aG docker $USER\n",
    "sudo systemctl enable --now docker\n",
    "docker --version"
   ]
  },
  {
   "cell_type": "markdown",
   "id": "c4269bdc",
   "metadata": {},
   "source": [
    "## Create a Dockerfile\n",
    "\n",
    "\n",
    "Next, we’ll create a Dockerfile. This is a simple text file that should be added to the folder in which your data science application resides. The file needs to be called Dockerfile and have no file extension.\n",
    "\n",
    "The Dockerfile we’re creating is a really simple one. It will first get the python:3.8.5-buster Docker container from Docker Hub and set the app directory as the working directory and copy your files to it. The Docker container installed is a Linux operating system including everything you need to run your code.\n",
    "\n",
    "Once installed, the Docker container will run the pip install command to install pandas and numpy via the PyPi Python package manager, and then will run the command python3 automation.py to run the script on the specific application I’m Dockerizing."
   ]
  },
  {
   "cell_type": "code",
   "execution_count": 3,
   "id": "e1644721",
   "metadata": {},
   "outputs": [
    {
     "ename": "SyntaxError",
     "evalue": "invalid syntax (3857922613.py, line 1)",
     "output_type": "error",
     "traceback": [
      "\u001b[1;36m  Cell \u001b[1;32mIn[3], line 1\u001b[1;36m\u001b[0m\n\u001b[1;33m    FROM python:3.8.5-buster\u001b[0m\n\u001b[1;37m         ^\u001b[0m\n\u001b[1;31mSyntaxError\u001b[0m\u001b[1;31m:\u001b[0m invalid syntax\n"
     ]
    }
   ],
   "source": [
    "FROM python:3.8.5-buster\n",
    "WORKDIR /app\n",
    "COPY . /app\n",
    "RUN pip install pandas\n",
    "RUN pip install numpy\n",
    "CMD [\"python3\", \"automation.py\"]"
   ]
  },
  {
   "cell_type": "markdown",
   "id": "32ad47b6",
   "metadata": {},
   "source": [
    "## Dockerize the application\n",
    "\n",
    "\n",
    "To test your Dockerfile correctly Dockerizes your application, you can cd into the directory containing your application and the Dockerfile and run the docker build -t command to Dockerize the application.\n",
    "\n",
    "The automation . part names the Docker container generated automation while the . tells it to do this to the present directory. This process will usually take a few minutes, depending on the size of the Docker container you used."
   ]
  },
  {
   "cell_type": "code",
   "execution_count": 4,
   "id": "173799ab",
   "metadata": {},
   "outputs": [
    {
     "ename": "SyntaxError",
     "evalue": "invalid syntax (579671801.py, line 1)",
     "output_type": "error",
     "traceback": [
      "\u001b[1;36m  Cell \u001b[1;32mIn[4], line 1\u001b[1;36m\u001b[0m\n\u001b[1;33m    docker build -t automation .\u001b[0m\n\u001b[1;37m           ^\u001b[0m\n\u001b[1;31mSyntaxError\u001b[0m\u001b[1;31m:\u001b[0m invalid syntax\n"
     ]
    }
   ],
   "source": [
    "docker build -t automation ."
   ]
  },
  {
   "cell_type": "code",
   "execution_count": null,
   "id": "5b774086",
   "metadata": {},
   "outputs": [],
   "source": []
  }
 ],
 "metadata": {
  "kernelspec": {
   "display_name": "Python 3 (ipykernel)",
   "language": "python",
   "name": "python3"
  },
  "language_info": {
   "codemirror_mode": {
    "name": "ipython",
    "version": 3
   },
   "file_extension": ".py",
   "mimetype": "text/x-python",
   "name": "python",
   "nbconvert_exporter": "python",
   "pygments_lexer": "ipython3",
   "version": "3.9.12"
  }
 },
 "nbformat": 4,
 "nbformat_minor": 5
}
