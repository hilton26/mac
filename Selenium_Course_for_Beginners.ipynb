{
 "cells": [
  {
   "cell_type": "markdown",
   "metadata": {
    "id": "9JhbDnaNfYL6"
   },
   "source": [
    "Selenium Course for Beginners - Web Scraping Bots, Browser Automation, Testing (Tutorial)\n",
    "https://www.youtube.com/watch?v=j7VZsCCnptM\n",
    "\n",
    "Locating elements in selenium python\n",
    "https://www.seleniumeasy.com/python/locating-elements-in-selenium-python"
   ]
  },
  {
   "cell_type": "code",
   "execution_count": 2,
   "metadata": {},
   "outputs": [],
   "source": [
    "# import libraries\n",
    "import os\n",
    "from selenium import webdriver\n",
    "\n",
    "from selenium.webdriver.common.by import By\n",
    "from selenium.webdriver.common.keys import Keys\n",
    "from selenium.webdriver.support.ui import WebDriverWait\n",
    "from selenium.webdriver.support import expected_conditions as EC"
   ]
  },
  {
   "cell_type": "code",
   "execution_count": 6,
   "metadata": {},
   "outputs": [
    {
     "name": "stdout",
     "output_type": "stream",
     "text": [
      "/usr/local/bin:/usr/bin:/bin:/usr/sbin:/sbin:/usr/local/bin/geckodriver:/Users/hilton/.local/bin:/usr/local/bin/tesseract:/Users/hilton/pythonenv/bin:/opt/anaconda3/bin:/opt/anaconda3/envs/tesseract/bin:/Users/hilton/Py/virtual/bin:/Users/hilton/venv/bin:/usr/local/share/dotnet:~/.dotnet/tools:/Library/Frameworks/Mono.framework/Versions/Current/Commands:/Users/hilton/Py/SeleniumDrivers:/Volumes/Seagate/OneDrive/Py/SeleniumDrivers\n"
     ]
    }
   ],
   "source": [
    "# set path to web drivers\n",
    "os.environ['PATH'] += ':/Volumes/Seagate/OneDrive/Py/SeleniumDrivers'\n",
    "print(os.environ['PATH'])"
   ]
  },
  {
   "cell_type": "code",
   "execution_count": 7,
   "metadata": {},
   "outputs": [],
   "source": [
    "# set driver\n",
    "driver = webdriver.Chrome()"
   ]
  },
  {
   "cell_type": "code",
   "execution_count": 8,
   "metadata": {},
   "outputs": [],
   "source": [
    "driver.quit()"
   ]
  },
  {
   "cell_type": "code",
   "execution_count": null,
   "metadata": {},
   "outputs": [],
   "source": []
  }
 ],
 "metadata": {
  "colab": {
   "authorship_tag": "ABX9TyMcNTDpEfVryZK1ebYdc7FY",
   "name": "Untitled0.ipynb",
   "provenance": []
  },
  "kernelspec": {
   "display_name": "Python 3 (ipykernel)",
   "language": "python",
   "name": "python3"
  },
  "language_info": {
   "codemirror_mode": {
    "name": "ipython",
    "version": 3
   },
   "file_extension": ".py",
   "mimetype": "text/x-python",
   "name": "python",
   "nbconvert_exporter": "python",
   "pygments_lexer": "ipython3",
   "version": "3.9.7"
  }
 },
 "nbformat": 4,
 "nbformat_minor": 1
}
