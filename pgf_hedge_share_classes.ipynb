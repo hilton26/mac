{
 "cells": [
  {
   "cell_type": "markdown",
   "id": "0b9a1a31",
   "metadata": {},
   "source": [
    "# Downloading PGF UCITS Hedge Share Class NAVs and Holdings"
   ]
  },
  {
   "cell_type": "code",
   "execution_count": 1,
   "id": "facf3dba",
   "metadata": {},
   "outputs": [],
   "source": [
    "# create a time difference function\n",
    "import datetime, time\n",
    "\n",
    "def timediff(start, end, decimals = 1):\n",
    "    if   int((end - start) / 3600) > 0: # non-zero hours\n",
    "        return str(int(  (end - start) / 3600)) + 'hr '  + str(int(  (end - start) / 60)          ) + 'min '\\\n",
    "         +                                                 str(round((end - start) % 60, decimals)) + 'sec'\n",
    "    elif int((end - start) / 60)   > 0: # non-zero hours and minutes\n",
    "        return str(int(  (end - start) / 60))   + 'min ' + str(round((end - start) % 60, decimals)) + 'sec'\n",
    "    else:\n",
    "        return                                             str(round((end - start) % 60, decimals)) + 'sec'"
   ]
  },
  {
   "cell_type": "code",
   "execution_count": 2,
   "id": "02a9e7c4",
   "metadata": {},
   "outputs": [
    {
     "name": "stdout",
     "output_type": "stream",
     "text": [
      "Importing libraries ...\n",
      "Importing libraries completed: 0.9sec\n"
     ]
    }
   ],
   "source": [
    "# import libraries\n",
    "\n",
    "start_time          = time.time()\n",
    "start_time_overlord = start_time\n",
    "print('Importing libraries ...')\n",
    "\n",
    "# load libraries\n",
    "import pandas as pd\n",
    "import numpy as np\n",
    "import os\n",
    "import csv\n",
    "import datetime\n",
    "from datetime import date, datetime\n",
    "from selenium.webdriver import ActionChains\n",
    "from selenium.webdriver.common.by import By\n",
    "from selenium.webdriver.common.keys import Keys\n",
    "from selenium.webdriver.support.select import Select\n",
    "from selenium.webdriver.support.ui import WebDriverWait\n",
    "from selenium.webdriver.support import expected_conditions as EC\n",
    "\n",
    "print(f'Importing libraries completed: {timediff(start_time, time.time())}')"
   ]
  },
  {
   "cell_type": "code",
   "execution_count": 3,
   "id": "03a44b8e",
   "metadata": {},
   "outputs": [
    {
     "name": "stdout",
     "output_type": "stream",
     "text": [
      "Setting path strings ...\n",
      "Setting path strings completed: 0.0sec\n"
     ]
    }
   ],
   "source": [
    "# set paths to the driver, urls, and report paramters\n",
    "start_time = time.time()\n",
    "print('Setting path strings ...')\n",
    "\n",
    "os.environ[\"PATH\"] = r'C:/SeleniumDrivers' # + os.pathsep + os.getenv(\"PATH\")\n",
    "# https://stackoverflow.com/questions/61213005/modify-beginning-of-path-variable-with-os-environ-in-python\n",
    "eagle_portal       = r'https://eagleportal.prescient.co.za'\n",
    "url_default        = eagle_portal + r'/Default.aspx'\n",
    "url_derv           = eagle_portal + r'/Queries/Query.aspx?rpt=DerivativeExposure'\n",
    "url_parn           = eagle_portal + r'/Queries/Query.aspx?rpt=PortfolioAnalytics'\n",
    "url_ut_prices      = eagle_portal + r'/Queries/Query.aspx?rpt=UTPRICES'\n",
    "pth                = r'P:\\Investment Operations\\GRC\\Compliance\\Daily\\py_reports.xlsm' # variables stored here\n",
    "\n",
    "print(f'Setting path strings completed: {timediff(start_time, time.time())}')"
   ]
  },
  {
   "cell_type": "code",
   "execution_count": 4,
   "id": "1f23efd2",
   "metadata": {},
   "outputs": [
    {
     "name": "stdout",
     "output_type": "stream",
     "text": [
      "Getting input variables ...\n",
      " Report date:          2023-09-22 00:00:00 \n",
      " Class NAV codes:      PGPCEMD,PGPCGED,PGPGBFD,PGPGIFE,PGPGIFI,PGPRFE,PGPRFG \n",
      " Class holdings codes: PGPRUSD,PGPRZAR,PGPRUS0%,PGPRGBP,PGIPZAR,PGIP_I,PGPCZAR,PGBEUR,PGBGBP,PGBZAR,PGEMZAR\n",
      "Getting input variables completed: 3.7sec\n"
     ]
    }
   ],
   "source": [
    "# get input data off source sheet\n",
    "\n",
    "start_time = time.time()\n",
    "print('Getting input variables ...')\n",
    "\n",
    "# get source sheet\n",
    "\n",
    "#get user details, report date, and fund names from the py_report.xlsm sheet\n",
    "import xlwings as xw\n",
    "wb      = xw.Book(r'P:\\Investment Operations\\GRC\\Compliance\\Daily\\py_reports.xlsm') # open calc workbook as an object\n",
    "\n",
    "# get variables from source sheet and then close the sheet\n",
    "aladdin        = wb.sheets['creds'].range('A1').value\n",
    "sesame         = wb.sheets['creds'].range('A2').value\n",
    "when           = wb.sheets['hdgs'].range('C1').value\n",
    "when_fmt       = wb.sheets['hdgs'].range('C1').value.strftime('%#m/%#d/%Y') #https://stackabuse.com/how-to-format-dates-in-python/\n",
    "wb.close()\n",
    "\n",
    "# get portfolio lists as dataframes, from which to pull reports\n",
    "df_clss_navs   = pd.read_excel(pth, sheet_name = 'hdgs', usecols = 'A').dropna()  #hedged UT price fund codes\n",
    "df_clss_hldgs  = pd.read_excel(pth, sheet_name = 'hdgs', usecols = 'B').dropna()  #hedged UT holdings fund codes\n",
    "\n",
    "# get portfolio lists as strings\n",
    "clss_navs      = (',').join([element for innerList in df_clss_navs.values  for element in innerList])\n",
    "clss_hldgs     = (',').join([element for innerList in df_clss_hldgs.values for element in innerList])\n",
    "# https://stackoverflow.com/questions/12453580/how-to-concatenate-join-items-in-a-list-to-a-single-string\n",
    "\n",
    "# get elements to manipulate the web calendar\n",
    "day_           = f'{when:%#d}' # f'{when:%d}' report date with leading zeroes\n",
    "month_year_    = f'{when:%B}, {when:%Y}'\n",
    "month_         = f'{when:%b}'\n",
    "year_          = f'{when:%Y}'\n",
    "\n",
    "# check inputs\n",
    "print(f' Report date:          {when}', '\\n', f'Class NAV codes:      {clss_navs}', '\\n', f'Class holdings codes: {clss_hldgs}')\n",
    "print(f'Getting input variables completed: {timediff(start_time, time.time())}')"
   ]
  },
  {
   "cell_type": "code",
   "execution_count": 5,
   "id": "7faacc5e",
   "metadata": {},
   "outputs": [
    {
     "name": "stdout",
     "output_type": "stream",
     "text": [
      "Assigning webdriver and entering the website ...\n",
      "Assigning webdriver and entering the website completed: 19.8sec\n"
     ]
    }
   ],
   "source": [
    "# assign the browser driver and log in to the website\n",
    "\n",
    "start_time = time.time()\n",
    "print('Assigning webdriver and entering the website ...')\n",
    "\n",
    "from selenium import webdriver\n",
    "\n",
    "driver = webdriver.Firefox()\n",
    "    \n",
    "# open the browser on the Eagle web page\n",
    "driver.get(url_default)          # default page\n",
    "wait = WebDriverWait(driver, 10) # https://selenium-python.readthedocs.io/waits.html, max wait for elements to appear\n",
    "\n",
    "# login with credentials\n",
    "driver.find_element(By.CSS_SELECTOR, '#LoginCtrl_MainLoginControl_UserName'   ).send_keys(aladdin)\n",
    "driver.find_element(By.CSS_SELECTOR, '#LoginCtrl_MainLoginControl_Password'   ).send_keys(sesame)\n",
    "driver.find_element(By.CSS_SELECTOR, '#LoginCtrl_MainLoginControl_LoginButton').click()\n",
    "    \n",
    "print(f'Assigning webdriver and entering the website completed: {timediff(start_time, time.time())}')"
   ]
  },
  {
   "cell_type": "code",
   "execution_count": 6,
   "id": "7b518814",
   "metadata": {},
   "outputs": [
    {
     "name": "stdout",
     "output_type": "stream",
     "text": [
      "Downloading fund NAVs ...\n",
      "Downloading fund NAVs completed: 35.3sec\n"
     ]
    }
   ],
   "source": [
    "# download UT prices\n",
    "\n",
    "start_time = time.time()\n",
    "print('Downloading fund NAVs ...')\n",
    "\n",
    "# having logged in, open the reporting page\n",
    "driver.get(url_ut_prices)             # ut prices\n",
    "\n",
    "# switch to the query page\n",
    "WebDriverWait(driver, 20).until(EC.element_to_be_clickable((By.CSS_SELECTOR, '#ModifyLinkLabel'))).click()\n",
    "\n",
    "edit_criteria_window = driver.window_handles[0] # save current window handle\n",
    "# How to switch to new window in Selenium for Python?\n",
    "# https://stackoverflow.com/questions/10629815/how-to-switch-to-new-window-in-selenium-for-python\n",
    "\n",
    "# update the 'from' calendar\n",
    "driver.find_element(By.CSS_SELECTOR, 'td[id=\"ctl00_c_qc_QueryInputs_QueryInputsPopup_DATE1_DateCtrl_From_B-1\"]').click()\n",
    "driver.find_element(By.CSS_SELECTOR, 'td[id=\"ctl00_c_qc_QueryInputs_QueryInputsPopup_DATE1_DateCtrl_From_DDD_C_NMC\"]').click()\n",
    "lmonth_selector = wait.until(EC.element_to_be_clickable((By.CSS_SELECTOR, 'td[id=\"ctl00_c_qc_QueryInputs_QueryInputsPopup_DATE1_DateCtrl_From_DDD_C_PMC\"]')))\n",
    "while driver.find_element(By.XPATH,'//td[@id=\"ctl00_c_qc_QueryInputs_QueryInputsPopup_DATE1_DateCtrl_From_DDD_C_TC\"]').text != month_year_:\n",
    "    lmonth_selector.click()\n",
    "day_selector = driver.find_element(By.XPATH, f'//td[@class=\"dxeCalendarDay\"][text()={day_}] | //td[@class=\"dxeCalendarDay dxeCalendarWeekend\"][text()={day_}]')\n",
    "day_selector.click()\n",
    "\n",
    "# update the 'to' calendar\n",
    "driver.find_element(By.CSS_SELECTOR, 'td[id=\"ctl00_c_qc_QueryInputs_QueryInputsPopup_DATE1_DateCtrl_To_B-1\"]').click()\n",
    "driver.find_element(By.CSS_SELECTOR, 'td[id=\"ctl00_c_qc_QueryInputs_QueryInputsPopup_DATE1_DateCtrl_To_DDD_C_NMC\"]').click()\n",
    "lmonth_selector = wait.until(EC.element_to_be_clickable((By.CSS_SELECTOR, 'td[id=\"ctl00_c_qc_QueryInputs_QueryInputsPopup_DATE1_DateCtrl_To_DDD_C_PMC\"]')))\n",
    "while driver.find_element(By.XPATH,'//td[@id=\"ctl00_c_qc_QueryInputs_QueryInputsPopup_DATE1_DateCtrl_To_DDD_C_TC\"]').text != month_year_:\n",
    "    lmonth_selector.click()\n",
    "day_selector = driver.find_element(By.XPATH, f'//td[@class=\"dxeCalendarDay\"][text()={day_}] | //td[@class=\"dxeCalendarDay dxeCalendarWeekend\"][text()={day_}]')\n",
    "day_selector.click()\n",
    "\n",
    "# get the web element for the FUND LIST and assign values to it\n",
    "fund_selector  = driver.find_element(By.CSS_SELECTOR, 'input[id=\"ctl00_c_qc_QueryInputs_QueryInputsPopup_FUND0_SelectedIds\"]')\n",
    "driver.execute_script(f'arguments[0].value = \"{clss_navs}\";', fund_selector)\n",
    "\n",
    "# click the table header where \"Entity ID\" resides\n",
    "WebDriverWait(driver, 20).until(EC.element_to_be_clickable((By.CSS_SELECTOR, 'table[id=\"ctl00_c_qc_QueryInputs_QueryInputsPopup_FUND0_SelectedItemsGrid_DXHeaderTable\"]'))).click()\n",
    "\n",
    "time.sleep(20)\n",
    "\n",
    "# get the web element of the 'Submit' button and then click it\n",
    "WebDriverWait(driver, 20).until(EC.element_to_be_clickable((By.CSS_SELECTOR, 'input[id=\"ctl00_c_qc_QueryInputs_QueryInputsPopup_RunBtn\"]'))).click()\n",
    "\n",
    "#Wait for and then click the export button and then the xls download button\n",
    "#https://stackoverflow.com/questions/56085152/selenium-python-error-element-could-not-be-scrolled-into-view\n",
    "WebDriverWait(driver, 20).until(EC.element_to_be_clickable((By.CSS_SELECTOR,  'a[id=\"DistrBtn\"]'        ))).click()\n",
    "WebDriverWait(driver, 20).until(EC.element_to_be_clickable((By.CSS_SELECTOR, 'td[id=\"ExportMnu_DXI4_T\"]'))).click()\n",
    "\n",
    "print(f'Downloading fund NAVs completed: {timediff(start_time, time.time())}')"
   ]
  },
  {
   "cell_type": "code",
   "execution_count": 7,
   "id": "f02aa204",
   "metadata": {},
   "outputs": [
    {
     "name": "stdout",
     "output_type": "stream",
     "text": [
      "Downloading hedge class holdings ...\n",
      "Downloading hedge class holdings completed: 12.4sec\n",
      "Roundtrip time to download fund NAVs and hedge class holdings: 1min 12.2sec\n"
     ]
    }
   ],
   "source": [
    "# download holdings\n",
    "\n",
    "start_time = time.time()\n",
    "print('Downloading hedge class holdings ...')\n",
    "\n",
    "#having logged in, open the reporting page\n",
    "driver.get(url_parn)             # fund holdings page\n",
    "\n",
    "# switch to the query page\n",
    "driver.find_element(By.CSS_SELECTOR, '#ModifyLinkLabel').click()\n",
    "\n",
    "edit_criteria_window = driver.window_handles[0] # save curent window handle\n",
    "# How to switch to new window in Selenium for Python?\n",
    "# https://stackoverflow.com/questions/10629815/how-to-switch-to-new-window-in-selenium-for-python\n",
    "\n",
    "# update the calendar\n",
    "driver.find_element(By.CSS_SELECTOR, 'td[id=\"ctl00_c_qc_QueryInputs_QueryInputsPopup_DATE1_DateCtrl_From_B-1\"]').click()\n",
    "driver.find_element(By.CSS_SELECTOR, 'td[id=\"ctl00_c_qc_QueryInputs_QueryInputsPopup_DATE1_DateCtrl_From_DDD_C_NMC\"]').click()\n",
    "lmonth_selector = wait.until(EC.element_to_be_clickable((By.CSS_SELECTOR, 'td[id=\"ctl00_c_qc_QueryInputs_QueryInputsPopup_DATE1_DateCtrl_From_DDD_C_PMC\"]')))\n",
    "while driver.find_element(By.XPATH,'//td[@id=\"ctl00_c_qc_QueryInputs_QueryInputsPopup_DATE1_DateCtrl_From_DDD_C_TC\"]').text != month_year_:\n",
    "    lmonth_selector.click()\n",
    "day_selector = driver.find_element(By.XPATH,f'//td[@class=\"dxeCalendarDay\"][text()={day_}] | //td[@class=\"dxeCalendarDay dxeCalendarWeekend\"][text()={day_}]')\n",
    "day_selector.click()\n",
    "\n",
    "# get the web element for the FUND LIST and assign values to it\n",
    "fund_selector  = driver.find_element(By.CSS_SELECTOR, 'input[id=\"ctl00_c_qc_QueryInputs_QueryInputsPopup_FUND0_SelectedIds\"]')\n",
    "driver.execute_script(f'arguments[0].value = \"{clss_hldgs}\";', fund_selector)\n",
    "\n",
    "# get the web element of the 'Submit' button and then click it\n",
    "submit_button  = driver.find_element(By.CSS_SELECTOR, 'input[id=\"ctl00_c_qc_QueryInputs_QueryInputsPopup_RunBtn\"]')\n",
    "submit_button.click()\n",
    "\n",
    "# Wait for and then click the export button and then the xls download button\n",
    "#https://stackoverflow.com/questions/56085152/selenium-python-error-element-could-not-be-scrolled-into-view\n",
    "WebDriverWait(driver, 1000).until(EC.element_to_be_clickable((By.CSS_SELECTOR,  'a[id=\"DistrBtn\"]'        ))).click()\n",
    "WebDriverWait(driver, 1000).until(EC.element_to_be_clickable((By.CSS_SELECTOR, 'td[id=\"ExportMnu_DXI4_T\"]'))).click()\n",
    "\n",
    "#time.sleep(10) # wait for 10 seconds while the portfolio holdings data xls downloads\n",
    "\n",
    "print(f'Downloading hedge class holdings completed: {timediff(start_time, time.time())}')\n",
    "print(f'Roundtrip time to download fund NAVs and hedge class holdings: {timediff(start_time_overlord, time.time())}')"
   ]
  },
  {
   "cell_type": "code",
   "execution_count": 8,
   "id": "fc06df0b",
   "metadata": {},
   "outputs": [],
   "source": [
    "driver.quit()"
   ]
  }
 ],
 "metadata": {
  "kernelspec": {
   "display_name": "Python 3 (ipykernel)",
   "language": "python",
   "name": "python3"
  },
  "language_info": {
   "codemirror_mode": {
    "name": "ipython",
    "version": 3
   },
   "file_extension": ".py",
   "mimetype": "text/x-python",
   "name": "python",
   "nbconvert_exporter": "python",
   "pygments_lexer": "ipython3",
   "version": "3.9.12"
  }
 },
 "nbformat": 4,
 "nbformat_minor": 5
}
