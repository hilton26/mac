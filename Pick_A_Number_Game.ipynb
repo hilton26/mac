{
 "cells": [
  {
   "cell_type": "code",
   "execution_count": 1,
   "metadata": {},
   "outputs": [
    {
     "name": "stdout",
     "output_type": "stream",
     "text": [
      "6\n",
      "Higher\n",
      "1501\n",
      "Lower\n",
      "500\n",
      "Higher\n",
      "900\n",
      "Lower\n",
      "789\n",
      "Lower\n",
      "700\n",
      "Lower\n",
      "600\n",
      "Higher\n",
      "650\n",
      "Higher\n",
      "675\n",
      "Lower\n",
      "660\n",
      "Higher\n",
      "670\n",
      "Lower\n",
      "666\n",
      "Winner!\n"
     ]
    }
   ],
   "source": [
    "from random import randrange\n",
    "n = randrange(1500)\n",
    "while True:\n",
    "    b = int(input())\n",
    "    if n==b:\n",
    "        print('Winner!')\n",
    "        break\n",
    "    print('Lower' if (n<b) else 'Higher')\n"
   ]
  },
  {
   "cell_type": "code",
   "execution_count": null,
   "metadata": {},
   "outputs": [],
   "source": []
  }
 ],
 "metadata": {
  "kernelspec": {
   "display_name": "Python 3",
   "language": "python",
   "name": "python3"
  },
  "language_info": {
   "codemirror_mode": {
    "name": "ipython",
    "version": 3
   },
   "file_extension": ".py",
   "mimetype": "text/x-python",
   "name": "python",
   "nbconvert_exporter": "python",
   "pygments_lexer": "ipython3",
   "version": "3.7.4"
  }
 },
 "nbformat": 4,
 "nbformat_minor": 2
}
