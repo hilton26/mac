{
 "cells": [
  {
   "cell_type": "markdown",
   "id": "4d9d0308",
   "metadata": {},
   "source": [
    "#5 How To Work With WebElements In Selenium With Python- SendKeys, Click, Clear,GetAttribute etc.\n",
    "Source: https://www.youtube.com/watch?v=M7c_KTMISBw&list=PL6flErFppaj3FhVG-3RGGQx-Mvj7DXrpX&index=6"
   ]
  },
  {
   "cell_type": "code",
   "execution_count": 4,
   "id": "4f56e689",
   "metadata": {},
   "outputs": [],
   "source": [
    "import os\n",
    "from selenium import webdriver\n",
    "from selenium.webdriver.common.by import By\n",
    "\n",
    "# get web drivers: https://www.selenium.dev/downloads/\n",
    "\n",
    "os.environ[\"PATH\"] = r\"C:/Users/hilton.netta/SeleniumDrivers\" + os.pathsep + os.getenv(\"PATH\")\n",
    "# https://stackoverflow.com/questions/61213005/modify-beginning-of-path-variable-with-os-environ-in-python\n",
    "\n",
    "web_app_url = \"https://opensource-demo.orangehrmlive.com/\"\n",
    "\n",
    "driver = webdriver.Opera()\n",
    "driver.get(web_app_url)"
   ]
  },
  {
   "cell_type": "code",
   "execution_count": 5,
   "id": "723dc056",
   "metadata": {},
   "outputs": [],
   "source": [
    "# user_name = driver.find_element_by_name('txtUsername')\n",
    "# user_password = driver.find_element_by_id('txtPassword')\n",
    "# login_button = driver.find_element_by_class_name('button')\n",
    "\n",
    "# user_name.send_keys(\"Admin\")\n",
    "# user_password.send_keys(\"admin123\")\n",
    "# login_button.click()\n",
    "\n",
    "# alternate method without first assigning variable names to the locators (has since been deprecated)\n",
    "# driver.find_element_by_name('txtUsername').send_keys(\"Admin\")\n",
    "# driver.find_element_by_id('txtPassword').send_keys(\"admin123\")\n",
    "# driver.find_element_by_class_name('button').click()\n",
    "\n",
    "# using from selenium.webdriver.common.by import By:\n",
    "# driver.find_element(By.NAME, 'txtUsername').send_keys(\"Admin\")\n",
    "# driver.find_element(By.ID, 'txtPassword').send_keys(\"admin123\")\n",
    "# driver.find_element(By.CLASS_NAME, 'button').click()\n",
    "\n",
    "# ... or: \n",
    "# driver.find_element('name', 'txtUsername').send_keys(\"Admin\")\n",
    "# driver.find_element('id', 'txtPassword').send_keys(\"admin123\")\n",
    "# driver.find_element('class name', 'button').click()\n",
    "\n",
    "# ... or with CSS Selector:\n",
    "# https://selenium-python.readthedocs.io/locating-elements.html\n",
    "driver.find_element(By.CSS_SELECTOR,'#txtUsername').send_keys(\"Admin\")\n",
    "driver.find_element(By.CSS_SELECTOR,'#txtPassword').send_keys(\"admin123\")\n",
    "driver.find_element(By.CSS_SELECTOR,'input[value=\"LOGIN\"]').click()\n",
    "# alternatively: driver.find_element(By.CSS_SELECTOR,'#btnLogin').click()"
   ]
  },
  {
   "cell_type": "code",
   "execution_count": 3,
   "id": "41e47d57",
   "metadata": {},
   "outputs": [],
   "source": [
    "driver.quit()"
   ]
  },
  {
   "cell_type": "code",
   "execution_count": null,
   "id": "8350151f",
   "metadata": {},
   "outputs": [],
   "source": []
  }
 ],
 "metadata": {
  "kernelspec": {
   "display_name": "Python 3",
   "language": "python",
   "name": "python3"
  },
  "language_info": {
   "codemirror_mode": {
    "name": "ipython",
    "version": 3
   },
   "file_extension": ".py",
   "mimetype": "text/x-python",
   "name": "python",
   "nbconvert_exporter": "python",
   "pygments_lexer": "ipython3",
   "version": "3.8.8"
  }
 },
 "nbformat": 4,
 "nbformat_minor": 5
}
