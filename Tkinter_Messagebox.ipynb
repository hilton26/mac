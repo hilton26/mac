{
 "cells": [
  {
   "cell_type": "markdown",
   "id": "d724d773",
   "metadata": {},
   "source": [
    "AskPython: Tkinter Messagebox and RadioButton: A brief start<br>\n",
    "https://www.askpython.com/python-modules/tkinter/tkinter-messagebox-and-radiobutton<br><br>\n",
    "PythonTutorial: TkinterWindow<br>https://www.pythontutorial.net/tkinter/tkinter-window/"
   ]
  },
  {
   "cell_type": "markdown",
   "id": "2afbd091",
   "metadata": {},
   "source": [
    "#### Basics of the Tkinter Messagebox"
   ]
  },
  {
   "cell_type": "markdown",
   "id": "7161f74c",
   "metadata": {},
   "source": [
    "Firstly, we will import the tkinter module and also the messagebox function in specific.<br>We will then specify the window(frame) and name it as root using Tk()."
   ]
  },
  {
   "cell_type": "code",
   "execution_count": 5,
   "id": "3f06f5b3",
   "metadata": {},
   "outputs": [],
   "source": [
    "from tkinter import *\n",
    "from tkinter import messagebox\n",
    "\n",
    "root = Tk()"
   ]
  },
  {
   "cell_type": "markdown",
   "id": "4bde29ac",
   "metadata": {},
   "source": [
    "We will then specify the dimensions of the frame by instantiating the geometry() on the root object."
   ]
  },
  {
   "cell_type": "code",
   "execution_count": 6,
   "id": "7b856277",
   "metadata": {},
   "outputs": [],
   "source": [
    "root.geometry(\"400x400+120+120\")\n",
    "root.mainloop()"
   ]
  },
  {
   "cell_type": "markdown",
   "id": "64f2b6e1",
   "metadata": {},
   "source": [
    "We will then define a button named b using the Tkinter Button() widget that displays the message “Click here” and on click on this button triggers the call_me() function. We will then use the pack() to place the widget on the geometry of the frame."
   ]
  },
  {
   "cell_type": "code",
   "execution_count": 8,
   "id": "ac7fdfd8",
   "metadata": {},
   "outputs": [
    {
     "ename": "TclError",
     "evalue": "can't invoke \"button\" command: application has been destroyed",
     "output_type": "error",
     "traceback": [
      "\u001b[1;31m---------------------------------------------------------------------------\u001b[0m",
      "\u001b[1;31mTclError\u001b[0m                                  Traceback (most recent call last)",
      "\u001b[1;32m<ipython-input-8-c60d6c7b7b2b>\u001b[0m in \u001b[0;36m<module>\u001b[1;34m\u001b[0m\n\u001b[0;32m      2\u001b[0m     \u001b[0mmessagebox\u001b[0m\u001b[1;33m.\u001b[0m\u001b[0mshowinfo\u001b[0m\u001b[1;33m(\u001b[0m\u001b[1;34m\"Success\"\u001b[0m\u001b[1;33m,\u001b[0m\u001b[1;34m\"Welcome to our tutorial\"\u001b[0m\u001b[1;33m)\u001b[0m\u001b[1;33m\u001b[0m\u001b[1;33m\u001b[0m\u001b[0m\n\u001b[0;32m      3\u001b[0m \u001b[1;33m\u001b[0m\u001b[0m\n\u001b[1;32m----> 4\u001b[1;33m \u001b[0mb\u001b[0m \u001b[1;33m=\u001b[0m \u001b[0mButton\u001b[0m\u001b[1;33m(\u001b[0m\u001b[0mroot\u001b[0m\u001b[1;33m,\u001b[0m\u001b[0mtext\u001b[0m\u001b[1;33m=\u001b[0m\u001b[1;34m\"Click here\"\u001b[0m\u001b[1;33m,\u001b[0m\u001b[0mcommand\u001b[0m\u001b[1;33m=\u001b[0m\u001b[0mcall_me\u001b[0m\u001b[1;33m)\u001b[0m\u001b[1;33m\u001b[0m\u001b[1;33m\u001b[0m\u001b[0m\n\u001b[0m\u001b[0;32m      5\u001b[0m \u001b[0mb\u001b[0m\u001b[1;33m.\u001b[0m\u001b[0mpack\u001b[0m\u001b[1;33m(\u001b[0m\u001b[1;33m)\u001b[0m\u001b[1;33m\u001b[0m\u001b[1;33m\u001b[0m\u001b[0m\n",
      "\u001b[1;32m~\\Anaconda3\\lib\\tkinter\\__init__.py\u001b[0m in \u001b[0;36m__init__\u001b[1;34m(self, master, cnf, **kw)\u001b[0m\n\u001b[0;32m   2648\u001b[0m             \u001b[0moverrelief\u001b[0m\u001b[1;33m,\u001b[0m \u001b[0mstate\u001b[0m\u001b[1;33m,\u001b[0m \u001b[0mwidth\u001b[0m\u001b[1;33m\u001b[0m\u001b[1;33m\u001b[0m\u001b[0m\n\u001b[0;32m   2649\u001b[0m         \"\"\"\n\u001b[1;32m-> 2650\u001b[1;33m         \u001b[0mWidget\u001b[0m\u001b[1;33m.\u001b[0m\u001b[0m__init__\u001b[0m\u001b[1;33m(\u001b[0m\u001b[0mself\u001b[0m\u001b[1;33m,\u001b[0m \u001b[0mmaster\u001b[0m\u001b[1;33m,\u001b[0m \u001b[1;34m'button'\u001b[0m\u001b[1;33m,\u001b[0m \u001b[0mcnf\u001b[0m\u001b[1;33m,\u001b[0m \u001b[0mkw\u001b[0m\u001b[1;33m)\u001b[0m\u001b[1;33m\u001b[0m\u001b[1;33m\u001b[0m\u001b[0m\n\u001b[0m\u001b[0;32m   2651\u001b[0m \u001b[1;33m\u001b[0m\u001b[0m\n\u001b[0;32m   2652\u001b[0m     \u001b[1;32mdef\u001b[0m \u001b[0mflash\u001b[0m\u001b[1;33m(\u001b[0m\u001b[0mself\u001b[0m\u001b[1;33m)\u001b[0m\u001b[1;33m:\u001b[0m\u001b[1;33m\u001b[0m\u001b[1;33m\u001b[0m\u001b[0m\n",
      "\u001b[1;32m~\\Anaconda3\\lib\\tkinter\\__init__.py\u001b[0m in \u001b[0;36m__init__\u001b[1;34m(self, master, widgetName, cnf, kw, extra)\u001b[0m\n\u001b[0;32m   2570\u001b[0m         \u001b[1;32mfor\u001b[0m \u001b[0mk\u001b[0m\u001b[1;33m,\u001b[0m \u001b[0mv\u001b[0m \u001b[1;32min\u001b[0m \u001b[0mclasses\u001b[0m\u001b[1;33m:\u001b[0m\u001b[1;33m\u001b[0m\u001b[1;33m\u001b[0m\u001b[0m\n\u001b[0;32m   2571\u001b[0m             \u001b[1;32mdel\u001b[0m \u001b[0mcnf\u001b[0m\u001b[1;33m[\u001b[0m\u001b[0mk\u001b[0m\u001b[1;33m]\u001b[0m\u001b[1;33m\u001b[0m\u001b[1;33m\u001b[0m\u001b[0m\n\u001b[1;32m-> 2572\u001b[1;33m         self.tk.call(\n\u001b[0m\u001b[0;32m   2573\u001b[0m             (widgetName, self._w) + extra + self._options(cnf))\n\u001b[0;32m   2574\u001b[0m         \u001b[1;32mfor\u001b[0m \u001b[0mk\u001b[0m\u001b[1;33m,\u001b[0m \u001b[0mv\u001b[0m \u001b[1;32min\u001b[0m \u001b[0mclasses\u001b[0m\u001b[1;33m:\u001b[0m\u001b[1;33m\u001b[0m\u001b[1;33m\u001b[0m\u001b[0m\n",
      "\u001b[1;31mTclError\u001b[0m: can't invoke \"button\" command: application has been destroyed"
     ]
    }
   ],
   "source": [
    "def call_me():\n",
    "    messagebox.showinfo(\"Success\",\"Welcome to our tutorial\")\n",
    " \n",
    "b = Button(root,text=\"Click here\",command=call_me)\n",
    "b.pack()"
   ]
  },
  {
   "cell_type": "markdown",
   "id": "e80ba0d1",
   "metadata": {},
   "source": [
    "#### Tkinter Radiobuttons"
   ]
  },
  {
   "cell_type": "markdown",
   "id": "94e2e45a",
   "metadata": {},
   "source": [
    "##### Why should you use a radiobutton?\n",
    "They’re faster for the user since they can make faster choices with one click rather than two. A typical click takes 1.2 to 2.4 seconds.<br>\n",
    "They provide better self-documentation of the control without having to click anything.<br>\n",
    "For touch interfaces, it’s easier to tap a radio button than to navigate a drop-down list.<br>\n",
    "You can provide all the choices together (in terms of accessibility)"
   ]
  },
  {
   "cell_type": "markdown",
   "id": "41e323ef",
   "metadata": {},
   "source": [
    "To create a radio button, we will use the tkinter module of python. Let us take a look at the coding for the same."
   ]
  },
  {
   "cell_type": "code",
   "execution_count": null,
   "id": "e0e1aaad",
   "metadata": {},
   "outputs": [],
   "source": [
    "from tkinter import *\n",
    " \n",
    "root =Tk()\n",
    " \n",
    "r1=Radiobutton(root, text=\"Yes\", value=1)\n",
    "r2=Radiobutton(root, text=\"No\", value=2)\n",
    "r1.pack()\n",
    "r2.pack()\n",
    " \n",
    "root.geometry(\"300x300+120+120\")\n",
    "root.mainloop()"
   ]
  },
  {
   "cell_type": "markdown",
   "id": "dfac5fc9",
   "metadata": {},
   "source": [
    "In the above code snippet, we first import the tkinter module and initialise a tkinter frame usingTk(). Within this frame root we create two radiobuttons using the Radiobutton() function which takes in parameters such as the name of the frame, text and value. We then use the pack() function to set this widget into rows and columns."
   ]
  }
 ],
 "metadata": {
  "kernelspec": {
   "display_name": "Python 3",
   "language": "python",
   "name": "python3"
  },
  "language_info": {
   "codemirror_mode": {
    "name": "ipython",
    "version": 3
   },
   "file_extension": ".py",
   "mimetype": "text/x-python",
   "name": "python",
   "nbconvert_exporter": "python",
   "pygments_lexer": "ipython3",
   "version": "3.8.8"
  }
 },
 "nbformat": 4,
 "nbformat_minor": 5
}
