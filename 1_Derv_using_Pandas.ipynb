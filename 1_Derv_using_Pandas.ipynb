{
 "cells": [
  {
   "cell_type": "code",
   "execution_count": 28,
   "id": "9a804459",
   "metadata": {},
   "outputs": [],
   "source": [
    "# load libararies\n",
    "\n",
    "import os\n",
    "import pandas as pd\n",
    "import numpy as np\n",
    "from pathlib import Path\n",
    "from openpyxl import load_workbook"
   ]
  },
  {
   "cell_type": "code",
   "execution_count": 29,
   "id": "853ba7ad",
   "metadata": {},
   "outputs": [],
   "source": [
    "# a days difference function\n",
    "\n",
    "def days_between(d1, d2):\n",
    "    d1 = datetime.strptime(d1, \"%Y-%m-%d\")\n",
    "    d2 = datetime.strptime(d2, \"%Y-%m-%d\")\n",
    "    return abs((d2 - d1).days)"
   ]
  },
  {
   "cell_type": "code",
   "execution_count": 30,
   "id": "5b0b4dd6",
   "metadata": {},
   "outputs": [],
   "source": [
    "# convert files from .xls to .xlsx using MS Office\n",
    "\n",
    "import win32com.client as win32\n",
    "pth = r'C:\\Users\\hilton.netta\\Downloads'\n",
    "fPARN = pth + '\\Portfolio Analytics Report - New.xls'\n",
    "fDE = pth + '\\Derivative Exposure.xls'\n",
    "\n",
    "files = [fPARN, fDE]\n",
    "\n",
    "for fl in files:\n",
    "    excel = win32.gencache.EnsureDispatch('Excel.Application')\n",
    "    wb = excel.Workbooks.Open(fl)\n",
    "    wb.SaveAs(fl + 'x', FileFormat = 51)     #FileFormat = 51 is for .xlsx extension\n",
    "    wb.Close()                               #FileFormat = 56 is for .xls extension\n",
    "\n",
    "# excel.Application.Quit()"
   ]
  },
  {
   "cell_type": "code",
   "execution_count": 31,
   "id": "0aea1429",
   "metadata": {},
   "outputs": [
    {
     "data": {
      "text/plain": [
       "WindowsPath('C:/Users/hilton.netta/Downloads/Portfolio Analytics Report - New.xlsx')"
      ]
     },
     "execution_count": 31,
     "metadata": {},
     "output_type": "execute_result"
    }
   ],
   "source": [
    "# set the names of the files to use\n",
    "\n",
    "import datetime\n",
    "from datetime import date\n",
    "from datetime import timedelta\n",
    "\n",
    "# variables ...\n",
    "ydy = date.today() - timedelta(days=1)\n",
    "yday = f'{ydy:%#d}{ydy:%#b}{ydy:%Y}' # current date without leading zeroes, e.g. 3May2021\n",
    "\n",
    "# ... and paths\n",
    "#pth = Path('//pim-cpt-statpro/SPC_602/Client/Profiles/PIM/Exports')\n",
    "#flnDerv = pth / f'Derivative Exposure {yday}.xlsx'\n",
    "#flnHoldings = pth / f'Portfolio Analytics Report - New {yday}.xlsx'\n",
    "pth = Path('C:/Users/hilton.netta/Downloads')\n",
    "flnDerv = pth / 'Derivative Exposure.xlsx'\n",
    "flnHoldings = pth / 'Portfolio Analytics Report - New.xlsx'\n",
    "flnHoldings"
   ]
  },
  {
   "cell_type": "code",
   "execution_count": 32,
   "id": "8b2bd166",
   "metadata": {},
   "outputs": [
    {
     "data": {
      "text/plain": [
       "(pandas.core.frame.DataFrame, pandas.core.frame.DataFrame)"
      ]
     },
     "execution_count": 32,
     "metadata": {},
     "output_type": "execute_result"
    }
   ],
   "source": [
    "# create dataframes of the derivatives and holdings spreadsheets\n",
    "\n",
    "wbD = pd.read_excel(open(flnDerv,'rb'), sheet_name = 'Derivative Exposure')\n",
    "wbH = pd.read_excel(open(flnHoldings,'rb'), sheet_name = 'Portfolio Analytics Report - Ne')\n",
    "type(wbD), type(wbH)"
   ]
  },
  {
   "cell_type": "code",
   "execution_count": 33,
   "id": "6f7db7b7",
   "metadata": {},
   "outputs": [],
   "source": [
    "# list the unique fund codes\n",
    "\n",
    "fndcodes = wbH.loc[:,'Entity ID'].unique()\n",
    "# print(fndcodes)"
   ]
  },
  {
   "cell_type": "code",
   "execution_count": 34,
   "id": "3a735fde",
   "metadata": {},
   "outputs": [
    {
     "name": "stdout",
     "output_type": "stream",
     "text": [
      "77 77 77\n"
     ]
    }
   ],
   "source": [
    "# find the NAV of each fund; this will be used as a lookup later\n",
    "\n",
    "navs = wbH.groupby('Entity ID')['Sum of Market Value Income'].sum() # this has type 'pandas.core.series.Series'\n",
    "# navs.head(3)\n",
    "\n",
    "# convert the navs series to a dictionary to make it lookupable\n",
    "nav = navs.to_dict()\n",
    "print(navs.shape[0], len(navs), len(nav)) # .shape[0] doesnt work for dictionaries"
   ]
  },
  {
   "cell_type": "code",
   "execution_count": 35,
   "id": "7d41a182",
   "metadata": {},
   "outputs": [],
   "source": [
    "# recalc the '% of Total Market Value' column per fund\n",
    "\n",
    "newTMV=[]\n",
    "for i, row in wbH.iterrows():\n",
    "    if nav[row['Entity ID']] == 0:\n",
    "        fndpct = 1\n",
    "    else:\n",
    "        fndpct = row['Sum of Market Value Income'] / nav[row['Entity ID']]\n",
    "    \n",
    "    newTMV.append(fndpct)\n",
    "    \n",
    "#type(newTMV)"
   ]
  },
  {
   "cell_type": "code",
   "execution_count": 37,
   "id": "e7d8e79b",
   "metadata": {},
   "outputs": [
    {
     "data": {
      "text/plain": [
       "77.0"
      ]
     },
     "execution_count": 37,
     "metadata": {},
     "output_type": "execute_result"
    }
   ],
   "source": [
    "# replace the '% of Total Market Value' with the values in the new list\n",
    "\n",
    "# wbH['% of Total Market Value'] = newTMV\n",
    "\n",
    "wbH['% of Total Market Value'].sum() # should equal number of funds"
   ]
  },
  {
   "cell_type": "code",
   "execution_count": 38,
   "id": "1659bc08",
   "metadata": {},
   "outputs": [],
   "source": [
    "# save the dataframe as an Excel file\n",
    "\n",
    "wbH.to_excel(pth / 'Portfolio Analytics Report - New.xlsx', index = False) # overwrites the previous file"
   ]
  },
  {
   "cell_type": "code",
   "execution_count": 41,
   "id": "535fb445",
   "metadata": {},
   "outputs": [],
   "source": [
    "# load the 'Derv.xlsm' workbook\n",
    "\n",
    "# pathD = r'\\\\pim-cpt-fs\\profile$\\PProfile Operations\\Legal\\Legal and Compliance Framework\\Hilton\\W\\Derv.xlsm'\n",
    "pathD = Path('//pim-cpt-fs/profile$/PProfile Operations/Legal/Legal and Compliance Framework/Hilton/W/Derv.xlsm')\n",
    "wbDerv = load_workbook(pathD)"
   ]
  },
  {
   "cell_type": "code",
   "execution_count": 110,
   "id": "b7a61249",
   "metadata": {},
   "outputs": [],
   "source": [
    "writer = pd.ExcelWriter(pathD, engine = 'openpyxl')\n",
    "writer.book = wbDerv"
   ]
  },
  {
   "cell_type": "code",
   "execution_count": null,
   "id": "72a50d6a",
   "metadata": {},
   "outputs": [],
   "source": []
  }
 ],
 "metadata": {
  "kernelspec": {
   "display_name": "Python 3",
   "language": "python",
   "name": "python3"
  },
  "language_info": {
   "codemirror_mode": {
    "name": "ipython",
    "version": 3
   },
   "file_extension": ".py",
   "mimetype": "text/x-python",
   "name": "python",
   "nbconvert_exporter": "python",
   "pygments_lexer": "ipython3",
   "version": "3.8.8"
  }
 },
 "nbformat": 4,
 "nbformat_minor": 5
}
