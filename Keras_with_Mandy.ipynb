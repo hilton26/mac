{
 "cells": [
  {
   "cell_type": "markdown",
   "id": "392d18c0",
   "metadata": {},
   "source": [
    "## Keras with TensorFlow Course - Python Deep Learning and Neural Networks for Beginners Tutorial\n",
    "https://www.youtube.com/watch?v=qFJeN9V1ZsI"
   ]
  },
  {
   "cell_type": "markdown",
   "id": "935c72e4",
   "metadata": {},
   "source": [
    "Install Tensorflow on MacOS<br>\n",
    "https://www.geeksforgeeks.org/install-tensorflow-on-macos/\n",
    "\n",
    "Installation Guide for TensorFlow on macOS High Sierra 10.13.4 for your DeepLearning w/ Java, C, and Go\n",
    "https://medium.datadriveninvestor.com/installation-guide-for-tensorflow-on-macos-high-sierra-10-13-4-df7286f7ba84\n",
    "\n",
    "Python OSX $ which Python gives /Library/Frameworks/Python.framework/Versions/2.7/bin/python<br>\n",
    "https://stackoverflow.com/questions/23329034/python-osx-which-python-gives-library-frameworks-python-framework-versions-2"
   ]
  },
  {
   "cell_type": "markdown",
   "id": "6967a8fe",
   "metadata": {},
   "source": [
    "### Data Preparation and Processing"
   ]
  },
  {
   "cell_type": "code",
   "execution_count": 1,
   "id": "7a3e78d7",
   "metadata": {},
   "outputs": [],
   "source": [
    "import numpy as np\n",
    "from random import randint\n",
    "from sklearn.utils import shuffle\n",
    "from sklearn.preprocessing import MinMaxScaler"
   ]
  },
  {
   "cell_type": "code",
   "execution_count": 2,
   "id": "fe26a669",
   "metadata": {},
   "outputs": [],
   "source": [
    "train_labels = []\n",
    "train_samples = []"
   ]
  },
  {
   "cell_type": "markdown",
   "id": "39982ede",
   "metadata": {},
   "source": [
    "Example data:\n",
    "- An experimental drug was tested on individuals aged 13 to 100 in a clinical trial\n",
    "- The trial had 2100 participants. Half were under 65 years old, and half were 65 years or older\n",
    "- Around 95% of patients 65 years or older experienced side effects\n",
    "- Around 95% of patients under 65 experienced no side effects\n"
   ]
  },
  {
   "cell_type": "code",
   "execution_count": 3,
   "id": "8e200f91",
   "metadata": {},
   "outputs": [],
   "source": [
    "for i in range(50):\n",
    "    # the ~5% of younger individuals who did experience side effects\n",
    "    train_samples.append(randint(13,64))\n",
    "    train_labels.append(1) # \"1\" indicates that a side effect was experienced\n",
    "    \n",
    "    # the ~5% of older individuals who did not experience side effects\n",
    "    train_samples.append(randint(65,100))\n",
    "    train_labels.append(0) # \"0\" indicates that a side effect was not experienced\n",
    "    \n",
    "\n",
    "for i in range(1000):\n",
    "    # the ~95% of younger individuals who did not experience side effects\n",
    "    train_samples.append(randint(13,64))\n",
    "    train_labels.append(0) \n",
    "    \n",
    "    # the ~95% of older individuals who did experience side effects\n",
    "    train_samples.append(randint(65,100))\n",
    "    train_labels.append(1) \n",
    "    "
   ]
  },
  {
   "cell_type": "code",
   "execution_count": 4,
   "id": "767cbac3",
   "metadata": {},
   "outputs": [],
   "source": [
    "# turn the lists into numpy arrays and then\n",
    "# shuffle the data to remove any imposed strcucture from the (random) generation process\n",
    "train_samples = np.array(train_samples)\n",
    "train_labels = np.array(train_labels)\n",
    "type(train_samples), type(train_labels)\n",
    "train_samples, train_labels = shuffle(train_samples, train_labels)"
   ]
  },
  {
   "cell_type": "code",
   "execution_count": 5,
   "id": "55abdf45",
   "metadata": {},
   "outputs": [],
   "source": [
    "# scale the features of ages from 13 to 100, to 0 to 1 in order to pass it to the \"fit\" function\n",
    "scaler = MinMaxScaler(feature_range = (0, 1))\n",
    "\n",
    "#reshape the 1D form of data since the \"fit\" function does not take 1D data\n",
    "scaled_train_samples = scaler.fit_transform(train_samples.reshape(-1, 1))"
   ]
  },
  {
   "cell_type": "code",
   "execution_count": 6,
   "id": "1e9e1360",
   "metadata": {},
   "outputs": [],
   "source": [
    "#for i in scaled_train_samples:\n",
    "    #print(i)"
   ]
  },
  {
   "cell_type": "markdown",
   "id": "3e164acb",
   "metadata": {},
   "source": [
    "### Simple tf.keras Sequential Model"
   ]
  },
  {
   "cell_type": "code",
   "execution_count": 7,
   "id": "eb16aeb9",
   "metadata": {},
   "outputs": [],
   "source": [
    "#!pip3 install tensorflow"
   ]
  },
  {
   "cell_type": "code",
   "execution_count": 8,
   "id": "aec2db06",
   "metadata": {},
   "outputs": [],
   "source": [
    "import tensorflow as tf\n",
    "from tensorflow import keras\n",
    "from tensorflow.keras.models import Sequential\n",
    "from tensorflow.keras.layers import Activation, Dense\n",
    "from tensorflow.keras.optimizers import Adam\n",
    "from tensorflow.keras.metrics import categorical_crossentropy"
   ]
  },
  {
   "cell_type": "code",
   "execution_count": null,
   "id": "f0abdf6d",
   "metadata": {},
   "outputs": [],
   "source": []
  }
 ],
 "metadata": {
  "kernelspec": {
   "display_name": "Python 3 (ipykernel)",
   "language": "python",
   "name": "python3"
  },
  "language_info": {
   "codemirror_mode": {
    "name": "ipython",
    "version": 3
   },
   "file_extension": ".py",
   "mimetype": "text/x-python",
   "name": "python",
   "nbconvert_exporter": "python",
   "pygments_lexer": "ipython3",
   "version": "3.9.7"
  }
 },
 "nbformat": 4,
 "nbformat_minor": 5
}
