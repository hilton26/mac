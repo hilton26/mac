{
 "cells": [
  {
   "cell_type": "code",
   "execution_count": 2,
   "id": "0accc108",
   "metadata": {},
   "outputs": [],
   "source": [
    "# libraries, libraries!\n",
    "\n",
    "import pandas as pd\n",
    "import re # for RegEx\n",
    "from re import search\n",
    "from datetime import datetime"
   ]
  },
  {
   "cell_type": "code",
   "execution_count": null,
   "id": "44263258",
   "metadata": {},
   "outputs": [],
   "source": [
    "# function to aggrefate exposure to a ticker\n",
    "# inputs: instrument_code\n",
    "# output ZAR effective exposure value pf expsoure to ticker looking summing direct + derivative + pooled exposure\n",
    "\n",
    "def equity_sum(instrument_code, ):\n",
    "    "
   ]
  }
 ],
 "metadata": {
  "kernelspec": {
   "display_name": "Python 3 (ipykernel)",
   "language": "python",
   "name": "python3"
  },
  "language_info": {
   "codemirror_mode": {
    "name": "ipython",
    "version": 3
   },
   "file_extension": ".py",
   "mimetype": "text/x-python",
   "name": "python",
   "nbconvert_exporter": "python",
   "pygments_lexer": "ipython3",
   "version": "3.9.12"
  }
 },
 "nbformat": 4,
 "nbformat_minor": 5
}
