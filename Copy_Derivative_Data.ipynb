{
 "cells": [
  {
   "cell_type": "markdown",
   "id": "794e59b3",
   "metadata": {},
   "source": [
    "How to Replace VBA with Python(Step-By-Step Tutorial) Sep 2021\n",
    "https://www.youtube.com/watch?v=6qo3ly3-_I8\n",
    "\n",
    "Python: Pandas read_excel cannot open .xls file, ValueError: File is not a recognized excel file\n",
    "https://stackoverflow.com/questions/68018701/python-pandas-read-excel-cannot-open-xls-file-valueerror-file-is-not-a-recog\n",
    "\n",
    "Python 3 Quick Tip: The easy way to deal with file paths on Windows, Mac and Linux\n",
    "https://medium.com/@ageitgey/python-3-quick-tip-the-easy-way-to-deal-with-file-paths-on-windows-mac-and-linux-11a072b58d5f\n",
    "\n",
    "Data to Fish: Convert CSV to Excel using Python (example included)\n",
    "https://datatofish.com/csv-to-excel-python/\n",
    "\n",
    "How To Fix pandas.parser.CParserError: Error tokenizing data\n",
    "https://towardsdatascience.com/fix-pandas-parser-error-tokenizing-data-889167292d38"
   ]
  },
  {
   "cell_type": "code",
   "execution_count": 8,
   "id": "9ee2efd7",
   "metadata": {},
   "outputs": [],
   "source": [
    "import os\n",
    "from pathlib import Path\n",
    "import openpyxl\n",
    "import pandas as pd\n",
    "\n",
    "# TO file\n",
    "derv_test_path = Path('\\\\\\pim-cpt-fs\\\\profile$\\\\PProfile Operations\\\\Legal\\\\Legal and Compliance Framework\\\\Hilton\\\\W\\\\')\n",
    "flnm =  derv_test_path / 'DervTest.xlsx'\n",
    "wb = openpyxl.load_workbook(flnm)\n",
    "shD = wb['D']\n",
    "shH = wb['H']\n",
    "\n",
    "# clear existing data from 'H' and 'D' sheets in the derivative workings file\n",
    "# https://www.codegrepper.com/code-examples/python/how+to+delete+every+row+in+excel+using+openpyxl\n",
    "# ws.delete_rows(firstrow, numberofrows) #for multiple row deletion\n",
    "# ws.delete_rows(rownum) #for single row\n",
    "shH.delete_rows(1, shH.max_row + 1) # for entire sheet\n",
    "shD.delete_rows(1, shD.max_row + 1) # for entire sheet\n",
    "\n",
    "# FROM files\n",
    "shSd = openpyxl.load_workbook(r'C:\\\\Users\\\\hilton.netta\\\\Downloads\\\\Derivative Exposure.xlsx')['Derivative Exposure']\n",
    "shSh = openpyxl.load_workbook(r'C:\\\\Users\\\\hilton.netta\\\\Downloads\\\\Portfolio Analytics Report - New.xlsx')['Portfolio Analytics Report - Ne']\n",
    "\n",
    "# copy from source to destination file for derivatives\n",
    "\n",
    "for i in range (1, shSd.max_row + 1):\n",
    "    for j in range (1, shSd.max_column + 1):\n",
    "        # reading cell value from source excel file and writing to destination excel file\n",
    "        shD.cell(row = i, column = j).value = shSd.cell(row = i, column = j).value\n",
    "        \n",
    "# copy from source to destination file for holdings\n",
    "for i in range (1, shSh.max_row + 1):\n",
    "    for j in range (1, shSh.max_column + 1):\n",
    "        # reading cell value from source excel file and writing to destination excel file\n",
    "        shH.cell(row = i, column = j).value = shSh.cell(row = i, column = j).value\n",
    "        \n",
    "# save the file\n",
    "wb.save(flnm)"
   ]
  },
  {
   "cell_type": "code",
   "execution_count": 59,
   "id": "9a3aa0fd",
   "metadata": {},
   "outputs": [
    {
     "name": "stdout",
     "output_type": "stream",
     "text": [
      "27four Life - Pos Ret FI\n"
     ]
    }
   ],
   "source": [
    "# shSd['Entity Name']\n",
    "print(shSd[\"A10\"].value, shSh.cell(7, 20).value)\n"
   ]
  },
  {
   "cell_type": "code",
   "execution_count": 95,
   "id": "5741e984",
   "metadata": {},
   "outputs": [
    {
     "name": "stdout",
     "output_type": "stream",
     "text": [
      "[('Entity ID',), ('PLPRNA',), ('PLMED',), ('ABMMABR',), ('ABMMBND',), ('ABMMEQU',), ('PSPAM',), ('NEDMED',), ('SHNIPF',), ('ECICBALC',), ('ELCIPF',), ('ENGENMBF',), ('GTCWP2',), ('HOLDINC',), ('HOLYPF',), ('AMMIPF',), ('GAEMBF',), ('GMRETF2',), ('GMRETF',), ('GRFINV',), ('EMHPBQ',), ('LIBTAA',), ('MEDIPOS',), ('MWPFEQU',), ('MOMPRET',), ('NESEQU',), ('OMFLXI5',), ('PBAL',), ('PIMBAL',), ('PCAEF',), ('PCCEF',), ('PCEQTF',), ('PCGEF',), ('PEQ',), ('PABS',), ('PEAQ',), ('PBNDQ',), ('PFFIF',), ('PGIF',), ('PGGF',), ('PPOS',), ('PPEF',), ('PSTIF',), ('PCSHQ',), ('PORFGPR',), ('PPSBAL_C',), ('PPWEQU',), ('NGKINC',), ('POIF_C',), ('SAAMCAU',), ('SAAMMAN',), ('SAAMMOD',), ('CAPGIP',), ('MOMSGPR',), ('ADRRC',), ('ASHFLX',), ('ASHGFB',), ('STSBND',), ('SMMIBF',), ('SILEQF',), ('SMMAIF',), ('SMMBPR',), ('SMMEYP',), ('SMMRRF',), ('SYGCSWX',), ('SWGSWX',), ('ASBTOS',), ('TOYCEF',), ('TSHMPF',)]\n"
     ]
    }
   ],
   "source": [
    "# list the unique fund names from the holdings file\n",
    "\n",
    "funds=[]\n",
    "for cel in shSh.iter_rows(min_row = 1, max_row = shSh.max_row, min_col = 37, max_col = 37, values_only=True):\n",
    "    if cel not in funds:\n",
    "        funds += [cel]\n",
    "\n",
    "print(funds) \n",
    "# funds2=funds.remove(\"(\"Entity ID\",)\")\n",
    "# print(funds2)\n",
    "# print(funds[3])"
   ]
  },
  {
   "cell_type": "code",
   "execution_count": 110,
   "id": "dea9b7da",
   "metadata": {},
   "outputs": [
    {
     "name": "stdout",
     "output_type": "stream",
     "text": [
      "27four Life - Pos Ret\n"
     ]
    }
   ],
   "source": [
    "print(shSh[\"A3\"].value)"
   ]
  },
  {
   "cell_type": "code",
   "execution_count": 96,
   "id": "e0d32841",
   "metadata": {},
   "outputs": [
    {
     "ename": "TypeError",
     "evalue": "expected string or bytes-like object",
     "output_type": "error",
     "traceback": [
      "\u001b[1;31m---------------------------------------------------------------------------\u001b[0m",
      "\u001b[1;31mTypeError\u001b[0m                                 Traceback (most recent call last)",
      "\u001b[1;32m<ipython-input-96-dbc6bdec5b11>\u001b[0m in \u001b[0;36m<module>\u001b[1;34m\u001b[0m\n\u001b[0;32m      1\u001b[0m \u001b[0mfunds\u001b[0m\u001b[1;33m=\u001b[0m\u001b[1;33m[\u001b[0m\u001b[1;33m]\u001b[0m\u001b[1;33m\u001b[0m\u001b[1;33m\u001b[0m\u001b[0m\n\u001b[1;32m----> 2\u001b[1;33m \u001b[1;32mfor\u001b[0m \u001b[0mcel\u001b[0m \u001b[1;32min\u001b[0m \u001b[0mshSh\u001b[0m\u001b[1;33m[\u001b[0m\u001b[1;33m:\u001b[0m\u001b[1;36m0\u001b[0m\u001b[1;33m,\u001b[0m\u001b[1;33m:\u001b[0m\u001b[1;36m0\u001b[0m\u001b[1;33m]\u001b[0m\u001b[1;33m:\u001b[0m\u001b[1;33m\u001b[0m\u001b[1;33m\u001b[0m\u001b[0m\n\u001b[0m\u001b[0;32m      3\u001b[0m     \u001b[1;32mif\u001b[0m \u001b[0mcel\u001b[0m \u001b[1;32mnot\u001b[0m \u001b[1;32min\u001b[0m \u001b[0mfunds\u001b[0m\u001b[1;33m:\u001b[0m\u001b[1;33m\u001b[0m\u001b[1;33m\u001b[0m\u001b[0m\n\u001b[0;32m      4\u001b[0m         \u001b[0mfunds\u001b[0m \u001b[1;33m+=\u001b[0m \u001b[1;33m[\u001b[0m\u001b[0mcel\u001b[0m\u001b[1;33m]\u001b[0m\u001b[1;33m\u001b[0m\u001b[1;33m\u001b[0m\u001b[0m\n",
      "\u001b[1;32m~\\Anaconda3\\lib\\site-packages\\openpyxl\\worksheet\\worksheet.py\u001b[0m in \u001b[0;36m__getitem__\u001b[1;34m(self, key)\u001b[0m\n\u001b[0;32m    288\u001b[0m             key = str(key\n\u001b[0;32m    289\u001b[0m                       )\n\u001b[1;32m--> 290\u001b[1;33m         \u001b[0mmin_col\u001b[0m\u001b[1;33m,\u001b[0m \u001b[0mmin_row\u001b[0m\u001b[1;33m,\u001b[0m \u001b[0mmax_col\u001b[0m\u001b[1;33m,\u001b[0m \u001b[0mmax_row\u001b[0m \u001b[1;33m=\u001b[0m \u001b[0mrange_boundaries\u001b[0m\u001b[1;33m(\u001b[0m\u001b[0mkey\u001b[0m\u001b[1;33m)\u001b[0m\u001b[1;33m\u001b[0m\u001b[1;33m\u001b[0m\u001b[0m\n\u001b[0m\u001b[0;32m    291\u001b[0m \u001b[1;33m\u001b[0m\u001b[0m\n\u001b[0;32m    292\u001b[0m         \u001b[1;32mif\u001b[0m \u001b[1;32mnot\u001b[0m \u001b[0many\u001b[0m\u001b[1;33m(\u001b[0m\u001b[1;33m[\u001b[0m\u001b[0mmin_col\u001b[0m\u001b[1;33m,\u001b[0m \u001b[0mmin_row\u001b[0m\u001b[1;33m,\u001b[0m \u001b[0mmax_col\u001b[0m\u001b[1;33m,\u001b[0m \u001b[0mmax_row\u001b[0m\u001b[1;33m]\u001b[0m\u001b[1;33m)\u001b[0m\u001b[1;33m:\u001b[0m\u001b[1;33m\u001b[0m\u001b[1;33m\u001b[0m\u001b[0m\n",
      "\u001b[1;32m~\\Anaconda3\\lib\\site-packages\\openpyxl\\utils\\cell.py\u001b[0m in \u001b[0;36mrange_boundaries\u001b[1;34m(range_string)\u001b[0m\n\u001b[0;32m    131\u001b[0m     \"\"\"\n\u001b[0;32m    132\u001b[0m     \u001b[0mmsg\u001b[0m \u001b[1;33m=\u001b[0m \u001b[1;34m\"{0} is not a valid coordinate or range\"\u001b[0m\u001b[1;33m.\u001b[0m\u001b[0mformat\u001b[0m\u001b[1;33m(\u001b[0m\u001b[0mrange_string\u001b[0m\u001b[1;33m)\u001b[0m\u001b[1;33m\u001b[0m\u001b[1;33m\u001b[0m\u001b[0m\n\u001b[1;32m--> 133\u001b[1;33m     \u001b[0mm\u001b[0m \u001b[1;33m=\u001b[0m \u001b[0mABSOLUTE_RE\u001b[0m\u001b[1;33m.\u001b[0m\u001b[0mmatch\u001b[0m\u001b[1;33m(\u001b[0m\u001b[0mrange_string\u001b[0m\u001b[1;33m)\u001b[0m\u001b[1;33m\u001b[0m\u001b[1;33m\u001b[0m\u001b[0m\n\u001b[0m\u001b[0;32m    134\u001b[0m     \u001b[1;32mif\u001b[0m \u001b[1;32mnot\u001b[0m \u001b[0mm\u001b[0m\u001b[1;33m:\u001b[0m\u001b[1;33m\u001b[0m\u001b[1;33m\u001b[0m\u001b[0m\n\u001b[0;32m    135\u001b[0m         \u001b[1;32mraise\u001b[0m \u001b[0mValueError\u001b[0m\u001b[1;33m(\u001b[0m\u001b[0mmsg\u001b[0m\u001b[1;33m)\u001b[0m\u001b[1;33m\u001b[0m\u001b[1;33m\u001b[0m\u001b[0m\n",
      "\u001b[1;31mTypeError\u001b[0m: expected string or bytes-like object"
     ]
    }
   ],
   "source": [
    "funds=[]\n",
    "for cel in shSh[:0,:0]:\n",
    "    if cel not in funds:\n",
    "        funds += [cel]"
   ]
  },
  {
   "cell_type": "code",
   "execution_count": null,
   "id": "a74ab0bd",
   "metadata": {},
   "outputs": [],
   "source": []
  }
 ],
 "metadata": {
  "kernelspec": {
   "display_name": "Python 3",
   "language": "python",
   "name": "python3"
  },
  "language_info": {
   "codemirror_mode": {
    "name": "ipython",
    "version": 3
   },
   "file_extension": ".py",
   "mimetype": "text/x-python",
   "name": "python",
   "nbconvert_exporter": "python",
   "pygments_lexer": "ipython3",
   "version": "3.8.8"
  }
 },
 "nbformat": 4,
 "nbformat_minor": 5
}
