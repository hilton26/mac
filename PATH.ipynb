{
 "cells": [
  {
   "cell_type": "markdown",
   "id": "bd352580",
   "metadata": {},
   "source": [
    "Install, Uninstall, and Manage Multiple Versions of Python on a Mac<br>\n",
    "https://www.ianmaddaus.com/post/manage-multiple-versions-python-mac/\n",
    "\n",
    "Finding your Anaconda Python interpreter path<br>\n",
    "https://docs.anaconda.com/anaconda/user-guide/tasks/integration/python-path/"
   ]
  },
  {
   "cell_type": "code",
   "execution_count": null,
   "id": "3be4700d",
   "metadata": {},
   "outputs": [],
   "source": [
    "\n"
   ]
  }
 ],
 "metadata": {
  "kernelspec": {
   "display_name": "Python 3 (ipykernel)",
   "language": "python",
   "name": "python3"
  }
 },
 "nbformat": 4,
 "nbformat_minor": 5
}
