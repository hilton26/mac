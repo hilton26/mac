{
 "cells": [
  {
   "cell_type": "markdown",
   "id": "08b8fb5a",
   "metadata": {},
   "source": [
    "## Medium - How To Create a New Column Based on Values From Other Columns in Pandas\n",
    "\n",
    "https://towardsdatascience.com/create-new-column-based-on-other-columns-pandas-5586d87de73d"
   ]
  },
  {
   "cell_type": "code",
   "execution_count": 1,
   "id": "658a3c59",
   "metadata": {},
   "outputs": [],
   "source": [
    "import pandas as pd\n",
    "\n",
    "df = pd.DataFrame(\n",
    "    [\n",
    "        (1, 'Hello', 158, True, 12.8),\n",
    "        (2, 'Hey', 567, False, 74.2),\n",
    "        (3, 'Hi', 123, False, 1.1),\n",
    "        (4, 'Howdy', 578, True, 45.8),\n",
    "        (5, 'Hello', 418, True, 21.1),\n",
    "        (6, 'Hi', 98, False, 98.1),\n",
    "    ],\n",
    "    columns=['colA', 'colB', 'col C', 'colD', 'colE']\n",
    ")"
   ]
  },
  {
   "cell_type": "code",
   "execution_count": 2,
   "id": "37c1979b",
   "metadata": {},
   "outputs": [
    {
     "name": "stdout",
     "output_type": "stream",
     "text": [
      "   colA   colB  col C   colD  colE\n",
      "0     1  Hello    158   True  12.8\n",
      "1     2    Hey    567  False  74.2\n",
      "2     3     Hi    123  False   1.1\n",
      "3     4  Howdy    578   True  45.8\n",
      "4     5  Hello    418   True  21.1\n",
      "5     6     Hi     98  False  98.1\n"
     ]
    }
   ],
   "source": [
    "print(df)"
   ]
  },
  {
   "cell_type": "markdown",
   "id": "e08b83d8",
   "metadata": {},
   "source": [
    "## Using apply() method"
   ]
  },
  {
   "cell_type": "code",
   "execution_count": 3,
   "id": "0d12ad7f",
   "metadata": {},
   "outputs": [],
   "source": [
    "#  function that creates a new column based on the values of the column colC\n",
    "def categorise(row):  \n",
    "    if row['col C']   > 0   and row['col C'] <= 99 :\n",
    "        return 'A'\n",
    "    elif row['col C'] > 100 and row.colE >= 45: # an alternative way to write row.['colE']\n",
    "        return 'B'\n",
    "    elif row['col C'] > 200 and row['col C'] <= 299:\n",
    "        return 'C'\n",
    "    return 'D'"
   ]
  },
  {
   "cell_type": "code",
   "execution_count": 4,
   "id": "f9807a4d",
   "metadata": {},
   "outputs": [
    {
     "data": {
      "text/html": [
       "<div>\n",
       "<style scoped>\n",
       "    .dataframe tbody tr th:only-of-type {\n",
       "        vertical-align: middle;\n",
       "    }\n",
       "\n",
       "    .dataframe tbody tr th {\n",
       "        vertical-align: top;\n",
       "    }\n",
       "\n",
       "    .dataframe thead th {\n",
       "        text-align: right;\n",
       "    }\n",
       "</style>\n",
       "<table border=\"1\" class=\"dataframe\">\n",
       "  <thead>\n",
       "    <tr style=\"text-align: right;\">\n",
       "      <th></th>\n",
       "      <th>colA</th>\n",
       "      <th>colB</th>\n",
       "      <th>col C</th>\n",
       "      <th>colD</th>\n",
       "      <th>colE</th>\n",
       "      <th>colF</th>\n",
       "    </tr>\n",
       "  </thead>\n",
       "  <tbody>\n",
       "    <tr>\n",
       "      <th>0</th>\n",
       "      <td>1</td>\n",
       "      <td>Hello</td>\n",
       "      <td>158</td>\n",
       "      <td>True</td>\n",
       "      <td>12.8</td>\n",
       "      <td>D</td>\n",
       "    </tr>\n",
       "    <tr>\n",
       "      <th>1</th>\n",
       "      <td>2</td>\n",
       "      <td>Hey</td>\n",
       "      <td>567</td>\n",
       "      <td>False</td>\n",
       "      <td>74.2</td>\n",
       "      <td>B</td>\n",
       "    </tr>\n",
       "    <tr>\n",
       "      <th>2</th>\n",
       "      <td>3</td>\n",
       "      <td>Hi</td>\n",
       "      <td>123</td>\n",
       "      <td>False</td>\n",
       "      <td>1.1</td>\n",
       "      <td>D</td>\n",
       "    </tr>\n",
       "    <tr>\n",
       "      <th>3</th>\n",
       "      <td>4</td>\n",
       "      <td>Howdy</td>\n",
       "      <td>578</td>\n",
       "      <td>True</td>\n",
       "      <td>45.8</td>\n",
       "      <td>B</td>\n",
       "    </tr>\n",
       "    <tr>\n",
       "      <th>4</th>\n",
       "      <td>5</td>\n",
       "      <td>Hello</td>\n",
       "      <td>418</td>\n",
       "      <td>True</td>\n",
       "      <td>21.1</td>\n",
       "      <td>D</td>\n",
       "    </tr>\n",
       "    <tr>\n",
       "      <th>5</th>\n",
       "      <td>6</td>\n",
       "      <td>Hi</td>\n",
       "      <td>98</td>\n",
       "      <td>False</td>\n",
       "      <td>98.1</td>\n",
       "      <td>A</td>\n",
       "    </tr>\n",
       "  </tbody>\n",
       "</table>\n",
       "</div>"
      ],
      "text/plain": [
       "   colA   colB  col C   colD  colE colF\n",
       "0     1  Hello    158   True  12.8    D\n",
       "1     2    Hey    567  False  74.2    B\n",
       "2     3     Hi    123  False   1.1    D\n",
       "3     4  Howdy    578   True  45.8    B\n",
       "4     5  Hello    418   True  21.1    D\n",
       "5     6     Hi     98  False  98.1    A"
      ]
     },
     "execution_count": 4,
     "metadata": {},
     "output_type": "execute_result"
    }
   ],
   "source": [
    "# all you need to do is to pass the above method to apply() as a lambda expression\n",
    "df['colF'] = df.apply(lambda row: categorise(row), axis=1)\n",
    "df"
   ]
  },
  {
   "cell_type": "code",
   "execution_count": 5,
   "id": "607dc3d9",
   "metadata": {},
   "outputs": [
    {
     "data": {
      "text/html": [
       "<div>\n",
       "<style scoped>\n",
       "    .dataframe tbody tr th:only-of-type {\n",
       "        vertical-align: middle;\n",
       "    }\n",
       "\n",
       "    .dataframe tbody tr th {\n",
       "        vertical-align: top;\n",
       "    }\n",
       "\n",
       "    .dataframe thead th {\n",
       "        text-align: right;\n",
       "    }\n",
       "</style>\n",
       "<table border=\"1\" class=\"dataframe\">\n",
       "  <thead>\n",
       "    <tr style=\"text-align: right;\">\n",
       "      <th></th>\n",
       "      <th>colA</th>\n",
       "      <th>colB</th>\n",
       "      <th>col C</th>\n",
       "      <th>colD</th>\n",
       "      <th>colE</th>\n",
       "      <th>colF</th>\n",
       "      <th>colG</th>\n",
       "    </tr>\n",
       "  </thead>\n",
       "  <tbody>\n",
       "    <tr>\n",
       "      <th>0</th>\n",
       "      <td>1</td>\n",
       "      <td>Hello</td>\n",
       "      <td>158</td>\n",
       "      <td>True</td>\n",
       "      <td>12.8</td>\n",
       "      <td>D</td>\n",
       "      <td>170.8</td>\n",
       "    </tr>\n",
       "    <tr>\n",
       "      <th>1</th>\n",
       "      <td>2</td>\n",
       "      <td>Hey</td>\n",
       "      <td>567</td>\n",
       "      <td>False</td>\n",
       "      <td>74.2</td>\n",
       "      <td>B</td>\n",
       "      <td>641.2</td>\n",
       "    </tr>\n",
       "    <tr>\n",
       "      <th>2</th>\n",
       "      <td>3</td>\n",
       "      <td>Hi</td>\n",
       "      <td>123</td>\n",
       "      <td>False</td>\n",
       "      <td>1.1</td>\n",
       "      <td>D</td>\n",
       "      <td>124.1</td>\n",
       "    </tr>\n",
       "    <tr>\n",
       "      <th>3</th>\n",
       "      <td>4</td>\n",
       "      <td>Howdy</td>\n",
       "      <td>578</td>\n",
       "      <td>True</td>\n",
       "      <td>45.8</td>\n",
       "      <td>B</td>\n",
       "      <td>623.8</td>\n",
       "    </tr>\n",
       "    <tr>\n",
       "      <th>4</th>\n",
       "      <td>5</td>\n",
       "      <td>Hello</td>\n",
       "      <td>418</td>\n",
       "      <td>True</td>\n",
       "      <td>21.1</td>\n",
       "      <td>D</td>\n",
       "      <td>439.1</td>\n",
       "    </tr>\n",
       "    <tr>\n",
       "      <th>5</th>\n",
       "      <td>6</td>\n",
       "      <td>Hi</td>\n",
       "      <td>98</td>\n",
       "      <td>False</td>\n",
       "      <td>98.1</td>\n",
       "      <td>A</td>\n",
       "      <td>196.1</td>\n",
       "    </tr>\n",
       "  </tbody>\n",
       "</table>\n",
       "</div>"
      ],
      "text/plain": [
       "   colA   colB  col C   colD  colE colF   colG\n",
       "0     1  Hello    158   True  12.8    D  170.8\n",
       "1     2    Hey    567  False  74.2    B  641.2\n",
       "2     3     Hi    123  False   1.1    D  124.1\n",
       "3     4  Howdy    578   True  45.8    B  623.8\n",
       "4     5  Hello    418   True  21.1    D  439.1\n",
       "5     6     Hi     98  False  98.1    A  196.1"
      ]
     },
     "execution_count": 5,
     "metadata": {},
     "output_type": "execute_result"
    }
   ],
   "source": [
    "# for simpler operations, you can specify the lambda expressions directly to the apply() method: \n",
    "df['colG'] = df.apply(lambda row: row['col C'] + row.colE, axis=1)\n",
    "df"
   ]
  },
  {
   "cell_type": "markdown",
   "id": "2e49456b",
   "metadata": {},
   "source": [
    "## Using NumPy’s select() method\n",
    "A more vectorised approach (and potentially better in terms of performance) is to use NumPy’s select() method"
   ]
  },
  {
   "cell_type": "markdown",
   "id": "2ebc877e",
   "metadata": {},
   "source": [
    "This time, instead of defining a function we will instead create a list containing the desired conditions."
   ]
  },
  {
   "cell_type": "code",
   "execution_count": 6,
   "id": "85d822ce",
   "metadata": {},
   "outputs": [],
   "source": [
    "import numpy as np\n",
    "conditions = [\n",
    "  np.logical_and(df['col C'].gt(0)  , np.less_equal(df['col C'], 99)), # AND(col C > 0  , col C <= 99 )\n",
    "  np.logical_and(df['col C'].gt(100), np.less_equal(df['col C'],199)), # AND(col C > 100, col C <= 199)\n",
    "  np.logical_and(df['col C'].gt(200), np.less_equal(df['col C'],299)), # AND(col C > 200, col C <= 299)\n",
    "]"
   ]
  },
  {
   "cell_type": "markdown",
   "id": "354b49c9",
   "metadata": {},
   "source": [
    "Then define an additional list containing the corresponding values that the new column will contain. Note that in the list below we do not include the default value D."
   ]
  },
  {
   "cell_type": "code",
   "execution_count": 7,
   "id": "28f78d00",
   "metadata": {},
   "outputs": [],
   "source": [
    "outputs = ['A', 'B', 'C']"
   ]
  },
  {
   "cell_type": "markdown",
   "id": "575a78cd",
   "metadata": {},
   "source": [
    "And finally, we use the select() method to apply the conditions and also specify the default value that will be used whenever none of the specified conditions is met."
   ]
  },
  {
   "cell_type": "code",
   "execution_count": 8,
   "id": "1421bc53",
   "metadata": {},
   "outputs": [
    {
     "name": "stdout",
     "output_type": "stream",
     "text": [
      "   colA   colB  col C   colD  colE colF   colG\n",
      "0     1  Hello    158   True  12.8    B  170.8\n",
      "1     2    Hey    567  False  74.2    D  641.2\n",
      "2     3     Hi    123  False   1.1    B  124.1\n",
      "3     4  Howdy    578   True  45.8    D  623.8\n",
      "4     5  Hello    418   True  21.1    D  439.1\n",
      "5     6     Hi     98  False  98.1    A  196.1\n"
     ]
    }
   ],
   "source": [
    "df['colF'] = pd.Series(np.select(conditions, outputs, 'D'))\n",
    "\n",
    "print(df)"
   ]
  },
  {
   "cell_type": "markdown",
   "id": "418d5c8b",
   "metadata": {},
   "source": [
    "## Using loc property\n",
    "Finally, another option is the loc property that in some occasions might be more efficient compared to apply() method. Note that this approach may also be a little bit more verbose compared to the solutions we discussed previously."
   ]
  },
  {
   "cell_type": "code",
   "execution_count": 9,
   "id": "3b41912e",
   "metadata": {},
   "outputs": [
    {
     "name": "stdout",
     "output_type": "stream",
     "text": [
      "   colA   colB  col C   colD  colE colF   colG\n",
      "0     1  Hello    158   True  12.8    B  170.8\n",
      "1     2    Hey    567  False  74.2    D  641.2\n",
      "2     3     Hi    123  False   1.1    B  124.1\n",
      "3     4  Howdy    578   True  45.8    D  623.8\n",
      "4     5  Hello    418   True  21.1    D  439.1\n",
      "5     6     Hi     98  False  98.1    A  196.1\n"
     ]
    }
   ],
   "source": [
    "df.loc[\n",
    "  np.logical_and(df['col C'].gt(0), np.less_equal(df['col C'], 99)), \n",
    "  'colF'\n",
    "] = 'A'\n",
    "df.loc[\n",
    "  np.logical_and(df['col C'].gt(100), np.less_equal(df['col C'], 199)),'colF'\n",
    "] = 'B'\n",
    "df.loc[\n",
    "  np.logical_and(df['col C'].gt(200), np.less_equal(df['col C'], 299)),'colF'\n",
    "] = 'C'\n",
    "df['colF'].fillna('D', inplace=True)\n",
    "\n",
    "print(df)"
   ]
  },
  {
   "cell_type": "code",
   "execution_count": null,
   "id": "b06a0c1d",
   "metadata": {},
   "outputs": [],
   "source": []
  }
 ],
 "metadata": {
  "kernelspec": {
   "display_name": "Python 3 (ipykernel)",
   "language": "python",
   "name": "python3"
  },
  "language_info": {
   "codemirror_mode": {
    "name": "ipython",
    "version": 3
   },
   "file_extension": ".py",
   "mimetype": "text/x-python",
   "name": "python",
   "nbconvert_exporter": "python",
   "pygments_lexer": "ipython3",
   "version": "3.9.12"
  }
 },
 "nbformat": 4,
 "nbformat_minor": 5
}
