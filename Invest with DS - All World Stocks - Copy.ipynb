{
 "cells": [
  {
   "cell_type": "markdown",
   "id": "84d9f953",
   "metadata": {},
   "source": [
    "### Download every stock in the world, Oct 2021"
   ]
  },
  {
   "cell_type": "markdown",
   "id": "9abfba36-988c-4774-8d4d-9e13fbc68bd4",
   "metadata": {},
   "source": [
    "How to Invest with Data Science\n",
    "https://www.youtube.com/watch?v=4jaBKXDqg9U\n",
    "\n",
    "Download every stock in the world, Oct 2021<br>\n",
    "https://www.youtube.com/watch?v=xzBcPoxue-g\n",
    "\n",
    "How to Fix: TypeError: ‘DataFrame’ object is not callable<br>\n",
    "This error usually occurs when you attempt to perform some calculation on a variable in a pandas DataFrame by using round () brackets instead of square [ ] brackets<br>\n",
    "https://www.statology.org/pandas-dataframe-object-is-not-callable/#:~:text=This%20error%20usually%20occurs%20when,instead%20of%20square%20%5B%20%5D%20brackets."
   ]
  },
  {
   "cell_type": "code",
   "execution_count": 2,
   "id": "085469cf-f7ff-4f64-8318-2f5289b7fd21",
   "metadata": {},
   "outputs": [],
   "source": [
    "# libraries\n",
    "\n",
    "import numpy as np\n",
    "import pandas as pd\n",
    "import matplotlib.pyplot as plt #plotting\n",
    "import matplotlib.dates as mdates #styling dates\n",
    "%matplotlib inline\n",
    "\n",
    "import datetime as dt\n",
    "import time\n",
    "\n",
    "# !pip3 install yfinance\n",
    "import yfinance as yf"
   ]
  },
  {
   "cell_type": "markdown",
   "id": "566dcc57",
   "metadata": {},
   "source": [
    "### YFinance"
   ]
  },
  {
   "cell_type": "code",
   "execution_count": 3,
   "id": "c104565b",
   "metadata": {},
   "outputs": [],
   "source": [
    "def get_info_on_stock(ticker):\n",
    "    stock =  yf.Ticker(ticker)\n",
    "    hist = stock.history(period=\"max\")[\"Close\"]\n",
    "    \n",
    "    print(stock.recommendations)"
   ]
  },
  {
   "cell_type": "code",
   "execution_count": 4,
   "id": "e11d8b50",
   "metadata": {},
   "outputs": [
    {
     "name": "stdout",
     "output_type": "stream",
     "text": [
      "                              Firm      To Grade From Grade Action\n",
      "Date                                                              \n",
      "2012-02-16 07:42:00      JP Morgan    Overweight              main\n",
      "2012-02-16 13:53:00     Wunderlich          Hold              down\n",
      "2012-02-17 06:17:00     Oxen Group           Buy              init\n",
      "2012-03-26 07:31:00     Wunderlich           Buy                up\n",
      "2012-05-22 05:57:00    Maxim Group           Buy              init\n",
      "...                            ...           ...        ...    ...\n",
      "2022-04-21 10:45:24      JP Morgan   Underweight              main\n",
      "2022-04-21 10:49:34      Citigroup          Sell              main\n",
      "2022-04-21 11:40:47    Wells Fargo  Equal-Weight              main\n",
      "2022-04-21 12:41:08    Oppenheimer    Outperform              main\n",
      "2022-04-22 12:36:05  Deutsche Bank           Buy              main\n",
      "\n",
      "[445 rows x 4 columns]\n"
     ]
    }
   ],
   "source": [
    "get_info_on_stock(\"TSLA\")"
   ]
  },
  {
   "cell_type": "markdown",
   "id": "3d865db2",
   "metadata": {},
   "source": []
  },
  {
   "cell_type": "markdown",
   "id": "c292614b",
   "metadata": {},
   "source": [
    "### Hold Stocks Not Downloaded"
   ]
  },
  {
   "cell_type": "code",
   "execution_count": 5,
   "id": "2d8e815b",
   "metadata": {},
   "outputs": [],
   "source": [
    "# Want to download stock information for every single stock in the world\n",
    "# Store that stock information whch does not come through in 'stocks_not_downloaded'\n",
    "stocks_not_downloaded = []\n",
    "missing_stocks = []"
   ]
  },
  {
   "cell_type": "markdown",
   "id": "6f84bdb8",
   "metadata": {},
   "source": [
    "### Function that Returns a Stock Dataframe from a CSV"
   ]
  },
  {
   "cell_type": "code",
   "execution_count": 6,
   "id": "bb141995",
   "metadata": {},
   "outputs": [],
   "source": [
    "# reads a dataframe from the csv file, changes index to date, and returns it\n",
    "def get_stock_df_from_csv(folder, ticker):\n",
    "    # try to get the file and, if it doesn't exist, issue a warning\n",
    "    try:\n",
    "        df = pd.read_csv(folder + ticker + '.csv')\n",
    "    except FileNotFoundError:\n",
    "        print(\"File doesn't exist\")\n",
    "    else:\n",
    "        return df"
   ]
  },
  {
   "cell_type": "markdown",
   "id": "bc3ed093",
   "metadata": {},
   "source": [
    "### Return a Named Column's Data from a CSV"
   ]
  },
  {
   "cell_type": "code",
   "execution_count": 7,
   "id": "16af0884",
   "metadata": {},
   "outputs": [],
   "source": [
    "def get_column_from_csv(file, col_name):\n",
    "    # try to get the file and, if it doesn't exist, issue a warning\n",
    "    try:\n",
    "        df = pd.read_csv(file)\n",
    "    except FileNotFoundError:\n",
    "        print(\"File doesn't exist\")\n",
    "    else:\n",
    "        return df[col_name]"
   ]
  },
  {
   "cell_type": "markdown",
   "id": "91f807cc",
   "metadata": {},
   "source": [
    "### Get Stock Tickers"
   ]
  },
  {
   "cell_type": "code",
   "execution_count": 8,
   "id": "bfefaab6",
   "metadata": {},
   "outputs": [
    {
     "data": {
      "text/plain": [
       "0          14D.AX\n",
       "1          1AD.AX\n",
       "2          1AG.AX\n",
       "3          1ST.AX\n",
       "4          1VG.AX\n",
       "          ...    \n",
       "3893    ZSIKON.AX\n",
       "3894    ZSIKOR.AX\n",
       "3895    ZSIKOT.AX\n",
       "3896    ZSIKOU.AX\n",
       "3897    ZSIKOV.AX\n",
       "Name: Ticker, Length: 3898, dtype: object"
      ]
     },
     "execution_count": 8,
     "metadata": {},
     "output_type": "execute_result"
    }
   ],
   "source": [
    "# Derek Banas created CSV files for the largest 15 stock exchanges.\n",
    "# You can find them on Github 100% for free here:\n",
    "# https://github.com/derekbanas/Python4Finance\n",
    "\n",
    "pth = '/Volumes/Seagate/OneDrive/Py/Python4Finance-main/Australia.csv'\n",
    "tickers = get_column_from_csv(pth, \"Ticker\")\n",
    "tickers"
   ]
  },
  {
   "cell_type": "markdown",
   "id": "789f951c",
   "metadata": {},
   "source": [
    "### Function that Saves Stock Data to CSV"
   ]
  },
  {
   "cell_type": "code",
   "execution_count": 9,
   "id": "b2d3c151",
   "metadata": {},
   "outputs": [],
   "source": [
    "def save_to_csv_from_yahoo(folder, ticker):\n",
    "    stock = yf.Ticker(ticker)\n",
    "    try:\n",
    "        print('Get data for: ', ticker)\n",
    "        df = stock.history(period = 'max')['Close']\n",
    "        time.sleep(2)\n",
    "        if df.empty:\n",
    "            stocks_not_downloaded.append(ticker)\n",
    "        the_file = folder + ticker.replace(\".\",\"_\") + '.csv'\n",
    "        print(the_file, \"Saved\")\n",
    "        df.to_csv(the_file)\n",
    "    except Exception as ex:\n",
    "        stocks_not_downloaded.append(ticker)\n",
    "        print(\"Couldn't get data for: \", ticker)"
   ]
  },
  {
   "cell_type": "markdown",
   "id": "f3f2b640",
   "metadata": {},
   "source": [
    "### Get Five Years of Data for the First 20 Stocks"
   ]
  },
  {
   "cell_type": "code",
   "execution_count": 10,
   "id": "1e72c2b7",
   "metadata": {},
   "outputs": [
    {
     "name": "stdout",
     "output_type": "stream",
     "text": [
      "Get data for:  14D.AX\n",
      "/Volumes/Seagate/OneDrive/Py/Python4Finance-main/Aus_stocks/14D_AX.csv Saved\n",
      "Get data for:  1AD.AX\n",
      "/Volumes/Seagate/OneDrive/Py/Python4Finance-main/Aus_stocks/1AD_AX.csv Saved\n",
      "Get data for:  1AG.AX\n",
      "/Volumes/Seagate/OneDrive/Py/Python4Finance-main/Aus_stocks/1AG_AX.csv Saved\n",
      "Get data for:  1ST.AX\n",
      "/Volumes/Seagate/OneDrive/Py/Python4Finance-main/Aus_stocks/1ST_AX.csv Saved\n",
      "Get data for:  1VG.AX\n",
      "/Volumes/Seagate/OneDrive/Py/Python4Finance-main/Aus_stocks/1VG_AX.csv Saved\n",
      "Get data for:  29M.AX\n",
      "/Volumes/Seagate/OneDrive/Py/Python4Finance-main/Aus_stocks/29M_AX.csv Saved\n",
      "Get data for:  2BE.AX\n",
      "/Volumes/Seagate/OneDrive/Py/Python4Finance-main/Aus_stocks/2BE_AX.csv Saved\n",
      "Get data for:  2BEO.AX\n",
      "- 2BEO.AX: No data found, symbol may be delisted\n",
      "/Volumes/Seagate/OneDrive/Py/Python4Finance-main/Aus_stocks/2BEO_AX.csv Saved\n",
      "Get data for:  360.AX\n",
      "/Volumes/Seagate/OneDrive/Py/Python4Finance-main/Aus_stocks/360_AX.csv Saved\n",
      "Get data for:  3DA.AX\n",
      "/Volumes/Seagate/OneDrive/Py/Python4Finance-main/Aus_stocks/3DA_AX.csv Saved\n",
      "Get data for:  3DP.AX\n",
      "/Volumes/Seagate/OneDrive/Py/Python4Finance-main/Aus_stocks/3DP_AX.csv Saved\n",
      "Get data for:  3MF.AX\n",
      "/Volumes/Seagate/OneDrive/Py/Python4Finance-main/Aus_stocks/3MF_AX.csv Saved\n",
      "Get data for:  3PL.AX\n",
      "/Volumes/Seagate/OneDrive/Py/Python4Finance-main/Aus_stocks/3PL_AX.csv Saved\n",
      "Get data for:  4DS.AX\n",
      "/Volumes/Seagate/OneDrive/Py/Python4Finance-main/Aus_stocks/4DS_AX.csv Saved\n",
      "Get data for:  4DX.AX\n",
      "/Volumes/Seagate/OneDrive/Py/Python4Finance-main/Aus_stocks/4DX_AX.csv Saved\n",
      "Get data for:  5GG.AX\n",
      "/Volumes/Seagate/OneDrive/Py/Python4Finance-main/Aus_stocks/5GG_AX.csv Saved\n",
      "Get data for:  5GN.AX\n",
      "- 5GN.AX: No data found, symbol may be delisted\n",
      "/Volumes/Seagate/OneDrive/Py/Python4Finance-main/Aus_stocks/5GN_AX.csv Saved\n",
      "Get data for:  88E.AX\n",
      "/Volumes/Seagate/OneDrive/Py/Python4Finance-main/Aus_stocks/88E_AX.csv Saved\n",
      "Get data for:  8CO.AX\n",
      "/Volumes/Seagate/OneDrive/Py/Python4Finance-main/Aus_stocks/8CO_AX.csv Saved\n",
      "Get data for:  8IH.AX\n",
      "/Volumes/Seagate/OneDrive/Py/Python4Finance-main/Aus_stocks/8IH_AX.csv Saved\n",
      "Done\n"
     ]
    }
   ],
   "source": [
    "fldr = '/Volumes/Seagate/OneDrive/Py/Python4Finance-main/Aus_stocks/'\n",
    "for x in range(20):\n",
    "    save_to_csv_from_yahoo(fldr, tickers[x])\n",
    "print(\"Done\")"
   ]
  },
  {
   "cell_type": "code",
   "execution_count": null,
   "id": "cbba6f4a",
   "metadata": {},
   "outputs": [],
   "source": []
  }
 ],
 "metadata": {
  "kernelspec": {
   "display_name": "Python 3 (ipykernel)",
   "language": "python",
   "name": "python3"
  },
  "language_info": {
   "codemirror_mode": {
    "name": "ipython",
    "version": 3
   },
   "file_extension": ".py",
   "mimetype": "text/x-python",
   "name": "python",
   "nbconvert_exporter": "python",
   "pygments_lexer": "ipython3",
   "version": "3.9.13"
  }
 },
 "nbformat": 4,
 "nbformat_minor": 5
}
