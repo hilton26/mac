{
 "cells": [
  {
   "cell_type": "markdown",
   "id": "f4817ced",
   "metadata": {},
   "source": [
    "How to Write Pandas DataFrame to Excel Sheet?<br>\n",
    "https://pythonexamples.org/pandas-write-dataframe-to-excel-sheet/"
   ]
  },
  {
   "cell_type": "markdown",
   "id": "1e11b274",
   "metadata": {},
   "source": [
    "### Example 1: Write DataFrame to Excel File"
   ]
  },
  {
   "cell_type": "code",
   "execution_count": 10,
   "id": "950fb4ef",
   "metadata": {},
   "outputs": [
    {
     "name": "stdout",
     "output_type": "stream",
     "text": [
      "DataFrame is written successfully to Excel File.\n"
     ]
    }
   ],
   "source": [
    "import pandas as pd\n",
    "\n",
    "# create a dataframe\n",
    "df_marks = pd.DataFrame({'name': ['Somu', 'Kiku', 'Amol', 'Lini'],\n",
    "     'physics': [68, 74, 77, 78],\n",
    "     'chemistry': [84, 56, 73, 69],\n",
    "     'algebra': [78, 88, 82, 87]})\n",
    "\n",
    "# set path to where the excel file will be saved\n",
    "pth = r'C:\\Users\\hilton.netta\\Downloads\\\\'\n",
    "\n",
    "# create an excel writer object\n",
    "writer = pd.ExcelWriter(pth + 'output.xlsx')\n",
    "\n",
    "# write the dataframe to excel\n",
    "df_marks.to_excel(writer, index = False) # 'index = False' to exclude an index column\n",
    "\n",
    "# save the excel\n",
    "writer.save()\n",
    "\n",
    "print('DataFrame is written successfully to Excel File.')"
   ]
  },
  {
   "cell_type": "markdown",
   "id": "8c5ca5f8",
   "metadata": {},
   "source": [
    "### Example 2: Write DataFrame to a specific Excel Sheet"
   ]
  },
  {
   "cell_type": "code",
   "execution_count": 13,
   "id": "2c37ee3c",
   "metadata": {},
   "outputs": [
    {
     "name": "stdout",
     "output_type": "stream",
     "text": [
      "DataFrame is written successfully to Excel Sheet.\n"
     ]
    }
   ],
   "source": [
    "import pandas as pd\n",
    "\n",
    "# create dataframe\n",
    "df_marks = pd.DataFrame({'name': ['Somu', 'Kiku', 'Amol', 'Lini'],\n",
    "     'physics': [68, 74, 77, 78],\n",
    "     'chemistry': [84, 56, 73, 69],\n",
    "     'algebra': [78, 88, 82, 87]})\n",
    "\n",
    "\n",
    "# set path to where the excel file will be saved\n",
    "pth = r'C:\\Users\\hilton.netta\\Downloads\\\\'\n",
    "\n",
    "# create excel writer\n",
    "writer = pd.ExcelWriter(pth + 'output2.xlsx') # output2.xlsx has three sheets named 'mango', 'tree', and 'viscid'\n",
    "\n",
    "# write dataframe to excel sheet named 'marks'\n",
    "df_marks.to_excel(writer, 'tree', index = False)\n",
    "\n",
    "# save the excel file\n",
    "writer.save()\n",
    "\n",
    "print('DataFrame is written successfully to Excel Sheet.')"
   ]
  },
  {
   "cell_type": "code",
   "execution_count": 22,
   "id": "258b6125",
   "metadata": {},
   "outputs": [],
   "source": [
    "import pandas as pd\n",
    "import numpy as np\n",
    "\n",
    "path = r'C:\\Users\\hilton.netta\\Downloads\\\\'\n",
    "\n",
    "x1 = np.random.randn(100, 2)\n",
    "df1 = pd.DataFrame(x1)\n",
    "\n",
    "x2 = np.random.randn(100, 2)\n",
    "df2 = pd.DataFrame(x2)\n",
    "\n",
    "writer = pd.ExcelWriter(path + 'output3.xlsx', engine = 'xlsxwriter')\n",
    "df1.to_excel(writer, sheet_name = 'x1', index = False)\n",
    "df2.to_excel(writer, sheet_name = 'x2', index = False)\n",
    "df_marks.to_excel(writer, sheet_name = 'x2', index = False)\n",
    "writer.save()\n",
    "\n",
    "# writer.close()"
   ]
  },
  {
   "cell_type": "code",
   "execution_count": null,
   "id": "94b80b2a",
   "metadata": {},
   "outputs": [],
   "source": []
  }
 ],
 "metadata": {
  "kernelspec": {
   "display_name": "Python 3",
   "language": "python",
   "name": "python3"
  },
  "language_info": {
   "codemirror_mode": {
    "name": "ipython",
    "version": 3
   },
   "file_extension": ".py",
   "mimetype": "text/x-python",
   "name": "python",
   "nbconvert_exporter": "python",
   "pygments_lexer": "ipython3",
   "version": "3.8.8"
  }
 },
 "nbformat": 4,
 "nbformat_minor": 5
}
