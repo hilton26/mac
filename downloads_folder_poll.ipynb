{
 "cells": [
  {
   "cell_type": "markdown",
   "id": "8b6887cc",
   "metadata": {},
   "source": [
    "# Poll the Downloads Folder\n",
    "\n",
    "\n",
    "https://stackoverflow.com/questions/34338897/python-selenium-find-out-when-a-download-has-completed"
   ]
  },
  {
   "cell_type": "code",
   "execution_count": 1,
   "id": "9137e8a2",
   "metadata": {},
   "outputs": [],
   "source": [
    "# function to poll download directory every second and exit once complete or if longer than 240 seconds\n",
    "#https://stackoverflow.com/questions/34338897/python-selenium-find-out-when-a-download-has-completed\n",
    "\n",
    "import time\n",
    "import os\n",
    "\n",
    "def latest_download_file():\n",
    "      path = r'C:\\Users\\hilton.netta\\Downloads'\n",
    "      os.chdir(path)\n",
    "      files = sorted(os.listdir(os.getcwd()), key=os.path.getmtime)\n",
    "      newest = files[-1]\n",
    "\n",
    "      return newest\n",
    "\n",
    "fileends = \"crdownload\"\n",
    "while \"crdownload\" == fileends:\n",
    "    time.sleep(1)\n",
    "    newest_file = latest_download_file()\n",
    "    if \"crdownload\" in newest_file:\n",
    "        fileends = \"crdownload\"\n",
    "    else:\n",
    "        fileends = \"none\""
   ]
  },
  {
   "cell_type": "code",
   "execution_count": null,
   "id": "280dfba8",
   "metadata": {},
   "outputs": [],
   "source": []
  }
 ],
 "metadata": {
  "kernelspec": {
   "display_name": "Python 3 (ipykernel)",
   "language": "python",
   "name": "python3"
  },
  "language_info": {
   "codemirror_mode": {
    "name": "ipython",
    "version": 3
   },
   "file_extension": ".py",
   "mimetype": "text/x-python",
   "name": "python",
   "nbconvert_exporter": "python",
   "pygments_lexer": "ipython3",
   "version": "3.9.12"
  }
 },
 "nbformat": 4,
 "nbformat_minor": 5
}
