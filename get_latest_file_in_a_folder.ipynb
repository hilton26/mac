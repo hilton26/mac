{
 "cells": [
  {
   "cell_type": "markdown",
   "id": "a292dfa3",
   "metadata": {},
   "source": [
    "# Step 1: Assigning issuer names to securities in a portfolio\n",
    "\n",
    "Source: Eagle 'Reg 28 Report - Incl Effective Exposure' with nine columns: 0. 'Entity Name', 1. 'Investment Type', 2. 'i Issue Name', 3. 'Primary Asset ID', 4. 'CCY', 5. 'Reg28 Classification', 6. 'End Market Value', 7. 'Percentage', 8. 'Closing Exposure PA'"
   ]
  },
  {
   "cell_type": "markdown",
   "id": "373b2a77",
   "metadata": {},
   "source": [
    "#### Resources\n",
    "\n",
    "input file                       P:\\Working Folders\\Hilton\\W\\Reg 28 Report - input.xlsx\n",
    "\n",
    "structures                       P:\\Working Folders\\Hilton\\W\\structures.xlsm\n",
    "\n",
    "Reg28 sheet format and formula   P:\\Working Folders\\Hilton\\W\\Reg28 Checker Format and Formulae.docx\n",
    "\n",
    "issuer results file              P:\\Working Folders\\Hilton\\W\\issuers_1_done.xlsx\n",
    "\n",
    "merged file                      P:\\Working Folders\\Hilton\\W\\merged.xlsx\n",
    "\n",
    "output file                      P:\\Working Folders\\Hilton\\W\\output.xlsx"
   ]
  },
  {
   "cell_type": "markdown",
   "id": "7f5c6c29",
   "metadata": {},
   "source": [
    "#### More resources\n",
    " \n",
    " 'else' in a list comprehension<br>\n",
    " https://stackoverflow.com/questions/2951701/is-it-possible-to-use-else-in-a-list-comprehension\n",
    " \n",
    "convert string to variable<br>\n",
    "https://www.codeproject.com/Questions/1222606/Python-convert-string-and-variable-to-list-name\n",
    "\n",
    "apply function to each element of a list<br>\n",
    "https://stackoverflow.com/questions/25082410/apply-function-to-each-element-of-a-list\n",
    "\n",
    "replace Vlookup in Python using Pandas<br>\n",
    "https://www.youtube.com/watch?v=AHS925L8JVk&t=9s"
   ]
  },
  {
   "cell_type": "code",
   "execution_count": 1,
   "id": "67caf51e",
   "metadata": {},
   "outputs": [],
   "source": [
    "# create a time difference function\n",
    "import datetime\n",
    "\n",
    "def timediff(start, end, decimals = 1):\n",
    "    if   int((end - start) / 3600) > 0: # non-zero hours\n",
    "        return str(int(  (end - start) / 3600))           + 'hr '  + \\\n",
    "               str(int(  (end - start) /   60))           + 'min ' + \\\n",
    "               str(round((end - start) %   60, decimals)) + 'sec'\n",
    "    elif int((end - start) /   60) > 0: # non-zero hours and minutes\n",
    "        return str(int(  (end - start) /   60))           + 'min ' + \\\n",
    "               str(round((end - start) %   60, decimals)) + 'sec'\n",
    "    else:\n",
    "        return str(round((end - start) %   60, decimals)) + 'sec'"
   ]
  },
  {
   "cell_type": "code",
   "execution_count": 2,
   "id": "9c35adff",
   "metadata": {},
   "outputs": [],
   "source": [
    "# utility function to open an excel file, .xls or .xlsx\n",
    "def open_xl_file(file_name_and_path):\n",
    "    import win32com.client as win32 # library to convert xls to xlsx\n",
    "    excel               = win32.gencache.EnsureDispatch('Excel.Application')\n",
    "    excel.DisplayAlerts = False # suppress the warning dialogue\n",
    "    excel.Workbooks.Open(file_name_and_path)\n",
    "    excel.DisplayAlerts = True # unsuppress the warning dialogue"
   ]
  },
  {
   "cell_type": "code",
   "execution_count": 3,
   "id": "da15bcfa",
   "metadata": {},
   "outputs": [],
   "source": [
    "# get a list of only sub-folders, not files, in a directory\n",
    "# https://stackoverflow.com/questions/973473/getting-a-list-of-all-subdirectories-in-the-current-directory\n",
    "# from glob import glob\n",
    "# glob(pthBESAFiles + '/*/', recursive = True)"
   ]
  },
  {
   "cell_type": "code",
   "execution_count": 4,
   "id": "e7d1e342",
   "metadata": {},
   "outputs": [],
   "source": [
    "pthBESAFiles = r'\\\\fileserver\\pim-documents\\AAPIM DEAL DOWNLOAD\\ADMIN SETTLEMENT FILES\\BESA MTM Files' # set folder path\n",
    "cal = {'Jan': 1, 'Feb': 2, 'Mar': 3, 'Apr': 4, 'May': 5, 'Jun': 6,'Jul': 7, 'Aug': 8, 'Sep': 9, 'Oct': 10,'Nov': 11, 'Dec': 12}\n",
    "\n",
    "import os.path"
   ]
  },
  {
   "cell_type": "code",
   "execution_count": 5,
   "id": "3effe280",
   "metadata": {},
   "outputs": [
    {
     "data": {
      "text/plain": [
       "'\\\\\\\\fileserver\\\\pim-documents\\\\AAPIM DEAL DOWNLOAD\\\\ADMIN SETTLEMENT FILES\\\\BESA MTM Files\\\\2023\\\\June\\\\MTMDetailed20230608.xls'"
      ]
     },
     "execution_count": 5,
     "metadata": {},
     "output_type": "execute_result"
    }
   ],
   "source": [
    "# get filename for latest BESA file\n",
    "\n",
    "fld = [s for s in os.listdir(pthBESAFiles) if s.isdigit()]\n",
    "yr  = max(fld) # get name of newest year folder\n",
    "z   = os.listdir(os.path.join(pthBESAFiles, yr))\n",
    "mth = [cal[key] for s in z for key in cal if key in s] # list of month numbers\n",
    "fls = os.listdir(os.path.join(pthBESAFiles, max(fld), z[mth.index(max(mth))])) # list of files in year sub-folder\n",
    "ymd = [filenm.strip('MTMDetailed').strip('.xls') for filenm in fls]\n",
    "pth = os.path.join(pthBESAFiles, max(fld), z[mth.index(max(mth))]) # path name including latest year\n",
    "bsa = pth + r'\\MTMDetailed' + max(ymd) + '.xls'\n",
    "bsa"
   ]
  },
  {
   "cell_type": "code",
   "execution_count": 6,
   "id": "453c5a23",
   "metadata": {},
   "outputs": [
    {
     "data": {
      "text/plain": [
       "'20230608'"
      ]
     },
     "execution_count": 6,
     "metadata": {},
     "output_type": "execute_result"
    }
   ],
   "source": [
    "max(ymd)"
   ]
  }
 ],
 "metadata": {
  "kernelspec": {
   "display_name": "Python 3 (ipykernel)",
   "language": "python",
   "name": "python3"
  },
  "language_info": {
   "codemirror_mode": {
    "name": "ipython",
    "version": 3
   },
   "file_extension": ".py",
   "mimetype": "text/x-python",
   "name": "python",
   "nbconvert_exporter": "python",
   "pygments_lexer": "ipython3",
   "version": "3.9.12"
  }
 },
 "nbformat": 4,
 "nbformat_minor": 5
}
