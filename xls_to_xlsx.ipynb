{
 "cells": [
  {
   "cell_type": "markdown",
   "id": "997b6d97",
   "metadata": {},
   "source": [
    "how to convert xls to xlsx<br>\n",
    "https://stackoverflow.com/questions/9918646/how-to-convert-xls-to-xlsx"
   ]
  },
  {
   "cell_type": "code",
   "execution_count": 1,
   "id": "92886190",
   "metadata": {},
   "outputs": [],
   "source": [
    "# convert files from .xls to .xlsx\n",
    "\n",
    "import win32com.client as win32\n",
    "pth = r'C:\\Users\\hilton.netta\\Downloads'\n",
    "fPARN = pth + '\\Portfolio Analytics Report - New.xls'\n",
    "fDE = pth + '\\Derivative Exposure.xls'\n",
    "\n",
    "files = [fPARN, fDE]\n",
    "\n",
    "for fl in files:\n",
    "    excel = win32.gencache.EnsureDispatch('Excel.Application')\n",
    "    wb = excel.Workbooks.Open(fl)\n",
    "    wb.SaveAs(fl + 'x', FileFormat = 51)     #FileFormat = 51 is for .xlsx extension\n",
    "    wb.Close()                               #FileFormat = 56 is for .xls extension\n",
    "\n",
    "# excel.Application.Quit()"
   ]
  }
 ],
 "metadata": {
  "kernelspec": {
   "display_name": "Python 3",
   "language": "python",
   "name": "python3"
  },
  "language_info": {
   "codemirror_mode": {
    "name": "ipython",
    "version": 3
   },
   "file_extension": ".py",
   "mimetype": "text/x-python",
   "name": "python",
   "nbconvert_exporter": "python",
   "pygments_lexer": "ipython3",
   "version": "3.8.8"
  }
 },
 "nbformat": 4,
 "nbformat_minor": 5
}
