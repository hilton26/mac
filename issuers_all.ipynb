{
 "cells": [
  {
   "cell_type": "markdown",
   "id": "38439e11",
   "metadata": {},
   "source": [
    "How can I execute a .ipynb notebook file in a Python script?\n",
    "\n",
    "https://stackoverflow.com/questions/67811531/how-can-i-execute-a-ipynb-notebook-file-in-a-python-script#:~:text=Ipython%2FJupyter%20*.,the%20code%20using%20exec()%20."
   ]
  },
  {
   "cell_type": "code",
   "execution_count": 29,
   "id": "437d3dc8",
   "metadata": {},
   "outputs": [],
   "source": [
    "# libraries\n",
    "import nbformat\n",
    "from nbconvert.preprocessors import ExecutePreprocessor\n",
    " # https://nbconvert.readthedocs.io/en/latest/execute_api.html\n",
    "\n",
    "# path to Jupyter files\n",
    "pth       = r'C:\\Users\\hilton.netta\\OneDrive - Prescient\\py\\gitrepo'\n",
    "issuers_1 = pth + r'\\issuers_1.ipynb'\n",
    "issuers_2 = pth + r'\\issuers_2.ipynb'\n",
    "issuers_3 = pth + r'\\issuers_3.ipynb'"
   ]
  },
  {
   "cell_type": "code",
   "execution_count": 31,
   "id": "aabdd3b1",
   "metadata": {},
   "outputs": [],
   "source": [
    "# run issuers_1\n",
    "with open(issuers_1) as f:\n",
    "    nb_in = nbformat.read(f, nbformat.NO_CONVERT)\n",
    "    \n",
    "ep        = ExecutePreprocessor(timeout=600, kernel_name='python3')\n",
    "\n",
    "nb_out    = ep.preprocess(nb_in) # preprocess() to actually run the notebook"
   ]
  },
  {
   "cell_type": "code",
   "execution_count": null,
   "id": "84de760d",
   "metadata": {},
   "outputs": [],
   "source": [
    "# run issuers_2\n",
    "with open(issuers_2) as f:\n",
    "    nb_in = nbformat.read(f, nbformat.NO_CONVERT)\n",
    "    \n",
    "ep        = ExecutePreprocessor(timeout=600, kernel_name='python3')\n",
    "\n",
    "nb_out    = ep.preprocess(nb_in) # preprocess() to actually run the notebook"
   ]
  },
  {
   "cell_type": "code",
   "execution_count": null,
   "id": "8e97000e",
   "metadata": {},
   "outputs": [],
   "source": [
    "# run issuers_3\n",
    "with open(issuers_3) as f:\n",
    "    nb_in = nbformat.read(f, nbformat.NO_CONVERT)\n",
    "    \n",
    "ep        = ExecutePreprocessor(timeout=600, kernel_name='python3')\n",
    "\n",
    "nb_out    = ep.preprocess(nb_in) # preprocess() to actually run the notebook"
   ]
  },
  {
   "cell_type": "code",
   "execution_count": 30,
   "id": "c8d2f170",
   "metadata": {},
   "outputs": [
    {
     "ename": "NameError",
     "evalue": "name 'notebooks' is not defined",
     "output_type": "error",
     "traceback": [
      "\u001b[1;31m---------------------------------------------------------------------------\u001b[0m",
      "\u001b[1;31mNameError\u001b[0m                                 Traceback (most recent call last)",
      "Cell \u001b[1;32mIn[30], line 2\u001b[0m\n\u001b[0;32m      1\u001b[0m \u001b[38;5;66;03m# run all the notebooks\u001b[39;00m\n\u001b[1;32m----> 2\u001b[0m \u001b[38;5;28;01mfor\u001b[39;00m notebook \u001b[38;5;129;01min\u001b[39;00m \u001b[43mnotebooks\u001b[49m:\n\u001b[0;32m      3\u001b[0m     \u001b[38;5;28;01mwith\u001b[39;00m \u001b[38;5;28mopen\u001b[39m(notebook) \u001b[38;5;28;01mas\u001b[39;00m f:\n\u001b[0;32m      4\u001b[0m         nb_in \u001b[38;5;241m=\u001b[39m nbformat\u001b[38;5;241m.\u001b[39mread(f, nbformat\u001b[38;5;241m.\u001b[39mNO_CONVERT)\n",
      "\u001b[1;31mNameError\u001b[0m: name 'notebooks' is not defined"
     ]
    }
   ],
   "source": [
    "# run all the notebooks\n",
    "for notebook in notebooks:\n",
    "    with open(notebook) as f:\n",
    "        nb_in = nbformat.read(f, nbformat.NO_CONVERT)\n",
    "    \n",
    "    ep        = ExecutePreprocessor(timeout=600, kernel_name='python3')\n",
    "    nb_out    = ep.preprocess(nb_in) # preprocess() to actually run the notebook"
   ]
  },
  {
   "cell_type": "code",
   "execution_count": null,
   "id": "b07aa34a",
   "metadata": {},
   "outputs": [],
   "source": []
  }
 ],
 "metadata": {
  "kernelspec": {
   "display_name": "Python 3 (ipykernel)",
   "language": "python",
   "name": "python3"
  },
  "language_info": {
   "codemirror_mode": {
    "name": "ipython",
    "version": 3
   },
   "file_extension": ".py",
   "mimetype": "text/x-python",
   "name": "python",
   "nbconvert_exporter": "python",
   "pygments_lexer": "ipython3",
   "version": "3.9.12"
  }
 },
 "nbformat": 4,
 "nbformat_minor": 5
}
