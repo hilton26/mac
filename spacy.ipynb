{
 "cells": [
  {
   "cell_type": "markdown",
   "id": "8835189e",
   "metadata": {},
   "source": [
    "# How to use Spacy for noun phrase extraction\n",
    "\n",
    "https://practicaldatascience.co.uk/data-science/how-to-use-spacy-for-noun-phrase-extraction"
   ]
  },
  {
   "cell_type": "markdown",
   "id": "22e209db",
   "metadata": {},
   "source": [
    "Noun phrase extraction is a Natural Language Processing technique that can be used to identify and extract noun phrases from text. Noun phrases are phrases that function grammatically as nouns in a sentence, and usually include a noun or pronoun as the headword, as well as any associated determiners, adjectives, and modifiers.\n",
    "\n",
    "For example, given the sentence “The quick brown fox jumps over the lazy dog”, the noun phrases would be “The quick brown fox” and “the lazy dog.”\n",
    "\n",
    "Noun phrase extraction can be very useful when analysing customer review data during review mining since it reveals more than just the nouns alone. It can be achieved during a range of NLP techniques, including dependency parsing, part of speech tagging, as well as shallow parsing and via Large Language Models and transformers.\n",
    "\n",
    "In this project we’ll use the Spacy natural language processing library to extract some noun phrases from some text to show how easily it can be achieved."
   ]
  },
  {
   "cell_type": "code",
   "execution_count": 1,
   "id": "3bb78bcb",
   "metadata": {},
   "outputs": [
    {
     "name": "stdout",
     "output_type": "stream",
     "text": [
      "Collecting spacy\n",
      "  Downloading spacy-3.6.1-cp39-cp39-win_amd64.whl (12.1 MB)\n",
      "     ---------------------------------------- 0.0/12.1 MB ? eta -:--:--\n",
      "      --------------------------------------- 0.2/12.1 MB 4.1 MB/s eta 0:00:03\n",
      "     -- ------------------------------------- 0.7/12.1 MB 7.7 MB/s eta 0:00:02\n",
      "     ---- ----------------------------------- 1.3/12.1 MB 9.0 MB/s eta 0:00:02\n",
      "     ------ --------------------------------- 1.8/12.1 MB 9.6 MB/s eta 0:00:02\n",
      "     ------- -------------------------------- 2.3/12.1 MB 9.9 MB/s eta 0:00:01\n",
      "     --------- ------------------------------ 2.9/12.1 MB 10.2 MB/s eta 0:00:01\n",
      "     ----------- ---------------------------- 3.4/12.1 MB 10.4 MB/s eta 0:00:01\n",
      "     ------------- -------------------------- 4.0/12.1 MB 11.0 MB/s eta 0:00:01\n",
      "     -------------- ------------------------- 4.5/12.1 MB 11.0 MB/s eta 0:00:01\n",
      "     ---------------- ----------------------- 5.0/12.1 MB 11.1 MB/s eta 0:00:01\n",
      "     ------------------ --------------------- 5.6/12.1 MB 11.1 MB/s eta 0:00:01\n",
      "     -------------------- ------------------- 6.1/12.1 MB 11.2 MB/s eta 0:00:01\n",
      "     ---------------------- ----------------- 6.7/12.1 MB 11.2 MB/s eta 0:00:01\n",
      "     ----------------------- ---------------- 7.2/12.1 MB 11.2 MB/s eta 0:00:01\n",
      "     ------------------------- -------------- 7.7/12.1 MB 11.2 MB/s eta 0:00:01\n",
      "     --------------------------- ------------ 8.3/12.1 MB 11.2 MB/s eta 0:00:01\n",
      "     ----------------------------- ---------- 8.8/12.1 MB 11.2 MB/s eta 0:00:01\n",
      "     ------------------------------ --------- 9.3/12.1 MB 11.2 MB/s eta 0:00:01\n",
      "     -------------------------------- ------- 9.9/12.1 MB 11.4 MB/s eta 0:00:01\n",
      "     --------------------------------- ----- 10.4/12.1 MB 11.9 MB/s eta 0:00:01\n",
      "     ----------------------------------- --- 10.9/12.1 MB 11.9 MB/s eta 0:00:01\n",
      "     ------------------------------------- - 11.5/12.1 MB 11.9 MB/s eta 0:00:01\n",
      "     --------------------------------------  12.0/12.1 MB 11.7 MB/s eta 0:00:01\n",
      "     --------------------------------------  12.1/12.1 MB 11.9 MB/s eta 0:00:01\n",
      "     --------------------------------------  12.1/12.1 MB 11.9 MB/s eta 0:00:01\n",
      "     --------------------------------------  12.1/12.1 MB 11.9 MB/s eta 0:00:01\n",
      "     --------------------------------------  12.1/12.1 MB 11.9 MB/s eta 0:00:01\n",
      "     ---------------------------------------- 12.1/12.1 MB 9.5 MB/s eta 0:00:00\n",
      "Collecting langcodes<4.0.0,>=3.2.0\n",
      "  Downloading langcodes-3.3.0-py3-none-any.whl (181 kB)\n",
      "     ---------------------------------------- 0.0/181.6 kB ? eta -:--:--\n",
      "     ------------------------------------- 181.6/181.6 kB 10.7 MB/s eta 0:00:00\n",
      "Collecting catalogue<2.1.0,>=2.0.6\n",
      "  Downloading catalogue-2.0.9-py3-none-any.whl (17 kB)\n",
      "Collecting cymem<2.1.0,>=2.0.2\n",
      "  Downloading cymem-2.0.7-cp39-cp39-win_amd64.whl (30 kB)\n",
      "Collecting spacy-legacy<3.1.0,>=3.0.11\n",
      "  Downloading spacy_legacy-3.0.12-py2.py3-none-any.whl (29 kB)\n",
      "Collecting srsly<3.0.0,>=2.4.3\n",
      "  Downloading srsly-2.4.7-cp39-cp39-win_amd64.whl (483 kB)\n",
      "     ---------------------------------------- 0.0/483.6 kB ? eta -:--:--\n",
      "     ------------------------------------  481.3/483.6 kB 15.2 MB/s eta 0:00:01\n",
      "     ------------------------------------- 483.6/483.6 kB 10.1 MB/s eta 0:00:00\n",
      "Collecting wasabi<1.2.0,>=0.9.1\n",
      "  Downloading wasabi-1.1.2-py3-none-any.whl (27 kB)\n",
      "Collecting typer<0.10.0,>=0.3.0\n",
      "  Downloading typer-0.9.0-py3-none-any.whl (45 kB)\n",
      "     ---------------------------------------- 0.0/45.9 kB ? eta -:--:--\n",
      "     ---------------------------------------- 45.9/45.9 kB ? eta 0:00:00\n",
      "Requirement already satisfied: requests<3.0.0,>=2.13.0 in c:\\users\\hilton.netta\\anaconda3\\lib\\site-packages (from spacy) (2.28.1)\n",
      "Requirement already satisfied: packaging>=20.0 in c:\\users\\hilton.netta\\anaconda3\\lib\\site-packages (from spacy) (23.0)\n",
      "Requirement already satisfied: tqdm<5.0.0,>=4.38.0 in c:\\users\\hilton.netta\\anaconda3\\lib\\site-packages (from spacy) (4.64.1)\n",
      "Requirement already satisfied: numpy>=1.15.0 in c:\\users\\hilton.netta\\anaconda3\\lib\\site-packages (from spacy) (1.23.5)\n",
      "Requirement already satisfied: jinja2 in c:\\users\\hilton.netta\\anaconda3\\lib\\site-packages (from spacy) (3.1.2)\n",
      "Collecting spacy-loggers<2.0.0,>=1.0.0\n",
      "  Downloading spacy_loggers-1.0.4-py3-none-any.whl (11 kB)\n",
      "Collecting thinc<8.2.0,>=8.1.8\n",
      "  Downloading thinc-8.1.12-cp39-cp39-win_amd64.whl (1.5 MB)\n",
      "     ---------------------------------------- 0.0/1.5 MB ? eta -:--:--\n",
      "     ----------- ---------------------------- 0.4/1.5 MB 13.2 MB/s eta 0:00:01\n",
      "     ------------------------- -------------- 0.9/1.5 MB 11.9 MB/s eta 0:00:01\n",
      "     ---------------------------------------  1.5/1.5 MB 13.5 MB/s eta 0:00:01\n",
      "     ---------------------------------------- 1.5/1.5 MB 10.6 MB/s eta 0:00:00\n",
      "Collecting pathy>=0.10.0\n",
      "  Downloading pathy-0.10.2-py3-none-any.whl (48 kB)\n",
      "     ---------------------------------------- 0.0/48.9 kB ? eta -:--:--\n",
      "     ---------------------------------------- 48.9/48.9 kB ? eta 0:00:00\n",
      "Collecting pydantic!=1.8,!=1.8.1,<3.0.0,>=1.7.4\n",
      "  Downloading pydantic-2.3.0-py3-none-any.whl (374 kB)\n",
      "     ---------------------------------------- 0.0/374.5 kB ? eta -:--:--\n",
      "     ------------------------------------  368.6/374.5 kB 11.2 MB/s eta 0:00:01\n",
      "     -------------------------------------- 374.5/374.5 kB 7.8 MB/s eta 0:00:00\n",
      "Collecting preshed<3.1.0,>=3.0.2\n",
      "  Downloading preshed-3.0.8-cp39-cp39-win_amd64.whl (96 kB)\n",
      "     ---------------------------------------- 0.0/96.8 kB ? eta -:--:--\n",
      "     ---------------------------------------- 96.8/96.8 kB 5.8 MB/s eta 0:00:00\n",
      "Requirement already satisfied: smart-open<7.0.0,>=5.2.1 in c:\\users\\hilton.netta\\anaconda3\\lib\\site-packages (from spacy) (5.2.1)\n",
      "Collecting murmurhash<1.1.0,>=0.28.0\n",
      "  Downloading murmurhash-1.0.9-cp39-cp39-win_amd64.whl (18 kB)\n",
      "Requirement already satisfied: setuptools in c:\\users\\hilton.netta\\anaconda3\\lib\\site-packages (from spacy) (65.6.3)\n",
      "Collecting pydantic-core==2.6.3\n",
      "  Downloading pydantic_core-2.6.3-cp39-none-win_amd64.whl (1.7 MB)\n",
      "     ---------------------------------------- 0.0/1.7 MB ? eta -:--:--\n",
      "     --------- ------------------------------ 0.4/1.7 MB 13.5 MB/s eta 0:00:01\n",
      "     ----------------------- ---------------- 1.0/1.7 MB 13.1 MB/s eta 0:00:01\n",
      "     ------------------------------------ --- 1.6/1.7 MB 12.5 MB/s eta 0:00:01\n",
      "     ---------------------------------------- 1.7/1.7 MB 10.1 MB/s eta 0:00:00\n",
      "Collecting typing-extensions>=4.6.1\n",
      "  Downloading typing_extensions-4.7.1-py3-none-any.whl (33 kB)\n",
      "Collecting annotated-types>=0.4.0\n",
      "  Downloading annotated_types-0.5.0-py3-none-any.whl (11 kB)\n",
      "Requirement already satisfied: certifi>=2017.4.17 in c:\\users\\hilton.netta\\anaconda3\\lib\\site-packages (from requests<3.0.0,>=2.13.0->spacy) (2022.12.7)\n",
      "Requirement already satisfied: idna<4,>=2.5 in c:\\users\\hilton.netta\\anaconda3\\lib\\site-packages (from requests<3.0.0,>=2.13.0->spacy) (3.4)\n",
      "Requirement already satisfied: charset-normalizer<3,>=2 in c:\\users\\hilton.netta\\anaconda3\\lib\\site-packages (from requests<3.0.0,>=2.13.0->spacy) (2.0.4)\n",
      "Requirement already satisfied: urllib3<1.27,>=1.21.1 in c:\\users\\hilton.netta\\anaconda3\\lib\\site-packages (from requests<3.0.0,>=2.13.0->spacy) (1.26.14)\n",
      "Collecting blis<0.8.0,>=0.7.8\n",
      "  Downloading blis-0.7.10-cp39-cp39-win_amd64.whl (7.4 MB)\n",
      "     ---------------------------------------- 0.0/7.4 MB ? eta -:--:--\n",
      "     -- ------------------------------------- 0.5/7.4 MB 14.2 MB/s eta 0:00:01\n",
      "     ----- ---------------------------------- 1.0/7.4 MB 12.5 MB/s eta 0:00:01\n",
      "     -------- ------------------------------- 1.5/7.4 MB 12.2 MB/s eta 0:00:01\n",
      "     ----------- ---------------------------- 2.1/7.4 MB 12.1 MB/s eta 0:00:01\n",
      "     -------------- ------------------------- 2.6/7.4 MB 12.0 MB/s eta 0:00:01\n",
      "     ----------------- ---------------------- 3.2/7.4 MB 11.9 MB/s eta 0:00:01\n",
      "     ------------------- -------------------- 3.7/7.4 MB 11.7 MB/s eta 0:00:01\n",
      "     ---------------------- ----------------- 4.2/7.4 MB 11.6 MB/s eta 0:00:01\n",
      "     ------------------------ --------------- 4.6/7.4 MB 11.4 MB/s eta 0:00:01\n",
      "     --------------------------- ------------ 5.2/7.4 MB 11.4 MB/s eta 0:00:01\n",
      "     ------------------------------ --------- 5.7/7.4 MB 11.7 MB/s eta 0:00:01\n",
      "     --------------------------------- ------ 6.2/7.4 MB 11.7 MB/s eta 0:00:01\n",
      "     ------------------------------------ --- 6.8/7.4 MB 11.7 MB/s eta 0:00:01\n",
      "     ---------------------------------------  7.3/7.4 MB 11.7 MB/s eta 0:00:01\n",
      "     ---------------------------------------  7.4/7.4 MB 11.6 MB/s eta 0:00:01\n",
      "     ---------------------------------------- 7.4/7.4 MB 10.5 MB/s eta 0:00:00\n",
      "Collecting confection<1.0.0,>=0.0.1\n",
      "  Downloading confection-0.1.2-py3-none-any.whl (34 kB)\n",
      "Requirement already satisfied: colorama in c:\\users\\hilton.netta\\anaconda3\\lib\\site-packages (from tqdm<5.0.0,>=4.38.0->spacy) (0.4.6)\n",
      "Requirement already satisfied: click<9.0.0,>=7.1.1 in c:\\users\\hilton.netta\\anaconda3\\lib\\site-packages (from typer<0.10.0,>=0.3.0->spacy) (8.0.4)\n",
      "Requirement already satisfied: MarkupSafe>=2.0 in c:\\users\\hilton.netta\\anaconda3\\lib\\site-packages (from jinja2->spacy) (2.1.1)\n",
      "Installing collected packages: cymem, wasabi, typing-extensions, spacy-loggers, spacy-legacy, murmurhash, langcodes, catalogue, blis, annotated-types, typer, srsly, pydantic-core, preshed, pydantic, pathy, confection, thinc, spacy\n",
      "  Attempting uninstall: typing-extensions\n",
      "    Found existing installation: typing_extensions 4.4.0\n",
      "    Uninstalling typing_extensions-4.4.0:\n",
      "      Successfully uninstalled typing_extensions-4.4.0\n",
      "Successfully installed annotated-types-0.5.0 blis-0.7.10 catalogue-2.0.9 confection-0.1.2 cymem-2.0.7 langcodes-3.3.0 murmurhash-1.0.9 pathy-0.10.2 preshed-3.0.8 pydantic-2.3.0 pydantic-core-2.6.3 spacy-3.6.1 spacy-legacy-3.0.12 spacy-loggers-1.0.4 srsly-2.4.7 thinc-8.1.12 typer-0.9.0 typing-extensions-4.7.1 wasabi-1.1.2\n"
     ]
    },
    {
     "name": "stdout",
     "output_type": "stream",
     "text": [
      "Collecting en-core-web-sm==3.6.0\n",
      "  Downloading https://github.com/explosion/spacy-models/releases/download/en_core_web_sm-3.6.0/en_core_web_sm-3.6.0-py3-none-any.whl (12.8 MB)\n",
      "     ---------------------------------------- 0.0/12.8 MB ? eta -:--:--\n",
      "     - -------------------------------------- 0.5/12.8 MB 15.0 MB/s eta 0:00:01\n",
      "     --- ------------------------------------ 1.0/12.8 MB 13.0 MB/s eta 0:00:01\n",
      "     ---- ----------------------------------- 1.6/12.8 MB 12.5 MB/s eta 0:00:01\n",
      "     ------ --------------------------------- 2.1/12.8 MB 12.3 MB/s eta 0:00:01\n",
      "     -------- ------------------------------- 2.7/12.8 MB 12.1 MB/s eta 0:00:01\n",
      "     ---------- ----------------------------- 3.2/12.8 MB 12.0 MB/s eta 0:00:01\n",
      "     ----------- ---------------------------- 3.7/12.8 MB 12.3 MB/s eta 0:00:01\n",
      "     ------------- -------------------------- 4.2/12.8 MB 12.2 MB/s eta 0:00:01\n",
      "     ------------- -------------------------- 4.2/12.8 MB 12.2 MB/s eta 0:00:01\n",
      "     ------------- -------------------------- 4.2/12.8 MB 12.2 MB/s eta 0:00:01\n",
      "     ------------- -------------------------- 4.2/12.8 MB 12.2 MB/s eta 0:00:01\n",
      "     ------------- -------------------------- 4.2/12.8 MB 12.2 MB/s eta 0:00:01\n",
      "     ------------- -------------------------- 4.2/12.8 MB 12.2 MB/s eta 0:00:01\n",
      "     ------------- -------------------------- 4.2/12.8 MB 6.6 MB/s eta 0:00:02\n",
      "     -------------- ------------------------- 4.8/12.8 MB 6.9 MB/s eta 0:00:02\n",
      "     ---------------- ----------------------- 5.3/12.8 MB 7.4 MB/s eta 0:00:02\n",
      "     ------------------ --------------------- 5.8/12.8 MB 7.6 MB/s eta 0:00:01\n",
      "     ------------------- -------------------- 6.4/12.8 MB 7.8 MB/s eta 0:00:01\n",
      "     --------------------- ------------------ 6.9/12.8 MB 8.0 MB/s eta 0:00:01\n",
      "     ----------------------- ---------------- 7.5/12.8 MB 8.2 MB/s eta 0:00:01\n",
      "     ------------------------ --------------- 8.0/12.8 MB 8.4 MB/s eta 0:00:01\n",
      "     -------------------------- ------------- 8.5/12.8 MB 8.5 MB/s eta 0:00:01\n",
      "     ---------------------------- ----------- 9.1/12.8 MB 8.7 MB/s eta 0:00:01\n",
      "     ----------------------------- ---------- 9.6/12.8 MB 8.8 MB/s eta 0:00:01\n",
      "     ------------------------------- -------- 10.1/12.8 MB 8.9 MB/s eta 0:00:01\n",
      "     --------------------------------- ------ 10.7/12.8 MB 8.8 MB/s eta 0:00:01\n",
      "     ---------------------------------- ----- 11.2/12.8 MB 9.0 MB/s eta 0:00:01\n",
      "     ------------------------------------ --- 11.7/12.8 MB 9.0 MB/s eta 0:00:01\n",
      "     -------------------------------------- - 12.3/12.8 MB 9.0 MB/s eta 0:00:01\n",
      "     ---------------------------------------  12.8/12.8 MB 8.8 MB/s eta 0:00:01\n",
      "     ---------------------------------------  12.8/12.8 MB 8.8 MB/s eta 0:00:01\n",
      "     ---------------------------------------  12.8/12.8 MB 8.8 MB/s eta 0:00:01\n",
      "     ---------------------------------------  12.8/12.8 MB 8.8 MB/s eta 0:00:01\n",
      "     ---------------------------------------- 12.8/12.8 MB 7.7 MB/s eta 0:00:00\n",
      "Requirement already satisfied: spacy<3.7.0,>=3.6.0 in c:\\users\\hilton.netta\\anaconda3\\lib\\site-packages (from en-core-web-sm==3.6.0) (3.6.1)\n",
      "Requirement already satisfied: tqdm<5.0.0,>=4.38.0 in c:\\users\\hilton.netta\\anaconda3\\lib\\site-packages (from spacy<3.7.0,>=3.6.0->en-core-web-sm==3.6.0) (4.64.1)\n",
      "Requirement already satisfied: murmurhash<1.1.0,>=0.28.0 in c:\\users\\hilton.netta\\anaconda3\\lib\\site-packages (from spacy<3.7.0,>=3.6.0->en-core-web-sm==3.6.0) (1.0.9)\n",
      "Requirement already satisfied: cymem<2.1.0,>=2.0.2 in c:\\users\\hilton.netta\\anaconda3\\lib\\site-packages (from spacy<3.7.0,>=3.6.0->en-core-web-sm==3.6.0) (2.0.7)\n",
      "Requirement already satisfied: wasabi<1.2.0,>=0.9.1 in c:\\users\\hilton.netta\\anaconda3\\lib\\site-packages (from spacy<3.7.0,>=3.6.0->en-core-web-sm==3.6.0) (1.1.2)\n",
      "Requirement already satisfied: numpy>=1.15.0 in c:\\users\\hilton.netta\\anaconda3\\lib\\site-packages (from spacy<3.7.0,>=3.6.0->en-core-web-sm==3.6.0) (1.23.5)\n",
      "Requirement already satisfied: requests<3.0.0,>=2.13.0 in c:\\users\\hilton.netta\\anaconda3\\lib\\site-packages (from spacy<3.7.0,>=3.6.0->en-core-web-sm==3.6.0) (2.28.1)\n",
      "Requirement already satisfied: smart-open<7.0.0,>=5.2.1 in c:\\users\\hilton.netta\\anaconda3\\lib\\site-packages (from spacy<3.7.0,>=3.6.0->en-core-web-sm==3.6.0) (5.2.1)\n",
      "Requirement already satisfied: srsly<3.0.0,>=2.4.3 in c:\\users\\hilton.netta\\anaconda3\\lib\\site-packages (from spacy<3.7.0,>=3.6.0->en-core-web-sm==3.6.0) (2.4.7)\n",
      "Requirement already satisfied: typer<0.10.0,>=0.3.0 in c:\\users\\hilton.netta\\anaconda3\\lib\\site-packages (from spacy<3.7.0,>=3.6.0->en-core-web-sm==3.6.0) (0.9.0)\n",
      "Requirement already satisfied: thinc<8.2.0,>=8.1.8 in c:\\users\\hilton.netta\\anaconda3\\lib\\site-packages (from spacy<3.7.0,>=3.6.0->en-core-web-sm==3.6.0) (8.1.12)\n",
      "Requirement already satisfied: catalogue<2.1.0,>=2.0.6 in c:\\users\\hilton.netta\\anaconda3\\lib\\site-packages (from spacy<3.7.0,>=3.6.0->en-core-web-sm==3.6.0) (2.0.9)\n",
      "Requirement already satisfied: spacy-legacy<3.1.0,>=3.0.11 in c:\\users\\hilton.netta\\anaconda3\\lib\\site-packages (from spacy<3.7.0,>=3.6.0->en-core-web-sm==3.6.0) (3.0.12)\n",
      "Requirement already satisfied: packaging>=20.0 in c:\\users\\hilton.netta\\anaconda3\\lib\\site-packages (from spacy<3.7.0,>=3.6.0->en-core-web-sm==3.6.0) (23.0)\n",
      "Requirement already satisfied: preshed<3.1.0,>=3.0.2 in c:\\users\\hilton.netta\\anaconda3\\lib\\site-packages (from spacy<3.7.0,>=3.6.0->en-core-web-sm==3.6.0) (3.0.8)\n",
      "Requirement already satisfied: langcodes<4.0.0,>=3.2.0 in c:\\users\\hilton.netta\\anaconda3\\lib\\site-packages (from spacy<3.7.0,>=3.6.0->en-core-web-sm==3.6.0) (3.3.0)\n",
      "Requirement already satisfied: pydantic!=1.8,!=1.8.1,<3.0.0,>=1.7.4 in c:\\users\\hilton.netta\\anaconda3\\lib\\site-packages (from spacy<3.7.0,>=3.6.0->en-core-web-sm==3.6.0) (2.3.0)\n",
      "Requirement already satisfied: setuptools in c:\\users\\hilton.netta\\anaconda3\\lib\\site-packages (from spacy<3.7.0,>=3.6.0->en-core-web-sm==3.6.0) (65.6.3)\n",
      "Requirement already satisfied: jinja2 in c:\\users\\hilton.netta\\anaconda3\\lib\\site-packages (from spacy<3.7.0,>=3.6.0->en-core-web-sm==3.6.0) (3.1.2)\n",
      "Requirement already satisfied: spacy-loggers<2.0.0,>=1.0.0 in c:\\users\\hilton.netta\\anaconda3\\lib\\site-packages (from spacy<3.7.0,>=3.6.0->en-core-web-sm==3.6.0) (1.0.4)\n",
      "Requirement already satisfied: pathy>=0.10.0 in c:\\users\\hilton.netta\\anaconda3\\lib\\site-packages (from spacy<3.7.0,>=3.6.0->en-core-web-sm==3.6.0) (0.10.2)\n",
      "Requirement already satisfied: typing-extensions>=4.6.1 in c:\\users\\hilton.netta\\anaconda3\\lib\\site-packages (from pydantic!=1.8,!=1.8.1,<3.0.0,>=1.7.4->spacy<3.7.0,>=3.6.0->en-core-web-sm==3.6.0) (4.7.1)\n",
      "Requirement already satisfied: annotated-types>=0.4.0 in c:\\users\\hilton.netta\\anaconda3\\lib\\site-packages (from pydantic!=1.8,!=1.8.1,<3.0.0,>=1.7.4->spacy<3.7.0,>=3.6.0->en-core-web-sm==3.6.0) (0.5.0)\n",
      "Requirement already satisfied: pydantic-core==2.6.3 in c:\\users\\hilton.netta\\anaconda3\\lib\\site-packages (from pydantic!=1.8,!=1.8.1,<3.0.0,>=1.7.4->spacy<3.7.0,>=3.6.0->en-core-web-sm==3.6.0) (2.6.3)\n",
      "Requirement already satisfied: certifi>=2017.4.17 in c:\\users\\hilton.netta\\anaconda3\\lib\\site-packages (from requests<3.0.0,>=2.13.0->spacy<3.7.0,>=3.6.0->en-core-web-sm==3.6.0) (2022.12.7)\n",
      "Requirement already satisfied: urllib3<1.27,>=1.21.1 in c:\\users\\hilton.netta\\anaconda3\\lib\\site-packages (from requests<3.0.0,>=2.13.0->spacy<3.7.0,>=3.6.0->en-core-web-sm==3.6.0) (1.26.14)\n",
      "Requirement already satisfied: idna<4,>=2.5 in c:\\users\\hilton.netta\\anaconda3\\lib\\site-packages (from requests<3.0.0,>=2.13.0->spacy<3.7.0,>=3.6.0->en-core-web-sm==3.6.0) (3.4)\n",
      "Requirement already satisfied: charset-normalizer<3,>=2 in c:\\users\\hilton.netta\\anaconda3\\lib\\site-packages (from requests<3.0.0,>=2.13.0->spacy<3.7.0,>=3.6.0->en-core-web-sm==3.6.0) (2.0.4)\n",
      "Requirement already satisfied: confection<1.0.0,>=0.0.1 in c:\\users\\hilton.netta\\anaconda3\\lib\\site-packages (from thinc<8.2.0,>=8.1.8->spacy<3.7.0,>=3.6.0->en-core-web-sm==3.6.0) (0.1.2)\n",
      "Requirement already satisfied: blis<0.8.0,>=0.7.8 in c:\\users\\hilton.netta\\anaconda3\\lib\\site-packages (from thinc<8.2.0,>=8.1.8->spacy<3.7.0,>=3.6.0->en-core-web-sm==3.6.0) (0.7.10)\n",
      "Requirement already satisfied: colorama in c:\\users\\hilton.netta\\anaconda3\\lib\\site-packages (from tqdm<5.0.0,>=4.38.0->spacy<3.7.0,>=3.6.0->en-core-web-sm==3.6.0) (0.4.6)\n",
      "Requirement already satisfied: click<9.0.0,>=7.1.1 in c:\\users\\hilton.netta\\anaconda3\\lib\\site-packages (from typer<0.10.0,>=0.3.0->spacy<3.7.0,>=3.6.0->en-core-web-sm==3.6.0) (8.0.4)\n",
      "Requirement already satisfied: MarkupSafe>=2.0 in c:\\users\\hilton.netta\\anaconda3\\lib\\site-packages (from jinja2->spacy<3.7.0,>=3.6.0->en-core-web-sm==3.6.0) (2.1.1)\n",
      "Installing collected packages: en-core-web-sm\n",
      "Successfully installed en-core-web-sm-3.6.0\n",
      "\u001b[38;5;2m[+] Download and installation successful\u001b[0m\n",
      "You can now load the package via spacy.load('en_core_web_sm')\n"
     ]
    }
   ],
   "source": [
    "# Install the packages\n",
    "!pip install -U spacy\n",
    "!python -m spacy download en_core_web_sm"
   ]
  },
  {
   "cell_type": "markdown",
   "id": "c07085ca",
   "metadata": {},
   "source": [
    "Import the packages"
   ]
  },
  {
   "cell_type": "code",
   "execution_count": 4,
   "id": "b610978a",
   "metadata": {},
   "outputs": [],
   "source": [
    "import spacy"
   ]
  },
  {
   "cell_type": "markdown",
   "id": "cb5e2006",
   "metadata": {},
   "source": [
    "Import Spacy then load the en_core_web_sm model using spacy.load(). Assign the model object to a variable called nlp. We’ll now be able to pass data to the nlp model and perform various Natural Language Processing tasks."
   ]
  },
  {
   "cell_type": "code",
   "execution_count": 5,
   "id": "4bf019bd",
   "metadata": {},
   "outputs": [],
   "source": [
    "nlp = spacy.load(\"en_core_web_sm\")"
   ]
  },
  {
   "cell_type": "markdown",
   "id": "4b0e999d",
   "metadata": {},
   "source": [
    "### Create a document to analyse\n",
    "Now we need to create a variable or document that contains the text we want Spacy to analyse. We’ll store a sentence containing some noun phrases in a variable called text."
   ]
  },
  {
   "cell_type": "code",
   "execution_count": 6,
   "id": "8fc4a0d4",
   "metadata": {},
   "outputs": [],
   "source": [
    "text = \"\"\"\n",
    "The data scientist hurriedly wrote some code on their Linux workstation to get everything completed before the deadline. \n",
    "\"\"\""
   ]
  },
  {
   "cell_type": "markdown",
   "id": "2c218521",
   "metadata": {},
   "source": [
    "### Pass the text to Spacy\n",
    "\n",
    "Next we need to pass our text variable to the nlp() model and assign the output to a variable so we can parse the results returned. We can do this by entering doc = nlp(text)."
   ]
  },
  {
   "cell_type": "code",
   "execution_count": 7,
   "id": "958f7a99",
   "metadata": {},
   "outputs": [],
   "source": [
    "doc = nlp(text)"
   ]
  },
  {
   "cell_type": "markdown",
   "id": "c1fbb18e",
   "metadata": {},
   "source": [
    "### Extract nouns and noun phrases\n",
    "\n",
    "To extract nouns and noun phrases from the doc returned by Spacy we can use a couple of list comprehensions. The first one returns a list of values where the token.pos_ value is NOUN, which gives us a list of the nouns in our text."
   ]
  },
  {
   "cell_type": "code",
   "execution_count": 8,
   "id": "01a4d3cc",
   "metadata": {},
   "outputs": [
    {
     "name": "stdout",
     "output_type": "stream",
     "text": [
      "Nouns: ['data', 'scientist', 'code', 'workstation', 'deadline']\n"
     ]
    }
   ],
   "source": [
    "print(\"Nouns:\", [token.lemma_ for token in doc if token.pos_ == \"NOUN\"])"
   ]
  },
  {
   "cell_type": "markdown",
   "id": "51d06c98",
   "metadata": {},
   "source": [
    "The second list comprehension extracts the noun phrases from the chunk.text using the noun_chunks feature of Spacy. This returns a list containing all the noun phrases Spacy extracted from the text."
   ]
  },
  {
   "cell_type": "code",
   "execution_count": 9,
   "id": "405f455d",
   "metadata": {},
   "outputs": [
    {
     "name": "stdout",
     "output_type": "stream",
     "text": [
      "Noun phrases: ['\\nThe data scientist', 'some code', 'their Linux workstation', 'everything', 'the deadline']\n"
     ]
    }
   ],
   "source": [
    "print(\"Noun phrases:\", [chunk.text for chunk in doc.noun_chunks])"
   ]
  },
  {
   "cell_type": "code",
   "execution_count": null,
   "id": "31ece1a2",
   "metadata": {},
   "outputs": [],
   "source": []
  }
 ],
 "metadata": {
  "kernelspec": {
   "display_name": "Python 3 (ipykernel)",
   "language": "python",
   "name": "python3"
  },
  "language_info": {
   "codemirror_mode": {
    "name": "ipython",
    "version": 3
   },
   "file_extension": ".py",
   "mimetype": "text/x-python",
   "name": "python",
   "nbconvert_exporter": "python",
   "pygments_lexer": "ipython3",
   "version": "3.9.12"
  }
 },
 "nbformat": 4,
 "nbformat_minor": 5
}
