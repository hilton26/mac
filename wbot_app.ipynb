{
 "cells": [
  {
   "cell_type": "markdown",
   "id": "532a4323",
   "metadata": {},
   "source": [
    "### How to Build a WhatsApp Chatbot Using Python and Twilio\n",
    "\n",
    "https://www.youtube.com/watch?v=FKZ_qRXWJRk"
   ]
  },
  {
   "cell_type": "code",
   "execution_count": 3,
   "id": "426fa330",
   "metadata": {},
   "outputs": [],
   "source": [
    "#!pip install flask"
   ]
  },
  {
   "cell_type": "code",
   "execution_count": null,
   "id": "1ce26560",
   "metadata": {},
   "outputs": [],
   "source": [
    "from flask import Flask, request\n",
    "from twilio.twiml.messaging_response import MessagingResponse\n",
    "\n",
    "app = Flask(__name__)\n",
    "\n",
    "@app.route(\"/sms\", methods = ['POST'])\n",
    "def reply():\n",
    "    \n",
    "    incoming_msg = request.form.get('Body').lower()\n",
    "    response     = MessagingResponse()\n",
    "    message      = response.message()\n",
    "    \n",
    "    \n",
    "    \n",
    "if __name__ == \"__main__\":\n",
    "    app.run(debug = True)"
   ]
  },
  {
   "cell_type": "code",
   "execution_count": null,
   "id": "0824fc75",
   "metadata": {},
   "outputs": [],
   "source": []
  }
 ],
 "metadata": {
  "kernelspec": {
   "display_name": "Python 3 (ipykernel)",
   "language": "python",
   "name": "python3"
  },
  "language_info": {
   "codemirror_mode": {
    "name": "ipython",
    "version": 3
   },
   "file_extension": ".py",
   "mimetype": "text/x-python",
   "name": "python",
   "nbconvert_exporter": "python",
   "pygments_lexer": "ipython3",
   "version": "3.9.12"
  }
 },
 "nbformat": 4,
 "nbformat_minor": 5
}
