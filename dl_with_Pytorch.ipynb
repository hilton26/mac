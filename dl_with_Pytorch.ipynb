{
 "cells": [
  {
   "cell_type": "markdown",
   "id": "3fc32ea8",
   "metadata": {},
   "source": [
    "Deep Learning With PyTorch - Full Course<br>\n",
    "https://www.youtube.com/watch?v=c36lUUr864M"
   ]
  },
  {
   "cell_type": "code",
   "execution_count": 2,
   "id": "1d27d64e",
   "metadata": {},
   "outputs": [],
   "source": [
    "import torch"
   ]
  },
  {
   "cell_type": "code",
   "execution_count": 3,
   "id": "42ec5d06",
   "metadata": {},
   "outputs": [],
   "source": [
    "x = torch.zeros(2,3)"
   ]
  },
  {
   "cell_type": "code",
   "execution_count": 4,
   "id": "89ccf878",
   "metadata": {},
   "outputs": [
    {
     "data": {
      "text/plain": [
       "tensor([[0., 0., 0.],\n",
       "        [0., 0., 0.]])"
      ]
     },
     "execution_count": 4,
     "metadata": {},
     "output_type": "execute_result"
    }
   ],
   "source": [
    "x"
   ]
  },
  {
   "cell_type": "code",
   "execution_count": 5,
   "id": "eea63364",
   "metadata": {},
   "outputs": [],
   "source": [
    "y = torch.empty(2,2,2,2)"
   ]
  },
  {
   "cell_type": "code",
   "execution_count": 6,
   "id": "663fa4b3",
   "metadata": {},
   "outputs": [
    {
     "name": "stdout",
     "output_type": "stream",
     "text": [
      "tensor([[[[0., 0.],\n",
      "          [0., 0.]],\n",
      "\n",
      "         [[0., 0.],\n",
      "          [0., 0.]]],\n",
      "\n",
      "\n",
      "        [[[0., 0.],\n",
      "          [0., 0.]],\n",
      "\n",
      "         [[0., 0.],\n",
      "          [0., 0.]]]])\n"
     ]
    }
   ],
   "source": [
    "print(y)"
   ]
  },
  {
   "cell_type": "code",
   "execution_count": 7,
   "id": "868539c1",
   "metadata": {},
   "outputs": [
    {
     "name": "stdout",
     "output_type": "stream",
     "text": [
      "torch.Size([2, 3])\n"
     ]
    }
   ],
   "source": [
    "print(x.size())"
   ]
  },
  {
   "cell_type": "code",
   "execution_count": 8,
   "id": "81bf33d5",
   "metadata": {},
   "outputs": [
    {
     "name": "stdout",
     "output_type": "stream",
     "text": [
      "tensor([[0.9314, 0.9446, 0.5427],\n",
      "        [0.1607, 0.5202, 0.7499],\n",
      "        [0.6395, 0.2762, 0.7207]]) tensor([[0.4840, 0.8097, 0.5377],\n",
      "        [0.8084, 0.6569, 0.5476],\n",
      "        [0.2563, 0.1226, 0.3059]])\n"
     ]
    }
   ],
   "source": [
    "x = torch.rand(3,3)\n",
    "y = torch.rand(3,3)\n",
    "print(x, y)"
   ]
  },
  {
   "cell_type": "code",
   "execution_count": null,
   "id": "48545ce5",
   "metadata": {},
   "outputs": [],
   "source": []
  }
 ],
 "metadata": {
  "kernelspec": {
   "display_name": "Python 3 (ipykernel)",
   "language": "python",
   "name": "python3"
  },
  "language_info": {
   "codemirror_mode": {
    "name": "ipython",
    "version": 3
   },
   "file_extension": ".py",
   "mimetype": "text/x-python",
   "name": "python",
   "nbconvert_exporter": "python",
   "pygments_lexer": "ipython3",
   "version": "3.9.7"
  }
 },
 "nbformat": 4,
 "nbformat_minor": 5
}
