{
 "cells": [
  {
   "cell_type": "markdown",
   "id": "b8bedf51",
   "metadata": {},
   "source": [
    "Python Natural Language Processing (NLP) in 2 Hours<br>\n",
    "https://www.youtube.com/watch?v=54ike79CmFI"
   ]
  },
  {
   "cell_type": "code",
   "execution_count": null,
   "id": "bd93c775",
   "metadata": {},
   "outputs": [
    {
     "name": "stdout",
     "output_type": "stream",
     "text": [
      "showing info https://raw.githubusercontent.com/nltk/nltk_data/gh-pages/index.xml\n"
     ]
    }
   ],
   "source": [
    "import nltk\n",
    "nltk.download()"
   ]
  },
  {
   "cell_type": "code",
   "execution_count": null,
   "id": "5224d146",
   "metadata": {},
   "outputs": [],
   "source": [
    "my_phrase = \"let's go to the beach\"\n",
    "my_words = my_phrase.split(\" \")"
   ]
  },
  {
   "cell_type": "code",
   "execution_count": null,
   "id": "132188d1",
   "metadata": {},
   "outputs": [],
   "source": []
  }
 ],
 "metadata": {
  "kernelspec": {
   "display_name": "Python 3 (ipykernel)",
   "language": "python",
   "name": "python3"
  },
  "language_info": {
   "codemirror_mode": {
    "name": "ipython",
    "version": 3
   },
   "file_extension": ".py",
   "mimetype": "text/x-python",
   "name": "python",
   "nbconvert_exporter": "python",
   "pygments_lexer": "ipython3",
   "version": "3.9.12"
  }
 },
 "nbformat": 4,
 "nbformat_minor": 5
}
