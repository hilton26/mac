{
 "cells": [
  {
   "cell_type": "markdown",
   "id": "5f0a8c84",
   "metadata": {},
   "source": [
    "Become an Excel Wizard With Python<br>\n",
    "https://www.youtube.com/watch?v=q6Mc_sAPZ2Y\n",
    "\n",
    "Python 3 Quick Tip: The easy way to deal with file paths on Windows, Mac and Linux<br>\n",
    "https://medium.com/@ageitgey/python-3-quick-tip-the-easy-way-to-deal-with-file-paths-on-windows-mac-and-linux-11a072b58d5f\n",
    "\n",
    "Openpyxl: Removing Duplicate cells from a column<br>\n",
    "https://stackoverflow.com/questions/42372968/openpyxl-removing-duplicate-cells-from-a-column"
   ]
  },
  {
   "cell_type": "code",
   "execution_count": 2,
   "id": "bf515f54",
   "metadata": {},
   "outputs": [],
   "source": [
    "# import libraries\n",
    "\n",
    "import openpyxl\n",
    "import os\n",
    "from pathlib import Path"
   ]
  },
  {
   "cell_type": "code",
   "execution_count": 40,
   "id": "e6faa814",
   "metadata": {},
   "outputs": [
    {
     "data": {
      "text/plain": [
       "(openpyxl.workbook.workbook.Workbook, openpyxl.workbook.workbook.Workbook)"
      ]
     },
     "execution_count": 40,
     "metadata": {},
     "output_type": "execute_result"
    }
   ],
   "source": [
    "# variables and paths\n",
    "\n",
    "pth = Path('//pim-cpt-statpro/SPC_602/Client/Profiles/PIM/Exports')\n",
    "\n",
    "#pth = r'//pim-cpt-statpro/SPC_602/Client/Profiles/PIM/Exports'\n",
    "# Python 3 Quick Tip: The easy way to deal with file paths on Windows, Mac and Linux\n",
    "# Source: https://medium.com/@ageitgey/python-3-quick-tip-the-easy-way-to-deal-with-file-paths-on-windows-mac-and-linux-11a072b58d5f\n",
    "\n",
    "flnDerv = pth / 'Derivative Exposure 29Mar2022.xlsx'\n",
    "flnHoldings = pth / 'Portfolio Analytics Report - New 29Mar2022.xlsx'\n",
    "\n",
    "wbD = openpyxl.load_workbook(flnDerv)\n",
    "wbH = openpyxl.load_workbook(flnHoldings)\n",
    "type(wbD), type(wbH)\n",
    "           "
   ]
  },
  {
   "cell_type": "code",
   "execution_count": 41,
   "id": "dc49cf04",
   "metadata": {},
   "outputs": [
    {
     "data": {
      "text/plain": [
       "(['Derivative Exposure'], ['Portfolio Analytics Report - Ne'])"
      ]
     },
     "execution_count": 41,
     "metadata": {},
     "output_type": "execute_result"
    }
   ],
   "source": [
    "wbD.sheetnames, wbH.sheetnames"
   ]
  },
  {
   "cell_type": "code",
   "execution_count": 44,
   "id": "c3ac05bb",
   "metadata": {},
   "outputs": [
    {
     "data": {
      "text/plain": [
       "(openpyxl.worksheet.worksheet.Worksheet,\n",
       " openpyxl.worksheet.worksheet.Worksheet)"
      ]
     },
     "execution_count": 44,
     "metadata": {},
     "output_type": "execute_result"
    }
   ],
   "source": [
    "wsD = wbD['Derivative Exposure']\n",
    "wsH = wbH['Portfolio Analytics Report - Ne']\n",
    "type(wsD), type(wsH)"
   ]
  },
  {
   "cell_type": "code",
   "execution_count": 54,
   "id": "754510fd",
   "metadata": {},
   "outputs": [
    {
     "name": "stdout",
     "output_type": "stream",
     "text": [
      "27four Life - Pos Ret\n"
     ]
    }
   ],
   "source": [
    "print(wsH['A'][7].value)"
   ]
  },
  {
   "cell_type": "code",
   "execution_count": 55,
   "id": "bdad8937",
   "metadata": {},
   "outputs": [
    {
     "name": "stdout",
     "output_type": "stream",
     "text": [
      "['27four Life - Pos Ret', '27four Life - Pos Ret Med', 'Absa MM Abs Ret Prud Fund', 'ABSA MM Bond Fund', 'ABSA MULTI MAN EQ FUND PRESC', 'AFIL - Life Bond Fund', 'AFIL - Pensioner', 'Custodian BCI Income Plus Fund', 'ECIC Composite', 'Electric Cont Indust Pens Fund', 'EMBF - Positive Return Fund', 'FRB ITF GTC Wealth Preserver2', 'FRB ITF Hollard Prime Income', 'FRB ITF Hollard Prime Yld Pls', 'FRB ITF IFM Inc Fund Pres', 'GA Empolyees Medical BF', 'Germiston Mun Ret Fund 2', 'Germiston Municipal RF', 'Graviton SCI Flexible Income', 'Hangala Capital Abs Bal', 'IJG Balanced Fund', 'IJG Corporate Fund', 'IJG Income Provider Fund', 'Liberty Group Ltd - TAA', 'Medipos Medical Scheme Income', 'Mineworkers Prov Fund', 'Momentum Group Ltd - Pos Ret', 'Nestle Provident Fund - PIM', 'NFMW - Equity Fund', 'OMMM Income Fund No5 - PIM', 'PIM Absolute Balanced', 'PIM Balanced', 'PIM Core All Share Equity', 'PIM Core Capped Equity', 'PIM Core Equity', 'PIM Core Global Equity Feeder', 'PIM Core Top 40 Equity F', 'PIM Defensive', 'PIM Equity', 'PIM Flexible Bond Fund', 'PIM Flexible Fixed Interest', 'PIM Gbl Income Provider FF', 'PIM Global Equity FF', 'PIM Positive Ret QuantPlus', 'PIM Property Equity', 'PIM SA Income Provider', 'PIM Specialist Income Fund', 'PIM Yield QuantPlus', 'Post Office Retirement Fund', 'PPS Balanced Composite', 'PPS Nam Portable Fund c/o PIM', 'PPWAWU Nat Prov Fund - PIM', 'Predikante Fund NGKSA c/o PIM', 'Prescient Optimised Inc Comp', 'SAAM BCI Cautious Fund', 'SAAM BCI Managed Fund', 'SAAM BCI Moderate Fund', 'SBSA itf Caleo BCI Active Inc', 'SBSA itf Mom Best Blnd Flx Inc', 'SBSA ITF Mom SA Flex Fxd Int', 'SBSA itf Momentum MOM Real Ret', 'SCB ATF FNB Multi Man Income', 'SCB ATF FNB Multi Manager Bond', 'SCB ATF PPS FLEX INC FUND PIM', 'SCB atf Stand Stanlib Bond', 'SMMI Institutional Bond Fund', 'Standard Insurance Limited EQ', 'Stanlib MM Absolute Income', 'Stanlib MM Bond Fund - PIM', 'Stanlib MM Enhanced Yield-PIM', 'Stanlib MM Real Return', 'Sygnia Life Swix Tracker Fund', 'The Asbestos Relief Fund', 'Toyota SA Prov Fund c/o PIM', 'Tshwane Municipal Prov Fund']\n"
     ]
    }
   ],
   "source": [
    "# find unique portfolio names \n",
    "# Openpyxl: Removing Duplicate cells from a column\n",
    "# Source: https://stackoverflow.com/questions/42372968/openpyxl-removing-duplicate-cells-from-a-column\n",
    "\n",
    "fnames = []\n",
    "for i in range(1,wsH.max_row):\n",
    "    if wsH['A'][i].value in fnames:\n",
    "        pass\n",
    "    else:\n",
    "        fnames.append(wsH['A'][i].value)\n",
    "\n",
    "#for value in values:\n",
    "  #ws2.append([value])\n",
    "print(fnames)"
   ]
  },
  {
   "cell_type": "code",
   "execution_count": null,
   "id": "6dc3376f",
   "metadata": {},
   "outputs": [],
   "source": []
  },
  {
   "cell_type": "code",
   "execution_count": null,
   "id": "981599d2",
   "metadata": {},
   "outputs": [],
   "source": []
  },
  {
   "cell_type": "code",
   "execution_count": null,
   "id": "aeef72cf",
   "metadata": {},
   "outputs": [],
   "source": []
  },
  {
   "cell_type": "code",
   "execution_count": null,
   "id": "c0930f46",
   "metadata": {},
   "outputs": [],
   "source": []
  },
  {
   "cell_type": "code",
   "execution_count": 14,
   "id": "82e95d31",
   "metadata": {},
   "outputs": [
    {
     "data": {
      "text/plain": [
       "openpyxl.worksheet.worksheet.Worksheet"
      ]
     },
     "execution_count": 14,
     "metadata": {},
     "output_type": "execute_result"
    }
   ],
   "source": [
    "sheet = wb['PFFB3']\n",
    "type(sheet)"
   ]
  },
  {
   "cell_type": "code",
   "execution_count": 15,
   "id": "e7963d20",
   "metadata": {},
   "outputs": [
    {
     "data": {
      "text/plain": [
       "<Cell 'PFFB3'.A1>"
      ]
     },
     "execution_count": 15,
     "metadata": {},
     "output_type": "execute_result"
    }
   ],
   "source": [
    "sheet['A1']"
   ]
  },
  {
   "cell_type": "code",
   "execution_count": 16,
   "id": "ac4d0227",
   "metadata": {},
   "outputs": [
    {
     "data": {
      "text/plain": [
       "'Entity Name'"
      ]
     },
     "execution_count": 16,
     "metadata": {},
     "output_type": "execute_result"
    }
   ],
   "source": [
    "sheet['A1'].value"
   ]
  },
  {
   "cell_type": "code",
   "execution_count": 36,
   "id": "4fc14ca4",
   "metadata": {},
   "outputs": [
    {
     "data": {
      "text/plain": [
       "'Synthetic Cash_Nov21 R186 Bond Option 8.77 Put'"
      ]
     },
     "execution_count": 36,
     "metadata": {},
     "output_type": "execute_result"
    }
   ],
   "source": [
    "sheet['D105'].value"
   ]
  },
  {
   "cell_type": "code",
   "execution_count": 37,
   "id": "19535fc1",
   "metadata": {},
   "outputs": [],
   "source": [
    "sheet2=wb['Holdings']"
   ]
  },
  {
   "cell_type": "code",
   "execution_count": 39,
   "id": "bf7a4dc9",
   "metadata": {},
   "outputs": [
    {
     "data": {
      "text/plain": [
       "datetime.datetime(2021, 6, 30, 0, 0)"
      ]
     },
     "execution_count": 39,
     "metadata": {},
     "output_type": "execute_result"
    }
   ],
   "source": [
    "sheet2['A1'].value"
   ]
  },
  {
   "cell_type": "code",
   "execution_count": 40,
   "id": "f2d92c3d",
   "metadata": {},
   "outputs": [],
   "source": [
    "sheet2['I2'].value = 73"
   ]
  },
  {
   "cell_type": "code",
   "execution_count": 43,
   "id": "219cbe91",
   "metadata": {},
   "outputs": [],
   "source": [
    "wb.save(pth / '20210630 NFMW Funds Reg28.xlsx')"
   ]
  },
  {
   "cell_type": "code",
   "execution_count": 44,
   "id": "b9c031be",
   "metadata": {},
   "outputs": [],
   "source": [
    "sheet2.title = 'My Sheet Name'\n",
    "wb.save('20210630 NFMW Funds Reg28.xlsx')"
   ]
  },
  {
   "cell_type": "code",
   "execution_count": 46,
   "id": "fd18d0e9",
   "metadata": {},
   "outputs": [
    {
     "data": {
      "text/plain": [
       "'Synthetic Cash_Nov21 R186 Bond Option 8.77 Put'"
      ]
     },
     "execution_count": 46,
     "metadata": {},
     "output_type": "execute_result"
    }
   ],
   "source": [
    "sheet.cell(row=105, column=4).value"
   ]
  },
  {
   "cell_type": "code",
   "execution_count": 49,
   "id": "964dac31",
   "metadata": {},
   "outputs": [
    {
     "name": "stdout",
     "output_type": "stream",
     "text": [
      "Synthetic Cash_Nov21 R186 Bond Option 8.77 Put\n",
      "None\n",
      "None\n",
      "None\n",
      "None\n"
     ]
    }
   ],
   "source": [
    "for i in range(105, 110): print(sheet.cell(row=i, column = 4).value)"
   ]
  },
  {
   "cell_type": "code",
   "execution_count": 55,
   "id": "971c1ea4",
   "metadata": {},
   "outputs": [
    {
     "data": {
      "text/plain": [
       "1140"
      ]
     },
     "execution_count": 55,
     "metadata": {},
     "output_type": "execute_result"
    }
   ],
   "source": [
    "sheet.max_row"
   ]
  },
  {
   "cell_type": "code",
   "execution_count": 56,
   "id": "30cb7883",
   "metadata": {},
   "outputs": [
    {
     "data": {
      "text/plain": [
       "42"
      ]
     },
     "execution_count": 56,
     "metadata": {},
     "output_type": "execute_result"
    }
   ],
   "source": [
    "sheet.max_column"
   ]
  },
  {
   "cell_type": "code",
   "execution_count": null,
   "id": "8010d8ca",
   "metadata": {},
   "outputs": [],
   "source": []
  }
 ],
 "metadata": {
  "kernelspec": {
   "display_name": "Python 3",
   "language": "python",
   "name": "python3"
  },
  "language_info": {
   "codemirror_mode": {
    "name": "ipython",
    "version": 3
   },
   "file_extension": ".py",
   "mimetype": "text/x-python",
   "name": "python",
   "nbconvert_exporter": "python",
   "pygments_lexer": "ipython3",
   "version": "3.8.8"
  }
 },
 "nbformat": 4,
 "nbformat_minor": 5
}
