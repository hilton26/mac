{
 "cells": [
  {
   "cell_type": "markdown",
   "id": "4170614c-adb0-45e7-9ea5-3ca1b8f06381",
   "metadata": {},
   "source": [
    "Tkinter Messagebox and RadioButton: A brief start<br>\n",
    "https://www.askpython.com/python-modules/tkinter/tkinter-messagebox-and-radiobutton<br><br>\n",
    "PythonTutorial.net: Tkinter<br>\n",
    "https://www.pythontutorial.net/tkinter/"
   ]
  },
  {
   "cell_type": "markdown",
   "id": "33aa31d3-13a7-48ae-b620-bf18d84e7ce4",
   "metadata": {},
   "source": [
    "In this article, we will look into the Tkinter Messagebox and Radiobutton widgets of Tkinter.\n",
    "\n",
    "The tkinter package (“Tk interface”) is the standard Python interface to the Tk GUI toolkit. It improves the user interface of Python application as well as provides a good number of widgets that can be used from the inbuilt package.\n",
    "\n",
    "A messagebox is an essential component of the application to communicate to the user the status of his/her code. Basically, it lets the coder know the mistakes or successes achieved during the coding.\n",
    "\n",
    "It provides this functionality with the help of many inbuilt functions. Some of these functions are showinfo, showwarning, showerror, askquestion, askokcancel, askyesno, and askretryignore."
   ]
  },
  {
   "cell_type": "markdown",
   "id": "a9dc9f69-1910-4f89-8741-bff7d60f0365",
   "metadata": {},
   "source": [
    "#### Basics of the Tkinter Messagebox"
   ]
  },
  {
   "cell_type": "markdown",
   "id": "4ea15a3c-c802-4117-9c48-efaa8cb0ce23",
   "metadata": {},
   "source": [
    "Firstly, we will import the tkinter module and also the messagebox function in specific.<br>We will then specify the window(frame) and name it as root using Tk()."
   ]
  },
  {
   "cell_type": "markdown",
   "id": "8cb80b83-a697-4e71-bcc0-f6bc0b827c9e",
   "metadata": {},
   "source": [
    "We will then specify the dimensions of the frame by instantiating the geometry() on the root object."
   ]
  },
  {
   "cell_type": "markdown",
   "id": "af667b73-87ca-40ca-8fe2-b3dbd2307c77",
   "metadata": {},
   "source": [
    "We will then define a button named b using the Tkinter Button() widget that displays the message “Click here” and on click on this button triggers the call_me() function. We will then use the pack() to place the widget on the geometry of the frame."
   ]
  },
  {
   "cell_type": "code",
   "execution_count": null,
   "id": "1268f486-91fd-4f09-afdb-2f35d015144b",
   "metadata": {},
   "outputs": [],
   "source": [
    "from tkinter import *\n",
    "from tkinter import messagebox\n",
    " \n",
    "def call_me():\n",
    "    messagebox.showinfo(\"Success\",\"Welcome to our tutorial\")\n",
    " \n",
    "root =Tk()\n",
    " \n",
    "b = Button(root,text=\"Click here\",command=call_me)\n",
    "b.pack()\n",
    " \n",
    "root.geometry(\"400x400+120+120\")\n",
    "root.mainloop()"
   ]
  },
  {
   "cell_type": "markdown",
   "id": "e3991bd1-6d06-4b6c-a1e8-65b1a1767a23",
   "metadata": {},
   "source": [
    "The output is as shown. So once you click on the “Click here” button, the alert box named “Success” is displayed with the message “Welcome to our tutorial”. The box vanishes on the click of the “Ok” button."
   ]
  },
  {
   "cell_type": "markdown",
   "id": "e1286a3f-d7c7-47bf-a44a-e78fdd4c89c8",
   "metadata": {},
   "source": [
    "#### Basics of the Tkinter Messagebox"
   ]
  },
  {
   "cell_type": "markdown",
   "id": "7d683517-f2f2-434c-8352-1a05e8f5fe27",
   "metadata": {},
   "source": [
    "The radio button is a tkinter widget that is used for the selection of choices among a few given multiple choices. Remember seeing this in the Multiple Choice Questions GUIs?<br><br>\n",
    "##### Why should you use a radiobutton?\n",
    "1. They’re faster for the user since they can make faster choices with one click rather than two. A typical click takes 1.2 to 2.4 seconds.<br>\n",
    "2. They provide better self-documentation of the control without having to click anything.<br>\n",
    "3. For touch interfaces, it’s easier to tap a radio button than to navigate a drop-down list.<br>\n",
    "4. You can provide all the choices together (in terms of accessibility)"
   ]
  },
  {
   "cell_type": "markdown",
   "id": "3e18c3af-5698-4647-b490-4416d5868fc9",
   "metadata": {},
   "source": [
    "To create a radio button, we will use the tkinter module of python. Let us take a look at the coding for the same."
   ]
  },
  {
   "cell_type": "code",
   "execution_count": 5,
   "id": "d8b076e6-dc2c-4318-b6c3-05cbaef01990",
   "metadata": {},
   "outputs": [],
   "source": [
    "from tkinter import *\n",
    " \n",
    "root =Tk()\n",
    " \n",
    "r1=Radiobutton(root, text=\"Yes\", value=1)\n",
    "r2=Radiobutton(root, text=\"No\", value=2)\n",
    "r1.pack()\n",
    "r2.pack()\n",
    " \n",
    "root.geometry(\"300x300+120+120\")\n",
    "root.mainloop()"
   ]
  },
  {
   "cell_type": "markdown",
   "id": "4bfbca46-e352-4bb3-abd4-3f4636eefa61",
   "metadata": {},
   "source": [
    "In the above code snippet, we first import the tkinter module and initialise a tkinter frame usingTk(). Within this frame root we create two radiobuttons using the Radiobutton() function which takes in parameters such as the name of the frame, text and value. We then use the pack() function to set this widget into rows and columns."
   ]
  },
  {
   "cell_type": "code",
   "execution_count": null,
   "id": "96880c1b-a001-477a-ba77-509abd2695d1",
   "metadata": {},
   "outputs": [],
   "source": []
  }
 ],
 "metadata": {
  "kernelspec": {
   "display_name": "Python 3 (ipykernel)",
   "language": "python",
   "name": "python3"
  },
  "language_info": {
   "codemirror_mode": {
    "name": "ipython",
    "version": 3
   },
   "file_extension": ".py",
   "mimetype": "text/x-python",
   "name": "python",
   "nbconvert_exporter": "python",
   "pygments_lexer": "ipython3",
   "version": "3.9.7"
  }
 },
 "nbformat": 4,
 "nbformat_minor": 5
}
