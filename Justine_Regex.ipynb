{
 "cells": [
  {
   "cell_type": "markdown",
   "id": "514c74bf",
   "metadata": {},
   "source": [
    "Regular expression for number with length of 4, 5 or 6\n",
    "https://stackoverflow.com/questions/7864971/regular-expression-for-number-with-length-of-4-5-or-6\n",
    "\n",
    "Doc, rtf and txt reader in python\n",
    "https://stackoverflow.com/questions/3278850/doc-rtf-and-txt-reader-in-python/30123122\n",
    "\n",
    "Regex\n",
    "https://www.computerhope.com/jargon/r/regex.htm\n",
    "\n",
    "Python | Extract numbers from string\n",
    "https://www.geeksforgeeks.org/python-extract-numbers-from-string/\n",
    "\n",
    "Python | Using variable outside and inside the class and method\n",
    "https://www.geeksforgeeks.org/python-using-variable-outside-and-inside-the-class-and-method/"
   ]
  },
  {
   "cell_type": "code",
   "execution_count": 1,
   "id": "229aa0d6",
   "metadata": {},
   "outputs": [],
   "source": [
    "import re\n",
    "\n",
    "txt = open('/Users/hilton/Py/Justine_Orders.txt').read()\n",
    "\n",
    "class Order:\n",
    "    \n",
    "    def __init__(self):\n",
    "        pass\n",
    "        \n",
    "    def get_consultant_code(self):\n",
    "        return re.findall(\"\\d{8}\", txt)[0]\n",
    "    \n",
    "    if __name__ == \"__main__\":\n",
    "        get_consultant_code(0)\n",
    "        \n",
    "    def get_order_list(self):\n",
    "        # isolate the 4 <= digit numbers <= 7, these are the product numbers\n",
    "        x = re.findall(\"\\d{3,7}\", txt)\n",
    "        # remove consultant number from the product list\n",
    "        x.remove(str(int(int(re.findall(\"\\d{8}\", txt)[0])/10)))\n",
    "        # print(x)\n",
    "        # identify the product numbers less than four digits and prepend them with zeroes\n",
    "        for i in range(len(x)):\n",
    "            if len(x[i]) < 5:\n",
    "                x[i] = '00' + x[i]\n",
    "            # x\n",
    "        # isolate the one- and two-digit numbers in the text, these are the quantities\n",
    "        z = re.findall(\"\\D\\d\\D|\\D\\d\\d\\D\", txt)\n",
    "        # print(z)\n",
    "\n",
    "        # list the quantities\n",
    "        y=[]\n",
    "        for i in range(len(z)):\n",
    "          y += re.findall('\\d+', z[i])\n",
    "        #y\n",
    "        return list(zip(x, y))\n",
    "    \n",
    "    if __name__ == \"__main__\":\n",
    "        get_order_list(0)"
   ]
  },
  {
   "cell_type": "code",
   "execution_count": 3,
   "id": "9601d439",
   "metadata": {},
   "outputs": [
    {
     "data": {
      "text/plain": [
       "('22414039',\n",
       " [('09348', '1'),\n",
       "  ('12435', '1'),\n",
       "  ('1446081', '31'),\n",
       "  ('1464728', '1'),\n",
       "  ('00763', '5'),\n",
       "  ('1444039', '1'),\n",
       "  ('1321267', '2'),\n",
       "  ('01178', '1'),\n",
       "  ('1320229', '12'),\n",
       "  ('1444956', '1'),\n",
       "  ('000751', '8')])"
      ]
     },
     "execution_count": 3,
     "metadata": {},
     "output_type": "execute_result"
    }
   ],
   "source": [
    "k = Order.get_consultant_code(0)\n",
    "j = Order.get_order_list(0)\n",
    "k, j"
   ]
  },
  {
   "cell_type": "code",
   "execution_count": null,
   "id": "f48f29aa",
   "metadata": {},
   "outputs": [],
   "source": []
  }
 ],
 "metadata": {
  "kernelspec": {
   "display_name": "Python 3 (ipykernel)",
   "language": "python",
   "name": "python3"
  },
  "language_info": {
   "codemirror_mode": {
    "name": "ipython",
    "version": 3
   },
   "file_extension": ".py",
   "mimetype": "text/x-python",
   "name": "python",
   "nbconvert_exporter": "python",
   "pygments_lexer": "ipython3",
   "version": "3.9.7"
  }
 },
 "nbformat": 4,
 "nbformat_minor": 5
}
