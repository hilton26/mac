{
 "cells": [
  {
   "cell_type": "code",
   "execution_count": 4,
   "id": "7df78afc",
   "metadata": {},
   "outputs": [
    {
     "ename": "AttributeError",
     "evalue": "'<win32com.gen_py.Microsoft Excel 16.0 Object Library._Application instance at 0x1801545458496>' object has no attribute 'visible'",
     "output_type": "error",
     "traceback": [
      "\u001b[1;31m---------------------------------------------------------------------------\u001b[0m",
      "\u001b[1;31mKeyError\u001b[0m                                  Traceback (most recent call last)",
      "File \u001b[1;32m~\\Anaconda3\\lib\\site-packages\\win32com\\client\\__init__.py:590\u001b[0m, in \u001b[0;36mDispatchBaseClass.__setattr__\u001b[1;34m(self, attr, value)\u001b[0m\n\u001b[0;32m    589\u001b[0m \u001b[38;5;28;01mtry\u001b[39;00m:\n\u001b[1;32m--> 590\u001b[0m     args, defArgs \u001b[38;5;241m=\u001b[39m \u001b[38;5;28;43mself\u001b[39;49m\u001b[38;5;241;43m.\u001b[39;49m\u001b[43m_prop_map_put_\u001b[49m\u001b[43m[\u001b[49m\u001b[43mattr\u001b[49m\u001b[43m]\u001b[49m\n\u001b[0;32m    591\u001b[0m \u001b[38;5;28;01mexcept\u001b[39;00m \u001b[38;5;167;01mKeyError\u001b[39;00m:\n",
      "\u001b[1;31mKeyError\u001b[0m: 'visible'",
      "\nDuring handling of the above exception, another exception occurred:\n",
      "\u001b[1;31mAttributeError\u001b[0m                            Traceback (most recent call last)",
      "Cell \u001b[1;32mIn[4], line 3\u001b[0m\n\u001b[0;32m      1\u001b[0m \u001b[38;5;28;01mimport\u001b[39;00m \u001b[38;5;21;01mwin32com\u001b[39;00m\u001b[38;5;21;01m.\u001b[39;00m\u001b[38;5;21;01mclient\u001b[39;00m \u001b[38;5;28;01mas\u001b[39;00m \u001b[38;5;21;01mwn\u001b[39;00m\n\u001b[0;32m      2\u001b[0m excel \u001b[38;5;241m=\u001b[39m wn\u001b[38;5;241m.\u001b[39mDispatch(\u001b[38;5;124m\"\u001b[39m\u001b[38;5;124mExcel.Application\u001b[39m\u001b[38;5;124m\"\u001b[39m)\n\u001b[1;32m----> 3\u001b[0m excel\u001b[38;5;241m.\u001b[39mvisible \u001b[38;5;241m=\u001b[39m \u001b[38;5;28;01mTrue\u001b[39;00m\n",
      "File \u001b[1;32m~\\Anaconda3\\lib\\site-packages\\win32com\\client\\__init__.py:592\u001b[0m, in \u001b[0;36mDispatchBaseClass.__setattr__\u001b[1;34m(self, attr, value)\u001b[0m\n\u001b[0;32m    590\u001b[0m     args, defArgs \u001b[38;5;241m=\u001b[39m \u001b[38;5;28mself\u001b[39m\u001b[38;5;241m.\u001b[39m_prop_map_put_[attr]\n\u001b[0;32m    591\u001b[0m \u001b[38;5;28;01mexcept\u001b[39;00m \u001b[38;5;167;01mKeyError\u001b[39;00m:\n\u001b[1;32m--> 592\u001b[0m     \u001b[38;5;28;01mraise\u001b[39;00m \u001b[38;5;167;01mAttributeError\u001b[39;00m(\n\u001b[0;32m    593\u001b[0m         \u001b[38;5;124m\"\u001b[39m\u001b[38;5;124m'\u001b[39m\u001b[38;5;132;01m%s\u001b[39;00m\u001b[38;5;124m'\u001b[39m\u001b[38;5;124m object has no attribute \u001b[39m\u001b[38;5;124m'\u001b[39m\u001b[38;5;132;01m%s\u001b[39;00m\u001b[38;5;124m'\u001b[39m\u001b[38;5;124m\"\u001b[39m \u001b[38;5;241m%\u001b[39m (\u001b[38;5;28mrepr\u001b[39m(\u001b[38;5;28mself\u001b[39m), attr)\n\u001b[0;32m    594\u001b[0m     )\n\u001b[0;32m    595\u001b[0m \u001b[38;5;28mself\u001b[39m\u001b[38;5;241m.\u001b[39m_oleobj_\u001b[38;5;241m.\u001b[39mInvoke(\u001b[38;5;241m*\u001b[39m(args \u001b[38;5;241m+\u001b[39m (value,) \u001b[38;5;241m+\u001b[39m defArgs))\n",
      "\u001b[1;31mAttributeError\u001b[0m: '<win32com.gen_py.Microsoft Excel 16.0 Object Library._Application instance at 0x1801545458496>' object has no attribute 'visible'"
     ]
    }
   ],
   "source": [
    "import win32com.client as wn\n",
    "excel = wn.gencache.EnsureDispatch('Excel.Application')\n",
    "\n",
    "\n",
    "\n",
    "excel.Workbooks.Open(pthEXPORTS + f'/Derv {rptDate}.xlsx')\n",
    "\n",
    "\n",
    "\n",
    "excel.DisplayAlerts = False # suppress the warning dialogue\n",
    "\n",
    "excel.DisplayAlerts = True # unsuppress Excel warning dialogue\n",
    "\n"
   ]
  },
  {
   "cell_type": "code",
   "execution_count": 7,
   "id": "d77cab07",
   "metadata": {},
   "outputs": [],
   "source": [
    "import win32com.client as wn\n",
    "excel = wn.gencache.EnsureDispatch('Excel.Application')\n",
    "\n",
    "#open the derivative worksheet\n",
    "excel.Workbooks.Open(r'P:\\Investment Operations\\GRC\\Compliance\\Daily\\derv_report.xlsm')\n",
    "\n",
    "excel.DisplayAlerts = False # suppress the warning dialogue\n",
    "\n",
    "\n",
    "\n",
    "\n",
    "excel.DisplayAlerts = True # unsuppress Excel warning dialogue"
   ]
  },
  {
   "cell_type": "code",
   "execution_count": 15,
   "id": "a336a1cd",
   "metadata": {},
   "outputs": [
    {
     "data": {
      "text/plain": [
       "'18Sep2023'"
      ]
     },
     "execution_count": 15,
     "metadata": {},
     "output_type": "execute_result"
    }
   ],
   "source": [
    "import xlwings as xw\n",
    "wb      = xw.Book(r'P:\\Investment Operations\\GRC\\Compliance\\Daily\\derv_report.xlsm') # open calc workbook as an object\n",
    "rptDate = wb.sheets['Report'].range('B1').value.strftime(\"%d%b%Y\") # get reporting date in ddMmmYYYY format\n",
    "wb.close()\n",
    "rptDate"
   ]
  },
  {
   "cell_type": "code",
   "execution_count": null,
   "id": "a147bb30",
   "metadata": {},
   "outputs": [],
   "source": []
  }
 ],
 "metadata": {
  "kernelspec": {
   "display_name": "Python 3 (ipykernel)",
   "language": "python",
   "name": "python3"
  },
  "language_info": {
   "codemirror_mode": {
    "name": "ipython",
    "version": 3
   },
   "file_extension": ".py",
   "mimetype": "text/x-python",
   "name": "python",
   "nbconvert_exporter": "python",
   "pygments_lexer": "ipython3",
   "version": "3.9.12"
  }
 },
 "nbformat": 4,
 "nbformat_minor": 5
}
