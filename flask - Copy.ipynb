{
 "cells": [
  {
   "cell_type": "code",
   "execution_count": 1,
   "metadata": {},
   "outputs": [
    {
     "name": "stdout",
     "output_type": "stream",
     "text": [
      "Python 3.9.13\r\n"
     ]
    }
   ],
   "source": [
    "!python --version"
   ]
  },
  {
   "cell_type": "code",
   "execution_count": 2,
   "metadata": {
    "executionInfo": {
     "elapsed": 939,
     "status": "ok",
     "timestamp": 1616792521336,
     "user": {
      "displayName": "Hilton Netta",
      "photoUrl": "https://lh3.googleusercontent.com/a-/AOh14GiFU0LY3XzNII-D3ck-Qu4t62HaiWSV7jRSk9zY5Gk=s64",
      "userId": "12675899029959733562"
     },
     "user_tz": -120
    },
    "id": "Cg1qR1cGVqpt"
   },
   "outputs": [],
   "source": [
    "from flask import Flask"
   ]
  },
  {
   "cell_type": "code",
   "execution_count": 3,
   "metadata": {
    "executionInfo": {
     "elapsed": 1020,
     "status": "ok",
     "timestamp": 1616792555061,
     "user": {
      "displayName": "Hilton Netta",
      "photoUrl": "https://lh3.googleusercontent.com/a-/AOh14GiFU0LY3XzNII-D3ck-Qu4t62HaiWSV7jRSk9zY5Gk=s64",
      "userId": "12675899029959733562"
     },
     "user_tz": -120
    },
    "id": "yuGG-tmRVvkY"
   },
   "outputs": [],
   "source": [
    "app=Flask(__name__)"
   ]
  },
  {
   "cell_type": "code",
   "execution_count": null,
   "metadata": {
    "id": "X1CmCcRfWIhv"
   },
   "outputs": [],
   "source": [
    "@app.route('/')\n",
    "def home():\n",
    "  return \"Website content goes here!\"\n",
    "\n",
    "if __name__==\"__main__\":\n",
    "  app.run(debug = True)"
   ]
  }
 ],
 "metadata": {
  "colab": {
   "authorship_tag": "ABX9TyPsriSYbyGuMiD1hG4rSP/M",
   "name": "flask.ipynb",
   "provenance": []
  },
  "kernelspec": {
   "display_name": "Python 3 (ipykernel)",
   "language": "python",
   "name": "python3"
  },
  "language_info": {
   "codemirror_mode": {
    "name": "ipython",
    "version": 3
   },
   "file_extension": ".py",
   "mimetype": "text/x-python",
   "name": "python",
   "nbconvert_exporter": "python",
   "pygments_lexer": "ipython3",
   "version": "3.9.13"
  }
 },
 "nbformat": 4,
 "nbformat_minor": 1
}
