{
 "cells": [
  {
   "cell_type": "markdown",
   "id": "a292dfa3",
   "metadata": {},
   "source": [
    "# Step 1: Assigning issuer names to securities in a portfolio\n",
    "\n",
    "Source: Eagle 'Reg 28 Report - Incl Effective Exposure' with nine columns: 0. 'Entity Name', 1. 'Investment Type', 2. 'i Issue Name', 3. 'Primary Asset ID', 4. 'CCY', 5. 'Reg28 Classification', 6. 'End Market Value', 7. 'Percentage', 8. 'Closing Exposure PA'"
   ]
  },
  {
   "cell_type": "markdown",
   "id": "373b2a77",
   "metadata": {},
   "source": [
    "#### Resources\n",
    "\n",
    "input file                       P:\\Working Folders\\Hilton\\W\\Reg 28 Report - input.xlsx\n",
    "\n",
    "structures                       P:\\Working Folders\\Hilton\\W\\structures.xlsm\n",
    "\n",
    "Reg28 sheet format and formula   P:\\Working Folders\\Hilton\\W\\Reg28 Checker Format and Formulae.docx\n",
    "\n",
    "issuer results file              P:\\Working Folders\\Hilton\\W\\issuers_1_done.xlsx\n",
    "\n",
    "merged file                      P:\\Working Folders\\Hilton\\W\\merged.xlsx\n",
    "\n",
    "output file                      P:\\Working Folders\\Hilton\\W\\output.xlsx"
   ]
  },
  {
   "cell_type": "markdown",
   "id": "7f5c6c29",
   "metadata": {},
   "source": [
    "#### More resources\n",
    " \n",
    " 'else' in a list comprehension<br>\n",
    " https://stackoverflow.com/questions/2951701/is-it-possible-to-use-else-in-a-list-comprehension\n",
    " \n",
    "convert string to variable<br>\n",
    "https://www.codeproject.com/Questions/1222606/Python-convert-string-and-variable-to-list-name\n",
    "\n",
    "apply function to each element of a list<br>\n",
    "https://stackoverflow.com/questions/25082410/apply-function-to-each-element-of-a-list\n",
    "\n",
    "replace Vlookup in Python using Pandas<br>\n",
    "https://www.youtube.com/watch?v=AHS925L8JVk&t=9s"
   ]
  },
  {
   "cell_type": "code",
   "execution_count": 1,
   "id": "67caf51e",
   "metadata": {},
   "outputs": [],
   "source": [
    "# create a time difference function\n",
    "import datetime\n",
    "\n",
    "def timediff(start, end, decimals = 1):\n",
    "    if   int((end - start) / 3600) > 0: # non-zero hours\n",
    "        return str(int(  (end - start) / 3600))           + 'hr '  + \\\n",
    "               str(int(  (end - start) /   60))           + 'min ' + \\\n",
    "               str(round((end - start) %   60, decimals)) + 'sec'\n",
    "    elif int((end - start) /   60) > 0: # non-zero hours and minutes\n",
    "        return str(int(  (end - start) /   60))           + 'min ' + \\\n",
    "               str(round((end - start) %   60, decimals)) + 'sec'\n",
    "    else:\n",
    "        return str(round((end - start) %   60, decimals)) + 'sec'"
   ]
  },
  {
   "cell_type": "code",
   "execution_count": 2,
   "id": "9c35adff",
   "metadata": {},
   "outputs": [],
   "source": [
    "# utility function to open an excel file, .xls or .xlsx\n",
    "def open_xl_file(file_name_and_path):\n",
    "    import win32com.client as win32 # library to convert xls to xlsx\n",
    "    excel               = win32.gencache.EnsureDispatch('Excel.Application')\n",
    "    excel.DisplayAlerts = False # suppress the warning dialogue\n",
    "    excel.Workbooks.Open(file_name_and_path)\n",
    "    excel.DisplayAlerts = True # unsuppress the warning dialogue"
   ]
  },
  {
   "cell_type": "code",
   "execution_count": 3,
   "id": "42be5ea1",
   "metadata": {
    "scrolled": true
   },
   "outputs": [
    {
     "name": "stdout",
     "output_type": "stream",
     "text": [
      "0.7sec\n"
     ]
    }
   ],
   "source": [
    "# libraries, libraries!\n",
    "\n",
    "    # time, to determine run durations\n",
    "import time\n",
    "start_time          = time.time()\n",
    "start_time_overlord = time.time()\n",
    "\n",
    "    # general libraries\n",
    "import pandas   as     pd        # for dataframes\n",
    "import numpy    as     np        # for np.NaN\n",
    "import re                        # for regex\n",
    "from   re       import search    # for regex\n",
    "from   datetime import datetime  # for script run durations\n",
    "import os, os.path               # for BESA folder contents\n",
    "\n",
    "\n",
    "    # utilise openpyxl tools to add excel features to results sheet\n",
    "import openpyxl        as     px                                          # for adding sort filters to the excel sheet\n",
    "from   openpyxl.cell   import Cell                                        # to format cells\n",
    "from   openpyxl.styles import Alignment, Color, PatternFill, Font, Border # to format cells\n",
    "\n",
    "    # access Excel application to open results sheet\n",
    "import  win32com.client as win32                                          # library to convert xls to xlsx\n",
    "excel = win32.gencache.EnsureDispatch('Excel.Application')                # to open excel application\n",
    "\n",
    "print(timediff(start_time, time.time()))\n",
    "\n",
    "# Possible error message when loading libraries, labraries!:\n",
    "  # TypeError: This COM object can not automate the makepy process - please run makepy manually for this object\n",
    "  # Solution: close all running Excel applications\n",
    "  # https://stackoverflow.com/questions/57030278/typeerror-this-com-object-can-not-automate-the-makepy-process-please-run-make\n"
   ]
  },
  {
   "cell_type": "code",
   "execution_count": 4,
   "id": "9057a14d",
   "metadata": {},
   "outputs": [
    {
     "name": "stdout",
     "output_type": "stream",
     "text": [
      "0.0sec\n"
     ]
    }
   ],
   "source": [
    "# set paths\n",
    "start_time = time.time()\n",
    "\n",
    "pthCompliance    = r'P:\\Investment Operations\\GRC\\Compliance'       # path to PIM compliance folder\n",
    "pthW             = r'P:\\Working Folders\\Hilton\\W'                   # path to working folder\n",
    "pthBondData      = r'P:\\Investment Operations\\GRC\\Compliance\\Reporting Requirements\\Monthly Reports\\MonthEnd17.xlsm' #infra\n",
    "input_filename   = r'\\Reg 28 Report - input.xlsx'                   # input file name\n",
    "results_filename = r'\\issuers_1_done.xlsx'                          # output file name\n",
    "#pthBESAFiles    = r'\\\\fileserver\\pim-documents\\AAPIM DEAL DOWNLOAD\\ADMIN SETTLEMENT FILES\\BESA MTM Files' # set folder path\n",
    "pthBESAFiles_new = r'P:\\Shared Folders\\Data\\MTM' # set folder path for fixed interest securities market data\n",
    "\n",
    "# calendar for BESA files\n",
    "cal = {'Jan': 1, 'Feb': 2, 'Mar': 3, 'Apr': 4, 'May': 5, 'Jun': 6,'Jul': 7, 'Aug': 8, 'Sep': 9, 'Oct': 10,'Nov': 11, 'Dec': 12}\n",
    "\n",
    "print(timediff(start_time, time.time()))"
   ]
  },
  {
   "cell_type": "code",
   "execution_count": 5,
   "id": "09397bb0",
   "metadata": {},
   "outputs": [
    {
     "ename": "FileNotFoundError",
     "evalue": "[WinError 3] The system cannot find the path specified: '\\\\\\\\fileserver\\\\pim-documents\\\\AAPIM DEAL DOWNLOAD\\\\ADMIN SETTLEMENT FILES\\\\BESA MTM Files'",
     "output_type": "error",
     "traceback": [
      "\u001b[1;31m---------------------------------------------------------------------------\u001b[0m",
      "\u001b[1;31mFileNotFoundError\u001b[0m                         Traceback (most recent call last)",
      "Cell \u001b[1;32mIn[5], line 3\u001b[0m\n\u001b[0;32m      1\u001b[0m \u001b[38;5;66;03m# get filename for latest BESA file\u001b[39;00m\n\u001b[1;32m----> 3\u001b[0m fld \u001b[38;5;241m=\u001b[39m [s \u001b[38;5;28;01mfor\u001b[39;00m s \u001b[38;5;129;01min\u001b[39;00m \u001b[43mos\u001b[49m\u001b[38;5;241;43m.\u001b[39;49m\u001b[43mlistdir\u001b[49m\u001b[43m(\u001b[49m\u001b[43mpthBESAFiles\u001b[49m\u001b[43m)\u001b[49m \u001b[38;5;28;01mif\u001b[39;00m s\u001b[38;5;241m.\u001b[39misdigit()]\n\u001b[0;32m      4\u001b[0m yr  \u001b[38;5;241m=\u001b[39m \u001b[38;5;28mmax\u001b[39m(fld) \u001b[38;5;66;03m# get name of newest year folder\u001b[39;00m\n\u001b[0;32m      5\u001b[0m z   \u001b[38;5;241m=\u001b[39m os\u001b[38;5;241m.\u001b[39mlistdir(os\u001b[38;5;241m.\u001b[39mpath\u001b[38;5;241m.\u001b[39mjoin(pthBESAFiles, yr)) \u001b[38;5;66;03m# path including latest year\u001b[39;00m\n",
      "\u001b[1;31mFileNotFoundError\u001b[0m: [WinError 3] The system cannot find the path specified: '\\\\\\\\fileserver\\\\pim-documents\\\\AAPIM DEAL DOWNLOAD\\\\ADMIN SETTLEMENT FILES\\\\BESA MTM Files'"
     ]
    }
   ],
   "source": [
    "# get filename for latest BESA file\n",
    "\n",
    "fld = [s for s in os.listdir(pthBESAFiles) if s.isdigit()]\n",
    "yr  = max(fld) # get name of newest year folder\n",
    "z   = os.listdir(os.path.join(pthBESAFiles, yr)) # path including latest year\n",
    "mth = [cal[key] for s in z for key in cal if key in s] # list of month numbers\n",
    "fls = os.listdir(os.path.join(pthBESAFiles, max(fld), z[mth.index(max(mth))])) # list of files in year sub-folder\n",
    "ymd = [filenm.strip('MTMDetailed').strip('.xls') for filenm in fls] # list of BESA xls file dates\n",
    "pth = os.path.join(pthBESAFiles, max(fld), z[mth.index(max(mth))]) # path name including latest year\n",
    "bsa = pth + r'\\MTMDetailed' + max(ymd) + '.xls'"
   ]
  },
  {
   "cell_type": "code",
   "execution_count": null,
   "id": "6cca8bad",
   "metadata": {},
   "outputs": [],
   "source": [
    "# utility function to check if a string contains a list element\n",
    "\n",
    "def res(t_list, t_string): # https://www.geeksforgeeks.org/python-test-if-string-contains-element-from-list/\n",
    "    return bool([ele for ele in t_list if(ele in t_string)])"
   ]
  },
  {
   "cell_type": "code",
   "execution_count": null,
   "id": "7eb2c02a",
   "metadata": {},
   "outputs": [],
   "source": [
    "# (1) read in a Reg 28 file from Eagle as a dataframe called 'example' to use as input\n",
    "start_time = time.time()\n",
    "\n",
    "example0 = pd.read_excel(pthW + input_filename, usecols = 'A:I').dropna(subset = ['Entity Name'])\n",
    "\n",
    "print(timediff(start_time, time.time()))"
   ]
  },
  {
   "cell_type": "code",
   "execution_count": null,
   "id": "57172ad4",
   "metadata": {},
   "outputs": [],
   "source": [
    "# (2) get report date - https://stackoverflow.com/questions/43544514/pandas-read-specific-excel-cell-value-into-a-variable\n",
    "k = pd.read_excel(pthW + input_filename, index_col = None, usecols = 'K', nrows = 0)\n",
    "                            \n",
    "report_date = list(k)[0] # https://realpython.com/lessons/list-methods-return-values/\n",
    "\n",
    "print( ' Report date   : ' + str(report_date) + '\\n', \\\n",
    "        'BESA file date: ' + max(ymd))"
   ]
  },
  {
   "cell_type": "code",
   "execution_count": null,
   "id": "b349250c",
   "metadata": {},
   "outputs": [],
   "source": [
    "# (3) remove rows with zero Rand values for 'Closing Exposure PA' and zero Rand values for 'End Market Value'\n",
    "#example = example0[(example0['Closing Exposure PA'] != 0) | (example0['End Market Value'] != 0)]\n",
    "example = example0[(example0['Closing Exposure PA'] != 0)]  \n",
    "#example = example0\n",
    "print(   f'Number of zero effective exposure rows removed: {len(example0) - len(example)}',\n",
    "       f'\\nFinal number of rows                          : {len(example)}')"
   ]
  },
  {
   "cell_type": "code",
   "execution_count": null,
   "id": "28fefca8",
   "metadata": {},
   "outputs": [],
   "source": [
    "# get regex structures as dataframes\n",
    "start_time   = time.time()\n",
    "\n",
    "structures   = pthW          + r'\\structures.xlsm'\n",
    "pthCLNs      = pthCompliance + r'\\MCaps\\CLNs.xlsx'\n",
    "pthMedCirc   = pthCompliance + r'\\Medical Schemes\\20220117 MSA Circ6 Categorisations.xlsx'\n",
    "pthMedCirc12 = pthCompliance + r'\\Medical Schemes\\20230317 MSA Circ12 Categorisations.xlsx'\n",
    "pthSttlmnt   = pthCompliance + r'\\Daily\\2A - Fund Codes, Breach Register.xlsx'\n",
    "\n",
    "dfrgx        = pd.read_excel(structures,   sheet_name = 'dates',                   usecols = ['date_regex', 'format', 'alternative format'])                                           # import the regex date formats\n",
    "sa_hols      = pd.read_excel(structures,   sheet_name = 'hols',                    usecols = ['sa_hols'])  # import South African holidays\n",
    "clns         = pd.read_excel(pthCLNs,      sheet_name = 'CLN',                     usecols = ['Code', 'Counterparty Long Name', 'Issuer Long Name'])\n",
    "med_circ6    = pd.read_excel(pthMedCirc,   sheet_name = 'JSEDebt&Equity31Dec2021', usecols = ['Alpha', '2022Circ6'])          # prior med scheme circular\n",
    "med_circ12   = pd.read_excel(pthMedCirc12, sheet_name = 'JSEDebt&Equity31Dec2022', usecols = ['Alpha', '2023Circ12'])         # latest med scheme circular\n",
    "sttlmnt      = pd.read_excel(pthSttlmnt,   sheet_name = 'Sttlmnt',                 usecols = ['Fund', 'Custodian', 'SAFEX'])  # fund settlement accounts\n",
    "bond_data    = pd.read_excel(pthBondData,  sheet_name = 'Bonds',                   usecols = ['Bond Code', 'Guarantee Type']) # bond data\n",
    "besa_data    = pd.read_excel(bsa,          sheet_name = 'MTM',     skiprows = 5,   usecols = ['Bond Code']) # BESA data\n",
    "accr         = pd.read_excel(structures,   sheet_name = 'accr',                    usecols = ['accruals']) #https://datatofish.com/pandas-dataframe-to-series/\n",
    "marg         = pd.read_excel(structures,   sheet_name = 'accr',                    usecols = ['margins'])  #https://datatofish.com/pandas-dataframe-to-series/\n",
    "issrgx       = pd.read_excel(structures,   sheet_name = 'issuers',                 usecols = ['description', 'id', 'name']) # 1st 3 columns\n",
    "rgxid        = issrgx['id'].dropna()\n",
    "rgxdesc      = issrgx['description'].dropna() # https://stackoverflow.com/questions/46218652/python-pandas-unique-value-ignoring-nan\n",
    "\n",
    "accr_list    = [x for e in accr.values.tolist() for x in e] #https://bobbyhadz.com/blog/python-remove-square-brackets-from-list\n",
    "margin_list  = [x for e in marg.dropna().values.tolist() for x in e]\n",
    "\n",
    "print(timediff(start_time, time.time()))"
   ]
  },
  {
   "cell_type": "code",
   "execution_count": null,
   "id": "6c01a506",
   "metadata": {},
   "outputs": [],
   "source": [
    "# function to derive ISSUER from INSTRUMENT DESCRIPTION (\"i Issue Name\" column)\n",
    "def issuer_desc(txt):\n",
    "    for pattern in rgxdesc:\n",
    "        if re.search(pattern, str(txt).upper()):\n",
    "            return issrgx.loc[issrgx['description'] == pattern].iat[0,2] # note 'break' within the for loop   \n",
    "            break\n",
    "        \n",
    "txt1 = 'The quick brown fox jumped mercedes over the lazy dog.'\n",
    "txt2 = 'IVTP'\n",
    "print(issuer_desc(txt1), issuer_desc(txt2)) # test if a variable is a string\n",
    "\n",
    "# https://pythonprinciples.com/blog/check-if-var-is-string/ "
   ]
  },
  {
   "cell_type": "code",
   "execution_count": null,
   "id": "58da54e1",
   "metadata": {},
   "outputs": [],
   "source": [
    "# function to derive ISSUER from INSTRUMENT ID ('Primary Asset ID' column)\n",
    "def issuer_id(txt):\n",
    "    for pattern in rgxid:\n",
    "        if re.search(pattern, str(txt).upper()): # check if the pattern exists in the txt\n",
    "            return issrgx.loc[issrgx['id'] == pattern].iat[0,2] # note the 'break' within the for loop \n",
    "            break\n",
    "\n",
    "txt2 = 'SBT054 the lazy dog'\n",
    "print(issuer_id(txt2))"
   ]
  },
  {
   "cell_type": "code",
   "execution_count": null,
   "id": "8fc2eec5",
   "metadata": {},
   "outputs": [],
   "source": [
    "# concat 'descr' and 'id' columns - https://stackoverflow.com/questions/19377969/combine-two-columns-of-text-in-pandas-dataframe\n",
    "issrgx['desc+id'] = issrgx[['description', 'id']].astype(str).agg('|'.join, axis=1)\n",
    "issrgx.drop(['id', 'description'], axis = 1, inplace = True)"
   ]
  },
  {
   "cell_type": "code",
   "execution_count": null,
   "id": "647f1879",
   "metadata": {},
   "outputs": [],
   "source": [
    "# function to derive issuer from instrument description and instrument id\n",
    "def issuer_did(txt):\n",
    "        for pattern in issrgx['desc+id']:\n",
    "            if re.search(pattern, str(txt).upper()):\n",
    "                return issrgx.loc[issrgx['desc+id'] == pattern].iat[0,0] # note 'break' within the for loop   \n",
    "                break\n",
    "        \n",
    "txt1 = 'The quick brown fox jumped mercedes over the lazy dog.'\n",
    "txt2 = 'SBT054 the lazy dog'\n",
    "txt3 = 'R2023 7.75% 280223'\n",
    "txt4 = 'TDBAR20230404'\n",
    "txt5 = '18SEP23 USDZAR 17P'\n",
    "print(issuer_did(txt1), issuer_did(txt2), issuer_did(txt3), issuer_did(txt4), issuer_did(txt5)) # test if a variable is a string\n",
    "# https://pythonprinciples.com/blog/check-if-var-is-string/ "
   ]
  },
  {
   "cell_type": "code",
   "execution_count": null,
   "id": "ac6170a1",
   "metadata": {},
   "outputs": [],
   "source": [
    "# function to derive margin account\n",
    "def marg(txt):\n",
    "    pattern = '(?!\\d\\d)MARG(?!\\d\\d)'                 #https://www.regular-expressions.info/lookaround.html\n",
    "    if re.search(pattern, str(txt).upper()):\n",
    "        return 'm'\n",
    "        \n",
    "txt1 = 'The quick brown fox jumped BARCMARGUSD over the lazy dog.'\n",
    "txt2 = 'MAR23 ALSI.'\n",
    "txt3 = 'QHFD2RCSU3QV0MAR'\n",
    "print(marg(txt1), marg(txt2), marg(txt3))"
   ]
  },
  {
   "cell_type": "code",
   "execution_count": null,
   "id": "260de7b9",
   "metadata": {},
   "outputs": [],
   "source": [
    "# function that extracts date from string\n",
    "def datex(txt):\n",
    "    try:\n",
    "        for pattern in dfrgx['date_regex']:\n",
    "            if re.search(pattern, txt.title()):\n",
    "                break\n",
    "        return datetime.strptime(re.search(pattern, txt.title()).group(),dfrgx.loc[dfrgx['date_regex'] == pattern].iat[0,1]).strftime(\"%d%b%Y\")\n",
    "\n",
    "    # manage exceptions:\n",
    "    except ValueError as ve:\n",
    "        #print(f'ValueError {ve}')\n",
    "        return None\n",
    "    except TypeError as te:\n",
    "        #print(f'TypeError {te}')\n",
    "        return None\n",
    "    except AttributeError as ae:\n",
    "        #print(f'AttributeError {ae}')\n",
    "        return None\n",
    "        \n",
    "#test the datex function\n",
    "txt1  = 'BNP Paribas Personal Finance SA Ltd FRN BPPF31 Jb3+95 17-Aug-13'\n",
    "txt2  = 'Nedbank Semi-Annual Step-Up Note FRN JB3+115 110723  (20240711)'\n",
    "txt3  = 'erf'\n",
    "\n",
    "print(datex(txt1), type(datex(txt1)), datex(txt2), type(datex(txt2)),datex(txt3), type(datex(txt3)))"
   ]
  },
  {
   "cell_type": "code",
   "execution_count": null,
   "id": "5647d02e",
   "metadata": {},
   "outputs": [],
   "source": [
    "# function to assign med scheme category based on Circular 6 of 2022 from the CMS\n",
    "def medcirc062022(txt):\n",
    "    #if med_circ6['Alpha'].str.contains(txt).any(): #https://www.statology.org/pandas-check-if-column-contains-string/\n",
    "    if med_circ6['Alpha'].eq(txt).any(): #https://www.statology.org/pandas-check-if-column-contains-string/        \n",
    "        return med_circ6.loc[med_circ6['Alpha'] == txt].iat[0,1]\n",
    "        \n",
    "txt1 = 'WHL'\n",
    "txt2 = 'adsfasd'\n",
    "print(medcirc062022(txt1), medcirc062022(txt2))"
   ]
  },
  {
   "cell_type": "code",
   "execution_count": null,
   "id": "2384e813",
   "metadata": {},
   "outputs": [],
   "source": [
    "# function to assign med scheme category based on Circular 12 of 2023 from the CMS\n",
    "def medcirc122023(txt):\n",
    "    #if med_circ12['Alpha'].str.contains(txt).any(): #https://www.statology.org/pandas-check-if-column-contains-string/\n",
    "    if med_circ12['Alpha'].eq(txt).any(): #https://www.statology.org/pandas-check-if-column-contains-string/        \n",
    "        return med_circ12.loc[med_circ12['Alpha'] == txt].iat[0,1]\n",
    "        \n",
    "txt1 = 'WHL'\n",
    "txt2 = 'adsfasd'\n",
    "print(medcirc122023(txt1), medcirc122023(txt2))"
   ]
  },
  {
   "cell_type": "code",
   "execution_count": null,
   "id": "7bb7b8ef",
   "metadata": {},
   "outputs": [],
   "source": [
    "# functions to extract CLN, FRN, NCD, ILB\n",
    "def cln(txt):\n",
    "    pattern = 'CLN|ASN|IVC|NN\\d{3}'\n",
    "    if re.search(pattern, str(txt).upper()):\n",
    "        return 1\n",
    "        \n",
    "def frn(txt):\n",
    "    pattern = 'STEP UP|STEP-UP|STEP_UP|STEPUP|NCD|FRN'\n",
    "    if re.search(pattern, str(txt).upper()):\n",
    "        return 1\n",
    "        \n",
    "def ilb(txt):\n",
    "    pattern = 'INFLATION|CPI|ILB'\n",
    "    if re.search(pattern, str(txt).upper()):\n",
    "        return 1\n",
    "\n",
    "txt1 = 'de Barge inflation asn'\n",
    "txt2 = 'RSA R209 6.25% 310336'\n",
    "txt  = 'PERFFEE'\n",
    "print(frn(txt), type(frn(txt)), cln(txt), type(cln(txt)), ilb(txt), type(ilb(txt)))"
   ]
  },
  {
   "cell_type": "code",
   "execution_count": null,
   "id": "5fd7577f",
   "metadata": {},
   "outputs": [],
   "source": [
    "# function that indicates if a security is government guaranteed\n",
    "def gvg(txt): #\"vlookup\" https://www.statology.org/pandas-check-if-column-contains-string/ exact string\n",
    "    if (bond_data['Bond Code'].eq(txt)).any():\n",
    "        if bond_data.loc[bond_data['Bond Code'] == txt].iat[0, 1] == 'GOVERNMENT GUARANTEE':    \n",
    "            return 1\n",
    "        \n",
    "txt1 = 'ABF005'                        # = UNSUBORDINATED UNSECURED\n",
    "txt2 = 'EL31'                          # = GOVERNMENT GUARANTEE\n",
    "txt3 = 'This text is not in bond_data' #   test text\n",
    "txt4 = ''                              #   test text\n",
    "        \n",
    "print(gvg(txt1), gvg(txt2), gvg(txt3), gvg(txt4))"
   ]
  },
  {
   "cell_type": "code",
   "execution_count": null,
   "id": "2a58e8d0",
   "metadata": {},
   "outputs": [],
   "source": [
    "# function that indicates if bond security is BESA-listed\n",
    "def besa(txt): #\"vlookup\" https://www.statology.org/pandas-check-if-column-contains-string/ exact string\n",
    "    if (besa_data['Bond Code'].eq(txt)).any():\n",
    "        return 'B'\n",
    "        \n",
    "txt1 = 'R186'                          # is in the BESA file\n",
    "txt2 = 'COJ08'                         # is in the BESA file\n",
    "txt3 = 'This text is not in bond_data' # not in the BESA file\n",
    "txt4 = ''                              # not in the BESA file\n",
    "print(besa(txt1), besa(txt2), besa(txt3), besa(txt4))\n",
    "\n",
    "besa_date = datetime.strptime(max(ymd),'%Y%m%d')\n",
    "days_diff = str((datetime.now() - datetime.strptime(max(ymd),'%Y%m%d')).days) # https://stackoverflow.com/questions/151199/how-to-calculate-number-of-days-between-two-given-dates\n",
    "print('BESA file date is ' + besa_date.strftime('%d %B %Y') + ', ' + days_diff + ' days hence')"
   ]
  },
  {
   "cell_type": "code",
   "execution_count": null,
   "id": "a4dd2020",
   "metadata": {},
   "outputs": [],
   "source": [
    "# function that identifies a repo\n",
    "def repo(txt):\n",
    "    pattern = 'RPCO|RPMT|RPCA'\n",
    "    if re.search(pattern, str(txt).upper()): \n",
    "        return txt[0:3]                # https://thispointer.com/python-how-to-get-first-n-characters-in-a-string/\n",
    "    \n",
    "txt1 = 'RPCA_R209_8.8_150623_160823'   # hit\n",
    "txt2 = 'adsfasd'                       # miss\n",
    "print(repo(txt1), repo(txt2))"
   ]
  },
  {
   "cell_type": "code",
   "execution_count": null,
   "id": "9ea86d4c",
   "metadata": {},
   "outputs": [],
   "source": [
    "# function to get days remaining to maturity # https://www.geeksforgeeks.org/python-datetime-strptime-function/\n",
    "def term(date_string):\n",
    "    try:\n",
    "        if len(date_string) == 0:\n",
    "            return None\n",
    "        else:\n",
    "            return datetime.strptime(date_string, '%d%b%Y') - report_date\n",
    "    \n",
    "    # manage exceptions:\n",
    "    except TypeError as te:\n",
    "        return None\n",
    "    except ValueError as ve:\n",
    "        return None\n",
    "    \n",
    "txt1 = '31Dec2032'\n",
    "txt2 = ''\n",
    "print(term(txt1), type(term(txt1)), term(txt2), type(term(txt2)))"
   ]
  },
  {
   "cell_type": "code",
   "execution_count": null,
   "id": "b383e151",
   "metadata": {},
   "outputs": [],
   "source": [
    "example['Percentage of Market Value'].sum()"
   ]
  },
  {
   "cell_type": "code",
   "execution_count": null,
   "id": "86f3a485",
   "metadata": {},
   "outputs": [],
   "source": [
    "fds = example['Entity Name'].dropna().unique()"
   ]
  },
  {
   "cell_type": "code",
   "execution_count": null,
   "id": "47c86ab4",
   "metadata": {},
   "outputs": [],
   "source": [
    "# function to assign an issuer\n",
    "# https://towardsdatascience.com/create-new-column-based-on-other-columns-pandas-5586d87de73d\n",
    "def classify(row):\n",
    "    t = issuer_did(row['i Issue Name'])                                           # temp so function only gets called once\n",
    "    g = issuer_did(row['Primary Asset ID'])                                       # temp so function only gets called once\n",
    "\n",
    "    if   row['Primary Asset ID'] in accr_list or row['Investment Type'] == 'FWD': # item is an accrual\n",
    "        return sttlmnt.loc[sttlmnt['Fund'] == row['Entity Name']].iat[0,1]        \n",
    "    # https://www.geeksforgeeks.org/check-if-element-exists-in-list-in-python/\n",
    "    \n",
    "    elif row['Investment Type'] == 'SYTH':                                        # item is non-ZAR synthetic cash\n",
    "        return sttlmnt.loc[sttlmnt['Fund'] == row['Entity Name']].iat[0,1]\n",
    "    \n",
    "    #elif row['Investment Type'] == 'SYTH' and row['CCY'] != 'ZAR':               # item is non-ZAR synthetic cash\n",
    "        #return sttlmnt.loc[sttlmnt['Fund'] == row['Entity Name']].iat[0,1]\n",
    "    \n",
    "    #elif row['Investment Type'] == 'SYTH' and row['CCY'] == 'ZAR':               # item is ZAR synthetic cash\n",
    "        #return sttlmnt.loc[sttlmnt['Fund'] == row['Entity Name']].iat[0,2]\n",
    "    \n",
    "    elif row['Primary Asset ID'] in margin_list:                                  # item is a margin account (initial or variation)\n",
    "        return sttlmnt.loc[sttlmnt['Fund'] == row['Entity Name']].iat[0,2]\n",
    "   \n",
    "    elif row['Investment Type'] == 'OP' and 'ZAR' in row['Primary Asset ID']:     # item is a currency option\n",
    "        return sttlmnt.loc[sttlmnt['Fund'] == row['Entity Name']].iat[0,1]    \n",
    "    \n",
    "    elif (clns['Code'].eq(row['Primary Asset ID'])).any():                        # cln is included in list\n",
    "        return clns.loc[clns['Code'] == row['Primary Asset ID']].iat[0,1]   \n",
    "    \n",
    "    elif repo(row['Primary Asset ID']) == 'RPC':                                  # repo, bank legs RPCO and RPCA      \n",
    "        return 'Absa Bank Ltd'  \n",
    "    \n",
    "    elif repo(row['Primary Asset ID']) == 'RPMT':                                 # repo, government bond leg                 \n",
    "        return 'Republic of South Africa'      \n",
    "    \n",
    "    elif isinstance(g, str):                                                      # INSTRUMENT DESCRIPTION is a hit ...\n",
    "        return g\n",
    "    \n",
    "    elif isinstance(t, str):                                                      # INSTRUMENT ID is a hit ...\n",
    "        return t\n",
    "    \n",
    "    #return '-xxx-'                                                                \n",
    "    else:                                                                         # signifies no issuer assigned\n",
    "        return '-xxx'"
   ]
  },
  {
   "cell_type": "code",
   "execution_count": null,
   "id": "c0912d7b",
   "metadata": {
    "scrolled": true
   },
   "outputs": [],
   "source": [
    "# (3) identify instrument attributes\n",
    "start_time = time.time()\n",
    "\n",
    "# Map an if statement in Python: https://stackoverflow.com/questions/29247718/map-an-if-statement-in-python\n",
    "example['CLN']           = example['i Issue Name'    ].map(cln)\n",
    "example['FRN']           = example['i Issue Name'    ].map(frn)\n",
    "example['ILB']           = example['i Issue Name'    ].map(ilb)\n",
    "example['Date']          = example['i Issue Name'    ].map(datex)         # security maturity date\n",
    "example['MedCirc062022'] = example['Primary Asset ID'].map(medcirc062022)\n",
    "example['MedCirc122023'] = example['Primary Asset ID'].map(medcirc122023)\n",
    "example['GovGuar']       = example['Primary Asset ID'].map(gvg)\n",
    "example['repo']          = example['Primary Asset ID'].map(repo)\n",
    "example['margin']        = example['Primary Asset ID'].map(marg)\n",
    "example['BESA']          = example['Primary Asset ID'].map(besa)\n",
    "\n",
    "# https://stackoverflow.com/questions/26763344/convert-pandas-column-to-datetime\n",
    "# https://stackoverflow.com/questions/37840812/pandas-subtracting-two-date-columns-and-the-result-being-an-integer\n",
    "example['Term']          = (pd.to_datetime(example['Date'], format = '%d%b%Y') - report_date).dt.days\n",
    "\n",
    "print(timediff(start_time, time.time()))"
   ]
  },
  {
   "cell_type": "code",
   "execution_count": null,
   "id": "51cdc945",
   "metadata": {},
   "outputs": [],
   "source": [
    "# (3) identify issuers\n",
    "start_time = time.time()\n",
    "\n",
    "example['Issuer'] = example.apply(lambda row: classify(row), axis=1)\n",
    "# Map an if statement in Python: https://stackoverflow.com/questions/29247718/map-an-if-statement-in-python\n",
    "\n",
    "print(str(len(issrgx['name'].dropna())) + ' regexes and ' + str(len(example)) + ' securities over ' + str(timediff(start_time, time.time())))"
   ]
  },
  {
   "cell_type": "code",
   "execution_count": null,
   "id": "c6b24274",
   "metadata": {},
   "outputs": [],
   "source": [
    "# (4) identify securities with absent issuers\n",
    "start_time = time.time()\n",
    "\n",
    "# drop duplicate 'no issuer' rows https://www.interviewqs.com/ddi-code-snippets/drop-duplicate-rows-pandas\n",
    "no_issuer     = example[(example['Issuer'] == '-xxx-') | (example['Issuer'].isnull())\n",
    "                       ].drop_duplicates(subset='Primary Asset ID', keep = 'first')\n",
    "\n",
    "# (5) identify securities with absent CLN issuers\n",
    "# Pandas: How to Select Rows Based on Column Values https://www.statology.org/pandas-select-rows-based-on-column-values/\n",
    "no_CLN_issuer = example[(example['CLN']   == 1)        & (example['Issuer'].isna())\n",
    "                       ].drop_duplicates(subset='Primary Asset ID', keep = 'first')\n",
    "\n",
    "print(timediff(start_time, time.time()))"
   ]
  },
  {
   "cell_type": "code",
   "execution_count": null,
   "id": "1c7409b7",
   "metadata": {},
   "outputs": [],
   "source": [
    "# (6) write the dataframe to review it as a workbook\n",
    "start_time = time.time()\n",
    "\n",
    "writer = pd.ExcelWriter(pthW + results_filename, engine   = 'xlsxwriter')                              #!pip install xlsxwriter\n",
    "example.to_excel(       writer, index = False, sheet_name = 'results')                                 # assigned attributes\n",
    "no_issuer.to_excel(     writer, index = False, sheet_name =  f'no issuers ({len(no_issuer)})')         # unassigned issuers\n",
    "no_CLN_issuer.to_excel( writer, index = False, sheet_name =  f'no CLN issuers ({len(no_CLN_issuer)})') # unassigned CLNs\n",
    "writer.save()\n",
    "writer.close()\n",
    "# stored here P:\\Working Folders\\Hilton\\W\\issueras_1_done.xlsx\n",
    "\n",
    "print(timediff(start_time, time.time()))"
   ]
  },
  {
   "cell_type": "code",
   "execution_count": null,
   "id": "6ab9edce",
   "metadata": {},
   "outputs": [],
   "source": [
    "# (7) prettify the sheets using openpyxl\n",
    "start_time = time.time()\n",
    "\n",
    "# add filters to all columns https://stackoverflow.com/questions/51566349/openpyxl-how-to-add-filters-to-all-columns, and then\n",
    "# freeze entire header row in openpyxl https://stackoverflow.com/questions/25588918/how-to-freeze-entire-header-row-in-openpyxl\n",
    "# iterate over worksheets https://stackoverflow.com/questions/18495672/how-to-iterate-over-worksheets-in-workbook-openpyxl\n",
    "# wrap text in sheet headers https://stackoverflow.com/questions/42215933/apply-wrap-text-to-all-cells-using-openpyxl\n",
    "# fill colour cells https://stackoverflow.com/questions/30484220/fill-cells-with-colors-using-openpyxl\n",
    "wb = px.load_workbook(pthW + results_filename)\n",
    "for sheet in wb.worksheets:\n",
    "    sheet.auto_filter.ref = sheet.dimensions\n",
    "    sheet.freeze_panes = sheet['J2']\n",
    "    for row in sheet.iter_rows(min_row=1, max_row=1):\n",
    "        for cell in row:\n",
    "            cell.alignment = Alignment(wrap_text=True,vertical='top')\n",
    "            cell.fill = PatternFill(start_color='D9D9D9', end_color='D9D9D9', fill_type='solid')\n",
    "\n",
    "# add a hyperlink to the 'structures' sheet\n",
    "#https://stackoverflow.com/questions/46162147/python-openpyxl-change-font-to-bold\n",
    "#https://toricode.com/python-openpyxl-font-underline-for-excel-cells/\n",
    "#https://stackoverflow.com/questions/8440284/setting-styles-in-openpyxl\n",
    "#https://stackoverflow.com/questions/22986725/how-can-i-align-text-in-a-cell-to-the-top-with-openpyxl\n",
    "sht                 = wb[f'no issuers ({len(no_issuer)})']      \n",
    "sht['P1'].hyperlink = structures\n",
    "sht['P1'].value     ='structures.xlsm'\n",
    "sht['P1'].font      = Font(bold = True, underline = 'single', color = \"0000EE\")\n",
    "sht['P1'].alignment = Alignment(horizontal = 'left', vertical = 'top')\n",
    "            \n",
    "wb.save(pthW + results_filename) # save the file to the W folder\n",
    "wb.close()\n",
    "\n",
    "print(timediff(start_time, time.time()))"
   ]
  },
  {
   "cell_type": "code",
   "execution_count": null,
   "id": "f874cc83",
   "metadata": {
    "scrolled": true
   },
   "outputs": [],
   "source": [
    "# (8) present how many securities were not allocated an issuer and ...\n",
    "start_time = time.time()\n",
    "\n",
    "k = ' ' if len(fds) == 1 else 's' # https://learnpython.com/blog/python-if-in-one-line/\n",
    "print('Report date   : '        + str(report_date) + \\\n",
    "      '\\n' + 'BESA file date: ' + max(ymd)         + \\\n",
    "      '\\n' + str(len(fds))      + ' fund'          + k + '       : ' + ', '.join(np.sort(fds)),'\\n')\n",
    "\n",
    "print(  'Unallocated issuers:', str(len(no_issuer.Issuer)),\n",
    "      '\\nUnallocated CLNs   :', str(len(no_CLN_issuer.CLN)),'\\n')\n",
    "\n",
    "print(timediff(start_time, time.time())) # time for this cell to complete\n",
    "print('Total time: ' + timediff(start_time_overlord, time.time())) # time for all the cells to complete\n",
    "\n",
    "# dataframes: example, no_issuer, no_CLN_issuer\n",
    "# input file  P:\\Working Folders\\Hilton\\W\\Reg 28 Report - input.xlsx\n",
    "# structures  P:\\Working Folders\\Hilton\\W\\structures.xlsm\n",
    "# merged      P:\\Working Folders\\Hilton\\W\\merged.xlsx\n",
    "# output      P:\\Working Folders\\Hilton\\W\\output.xlsx\n",
    "# results     P:\\Working Folders\\Hilton\\W\\issuers_1_done.xlsx"
   ]
  },
  {
   "cell_type": "code",
   "execution_count": null,
   "id": "bbecb129",
   "metadata": {},
   "outputs": [],
   "source": [
    "if (len(no_issuer.Issuer) == 0) and (len(no_CLN_issuer.CLN) ==0):\n",
    "    # https://stackoverflow.com/questions/20186344/importing-an-ipynb-file-from-another-ipynb-file   \n",
    "    %run \"C:/Users/hilton.netta/OneDrive - Prescient/py/gitrepo/issuers_2.ipynb\"\n",
    "    %run \"C:/Users/hilton.netta/OneDrive - Prescient/py/gitrepo/issuers_3.ipynb\"\n",
    "else:\n",
    "    excel.Workbooks.Open(r'P:\\Working Folders\\Hilton\\W\\issuers_1_done.xlsx')"
   ]
  },
  {
   "cell_type": "code",
   "execution_count": null,
   "id": "6082d254",
   "metadata": {},
   "outputs": [],
   "source": [
    "# dataframes    :example, no_issuer, no_CLN_issuer\n",
    "# input file   P:\\Working Folders\\Hilton\\W\\Reg 28 Report - input.xlsx\n",
    "# structures   P:\\Working Folders\\Hilton\\W\\structures.xlsm\n",
    "# results      P:\\Working Folders\\Hilton\\W\\issuers_1_done.xlsx\n",
    "# merged       P:\\Working Folders\\Hilton\\W\\merged.xlsx\n",
    "# output       P:\\Working Folders\\Hilton\\W\\issuers_2_done.xlsx\n",
    "# Reg 28 & 30  P:\\Investment Operations\\GRC\\Compliance\\Reg28 and Reg30 Reporting\n",
    "# folder       P:\\Working Folders\\Hilton\\W\\Reg_Tests"
   ]
  }
 ],
 "metadata": {
  "kernelspec": {
   "display_name": "Python 3 (ipykernel)",
   "language": "python",
   "name": "python3"
  },
  "language_info": {
   "codemirror_mode": {
    "name": "ipython",
    "version": 3
   },
   "file_extension": ".py",
   "mimetype": "text/x-python",
   "name": "python",
   "nbconvert_exporter": "python",
   "pygments_lexer": "ipython3",
   "version": "3.9.12"
  }
 },
 "nbformat": 4,
 "nbformat_minor": 5
}
