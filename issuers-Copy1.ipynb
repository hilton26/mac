{
 "cells": [
  {
   "cell_type": "markdown",
   "id": "7f5c6c29",
   "metadata": {},
   "source": [
    "### Resources\n",
    " \n",
    " 'else' in a list comprehension<br>\n",
    " https://stackoverflow.com/questions/2951701/is-it-possible-to-use-else-in-a-list-comprehension\n",
    " \n",
    "convert string to variable<br>\n",
    "https://www.codeproject.com/Questions/1222606/Python-convert-string-and-variable-to-list-name\n",
    "\n",
    "Apply function to each element of a list<br>\n",
    "https://stackoverflow.com/questions/25082410/apply-function-to-each-element-of-a-list"
   ]
  },
  {
   "cell_type": "code",
   "execution_count": 1,
   "id": "42be5ea1",
   "metadata": {},
   "outputs": [],
   "source": [
    "# libraries, libraries!\n",
    "\n",
    "import pandas as pd\n",
    "import re # for RegEx\n",
    "from re import search\n",
    "from datetime import datetime"
   ]
  },
  {
   "cell_type": "code",
   "execution_count": 2,
   "id": "28fefca8",
   "metadata": {},
   "outputs": [],
   "source": [
    "# get regex structure dataframes\n",
    "structures = r'\\\\pre-cpt-fs\\Profile-Documents$\\PProfile Operations\\Legal\\Legal and Compliance Framework\\Hilton\\W\\structures.xlsx'\n",
    "\n",
    "# import the regex date formats\n",
    "dfrgx = pd.read_excel(structures, sheet_name = 'dates')\n",
    "\n",
    "# import the list of accrual holdings\n",
    "accr = pd.read_excel(structures, sheet_name = 'accr', usecols=['accruals'])\n",
    "\n",
    "# import the regex CLN formats\n",
    "clnrgx = pd.read_excel(structures, sheet_name = 'cln')\n",
    "\n",
    "# import the regex FRN formats\n",
    "frnrgx = pd.read_excel(structures, sheet_name = 'frn')\n",
    "\n",
    "# import South African holidays\n",
    "sa_hols = pd.read_excel(structures, sheet_name = 'hols', usecols=['sa_hols'])\n",
    "\n",
    "# import issuer regex formats\n",
    "issrgx = pd.read_excel(structures, sheet_name = 'issuers')\n",
    "\n",
    "# import CLNs\n",
    "clns = pd.read_excel(r'\\\\fileserver.prescient.local\\pim-business\\Business Practice\\Mcaps\\CLNs.xlsx', sheet_name = 'CLN')\n",
    "\n",
    "# import custodian accounts\n",
    "sttlmnt = pd.read_excel(r'\\\\pre-cpt-fs\\Profile-Documents$\\PProfile Operations\\Legal\\Legal and Compliance Framework\\Hilton\\PFS Daily Compliance\\2A - Fund Codes, Breach Register.xlsx', sheet_name = 'Sttlmnt')\n",
    "\n",
    "# import CMS circular\n",
    "med = pd.read_excel(r'\\\\fileserver.prescient.local\\pim-business\\Business Practice\\Medical Schemes\\20220117 MSA Circ6 Categorisations.xlsx', sheet_name = 'JSEEquity31Dec2021')\n",
    "\n",
    "# import the Reg 28 file with all issuer codes assigned a named issuer\n",
    "Reg28_basis = pd.read_excel(r'H:\\Hilton\\W\\!Reg28Worx 30Jun2022.xlsx')"
   ]
  },
  {
   "cell_type": "code",
   "execution_count": 3,
   "id": "9c35adff",
   "metadata": {},
   "outputs": [],
   "source": [
    "# utility function to open an excel file, .xls or .xlsx\n",
    "def open_xl_file(file_name_and_path):\n",
    "    import win32com.client as win32 # library to convert xls to xlsx\n",
    "    excel = win32.gencache.EnsureDispatch('Excel.Application')\n",
    "    excel.DisplayAlerts = False # suppress the warning dialogue\n",
    "    excel.Workbooks.Open(file_name_and_path)\n",
    "    excel.DisplayAlerts = True # unsuppress the warning dialogue"
   ]
  },
  {
   "cell_type": "code",
   "execution_count": 4,
   "id": "260de7b9",
   "metadata": {},
   "outputs": [
    {
     "data": {
      "text/plain": [
       "'17Aug2013'"
      ]
     },
     "execution_count": 4,
     "metadata": {},
     "output_type": "execute_result"
    }
   ],
   "source": [
    "# function to extract date from string\n",
    "\n",
    "# define the date extractor function\n",
    "def datex(txt):\n",
    "    try:\n",
    "        for pattern in dfrgx['date_regex']:\n",
    "            if re.search(pattern, txt.title()):\n",
    "                break\n",
    "        return datetime.strptime(re.search(pattern, txt.title()).group(),dfrgx.loc[dfrgx['date_regex'] == pattern].iat[0,1]).strftime(\"%d%b%Y\")\n",
    "\n",
    "    # manage exceptions:\n",
    "    except ValueError as ve:\n",
    "        print(f'ValueError {ve}')\n",
    "    except TypeError as te:\n",
    "        print(f'TypeError {te}')\n",
    "    except AttributeError as ae:\n",
    "        print(f'AttributeError {ae}')\n",
    "        \n",
    "#test the datex function\n",
    "txt = \"BNP Paribas Personal Finance SA Ltd FRN BPPF31 Jb3+95 17-Aug-13\"\n",
    "datex(txt)"
   ]
  },
  {
   "cell_type": "code",
   "execution_count": 5,
   "id": "7bb7b8ef",
   "metadata": {},
   "outputs": [
    {
     "name": "stdout",
     "output_type": "stream",
     "text": [
      "None 1 1\n"
     ]
    }
   ],
   "source": [
    "# functions to extract CLN, FRN, NCD, ILB\n",
    "\n",
    "def cln(txt):\n",
    "    for pattern in clnrgx['regex']:\n",
    "        if re.search(pattern, txt.upper()): \n",
    "            #return clnrgx.loc[clnrgx['regex'] == pattern].iat[0,2] # note 'break' below the first 'for'   \n",
    "            return 1\n",
    "        break\n",
    "        \n",
    "def frn(txt):\n",
    "    for pattern in frnrgx['regex']:\n",
    "        if re.search(pattern, txt.upper()): \n",
    "            #return frnrgx.loc[frnrgx['regex'] == pattern].iat[0,2] # note 'break' below the first 'for' \n",
    "            return 1\n",
    "        break\n",
    "        \n",
    "# import the regex ILB formats\n",
    "ilbrgx = pd.read_excel(structures, sheet_name = 'ilb')\n",
    "def ilb(txt):\n",
    "    for pattern in ilbrgx['regex']:\n",
    "        if re.search(pattern, txt.upper()): \n",
    "            #return ilbrgx.loc[ilbrgx['regex'] == pattern].iat[0,2] # note 'break' below the first 'for'  \n",
    "            return 1\n",
    "        break       \n",
    "        \n",
    "txt = 'de Barge inflation asn'\n",
    "print(frn(txt), cln(txt), ilb(txt))"
   ]
  },
  {
   "cell_type": "code",
   "execution_count": 6,
   "id": "6b64f781",
   "metadata": {},
   "outputs": [
    {
     "name": "stdout",
     "output_type": "stream",
     "text": [
      "Standard Bank of South Africa Ltd\n"
     ]
    }
   ],
   "source": [
    "# function that searches instrument description text for issuer\n",
    "\n",
    "def issuer(txt):\n",
    "    for i in range(len(issrgx)):\n",
    "        for pattern in issrgx['regex']:\n",
    "            if re.search(pattern, txt.upper()): \n",
    "                return issrgx.loc[issrgx['regex'] == pattern].iat[0,2] # note 'break' below the first 'for'   \n",
    "        break\n",
    "        \n",
    "txt = 'The quick brown fox jumps over Standard Bank the lazy dog'\n",
    "print(issuer(txt))"
   ]
  },
  {
   "cell_type": "code",
   "execution_count": 7,
   "id": "e701b6af",
   "metadata": {},
   "outputs": [],
   "source": [
    "# test the issuer() FOR loop\n",
    "txt = 'The quick brown fox jumped over the lazy dog'\n",
    "\n",
    "for i in range(len(issrgx)):\n",
    "    for pattern in issrgx['regex']:\n",
    "        if re.search(pattern, txt.upper()):\n",
    "            print(pattern, issrgx.loc[issrgx['regex'] == pattern].iat[0,2]) # note 'break' below the first 'for'           \n",
    "    break"
   ]
  },
  {
   "cell_type": "code",
   "execution_count": 8,
   "id": "9186eab8",
   "metadata": {
    "scrolled": true
   },
   "outputs": [
    {
     "name": "stdout",
     "output_type": "stream",
     "text": [
      "AttributeError 'NoneType' object has no attribute 'group'\n",
      "AttributeError 'NoneType' object has no attribute 'group'\n",
      "AttributeError 'NoneType' object has no attribute 'group'\n",
      "AttributeError 'NoneType' object has no attribute 'group'\n",
      "AttributeError 'NoneType' object has no attribute 'group'\n",
      "AttributeError 'NoneType' object has no attribute 'group'\n",
      "AttributeError 'NoneType' object has no attribute 'group'\n",
      "AttributeError 'NoneType' object has no attribute 'group'\n",
      "AttributeError 'NoneType' object has no attribute 'group'\n",
      "AttributeError 'NoneType' object has no attribute 'group'\n",
      "AttributeError 'NoneType' object has no attribute 'group'\n",
      "AttributeError 'NoneType' object has no attribute 'group'\n",
      "AttributeError 'NoneType' object has no attribute 'group'\n",
      "AttributeError 'NoneType' object has no attribute 'group'\n",
      "AttributeError 'NoneType' object has no attribute 'group'\n",
      "AttributeError 'NoneType' object has no attribute 'group'\n",
      "AttributeError 'NoneType' object has no attribute 'group'\n",
      "AttributeError 'NoneType' object has no attribute 'group'\n",
      "AttributeError 'NoneType' object has no attribute 'group'\n",
      "AttributeError 'NoneType' object has no attribute 'group'\n",
      "AttributeError 'NoneType' object has no attribute 'group'\n",
      "AttributeError 'NoneType' object has no attribute 'group'\n",
      "AttributeError 'NoneType' object has no attribute 'group'\n",
      "AttributeError 'NoneType' object has no attribute 'group'\n",
      "AttributeError 'NoneType' object has no attribute 'group'\n",
      "AttributeError 'NoneType' object has no attribute 'group'\n",
      "AttributeError 'NoneType' object has no attribute 'group'\n",
      "AttributeError 'NoneType' object has no attribute 'group'\n",
      "AttributeError 'NoneType' object has no attribute 'group'\n",
      "AttributeError 'NoneType' object has no attribute 'group'\n",
      "AttributeError 'NoneType' object has no attribute 'group'\n",
      "AttributeError 'NoneType' object has no attribute 'group'\n",
      "AttributeError 'NoneType' object has no attribute 'group'\n",
      "AttributeError 'NoneType' object has no attribute 'group'\n",
      "AttributeError 'NoneType' object has no attribute 'group'\n",
      "AttributeError 'NoneType' object has no attribute 'group'\n",
      "AttributeError 'NoneType' object has no attribute 'group'\n",
      "AttributeError 'NoneType' object has no attribute 'group'\n",
      "AttributeError 'NoneType' object has no attribute 'group'\n",
      "AttributeError 'NoneType' object has no attribute 'group'\n",
      "AttributeError 'NoneType' object has no attribute 'group'\n",
      "AttributeError 'NoneType' object has no attribute 'group'\n",
      "AttributeError 'NoneType' object has no attribute 'group'\n",
      "AttributeError 'NoneType' object has no attribute 'group'\n",
      "AttributeError 'NoneType' object has no attribute 'group'\n",
      "AttributeError 'NoneType' object has no attribute 'group'\n",
      "AttributeError 'NoneType' object has no attribute 'group'\n",
      "AttributeError 'NoneType' object has no attribute 'group'\n",
      "AttributeError 'NoneType' object has no attribute 'group'\n",
      "AttributeError 'NoneType' object has no attribute 'group'\n",
      "AttributeError 'NoneType' object has no attribute 'group'\n",
      "AttributeError 'NoneType' object has no attribute 'group'\n",
      "AttributeError 'NoneType' object has no attribute 'group'\n",
      "AttributeError 'NoneType' object has no attribute 'group'\n",
      "AttributeError 'NoneType' object has no attribute 'group'\n",
      "AttributeError 'NoneType' object has no attribute 'group'\n",
      "AttributeError 'NoneType' object has no attribute 'group'\n",
      "AttributeError 'NoneType' object has no attribute 'group'\n",
      "AttributeError 'NoneType' object has no attribute 'group'\n",
      "AttributeError 'NoneType' object has no attribute 'group'\n",
      "AttributeError 'NoneType' object has no attribute 'group'\n",
      "AttributeError 'NoneType' object has no attribute 'group'\n",
      "AttributeError 'NoneType' object has no attribute 'group'\n",
      "AttributeError 'NoneType' object has no attribute 'group'\n",
      "AttributeError 'NoneType' object has no attribute 'group'\n",
      "AttributeError 'NoneType' object has no attribute 'group'\n",
      "AttributeError 'NoneType' object has no attribute 'group'\n",
      "AttributeError 'NoneType' object has no attribute 'group'\n",
      "AttributeError 'NoneType' object has no attribute 'group'\n",
      "AttributeError 'NoneType' object has no attribute 'group'\n",
      "AttributeError 'NoneType' object has no attribute 'group'\n",
      "AttributeError 'NoneType' object has no attribute 'group'\n",
      "AttributeError 'NoneType' object has no attribute 'group'\n",
      "AttributeError 'NoneType' object has no attribute 'group'\n",
      "AttributeError 'NoneType' object has no attribute 'group'\n",
      "AttributeError 'NoneType' object has no attribute 'group'\n",
      "AttributeError 'NoneType' object has no attribute 'group'\n",
      "AttributeError 'NoneType' object has no attribute 'group'\n",
      "AttributeError 'NoneType' object has no attribute 'group'\n",
      "AttributeError 'NoneType' object has no attribute 'group'\n",
      "AttributeError 'NoneType' object has no attribute 'group'\n",
      "AttributeError 'NoneType' object has no attribute 'group'\n",
      "AttributeError 'NoneType' object has no attribute 'group'\n",
      "AttributeError 'NoneType' object has no attribute 'group'\n",
      "AttributeError 'NoneType' object has no attribute 'group'\n",
      "AttributeError 'NoneType' object has no attribute 'group'\n",
      "AttributeError 'NoneType' object has no attribute 'group'\n",
      "AttributeError 'NoneType' object has no attribute 'group'\n",
      "AttributeError 'NoneType' object has no attribute 'group'\n",
      "AttributeError 'NoneType' object has no attribute 'group'\n",
      "AttributeError 'NoneType' object has no attribute 'group'\n",
      "AttributeError 'NoneType' object has no attribute 'group'\n",
      "AttributeError 'NoneType' object has no attribute 'group'\n",
      "AttributeError 'NoneType' object has no attribute 'group'\n",
      "AttributeError 'NoneType' object has no attribute 'group'\n",
      "AttributeError 'NoneType' object has no attribute 'group'\n",
      "AttributeError 'NoneType' object has no attribute 'group'\n",
      "AttributeError 'NoneType' object has no attribute 'group'\n",
      "AttributeError 'NoneType' object has no attribute 'group'\n",
      "AttributeError 'NoneType' object has no attribute 'group'\n",
      "AttributeError 'NoneType' object has no attribute 'group'\n",
      "AttributeError 'NoneType' object has no attribute 'group'\n",
      "ValueError unconverted data remains: 0\n",
      "ValueError unconverted data remains: 2\n",
      "ValueError time data '50 2.25' does not match format '%d.%m.%y'\n",
      "ValueError unconverted data remains: 1\n",
      "ValueError unconverted data remains: 1\n",
      "ValueError unconverted data remains: 1\n",
      "ValueError unconverted data remains: 0\n",
      "ValueError unconverted data remains: 4\n",
      "ValueError unconverted data remains: 1\n",
      "ValueError unconverted data remains: 3\n",
      "ValueError unconverted data remains: 4\n",
      "ValueError unconverted data remains: 8\n",
      "ValueError unconverted data remains: 8\n",
      "ValueError unconverted data remains: 0\n",
      "ValueError unconverted data remains: 0\n",
      "ValueError unconverted data remains: 0\n",
      "ValueError unconverted data remains: 4\n",
      "ValueError unconverted data remains: 4\n",
      "ValueError unconverted data remains: 9\n",
      "ValueError unconverted data remains: 9\n",
      "ValueError unconverted data remains: 1\n",
      "ValueError unconverted data remains: 8\n",
      "ValueError unconverted data remains: 1\n",
      "ValueError unconverted data remains: 8\n",
      "ValueError unconverted data remains: 0\n",
      "ValueError unconverted data remains: 7\n",
      "ValueError unconverted data remains: 2\n",
      "ValueError unconverted data remains: 7\n",
      "ValueError unconverted data remains: 2\n",
      "ValueError unconverted data remains: 1\n",
      "ValueError unconverted data remains: 0\n",
      "ValueError unconverted data remains: 1\n",
      "ValueError unconverted data remains: 0\n",
      "ValueError unconverted data remains: 4\n",
      "ValueError unconverted data remains: 5\n",
      "ValueError unconverted data remains: 5\n",
      "AttributeError 'NoneType' object has no attribute 'group'\n",
      "AttributeError 'NoneType' object has no attribute 'group'\n",
      "AttributeError 'NoneType' object has no attribute 'group'\n",
      "AttributeError 'NoneType' object has no attribute 'group'\n",
      "AttributeError 'NoneType' object has no attribute 'group'\n",
      "AttributeError 'NoneType' object has no attribute 'group'\n",
      "AttributeError 'NoneType' object has no attribute 'group'\n",
      "AttributeError 'NoneType' object has no attribute 'group'\n",
      "AttributeError 'NoneType' object has no attribute 'group'\n",
      "AttributeError 'NoneType' object has no attribute 'group'\n"
     ]
    }
   ],
   "source": [
    "example = pd.read_excel('H:\\Hilton\\W\\Reg 28 Report - Incl Effective Exposure.xlsx')\n",
    "#example.iloc[:,1:5]\n",
    "\n",
    "fl = r'H:\\Hilton\\W\\Reg 28 Report - Incl Effective Exposure PD.xlsx'\n",
    "\n",
    "# identify instrument attributes\n",
    "example['Issuer'] = example['i Issue Name'].map(issuer)\n",
    "example['CLN'] = example['i Issue Name'].map(cln)\n",
    "example['FRN'] = example['i Issue Name'].map(frn)\n",
    "example['ILB'] = example['i Issue Name'].map(ilb)\n",
    "example['Date'] = example['i Issue Name'].map(datex)\n",
    "\n",
    "# Map an if statement in Python\n",
    "# https://stackoverflow.com/questions/29247718/map-an-if-statement-in-python\n",
    "# example['Date'] = example['i Issue Name'].map(lambda x: )\n",
    "\n",
    "\n",
    "example.to_excel(fl, index = False, sheet_name = 'R, b')\n",
    "\n",
    "# open the file\n",
    "open_xl_file(fl)"
   ]
  },
  {
   "cell_type": "code",
   "execution_count": 9,
   "id": "7a43e0a2",
   "metadata": {},
   "outputs": [],
   "source": [
    "# pandas map() Function – Examples\n",
    "# https://sparkbyexamples.com/pandas/pandas-map-function-explained/\n",
    "#   Conclusion: In this article, I have explained map() function\n",
    "#   is from the Series which is used to substitute each value in a\n",
    "#   series with another value and returns a Series object, since DataFrame\n",
    "#   is a collection of Series, you can use the map() function to update the DataFrame.\n",
    "\n",
    "# Syntax of Series.map()\n",
    "# Series.map(arg, na_action=None)"
   ]
  },
  {
   "cell_type": "code",
   "execution_count": 10,
   "id": "d4c2f15b",
   "metadata": {},
   "outputs": [
    {
     "name": "stdout",
     "output_type": "stream",
     "text": [
      "       Fee Duration\n",
      "0  22000.0   30days\n",
      "1  25000.0   50days\n",
      "2  23000.0   30days\n",
      "3      NaN   35days\n",
      "4  26000.0   40days\n"
     ]
    }
   ],
   "source": [
    "# Create a pandas DataFrame.\n",
    "import pandas as pd\n",
    "import numpy as np\n",
    "technologies= {\n",
    "    'Fee' :[22000,25000,23000,np.NaN,26000],\n",
    "    'Duration':['30days','50days','30days','35days','40days']\n",
    "          }\n",
    "df = pd.DataFrame(technologies)\n",
    "print(df)"
   ]
  },
  {
   "cell_type": "code",
   "execution_count": 11,
   "id": "be6e9d5a",
   "metadata": {},
   "outputs": [
    {
     "name": "stdout",
     "output_type": "stream",
     "text": [
      "       Fee Duration\n",
      "0  19800.0   30days\n",
      "1  22500.0   50days\n",
      "2  20700.0   30days\n",
      "3      NaN   35days\n",
      "4  23400.0   40days\n"
     ]
    }
   ],
   "source": [
    "# Using Lambda Function\n",
    "df['Fee'] = df['Fee'].map(lambda x: x - (x*10/100))\n",
    "print(df)"
   ]
  },
  {
   "cell_type": "code",
   "execution_count": 12,
   "id": "6b93dd2f",
   "metadata": {},
   "outputs": [],
   "source": [
    "# Using custom function\n",
    "def fun1(x):\n",
    "    return x/100\n",
    "df['Fee'] = df['Fee'].map(lambda x:fun1(x))"
   ]
  },
  {
   "cell_type": "code",
   "execution_count": 13,
   "id": "47e680b3",
   "metadata": {},
   "outputs": [
    {
     "name": "stdout",
     "output_type": "stream",
     "text": [
      "        Fee Duration\n",
      "0  198.0 RS   30days\n",
      "1  225.0 RS   50days\n",
      "2  207.0 RS   30days\n",
      "3    nan RS   35days\n",
      "4  234.0 RS   40days\n"
     ]
    }
   ],
   "source": [
    "# Let's add the currently to the Fee\n",
    "df['Fee'] = df['Fee'].map('{} RS'.format)\n",
    "print(df)"
   ]
  },
  {
   "cell_type": "code",
   "execution_count": 14,
   "id": "ce38c850",
   "metadata": {},
   "outputs": [
    {
     "name": "stdout",
     "output_type": "stream",
     "text": [
      "           Fee Duration\n",
      "0  198.0 RS RS   30days\n",
      "1  225.0 RS RS   50days\n",
      "2  207.0 RS RS   30days\n",
      "3    nan RS RS   35days\n",
      "4  234.0 RS RS   40days\n"
     ]
    }
   ],
   "source": [
    "# Use na_action param\n",
    "df['Fee'] = df['Fee'].map('{} RS'.format, na_action='ignore')\n",
    "print(df)"
   ]
  },
  {
   "cell_type": "code",
   "execution_count": 15,
   "id": "da225838",
   "metadata": {},
   "outputs": [
    {
     "name": "stdout",
     "output_type": "stream",
     "text": [
      "           Fee Duration\n",
      "0  198.0 RS RS  35 Days\n",
      "1  225.0 RS RS  55 Days\n",
      "2  207.0 RS RS  35 Days\n",
      "3    nan RS RS      NaN\n",
      "4  234.0 RS RS  45 Days\n"
     ]
    }
   ],
   "source": [
    "# Using Dictionary for mapping\n",
    "dict_map = {'30days':'35 Days','50days':'55 Days',\n",
    "            '40days':'45 Days'}\n",
    "updateSer = df['Duration'].map(dict_map)\n",
    "df['Duration'] = updateSer\n",
    "print(df)"
   ]
  },
  {
   "cell_type": "code",
   "execution_count": 16,
   "id": "49d0dd63",
   "metadata": {},
   "outputs": [
    {
     "name": "stdout",
     "output_type": "stream",
     "text": [
      "       Fee Duration\n",
      "0  22000.0   30days\n",
      "1  25000.0   50days\n",
      "2  23000.0   30days\n",
      "3      NaN   35days\n",
      "4  26000.0   40days\n",
      "       Fee Duration\n",
      "0  19800.0   30days\n",
      "1  22500.0   50days\n",
      "2  20700.0   30days\n",
      "3      NaN   35days\n",
      "4  23400.0   40days\n",
      "0    198.0\n",
      "1    225.0\n",
      "2    207.0\n",
      "3      NaN\n",
      "4    234.0\n",
      "Name: Fee, dtype: float64\n",
      "          Fee Duration\n",
      "0  19800.0 RS   30days\n",
      "1  22500.0 RS   50days\n",
      "2  20700.0 RS   30days\n",
      "3      nan RS   35days\n",
      "4  23400.0 RS   40days\n",
      "             Fee Duration\n",
      "0  19800.0 RS RS   30days\n",
      "1  22500.0 RS RS   50days\n",
      "2  20700.0 RS RS   30days\n",
      "3      nan RS RS   35days\n",
      "4  23400.0 RS RS   40days\n",
      "             Fee Duration\n",
      "0  19800.0 RS RS  35 Days\n",
      "1  22500.0 RS RS  55 Days\n",
      "2  20700.0 RS RS  35 Days\n",
      "3      nan RS RS      NaN\n",
      "4  23400.0 RS RS  45 Days\n"
     ]
    }
   ],
   "source": [
    "# Complete example of pandas map() function\n",
    "\n",
    "# Create a pandas DataFrame.\n",
    "import pandas as pd\n",
    "import numpy as np\n",
    "technologies= {\n",
    "    'Fee' :[22000,25000,23000,np.NaN,26000],\n",
    "    'Duration':['30days','50days','30days','35days','40days']\n",
    "          }\n",
    "df = pd.DataFrame(technologies)\n",
    "print(df)\n",
    "\n",
    "# Using Lambda Function\n",
    "df['Fee'] = df['Fee'].map(lambda x: x - (x*10/100))\n",
    "print(df)\n",
    "\n",
    "# Using custom function\n",
    "def fun1(x):\n",
    "    return x/100\n",
    "ser = df['Fee'].map(lambda x:fun1(x))\n",
    "print(ser)\n",
    "\n",
    "# Let's add the currently to the Fee\n",
    "df['Fee'] = df['Fee'].map('{} RS'.format)\n",
    "print(df)\n",
    "\n",
    "df['Fee'] = df['Fee'].map('{} RS'.format, na_action='ignore')\n",
    "print(df)\n",
    "\n",
    "# Using Dictionary for mapping\n",
    "dict_map = {'30days':'35 Days','50days':'55 Days',\n",
    "            '40days':'45 Days'}\n",
    "updateSer = df['Duration'].map(dict_map)\n",
    "df['Duration'] = updateSer\n",
    "print(df)"
   ]
  },
  {
   "cell_type": "code",
   "execution_count": null,
   "id": "8658e965",
   "metadata": {},
   "outputs": [],
   "source": []
  }
 ],
 "metadata": {
  "kernelspec": {
   "display_name": "Python 3 (ipykernel)",
   "language": "python",
   "name": "python3"
  },
  "language_info": {
   "codemirror_mode": {
    "name": "ipython",
    "version": 3
   },
   "file_extension": ".py",
   "mimetype": "text/x-python",
   "name": "python",
   "nbconvert_exporter": "python",
   "pygments_lexer": "ipython3",
   "version": "3.9.12"
  }
 },
 "nbformat": 4,
 "nbformat_minor": 5
}
