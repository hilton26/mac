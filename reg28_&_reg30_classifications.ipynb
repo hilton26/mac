{
 "cells": [
  {
   "cell_type": "markdown",
   "id": "d50909eb",
   "metadata": {},
   "source": [
    "# Reg 28 and Reg 30 Classifications"
   ]
  },
  {
   "cell_type": "markdown",
   "id": "5e3d22eb",
   "metadata": {},
   "source": [
    "### Dependencies: issuers_1, issuers_2, issuers_3"
   ]
  },
  {
   "cell_type": "code",
   "execution_count": 1,
   "id": "4c17c3bb",
   "metadata": {},
   "outputs": [],
   "source": [
    "# create a time difference function\n",
    "import datetime, time\n",
    "\n",
    "def timediff(start, end, decimals = 1):\n",
    "    if   int((end - start) / 3600) > 0: # non-zero hours\n",
    "        return str(int(  (end - start) / 3600))           + 'hr '  + \\\n",
    "               str(int(  (end - start) /   60))           + 'min ' + \\\n",
    "               str(round((end - start) %   60, decimals)) + 'sec'\n",
    "    elif int((end - start) /   60) > 0: # non-zero hours and minutes\n",
    "        return str(int(  (end - start) /   60))           + 'min ' + \\\n",
    "               str(round((end - start) %   60, decimals)) + 'sec'\n",
    "    else:\n",
    "        return str(round((end - start) %   60, decimals)) + 'sec'"
   ]
  },
  {
   "cell_type": "code",
   "execution_count": 2,
   "id": "7a266709",
   "metadata": {},
   "outputs": [
    {
     "name": "stdout",
     "output_type": "stream",
     "text": [
      "1.3sec\n",
      "0.0sec\n",
      "0.2sec\n",
      " Report date   : 2023-09-22 00:00:00\n",
      " BESA file date: 20230922\n",
      "Number of zero effective exposure rows removed: 51 \n",
      "Final number of rows                          : 487\n",
      "8.8sec\n",
      "Mercedes-Benz South Africa (Pty) Ltd None\n",
      "Standard Bank Group Ltd\n",
      "Mercedes-Benz South Africa (Pty) Ltd Standard Bank Group Ltd Republic of South Africa None None\n",
      "m None None\n",
      "17Aug2013 <class 'str'> None <class 'NoneType'> None <class 'NoneType'>\n",
      "4(a)(ii)(i) None\n",
      "4(a)(ii)(i) None\n",
      "None <class 'NoneType'> None <class 'NoneType'> None <class 'NoneType'>\n",
      "None 1 None None\n",
      "B B None None\n",
      "BESA file date is 22 September 2023, 4 days hence\n",
      "RPC None\n",
      "3388 days 00:00:00 <class 'pandas._libs.tslibs.timedeltas.Timedelta'> None <class 'NoneType'>\n"
     ]
    },
    {
     "name": "stderr",
     "output_type": "stream",
     "text": [
      "C:\\Users\\hilton.netta\\AppData\\Local\\Temp\\ipykernel_33004\\2044857861.py:5: SettingWithCopyWarning: \n",
      "A value is trying to be set on a copy of a slice from a DataFrame.\n",
      "Try using .loc[row_indexer,col_indexer] = value instead\n",
      "\n",
      "See the caveats in the documentation: https://pandas.pydata.org/pandas-docs/stable/user_guide/indexing.html#returning-a-view-versus-a-copy\n",
      "  example['CLN']           = example['i Issue Name'    ].map(cln)\n",
      "C:\\Users\\hilton.netta\\AppData\\Local\\Temp\\ipykernel_33004\\2044857861.py:6: SettingWithCopyWarning: \n",
      "A value is trying to be set on a copy of a slice from a DataFrame.\n",
      "Try using .loc[row_indexer,col_indexer] = value instead\n",
      "\n",
      "See the caveats in the documentation: https://pandas.pydata.org/pandas-docs/stable/user_guide/indexing.html#returning-a-view-versus-a-copy\n",
      "  example['FRN']           = example['i Issue Name'    ].map(frn)\n",
      "C:\\Users\\hilton.netta\\AppData\\Local\\Temp\\ipykernel_33004\\2044857861.py:7: SettingWithCopyWarning: \n",
      "A value is trying to be set on a copy of a slice from a DataFrame.\n",
      "Try using .loc[row_indexer,col_indexer] = value instead\n",
      "\n",
      "See the caveats in the documentation: https://pandas.pydata.org/pandas-docs/stable/user_guide/indexing.html#returning-a-view-versus-a-copy\n",
      "  example['ILB']           = example['i Issue Name'    ].map(ilb)\n",
      "C:\\Users\\hilton.netta\\AppData\\Local\\Temp\\ipykernel_33004\\2044857861.py:8: SettingWithCopyWarning: \n",
      "A value is trying to be set on a copy of a slice from a DataFrame.\n",
      "Try using .loc[row_indexer,col_indexer] = value instead\n",
      "\n",
      "See the caveats in the documentation: https://pandas.pydata.org/pandas-docs/stable/user_guide/indexing.html#returning-a-view-versus-a-copy\n",
      "  example['Date']          = example['i Issue Name'    ].map(datex)         # security maturity date\n",
      "C:\\Users\\hilton.netta\\AppData\\Local\\Temp\\ipykernel_33004\\2044857861.py:9: SettingWithCopyWarning: \n",
      "A value is trying to be set on a copy of a slice from a DataFrame.\n",
      "Try using .loc[row_indexer,col_indexer] = value instead\n",
      "\n",
      "See the caveats in the documentation: https://pandas.pydata.org/pandas-docs/stable/user_guide/indexing.html#returning-a-view-versus-a-copy\n",
      "  example['MedCirc062022'] = example['Primary Asset ID'].map(medcirc062022)\n",
      "C:\\Users\\hilton.netta\\AppData\\Local\\Temp\\ipykernel_33004\\2044857861.py:10: SettingWithCopyWarning: \n",
      "A value is trying to be set on a copy of a slice from a DataFrame.\n",
      "Try using .loc[row_indexer,col_indexer] = value instead\n",
      "\n",
      "See the caveats in the documentation: https://pandas.pydata.org/pandas-docs/stable/user_guide/indexing.html#returning-a-view-versus-a-copy\n",
      "  example['MedCirc122023'] = example['Primary Asset ID'].map(medcirc122023)\n",
      "C:\\Users\\hilton.netta\\AppData\\Local\\Temp\\ipykernel_33004\\2044857861.py:11: SettingWithCopyWarning: \n",
      "A value is trying to be set on a copy of a slice from a DataFrame.\n",
      "Try using .loc[row_indexer,col_indexer] = value instead\n",
      "\n",
      "See the caveats in the documentation: https://pandas.pydata.org/pandas-docs/stable/user_guide/indexing.html#returning-a-view-versus-a-copy\n",
      "  example['GovGuar']       = example['Primary Asset ID'].map(gvg)\n",
      "C:\\Users\\hilton.netta\\AppData\\Local\\Temp\\ipykernel_33004\\2044857861.py:12: SettingWithCopyWarning: \n",
      "A value is trying to be set on a copy of a slice from a DataFrame.\n",
      "Try using .loc[row_indexer,col_indexer] = value instead\n",
      "\n",
      "See the caveats in the documentation: https://pandas.pydata.org/pandas-docs/stable/user_guide/indexing.html#returning-a-view-versus-a-copy\n",
      "  example['repo']          = example['Primary Asset ID'].map(repo)\n",
      "C:\\Users\\hilton.netta\\AppData\\Local\\Temp\\ipykernel_33004\\2044857861.py:13: SettingWithCopyWarning: \n",
      "A value is trying to be set on a copy of a slice from a DataFrame.\n",
      "Try using .loc[row_indexer,col_indexer] = value instead\n",
      "\n",
      "See the caveats in the documentation: https://pandas.pydata.org/pandas-docs/stable/user_guide/indexing.html#returning-a-view-versus-a-copy\n",
      "  example['margin']        = example['Primary Asset ID'].map(marg)\n",
      "C:\\Users\\hilton.netta\\AppData\\Local\\Temp\\ipykernel_33004\\2044857861.py:14: SettingWithCopyWarning: \n",
      "A value is trying to be set on a copy of a slice from a DataFrame.\n",
      "Try using .loc[row_indexer,col_indexer] = value instead\n",
      "\n",
      "See the caveats in the documentation: https://pandas.pydata.org/pandas-docs/stable/user_guide/indexing.html#returning-a-view-versus-a-copy\n",
      "  example['BESA']          = example['Primary Asset ID'].map(besa)\n",
      "C:\\Users\\hilton.netta\\AppData\\Local\\Temp\\ipykernel_33004\\2044857861.py:18: SettingWithCopyWarning: \n",
      "A value is trying to be set on a copy of a slice from a DataFrame.\n",
      "Try using .loc[row_indexer,col_indexer] = value instead\n",
      "\n",
      "See the caveats in the documentation: https://pandas.pydata.org/pandas-docs/stable/user_guide/indexing.html#returning-a-view-versus-a-copy\n",
      "  example['Term']          = (pd.to_datetime(example['Date'], format = '%d%b%Y') - report_date).dt.days\n"
     ]
    },
    {
     "name": "stdout",
     "output_type": "stream",
     "text": [
      "3.7sec\n"
     ]
    },
    {
     "name": "stderr",
     "output_type": "stream",
     "text": [
      "C:\\Users\\hilton.netta\\AppData\\Local\\Temp\\ipykernel_33004\\101551720.py:4: SettingWithCopyWarning: \n",
      "A value is trying to be set on a copy of a slice from a DataFrame.\n",
      "Try using .loc[row_indexer,col_indexer] = value instead\n",
      "\n",
      "See the caveats in the documentation: https://pandas.pydata.org/pandas-docs/stable/user_guide/indexing.html#returning-a-view-versus-a-copy\n",
      "  example['Issuer'] = example.apply(lambda row: classify(row), axis=1)\n"
     ]
    },
    {
     "name": "stdout",
     "output_type": "stream",
     "text": [
      "2957 regexes and 487 securities over 57.1sec\n",
      "0.0sec\n"
     ]
    },
    {
     "name": "stderr",
     "output_type": "stream",
     "text": [
      "C:\\Users\\hilton.netta\\AppData\\Local\\Temp\\ipykernel_33004\\2887922742.py:8: FutureWarning: save is not part of the public API, usage can give unexpected results and will be removed in a future version\n",
      "  writer.save()\n",
      "C:\\Users\\hilton.netta\\Anaconda3\\lib\\site-packages\\xlsxwriter\\workbook.py:339: UserWarning: Calling close() on already closed file.\n",
      "  warn(\"Calling close() on already closed file.\")\n"
     ]
    },
    {
     "name": "stdout",
     "output_type": "stream",
     "text": [
      "0.6sec\n",
      "0.5sec\n",
      "Report date   : 2023-09-22 00:00:00\n",
      "BESA file date: 9\n",
      "1 fund        : GEMSMEDC \n",
      "\n",
      "Unallocated issuers: 0 \n",
      "Unallocated CLNs   : 0 \n",
      "\n",
      "0.0sec\n",
      "Total time: 1min 14.6sec\n",
      "0.0sec\n",
      "0.0sec\n",
      "0.3sec\n",
      "0.0sec\n",
      "0.1sec\n"
     ]
    },
    {
     "name": "stderr",
     "output_type": "stream",
     "text": [
      "C:\\Users\\hilton.netta\\AppData\\Local\\Temp\\ipykernel_33004\\3765607604.py:43: FutureWarning: save is not part of the public API, usage can give unexpected results and will be removed in a future version\n",
      "  writer.save()\n",
      "C:\\Users\\hilton.netta\\Anaconda3\\lib\\site-packages\\xlsxwriter\\workbook.py:339: UserWarning: Calling close() on already closed file.\n",
      "  warn(\"Calling close() on already closed file.\")\n"
     ]
    },
    {
     "name": "stdout",
     "output_type": "stream",
     "text": [
      "Total securities                             : 487 \n",
      "Unique securities                            : 482 \n",
      "All securities without market capitalisation : 146 \n",
      "Negative term securities                     : 11 \n",
      "Reg28 2.1(d)(ii) securities                  : 6 \n",
      "Reg28 2.1(e)(ii) securities                  : 56 \n",
      "Equities without market capitalisation       : 0 \n",
      "Unassigned derivative asset class            : 0 \n",
      "Unique securities not categorised for Reg 28 : 0 \n",
      "Unique securities not categorised for Reg 30 : 0\n",
      "\n",
      "\n",
      "1.1sec\n",
      "4.8sec\n",
      "0.2sec\n",
      "0.0sec\n"
     ]
    },
    {
     "data": {
      "application/vnd.jupyter.widget-view+json": {
       "model_id": "0bd2552f604e4800b46044b860f95480",
       "version_major": 2,
       "version_minor": 0
      },
      "text/plain": [
       "0it [00:00, ?it/s]"
      ]
     },
     "metadata": {},
     "output_type": "display_data"
    },
    {
     "name": "stdout",
     "output_type": "stream",
     "text": [
      "1.00 1\n",
      "0.3sec\n",
      "0.2sec\n",
      "0.2sec\n",
      "1.1sec\n",
      " Roundtrip time: 1min 20.9sec\n"
     ]
    }
   ],
   "source": [
    "import time\n",
    "start_time_0          = time.time()\n",
    "\n",
    "%run \"C:/Users/hilton.netta/OneDrive - Prescient/py/gitrepo/issuers_1.ipynb\"\n",
    "\n",
    "print(f' Roundtrip time: {timediff(start_time_0, time.time())}')"
   ]
  },
  {
   "cell_type": "code",
   "execution_count": 3,
   "id": "2ee7437a",
   "metadata": {},
   "outputs": [],
   "source": [
    "# dataframes:  example, no_issuer, no_CLN_issuer\n",
    "# structures   P:\\Working Folders\\Hilton\\W\\structures.xlsm\n",
    "# results      P:\\Working Folders\\Hilton\\W\\issuers_1_done.xlsx\n",
    "# merged       P:\\Working Folders\\Hilton\\W\\merged.xlsx\n",
    "# output       P:\\Working Folders\\Hilton\\W\\issuers_2_done.xlsx\n",
    "# Reg 28 & 30  P:\\Investment Operations\\GRC\\Compliance\\Reg28 and Reg30 Reporting\n",
    "# folder       P:\\Working Folders\\Hilton\\W\\Reg_Tests"
   ]
  }
 ],
 "metadata": {
  "kernelspec": {
   "display_name": "Python 3 (ipykernel)",
   "language": "python",
   "name": "python3"
  },
  "language_info": {
   "codemirror_mode": {
    "name": "ipython",
    "version": 3
   },
   "file_extension": ".py",
   "mimetype": "text/x-python",
   "name": "python",
   "nbconvert_exporter": "python",
   "pygments_lexer": "ipython3",
   "version": "3.9.12"
  }
 },
 "nbformat": 4,
 "nbformat_minor": 5
}
