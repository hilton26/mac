{
 "cells": [
  {
   "cell_type": "markdown",
   "id": "31974caa",
   "metadata": {},
   "source": [
    "# Compile and Summarise Derivative Cover Check Sheets"
   ]
  },
  {
   "cell_type": "code",
   "execution_count": 1,
   "id": "81254509",
   "metadata": {},
   "outputs": [],
   "source": [
    "# Create a time difference function\n",
    "\n",
    "import datetime, time\n",
    "\n",
    "def timediff(start, end, decimals = 1):\n",
    "    if int((end - start)/3600) > 0: # non-zero hours\n",
    "        return str(int((end - start)/3600)) + 'hr ' + str(int((end - start)/60)) +'min ' + str(round((end - start) % 60,decimals)) + 'sec'\n",
    "    elif int((end - start)/60) > 0: # non-zero hours and minutes\n",
    "        return str(int((end - start)/60)) +'min ' + str(round((end - start) % 60, decimals)) + 'sec'\n",
    "    else:\n",
    "        return str(round((end - start) % 60,decimals)) + 'sec'"
   ]
  },
  {
   "cell_type": "code",
   "execution_count": 2,
   "id": "6c722ac2",
   "metadata": {
    "scrolled": true
   },
   "outputs": [
    {
     "name": "stdout",
     "output_type": "stream",
     "text": [
      "Importing libraries ...\n",
      "Importing libraries completed: 1.1sec\n"
     ]
    }
   ],
   "source": [
    "# Import libraries\n",
    "\n",
    "start_time          = time.time()\n",
    "start_time_overlord = start_time\n",
    "print('Importing libraries ...')\n",
    "\n",
    "import pandas as pd\n",
    "import xlwings as xw\n",
    "from pathlib import Path\n",
    "import os, shutil\n",
    "import win32com.client as win32 # library to convert xls to xlsx\n",
    "\n",
    "from tqdm import tqdm, notebook # notebook version of tqdm\n",
    "#\" ...any time you see a loop somewhere in your code in you can simply wrap it in either tdqm() or tqdm_notebook() in Jupyter\" \n",
    "\n",
    "print(f'Importing libraries completed: {timediff(start_time, time.time())}', '\\n')"
   ]
  },
  {
   "cell_type": "code",
   "execution_count": 3,
   "id": "bfc176e3",
   "metadata": {},
   "outputs": [
    {
     "name": "stdout",
     "output_type": "stream",
     "text": [
      "Starting Excel ...\n",
      "Starting Excel completed: 0.0sec\n"
     ]
    }
   ],
   "source": [
    "# Start Excel\n",
    "\n",
    "start_time = time.time()\n",
    "print('Starting Excel ...')\n",
    "\n",
    "# start Excel - if Excel does not open, close any Excel application already open, else restart the pc\n",
    "excel = win32.gencache.EnsureDispatch('Excel.Application')\n",
    "\n",
    "print(f'Starting Excel completed: {timediff(start_time, time.time())}', '\\n')"
   ]
  },
  {
   "cell_type": "code",
   "execution_count": 4,
   "id": "0defec1c",
   "metadata": {},
   "outputs": [
    {
     "name": "stdout",
     "output_type": "stream",
     "text": [
      "Setting up paths ...\n",
      "Setting up paths completed: 0.0sec\n"
     ]
    }
   ],
   "source": [
    "# Set location paths for the sheets to be used\n",
    "\n",
    "start_time = time.time()\n",
    "print('Setting up paths ...')\n",
    "\n",
    "pthEXPORTS    = r'\\\\PIM-CPT-FS.prescient.local\\PIM-Documents$\\Investment Operations\\GRC\\Compliance\\Derivative Cover'\n",
    "pthDerv       = r'\\\\PIM-CPT-FS.prescient.local\\PIM-Documents$\\Investment Operations\\GRC\\Compliance\\Daily'\n",
    "pthFundCodes  = r'\\\\PIM-CPT-FS.prescient.local\\PIM-Documents$\\Investment Operations\\GRC\\Compliance\\Daily\\2A - Fund Codes, Breach Register.xlsx'\n",
    "pthMandates   = r'\\\\PIM-CPT-FS.prescient.local\\PIM-Documents$\\Investment Operations\\GRC\\Compliance\\Client Mandates' # path to mandate summaries\n",
    "fPARN         = r'C:\\Users\\hilton.netta\\Downloads\\Portfolio Analytics Report - New.xls'\n",
    "fDE           = r'C:\\Users\\hilton.netta\\Downloads\\Derivative Exposure.xls'\n",
    "pthLOCAL      = r'C:\\Users\\hilton.netta\\Documents\\DervFiles'     # path to were the files will be saved locally temporarily\n",
    "pthOverdrafts = r'\\\\pim-cpt-statpro\\SPC_602\\Client\\Profiles\\PIM\\overdrafts'\n",
    "pthDx         = r'C:\\Users\\hilton.netta\\Downloads'\n",
    "\n",
    "print(f'Setting up paths completed: {timediff(start_time, time.time())}', '\\n')"
   ]
  },
  {
   "cell_type": "code",
   "execution_count": 5,
   "id": "21c6c5be",
   "metadata": {},
   "outputs": [
    {
     "name": "stdout",
     "output_type": "stream",
     "text": [
      "Getting the reporting date ...\n",
      " Reporting date: 21Sep2023\n",
      "Getting the reporting date: 2.3sec\n"
     ]
    }
   ],
   "source": [
    "# Get report date and selected summary sheet option\n",
    "\n",
    "start_time = time.time()\n",
    "print('Getting the reporting date ...')\n",
    "\n",
    "import xlwings as xw\n",
    "wb      = xw.Book(r'P:\\Investment Operations\\GRC\\Compliance\\Daily\\py_reports.xlsm') # open calc workbook as an object\n",
    "rptDate = wb.sheets['dervs'].range('B1').value.strftime(\"%d%b%Y\")                   # get report date in ddMmmYYYY format\n",
    "summ_yn = wb.sheets['dervs'].range('B2').value\n",
    "wb.close()\n",
    "\n",
    "print(f' Reporting date: {rptDate}')\n",
    "print(f'Getting the reporting date: {timediff(start_time, time.time())}', '\\n')"
   ]
  },
  {
   "cell_type": "code",
   "execution_count": 6,
   "id": "8890ce7a",
   "metadata": {},
   "outputs": [
    {
     "name": "stdout",
     "output_type": "stream",
     "text": [
      "Getting names of downloaded holdings and derivative files ...\n",
      " C:\\Users\\hilton.netta\\Downloads\\Portfolio Analytics Report - New(29).xls \n",
      " C:\\Users\\hilton.netta\\Downloads\\Derivative Exposure.xlsx\n",
      "Getting names of downloaded holdings and derivative files completed: 0.0sec\n"
     ]
    }
   ],
   "source": [
    "# Get the names of the latest files just saved in the Downloads folder\n",
    "\n",
    "start_time = time.time()\n",
    "print('Getting names of downloaded holdings and derivative files ...')\n",
    "\n",
    "pth  =  r'C:\\Users\\hilton.netta\\Downloads' # where downloaded sheets from Eagle will be saved \n",
    "parN = 'Portfolio Analytics Report - New'  # name of the downloaded holdings sheet from Eagle\n",
    "der  = 'Derivative Exposure'               # name of the downloaded derivative data sheet from Eagle\n",
    "\n",
    "#https://stackoverflow.com/questions/64255610/read-latest-file-with-a-filename-contains-string-in-python\n",
    "#https://stackoverflow.com/questions/9816816/get-absolute-paths-of-all-files-in-a-directory\n",
    "fls     = os.listdir(r'C:\\Users\\hilton.netta\\Downloads')\n",
    "parN_nm = max([os.path.abspath(os.path.join(pth, fl)) for fl in fls if parN in fl], key = os.path.getmtime)\n",
    "der_nm  = max([os.path.abspath(os.path.join(pth, fl)) for fl in fls if der  in fl], key = os.path.getmtime)\n",
    "print('', parN_nm, '\\n', der_nm)\n",
    "\n",
    "print(f'Getting names of downloaded holdings and derivative files completed: {timediff(start_time, time.time())}', '\\n')"
   ]
  },
  {
   "cell_type": "code",
   "execution_count": 7,
   "id": "8a813f90",
   "metadata": {},
   "outputs": [
    {
     "name": "stdout",
     "output_type": "stream",
     "text": [
      "Converting xls files to xlsx ...\n",
      "Converting xls files to xlsx completed: 0.5sec\n"
     ]
    }
   ],
   "source": [
    "# Convert .xls to .xlsx using MS Office for the Eagle holdings and derivative delta files\n",
    "\n",
    "start_time = time.time()\n",
    "print('Converting xls files to xlsx ...')\n",
    "\n",
    "excel.DisplayAlerts = False # suppress the warning dialogue\n",
    "\n",
    "wb = excel.Workbooks.Open(parN_nm)\n",
    "wb.SaveAs(os.path.join(pth, 'p.xlsx'), FileFormat = 51)     #FileFormat = 51 is for .xlsx extension\n",
    "wb.Close()                               #FileFormat = 56 is for .xls extension\n",
    "\n",
    "wb = excel.Workbooks.Open(der_nm)\n",
    "wb.SaveAs(os.path.join(pth, 'd.xlsx'), FileFormat = 51)     #FileFormat = 51 is for .xlsx extension\n",
    "wb.Close()       \n",
    "\n",
    "excel.DisplayAlerts = True # unsuppress Excel warning dialogue\n",
    "\n",
    "#excel.Application.Quit()\n",
    "\n",
    "print(f'Converting xls files to xlsx completed: {timediff(start_time, time.time())}', '\\n')"
   ]
  },
  {
   "cell_type": "code",
   "execution_count": 8,
   "id": "16865e66",
   "metadata": {},
   "outputs": [
    {
     "name": "stdout",
     "output_type": "stream",
     "text": [
      "Creating dataframes from fund holdings and derivative data ...\n",
      "Creating dataframes from fund holdings and derivative data completed: 0.4sec\n"
     ]
    }
   ],
   "source": [
    "# Create dataframes of the holdings and deltas spreadsheets\n",
    "\n",
    "start_time = time.time()\n",
    "print('Creating dataframes from fund holdings and derivative data ...')\n",
    "\n",
    "\n",
    "wbD = pd.read_excel(open(pthDx + '/d.xlsx','rb'), sheet_name = 'Derivative Exposure')\n",
    "wbH = pd.read_excel(open(pthDx + '/p.xlsx','rb'), sheet_name = 'Portfolio Analytics Report - Ne')\n",
    "\n",
    "# get the report date and list of fund names\n",
    "# rptDate = wbH.iloc[0, 35].strftime(\"%d%b%Y\") # 1st row 36th column contains the report date\n",
    "fnames  = wbH['Entity Name'].unique() # list of the fund names in the holdings file, resulting type = numpy.ndarray\n",
    "\n",
    "print(f'Creating dataframes from fund holdings and derivative data completed: {timediff(start_time, time.time())}', '\\n')"
   ]
  },
  {
   "cell_type": "code",
   "execution_count": 12,
   "id": "c6e48688",
   "metadata": {},
   "outputs": [
    {
     "name": "stdout",
     "output_type": "stream",
     "text": [
      "Calculating and saving fund Total Market Value percentages ...\n"
     ]
    },
    {
     "data": {
      "application/vnd.jupyter.widget-view+json": {
       "model_id": "90b29582afa94b0abe75bfa38e69bd51",
       "version_major": 2,
       "version_minor": 0
      },
      "text/plain": [
       "0it [00:00, ?it/s]"
      ]
     },
     "metadata": {},
     "output_type": "display_data"
    },
    {
     "name": "stdout",
     "output_type": "stream",
     "text": [
      "Calculating and saving fund Total Market Value percentages completed: 0.0sec\n"
     ]
    }
   ],
   "source": [
    "# Change the '% of Total Market Value\" column\n",
    "\n",
    "start_time = time.time()\n",
    "print('Calculating and saving fund Total Market Value percentages ...')\n",
    "\n",
    "# change the '% of Total Market Value\" column (N) to the fund-specific % based on 'Sum of Market Value Income' column (M)\n",
    "navs = wbH.groupby('Entity ID')['Sum of Market Value Income'].sum() # (column N) this has type 'pandas.core.series.Series'\n",
    "nav  = navs.to_dict() # nav series changed to dictionary to make it lookupable\n",
    "\n",
    "# recalc the '% of Total Market Value' column per fund and ...\n",
    "newTMV = []\n",
    "for i, row in notebook.tqdm(wbH.iterrows()):\n",
    "    if nav[row['Entity ID']] == 0:\n",
    "        fndpct = 100\n",
    "    else:\n",
    "        fndpct = row['Sum of Market Value Income'] / nav[row['Entity ID']] * 100\n",
    "    newTMV.append(fndpct)\n",
    "    \n",
    "# ... replace the '% of Total Market Value' with the values in the new list\n",
    "wbH['% of Total Market Value'] = newTMV # wbH['% of Total Market Value'].sum(), check, should equal number of funds\n",
    "\n",
    "print(f'Calculating and saving fund Total Market Value percentages completed: {timediff(start_time, time.time())}', '\\n')"
   ]
  },
  {
   "cell_type": "code",
   "execution_count": 13,
   "id": "41250e5f",
   "metadata": {},
   "outputs": [
    {
     "name": "stdout",
     "output_type": "stream",
     "text": [
      "Recalculating Current Exposure percentage column ...\n"
     ]
    },
    {
     "data": {
      "application/vnd.jupyter.widget-view+json": {
       "model_id": "d0074941fb4041e7a0639631ed2dc103",
       "version_major": 2,
       "version_minor": 0
      },
      "text/plain": [
       "0it [00:00, ?it/s]"
      ]
     },
     "metadata": {},
     "output_type": "display_data"
    },
    {
     "name": "stdout",
     "output_type": "stream",
     "text": [
      "Recalculating Current Exposure percentage column completed: 0.0sec\n"
     ]
    }
   ],
   "source": [
    "# Recalculate % of Total Market Value' column\n",
    "\n",
    "start_time = time.time()\n",
    "print('Recalculating Current Exposure percentage column ...')\n",
    "\n",
    "# recalc the '% of Total Market Value' column per fund and ...\n",
    "newCEp = [] # new Current Exposure % column\n",
    "for i, row in notebook.tqdm(wbH.iterrows()):\n",
    "    if nav[row['Entity ID']] == 0:\n",
    "        currentexposurepct = 1\n",
    "    else:\n",
    "        currentexposurepct = row['Current Exposure'] / nav[row['Entity ID']] * 100\n",
    "    newCEp.append(currentexposurepct )\n",
    "    \n",
    "# ... replace the '% of Total Market Value' with the values in the new list\n",
    "wbH['Current Exposure %'] = newCEp # wbH['% of Total Market Value'].sum(), check, should equal number of funds\n",
    "\n",
    "print(f'Recalculating Current Exposure percentage column completed: {timediff(start_time, time.time())}', '\\n')"
   ]
  },
  {
   "cell_type": "code",
   "execution_count": 14,
   "id": "ea4054f6",
   "metadata": {
    "scrolled": true
   },
   "outputs": [
    {
     "name": "stdout",
     "output_type": "stream",
     "text": [
      "Creating individual fund derivative calculation files ...\n"
     ]
    },
    {
     "data": {
      "application/vnd.jupyter.widget-view+json": {
       "model_id": "18e612e1a0b247b8977c888bedd08bca",
       "version_major": 2,
       "version_minor": 0
      },
      "text/plain": [
       "  0%|          | 0/1 [00:00<?, ?it/s]"
      ]
     },
     "metadata": {},
     "output_type": "display_data"
    },
    {
     "name": "stdout",
     "output_type": "stream",
     "text": [
      "Creating individual fund derivative calculation files completed: 9.1sec\n"
     ]
    }
   ],
   "source": [
    "# Create the individual derivative checker files locally after opening the derv calc workbook\n",
    "\n",
    "start_time = time.time()\n",
    "print('Creating individual fund derivative calculation files ...')\n",
    "\n",
    "# create a lookup table for fund UT status and investment team\n",
    "twoA = pd.read_excel(pthFundCodes, sheet_name = 'Funds', usecols = 'A, D:E')\n",
    "\n",
    "# open the derv template and assign holdings and data sheets\n",
    "wb   = xw.Book(pthDerv + r'\\derv.xlsx') # open the derv calc workbook as an object\n",
    "shtH = wb.sheets['Data'   ]             # assign sheet containing holdings as obtained from Eagle\n",
    "shtD = wb.sheets['Deltas' ]             # assign sheet containing derivative data as obtained from Eagle\n",
    "shtZ = wb.sheets['Summary']             # assign summary sheet\n",
    "\n",
    "# create the individual derivative checker files\n",
    "excel.DisplayAlerts = False             # suppress Excel warning dialogues\n",
    "for fname in notebook.tqdm(fnames):\n",
    "    shtH.clear()                                                                     # clear the receiving holdings sheet\n",
    "    shtH.range('A1').options(index = False).value = wbH[wbH['Entity Name'] == fname] # paste fund holdings\n",
    "    shtD.clear()                                                                     # clear the receiving deltas sheet    \n",
    "    shtD.range('A1').options(index = False).value = wbD[wbD['Entity Name'] == fname] # paste fund deltas   \n",
    "    fndcode          = wbH[wbH['Entity Name'] == fname].iloc[0, 36]                  # get the fund code\n",
    "    shtZ['A3'].value = 'Not a UT' if twoA.loc[twoA['Fund Code'] == fndcode].iat[0,2] != 'UT' else 'UT'\n",
    "    wb.save(os.path.join(pthLOCAL,f'{fndcode} Derv Calc {rptDate}.xlsx'))            # save the file\n",
    "    \n",
    "# close the derv template workbook\n",
    "excel.DisplayAlerts = True              # unsuppress Excel warning dialogues\n",
    "wb.close()\n",
    "\n",
    "print(f'Creating individual fund derivative calculation files completed: {timediff(start_time, time.time())}', '\\n')"
   ]
  },
  {
   "cell_type": "code",
   "execution_count": 15,
   "id": "2cafc9dd",
   "metadata": {},
   "outputs": [
    {
     "name": "stdout",
     "output_type": "stream",
     "text": [
      "Saving the fund derivative calculation files to Export folder ...\n"
     ]
    },
    {
     "data": {
      "application/vnd.jupyter.widget-view+json": {
       "model_id": "b7a5177238024a81ad72734ce5cd7c72",
       "version_major": 2,
       "version_minor": 0
      },
      "text/plain": [
       "  0%|          | 0/1 [00:00<?, ?it/s]"
      ]
     },
     "metadata": {},
     "output_type": "display_data"
    },
    {
     "name": "stdout",
     "output_type": "stream",
     "text": [
      "Save the fund derivative calculation files to Export folder completed: 0.1sec\n"
     ]
    }
   ],
   "source": [
    "# Save the fund derivative cover calc files\n",
    "\n",
    "start_time = time.time()\n",
    "print('Saving the fund derivative calculation files to Export folder ...')\n",
    "\n",
    "# create and save the derivative cover summary file in the Exports folder and then clear the temporary local folder\n",
    "# copy the locally (C:\\) stored derivative calc files to a PIM network folder\n",
    "for file in notebook.tqdm(os.listdir(pthLOCAL)):    \n",
    "    shutil.copy(os.path.join(pthLOCAL, file), pthEXPORTS)\n",
    "\n",
    "print(f'Save the fund derivative calculation files to Export folder completed: {timediff(start_time, time.time())}', '\\n')"
   ]
  },
  {
   "cell_type": "code",
   "execution_count": 16,
   "id": "73387af9",
   "metadata": {},
   "outputs": [
    {
     "name": "stdout",
     "output_type": "stream",
     "text": [
      "Summary sheet required? No\n"
     ]
    }
   ],
   "source": [
    "# Create and save the derivative cover Summary sheet if required\n",
    "\n",
    "print(f'Summary sheet required? {summ_yn}')\n",
    "\n",
    "if summ_yn == 'Yes':\n",
    "    start_time = time.time()\n",
    "    print('Populating and then saving the Summary sheet ...')\n",
    "\n",
    "    wbS            = xw.Book(pthDerv + r'\\derv_summary.xlsx')\n",
    "    shtS           = wbS.sheets['S']                         # derivative cover summary sheet\n",
    "    fcodes         = pd.DataFrame(wbH['Entity ID'].unique()) # turn frames from numpy.ndarray to a pandas dataframe\n",
    "    fcodes.columns = ['Entity ID']                           # give the vector of fund codes a column name\n",
    "    shtS.range(f'A2:Q{len(fcodes)+1000}').clear_contents()   # clear the derivative cover summary sheet below the headings\n",
    "    #https://stackoverflow.com/questions/66882703/clearing-selected-table-in-xlwings\n",
    "\n",
    "    shtS.range('A1').options(index = False).value = fcodes   # paste fund holdings onto the calc sheet from the source\n",
    "\n",
    "    excel.DisplayAlerts = False                              # suppress Excel warning dialogues\n",
    "\n",
    "    # display date of report\n",
    "    shtS['A1'].add_hyperlink(pthEXPORTS,'Entity ID')\n",
    "    shtS['A1'].font.bold = True\n",
    "    shtS['O1'].add_hyperlink(pthEXPORTS)\n",
    "    shtS['O1'].value = f'Derivative cover calcs {wbH.iloc[0, 35].strftime(\"%a %d %b %Y\")}'\n",
    "    shtS['O1'].font.bold = True\n",
    "    shtS['P1'].add_hyperlink(pthFundCodes,'Team')\n",
    "    shtS['P1'].font.bold = True\n",
    "    shtS['Q1'].add_hyperlink(pthOverdrafts,'PIM Overdrafts')\n",
    "    shtS['Q1'].font.bold = True\n",
    "\n",
    "    # summarise per fund results\n",
    "    for index, row in notebook.tqdm(fcodes.iterrows()):\n",
    "        shtS['A' + str(index + 2)].add_hyperlink(fr'{pthMandates}\\{row[0]} Rules.docx',f'{row[0]}')\n",
    "        shtS['B' + str(index + 2)].value = fr\"='{pthEXPORTS}\\[{row[0]} Derv Calc {rptDate}.xlsx]Summary'!$G$3\"\n",
    "        shtS['C' + str(index + 2)].value = fr\"='{pthEXPORTS}\\[{row[0]} Derv Calc {rptDate}.xlsx]Summary'!$E$1\"\n",
    "        shtS['D' + str(index + 2)].value = fr\"='{pthEXPORTS}\\[{row[0]} Derv Calc {rptDate}.xlsx]Summary'!$C$35\"\n",
    "        shtS['E' + str(index + 2)].value = fr\"='{pthEXPORTS}\\[{row[0]} Derv Calc {rptDate}.xlsx]Summary'!$E$35/100\"\n",
    "        shtS['F' + str(index + 2)].value = fr\"='{pthEXPORTS}\\[{row[0]} Derv Calc {rptDate}.xlsx]Summary'!$C$37\"\n",
    "        shtS['G' + str(index + 2)].value = fr\"='{pthEXPORTS}\\[{row[0]} Derv Calc {rptDate}.xlsx]Summary'!$C$33\"\n",
    "        shtS['H' + str(index + 2)].value = fr\"='{pthEXPORTS}\\[{row[0]} Derv Calc {rptDate}.xlsx]Summary'!$E$6/100\"\n",
    "        shtS['I' + str(index + 2)].value = fr\"='{pthEXPORTS}\\[{row[0]} Derv Calc {rptDate}.xlsx]Summary'!$E$10/100\"\n",
    "        shtS['J' + str(index + 2)].value = fr\"='{pthEXPORTS}\\[{row[0]} Derv Calc {rptDate}.xlsx]Summary'!$E$14/100\"\n",
    "        shtS['K' + str(index + 2)].value = fr\"='{pthEXPORTS}\\[{row[0]} Derv Calc {rptDate}.xlsx]Summary'!$C$42\"\n",
    "        shtS['L' + str(index + 2)].value = fr\"='{pthEXPORTS}\\[{row[0]} Derv Calc {rptDate}.xlsx]Summary'!$C$56/100\"\n",
    "        shtS['M' + str(index + 2)].value = fr\"='{pthEXPORTS}\\[{row[0]} Derv Calc {rptDate}.xlsx]Glbl Expsr'!$D$2\"   \n",
    "        shtS['N' + str(index + 2)].value = fr\"='{pthEXPORTS}\\[{row[0]} Derv Calc {rptDate}.xlsx]Glbl Expsr'!$D$3\"\n",
    "        shtS['O' + str(index + 2)].add_hyperlink(fr'{pthEXPORTS}\\{row[0]} Derv Calc {rptDate}.xlsx',f'{row[0]} calc sheet')\n",
    "        shtS['P' + str(index + 2)].value = twoA.loc[twoA['Fund Code'] == f'{row[0]}'].iat[0,1] #investment team lookup\n",
    "        # Using at[] and iat[] instead of loc[] and iloc[]\n",
    "        # https://medium.com/codex/dont-use-loc-iloc-with-loops-in-python-instead-use-this-f9243289dde7\n",
    "\n",
    "    # sort the results\n",
    "    last_row         = shtS.range(1,1).end('down').row\n",
    "    first_col_range  = shtS.range(f'D2:D{last_row}')\n",
    "    second_col_range = shtS.range(f'C2:C{last_row}')\n",
    "    third_col_range  = shtS.range(f'B2:B{last_row}')\n",
    "    shtS.range(f'A2:P{last_row}').api.Sort(Key1 = first_col_range.api,  Order1=2, Header=2, Orientation=1) # pct cash cover\n",
    "    shtS.range(f'A2:P{last_row}').api.Sort(Key1 = second_col_range.api, Order1=2, Header=2, Orientation=1) # qty dervs\n",
    "    shtS.range(f'A2:P{last_row}').api.Sort(Key1 = third_col_range.api,  Order1=2, Header=2, Orientation=1) # UT or not\n",
    "\n",
    "    # format the decimals\n",
    "    # Change column number format - https://stackoverflow.com/questions/66008147/how-to-change-the-number-format-of-the-column-that-a-range-is-using-xlwings-pyh\n",
    "    # Excel Number Formats          https://python-pptx.readthedocs.io/en/latest/api/enum/ExcelNumFormat.html\n",
    "    shtS.range(f'D2:N{last_row}').api.EntireColumn.NumberFormat = \"0.0000%\"\n",
    "\n",
    "\n",
    "    print('Saving the Summary sheet ...')\n",
    "\n",
    "    # save all the fund holdings and fund deltas from Eagle on the day's summary sheet as a record for the reporting day\n",
    "    # set up the summary sheet\n",
    "    shtH = wbS.sheets['Holdings']  # sheet containing all the fund holdings as obtained from Eagle\n",
    "    shtH.clear() # clear the receiving holdings sheet\n",
    "    shtH.range('A1').options(index = False).value = wbH # paste fund holdings onto the calc sheet from the source\n",
    "    shtD = wbS.sheets['Deltas']    # sheet containing all the fund derivative data as obtained from Eagle\n",
    "    shtD.clear() # clear the receiving deltas sheet    \n",
    "    shtD.range('A1').options(index = False).value = wbD # paste deltas onto the calc sheet from the source\n",
    "\n",
    "    excel.DisplayAlerts = True     # unsuppress Excel warning dialogues\n",
    "\n",
    "    # save and then close the summary file\n",
    "    wbS.save(os.path.join(pthEXPORTS,f'Derv {rptDate}.xlsx'))\n",
    "    wbS.close()\n",
    "\n",
    "    # delete contents of the temporary local folder\n",
    "    for filename in notebook.tqdm(os.listdir(pthLOCAL)):    \n",
    "        file_path = os.path.join(pthLOCAL, filename)\n",
    "        try:\n",
    "            if os.path.isfile(file_path) or os.path.islink(file_path):\n",
    "                os.unlink(file_path)\n",
    "            elif os.path.isdir(file_path):\n",
    "                shutil.rmtree(file_path)\n",
    "        except Exception as e:\n",
    "            print(f\"Couldn't delete {file_path} because {e}\")\n",
    "\n",
    "    print(f'Populating and then saving the Summary sheet completed: {timediff(start_time, time.time())}', '\\n')"
   ]
  },
  {
   "cell_type": "code",
   "execution_count": 1,
   "id": "e25f15c3",
   "metadata": {
    "collapsed": true
   },
   "outputs": [
    {
     "ename": "NameError",
     "evalue": "name 'time' is not defined",
     "output_type": "error",
     "traceback": [
      "\u001b[1;31m---------------------------------------------------------------------------\u001b[0m",
      "\u001b[1;31mNameError\u001b[0m                                 Traceback (most recent call last)",
      "Cell \u001b[1;32mIn[1], line 3\u001b[0m\n\u001b[0;32m      1\u001b[0m \u001b[38;5;66;03m# Open the derivative cover summary file for review\u001b[39;00m\n\u001b[1;32m----> 3\u001b[0m start_time \u001b[38;5;241m=\u001b[39m \u001b[43mtime\u001b[49m\u001b[38;5;241m.\u001b[39mtime()\n\u001b[0;32m      4\u001b[0m \u001b[38;5;28mprint\u001b[39m(\u001b[38;5;124m'\u001b[39m\u001b[38;5;124mOpening the Summary sheet for review ...\u001b[39m\u001b[38;5;124m'\u001b[39m)\n\u001b[0;32m      6\u001b[0m excel\u001b[38;5;241m.\u001b[39mWorkbooks\u001b[38;5;241m.\u001b[39mOpen(pthEXPORTS \u001b[38;5;241m+\u001b[39m \u001b[38;5;124mf\u001b[39m\u001b[38;5;124m'\u001b[39m\u001b[38;5;124m/Derv \u001b[39m\u001b[38;5;132;01m{\u001b[39;00mrptDate\u001b[38;5;132;01m}\u001b[39;00m\u001b[38;5;124m.xlsx\u001b[39m\u001b[38;5;124m'\u001b[39m)\n",
      "\u001b[1;31mNameError\u001b[0m: name 'time' is not defined"
     ]
    }
   ],
   "source": [
    "# Open the derivative cover summary file for review\n",
    "\n",
    "if summ_yn == 'Yes':\n",
    "    start_time = time.time()\n",
    "    print('Opening the Summary sheet for review ...')\n",
    "    excel.Workbooks.Open(pthEXPORTS + f'/Derv {rptDate}.xlsx')\n",
    "    print(f'Opening the Summary sheet for review completed: {timediff(start_time, time.time())}')\n",
    "    \n",
    "print(f'Roundtrip time for deivative calcs and summary sheet: {timediff(start_time_overlord, time.time())}', '\\n')"
   ]
  }
 ],
 "metadata": {
  "kernelspec": {
   "display_name": "Python 3 (ipykernel)",
   "language": "python",
   "name": "python3"
  },
  "language_info": {
   "codemirror_mode": {
    "name": "ipython",
    "version": 3
   },
   "file_extension": ".py",
   "mimetype": "text/x-python",
   "name": "python",
   "nbconvert_exporter": "python",
   "pygments_lexer": "ipython3",
   "version": "3.9.12"
  }
 },
 "nbformat": 4,
 "nbformat_minor": 5
}
