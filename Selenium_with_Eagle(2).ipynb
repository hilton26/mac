{
 "cells": [
  {
   "cell_type": "markdown",
   "id": "186b58d8",
   "metadata": {},
   "source": [
    "How To Handle Dropdown with Select In Selenium With Python- Selenium Webdriver Tutorial Python (YouTube Video #7)\n",
    "Source: https://www.youtube.com/watch?v=p9NpddaIZWs"
   ]
  },
  {
   "cell_type": "markdown",
   "id": "32adfcb4",
   "metadata": {},
   "source": [
    "Selenium Course for Beginners - Web Scraping Bots, Browser Automation, Testing (Tutorial) (Aug 2021)\n",
    "Source: https://www.youtube.com/watch?v=j7VZsCCnptM&list=RDCMUC8butISFwT-Wl7EV0hUK0BQ&start_radio=1&rv=j7VZsCCnptM&t=1520\n",
    "\n",
    "How to change the value of datepicker using Selenium and Python\n",
    "Source: https://stackoverflow.com/questions/62911531/how-to-change-the-value-of-datepicker-using-selenium-and-python\n",
    "\n",
    "Inserting values into strings\n",
    "Source: https://matthew-brett.github.io/teaching/string_formatting.html#:~:text=If%20you%20can%20depend%20on,variable%20names%20within%20the%20string.\n",
    "\n",
    "Python strftime - date without leading 0?\n",
    "Source: https://stackoverflow.com/questions/904928/python-strftime-date-without-leading-0\n",
    "\n",
    "Most Exhaustive WebDriver Locators Cheat Sheet\n",
    "Source: https://www.automatetheplanet.com/selenium-webdriver-locators-cheat-sheet/"
   ]
  },
  {
   "cell_type": "code",
   "execution_count": 2,
   "id": "0fcacaec",
   "metadata": {},
   "outputs": [],
   "source": [
    "import os\n",
    "import datetime\n",
    "from datetime import date\n",
    "from selenium import webdriver\n",
    "from selenium.webdriver.common.by import By\n",
    "from selenium.webdriver.support.select import Select\n",
    "\n",
    "os.environ[\"PATH\"] = r\"C:/Users/hilton.netta/SeleniumDrivers\" + os.pathsep + os.getenv(\"PATH\")\n",
    "# https://stackoverflow.com/questions/61213005/modify-beginning-of-path-variable-with-os-environ-in-python\n",
    "\n",
    "web_app_url = \"https://pimportalprod2015.eagleaccess.com/Default.aspx\"\n",
    "web_app_url_2 = \"https://pimportalprod2015.eagleaccess.com/Queries/Query.aspx?rpt=DerivativeExposure\"\n",
    "\n",
    "# web driver and web app urls\n",
    "driver = webdriver.Opera()\n",
    "driver.maximize_window()\n",
    "driver.get(web_app_url)\n",
    "\n",
    "# login credentials\n",
    "username = 'hnetta'\n",
    "pw = 'Eagle12'\n",
    "\n",
    "# do login\n",
    "driver.find_element(By.CSS_SELECTOR, '#LoginCtrl_MainLoginControl_UserName').send_keys(username)\n",
    "driver.find_element(By.CSS_SELECTOR, '#LoginCtrl_MainLoginControl_Password').send_keys(pw)\n",
    "driver.find_element(By.CSS_SELECTOR, '#LoginCtrl_MainLoginControl_LoginButton').click()\n",
    "\n",
    "# having logged in, change over to query page\n",
    "driver.get(web_app_url_2)\n",
    "driver.find_element(By.CSS_SELECTOR, '#ModifyLinkLabel').click()"
   ]
  },
  {
   "cell_type": "code",
   "execution_count": 6,
   "id": "938005bb",
   "metadata": {},
   "outputs": [
    {
     "name": "stdout",
     "output_type": "stream",
     "text": [
      "\"1/13/2022\" '3/19/2020' \"arguments[0].value = '3/19/2020';\" '//input[@value=\"1/13/2022\"]'\n"
     ]
    }
   ],
   "source": [
    "tday = f'\"{date.today():%#m}/{date.today():%#d}/{date.today():%Y}\"'\n",
    "d = date(2020, 3, 19)\n",
    "dd = str(\"'\") + str(f'{d:%#m}/{d:%#d}/{d:%Y}') + str(\"'\")\n",
    "k = str(f'\"arguments[0].value = {dd};\"')\n",
    "el = str(str(\"'\") + str(f'//input[@value={tday}]') + str(\"'\"))\n",
    "print(tday, dd, k, el)"
   ]
  },
  {
   "cell_type": "code",
   "execution_count": 7,
   "id": "99338d30",
   "metadata": {},
   "outputs": [],
   "source": [
    "driver.execute_script(\"arguments[0].value = '3/19/2020';\", driver.find_element(By.CSS_SELECTOR, 'input[value=\"1/13/2022\"]'))"
   ]
  },
  {
   "cell_type": "code",
   "execution_count": 8,
   "id": "60b3f30e",
   "metadata": {},
   "outputs": [],
   "source": [
    "driver.quit()"
   ]
  },
  {
   "cell_type": "code",
   "execution_count": 174,
   "id": "4e6eddad",
   "metadata": {},
   "outputs": [
    {
     "ename": "NoSuchElementException",
     "evalue": "Message: no such element: Unable to locate element: {\"method\":\"css selector\",\"selector\":\"*[name='ctl00$c$qc$DetailParams'][value='DATE=03/18/2016||FUND=PEQ,PBAL']\"}\n  (Session info: chrome=96.0.4664.110)\n  (Driver info: operadriver=96.0.4664.45 (76e4c1bb2ab4671b8beba3444e61c0f17584b2fc-refs/branch-heads/4664@{#947}),platform=Windows NT 10.0.19044 x86_64)\n",
     "output_type": "error",
     "traceback": [
      "\u001b[1;31m---------------------------------------------------------------------------\u001b[0m",
      "\u001b[1;31mNoSuchElementException\u001b[0m                    Traceback (most recent call last)",
      "\u001b[1;32m<ipython-input-174-87b157d3686c>\u001b[0m in \u001b[0;36m<module>\u001b[1;34m\u001b[0m\n\u001b[1;32m----> 1\u001b[1;33m \u001b[0mdriver\u001b[0m\u001b[1;33m.\u001b[0m\u001b[0mfind_element\u001b[0m\u001b[1;33m(\u001b[0m\u001b[0mBy\u001b[0m\u001b[1;33m.\u001b[0m\u001b[0mCSS_SELECTOR\u001b[0m\u001b[1;33m,\u001b[0m \u001b[1;34m\"*[name='ctl00$c$qc$DetailParams'][value='DATE=03/18/2016||FUND=PEQ,PBAL']\"\u001b[0m\u001b[1;33m)\u001b[0m\u001b[1;33m\u001b[0m\u001b[1;33m\u001b[0m\u001b[0m\n\u001b[0m",
      "\u001b[1;32m~\\Anaconda3\\lib\\site-packages\\selenium\\webdriver\\remote\\webdriver.py\u001b[0m in \u001b[0;36mfind_element\u001b[1;34m(self, by, value)\u001b[0m\n\u001b[0;32m    974\u001b[0m                 \u001b[0mby\u001b[0m \u001b[1;33m=\u001b[0m \u001b[0mBy\u001b[0m\u001b[1;33m.\u001b[0m\u001b[0mCSS_SELECTOR\u001b[0m\u001b[1;33m\u001b[0m\u001b[1;33m\u001b[0m\u001b[0m\n\u001b[0;32m    975\u001b[0m                 \u001b[0mvalue\u001b[0m \u001b[1;33m=\u001b[0m \u001b[1;34m'[name=\"%s\"]'\u001b[0m \u001b[1;33m%\u001b[0m \u001b[0mvalue\u001b[0m\u001b[1;33m\u001b[0m\u001b[1;33m\u001b[0m\u001b[0m\n\u001b[1;32m--> 976\u001b[1;33m         return self.execute(Command.FIND_ELEMENT, {\n\u001b[0m\u001b[0;32m    977\u001b[0m             \u001b[1;34m'using'\u001b[0m\u001b[1;33m:\u001b[0m \u001b[0mby\u001b[0m\u001b[1;33m,\u001b[0m\u001b[1;33m\u001b[0m\u001b[1;33m\u001b[0m\u001b[0m\n\u001b[0;32m    978\u001b[0m             'value': value})['value']\n",
      "\u001b[1;32m~\\Anaconda3\\lib\\site-packages\\selenium\\webdriver\\remote\\webdriver.py\u001b[0m in \u001b[0;36mexecute\u001b[1;34m(self, driver_command, params)\u001b[0m\n\u001b[0;32m    319\u001b[0m         \u001b[0mresponse\u001b[0m \u001b[1;33m=\u001b[0m \u001b[0mself\u001b[0m\u001b[1;33m.\u001b[0m\u001b[0mcommand_executor\u001b[0m\u001b[1;33m.\u001b[0m\u001b[0mexecute\u001b[0m\u001b[1;33m(\u001b[0m\u001b[0mdriver_command\u001b[0m\u001b[1;33m,\u001b[0m \u001b[0mparams\u001b[0m\u001b[1;33m)\u001b[0m\u001b[1;33m\u001b[0m\u001b[1;33m\u001b[0m\u001b[0m\n\u001b[0;32m    320\u001b[0m         \u001b[1;32mif\u001b[0m \u001b[0mresponse\u001b[0m\u001b[1;33m:\u001b[0m\u001b[1;33m\u001b[0m\u001b[1;33m\u001b[0m\u001b[0m\n\u001b[1;32m--> 321\u001b[1;33m             \u001b[0mself\u001b[0m\u001b[1;33m.\u001b[0m\u001b[0merror_handler\u001b[0m\u001b[1;33m.\u001b[0m\u001b[0mcheck_response\u001b[0m\u001b[1;33m(\u001b[0m\u001b[0mresponse\u001b[0m\u001b[1;33m)\u001b[0m\u001b[1;33m\u001b[0m\u001b[1;33m\u001b[0m\u001b[0m\n\u001b[0m\u001b[0;32m    322\u001b[0m             response['value'] = self._unwrap_value(\n\u001b[0;32m    323\u001b[0m                 response.get('value', None))\n",
      "\u001b[1;32m~\\Anaconda3\\lib\\site-packages\\selenium\\webdriver\\remote\\errorhandler.py\u001b[0m in \u001b[0;36mcheck_response\u001b[1;34m(self, response)\u001b[0m\n\u001b[0;32m    240\u001b[0m                 \u001b[0malert_text\u001b[0m \u001b[1;33m=\u001b[0m \u001b[0mvalue\u001b[0m\u001b[1;33m[\u001b[0m\u001b[1;34m'alert'\u001b[0m\u001b[1;33m]\u001b[0m\u001b[1;33m.\u001b[0m\u001b[0mget\u001b[0m\u001b[1;33m(\u001b[0m\u001b[1;34m'text'\u001b[0m\u001b[1;33m)\u001b[0m\u001b[1;33m\u001b[0m\u001b[1;33m\u001b[0m\u001b[0m\n\u001b[0;32m    241\u001b[0m             \u001b[1;32mraise\u001b[0m \u001b[0mexception_class\u001b[0m\u001b[1;33m(\u001b[0m\u001b[0mmessage\u001b[0m\u001b[1;33m,\u001b[0m \u001b[0mscreen\u001b[0m\u001b[1;33m,\u001b[0m \u001b[0mstacktrace\u001b[0m\u001b[1;33m,\u001b[0m \u001b[0malert_text\u001b[0m\u001b[1;33m)\u001b[0m\u001b[1;33m\u001b[0m\u001b[1;33m\u001b[0m\u001b[0m\n\u001b[1;32m--> 242\u001b[1;33m         \u001b[1;32mraise\u001b[0m \u001b[0mexception_class\u001b[0m\u001b[1;33m(\u001b[0m\u001b[0mmessage\u001b[0m\u001b[1;33m,\u001b[0m \u001b[0mscreen\u001b[0m\u001b[1;33m,\u001b[0m \u001b[0mstacktrace\u001b[0m\u001b[1;33m)\u001b[0m\u001b[1;33m\u001b[0m\u001b[1;33m\u001b[0m\u001b[0m\n\u001b[0m\u001b[0;32m    243\u001b[0m \u001b[1;33m\u001b[0m\u001b[0m\n\u001b[0;32m    244\u001b[0m     \u001b[1;32mdef\u001b[0m \u001b[0m_value_or_default\u001b[0m\u001b[1;33m(\u001b[0m\u001b[0mself\u001b[0m\u001b[1;33m,\u001b[0m \u001b[0mobj\u001b[0m\u001b[1;33m,\u001b[0m \u001b[0mkey\u001b[0m\u001b[1;33m,\u001b[0m \u001b[0mdefault\u001b[0m\u001b[1;33m)\u001b[0m\u001b[1;33m:\u001b[0m\u001b[1;33m\u001b[0m\u001b[1;33m\u001b[0m\u001b[0m\n",
      "\u001b[1;31mNoSuchElementException\u001b[0m: Message: no such element: Unable to locate element: {\"method\":\"css selector\",\"selector\":\"*[name='ctl00$c$qc$DetailParams'][value='DATE=03/18/2016||FUND=PEQ,PBAL']\"}\n  (Session info: chrome=96.0.4664.110)\n  (Driver info: operadriver=96.0.4664.45 (76e4c1bb2ab4671b8beba3444e61c0f17584b2fc-refs/branch-heads/4664@{#947}),platform=Windows NT 10.0.19044 x86_64)\n"
     ]
    }
   ],
   "source": [
    "driver.find_element(By.CSS_SELECTOR, \"*[name='ctl00$c$qc$DetailParams'][value='DATE=03/18/2016||FUND=PEQ,PBAL']\")"
   ]
  },
  {
   "cell_type": "code",
   "execution_count": 16,
   "id": "560ba041",
   "metadata": {},
   "outputs": [],
   "source": [
    "driver.execute_script(\"arguments[0].value = value='DATE=01/07/2022||FUND=ABMMABR,ABMMBND'\", driver.find_element(By.CSS_SELECTOR, \"*[name='ctl00$c$qc$DetailParams']\"))"
   ]
  },
  {
   "cell_type": "code",
   "execution_count": null,
   "id": "5ac7b5f8",
   "metadata": {},
   "outputs": [],
   "source": []
  }
 ],
 "metadata": {
  "kernelspec": {
   "display_name": "Python 3",
   "language": "python",
   "name": "python3"
  },
  "language_info": {
   "codemirror_mode": {
    "name": "ipython",
    "version": 3
   },
   "file_extension": ".py",
   "mimetype": "text/x-python",
   "name": "python",
   "nbconvert_exporter": "python",
   "pygments_lexer": "ipython3",
   "version": "3.8.8"
  }
 },
 "nbformat": 4,
 "nbformat_minor": 5
}
