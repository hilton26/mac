{
 "cells": [
  {
   "cell_type": "markdown",
   "id": "360f32f9",
   "metadata": {},
   "source": [
    "### Notes\n",
    "If the error message comes back as \"SessionNotCreatedException: Message: session not created: \n",
    "This version of ChromeDriver (OperaDriver) only supports Chrome (Opera) version xx\",\n",
    "get the latest Chrome (Opera) webdriver from\n",
    "\n",
    "https://chromedriver.chromium.org/downloads (https://www.selenium.dev/downloads/)\n",
    "\n",
    "or from github here\n",
    "\n",
    "https://github.com/GoogleChrome/chrome-launcher/releases (https://github.com/operasoftware/operachromiumdriver/releases)\n",
    "\n",
    "and then save it here\n",
    "\n",
    "C:/SeleniumDrivers/"
   ]
  },
  {
   "cell_type": "code",
   "execution_count": 1,
   "id": "e0de57dc",
   "metadata": {},
   "outputs": [],
   "source": [
    "#!pip install webdriver_manager"
   ]
  },
  {
   "cell_type": "code",
   "execution_count": 2,
   "id": "facf3dba",
   "metadata": {},
   "outputs": [],
   "source": [
    "# create a time difference function\n",
    "import datetime\n",
    "\n",
    "def timediff(start, end, decimals = 1):\n",
    "    if   int((end - start) / 3600) > 0: # non-zero hours\n",
    "        return str(int(  (end - start) / 3600)) + 'hr '  + str(int(  (end - start) / 60)          ) + 'min '\\\n",
    "         +                                                 str(round((end - start) % 60, decimals)) + 'sec'\n",
    "    elif int((end - start) / 60)   > 0: # non-zero hours and minutes\n",
    "        return str(int(  (end - start) / 60))   + 'min ' + str(round((end - start) % 60, decimals)) + 'sec'\n",
    "    else:\n",
    "        return                                             str(round((end - start) % 60, decimals)) + 'sec'"
   ]
  },
  {
   "cell_type": "code",
   "execution_count": 3,
   "id": "02a9e7c4",
   "metadata": {},
   "outputs": [],
   "source": [
    "# load libraries\n",
    "import pandas as pd\n",
    "import numpy as np\n",
    "import os\n",
    "import csv\n",
    "import datetime\n",
    "from datetime import date, datetime\n",
    "#from selenium.webdriver.opera.options import Options # to state absolute path of the Opera Browser\n",
    "#from selenium.webdriver.chrome.options import Options # to state absolute path of the Chrome browser\n",
    "from selenium.webdriver.common.by import By\n",
    "from selenium.webdriver.common.keys import Keys\n",
    "from selenium.webdriver.support.select import Select\n",
    "from selenium.webdriver.support.ui import WebDriverWait\n",
    "from selenium.webdriver.support import expected_conditions as EC\n",
    "#import networkdays as networkdays"
   ]
  },
  {
   "cell_type": "code",
   "execution_count": 4,
   "id": "03a44b8e",
   "metadata": {},
   "outputs": [],
   "source": [
    "# set paths to the driver, urls, and report paramters\n",
    "\n",
    "os.environ[\"PATH\"] = r'C:/SeleniumDrivers' # + os.pathsep + os.getenv(\"PATH\")\n",
    "# https://stackoverflow.com/questions/61213005/modify-beginning-of-path-variable-with-os-environ-in-python\n",
    "eagle_portal       = r'https://eagleportal.prescient.co.za'\n",
    "url_default        = eagle_portal + r'/Default.aspx'\n",
    "url_derv           = eagle_portal + r'/Queries/Query.aspx?rpt=DerivativeExposure'\n",
    "url_parn           = eagle_portal + r'/Queries/Query.aspx?rpt=PortfolioAnalytics'\n",
    "\n",
    "pth                = r'P:\\Investment Operations\\GRC\\Compliance\\Daily\\derv_report.xlsx' # variables stored here"
   ]
  },
  {
   "cell_type": "code",
   "execution_count": 5,
   "id": "1f23efd2",
   "metadata": {},
   "outputs": [
    {
     "name": "stdout",
     "output_type": "stream",
     "text": [
      "2023-08-30 00:00:00 \n",
      " 8/30/2023 \n",
      " PLPRNA,PLMED,3BBCIINC,ABMMABR,ABMMBND,ABMMEQU\n"
     ]
    }
   ],
   "source": [
    "# set variables\n",
    "derv_report = pd.read_excel(pth, sheet_name = 'Report', usecols = 'B', nrows = 2)\n",
    "tbl_fnds_   = pd.read_excel(pth, sheet_name = 'Report', usecols = 'A').dropna()\n",
    "flatfnds_   = [element for innerList in tbl_fnds_.values for element in innerList] # https://www.geeksforgeeks.org/python-convert-a-nested-list-into-a-flat-list/\n",
    "fnds_       = (',').join(flatfnds_) # https://stackoverflow.com/questions/12453580/how-to-concatenate-join-items-in-a-list-to-a-single-string\n",
    "\n",
    "aladdin     = derv_report.iat[0,0]\n",
    "sesame      = derv_report.iat[1,0]\n",
    "when        = list(derv_report.columns)[0]\n",
    "when_fmt    = when.strftime('%#m/%#d/%Y') #https://stackabuse.com/how-to-format-dates-in-python/\n",
    "\n",
    "day_        = f'{when:%#d}' # f'{when:%d}' report date with leading zeroes\n",
    "month_year_ = f'{when:%B}, {when:%Y}'\n",
    "month_      = f'{when:%b}'\n",
    "year_       = f'{when:%Y}'\n",
    "\n",
    "print(when, '\\n', when_fmt, '\\n',  fnds_)"
   ]
  },
  {
   "cell_type": "code",
   "execution_count": 6,
   "id": "7faacc5e",
   "metadata": {},
   "outputs": [],
   "source": [
    "from selenium import webdriver\n",
    "# Firewfox (x = 1),  Opera (x = 2), or Chrome (x = 3)\n",
    "x = 1 # select Firefox webdriver\n",
    "\n",
    "if   x == 1:    #https://stackoverflow.com/questions/14603478/firefox-wont-drive-with-selenium-webdriver\n",
    "    driver = webdriver.Firefox()\n",
    "    driver.get(url_parn)\n",
    "\n",
    "elif x == 2:\n",
    "    from selenium.webdriver.chrome.service import Service as ChromeService\n",
    "    from webdriver_manager.chrome import ChromeDriverManager\n",
    "    from selenium.webdriver.chrome.options import Options # to state absolute path of the Chrome browser\n",
    "    driver = webdriver.Chrome()\n",
    "    #driver = webdriver.Chrome(service=ChromeService(ChromeDriverManager().install()))\n",
    "    print(driver.capabilities['chrome']['chromedriverVersion'].split(' ')[0])\n",
    "    \n",
    "elif x == 3:\n",
    "    from selenium.webdriver.common import desired_capabilities\n",
    "    #from selenium.webdriver.opera.options import Options # to state absolute path of the Opera Browser\n",
    "    driver = webdriver.Chrome(r'C:\\SeleniumDrivers\\operadriver.exe')\n",
    "    print(driver.capabilities['browserVersion'])"
   ]
  },
  {
   "cell_type": "code",
   "execution_count": 7,
   "id": "8482d4e3",
   "metadata": {},
   "outputs": [],
   "source": [
    "# open the browser on the Eagle web page\n",
    "driver.get(url_parn)             # fund holdings page\n",
    "wait = WebDriverWait(driver, 10) # https://selenium-python.readthedocs.io/waits.html, max wait for elements to appear"
   ]
  },
  {
   "cell_type": "code",
   "execution_count": 8,
   "id": "ebd0ebd6",
   "metadata": {},
   "outputs": [],
   "source": [
    "# login with credentials\n",
    "driver.find_element(By.CSS_SELECTOR, '#LoginCtrl_MainLoginControl_UserName'   ).send_keys(aladdin)\n",
    "driver.find_element(By.CSS_SELECTOR, '#LoginCtrl_MainLoginControl_Password'   ).send_keys(sesame)\n",
    "driver.find_element(By.CSS_SELECTOR, '#LoginCtrl_MainLoginControl_LoginButton').click()\n",
    "\n",
    "# having logged in, switch to the query page\n",
    "driver.find_element(By.CSS_SELECTOR, '#ModifyLinkLabel'                       ).click()\n",
    "\n",
    "edit_criteria_window = driver.window_handles[0] # save curent window handle\n",
    "# How to switch to new window in Selenium for Python?\n",
    "# https://stackoverflow.com/questions/10629815/how-to-switch-to-new-window-in-selenium-for-python"
   ]
  },
  {
   "cell_type": "code",
   "execution_count": 9,
   "id": "99686183",
   "metadata": {},
   "outputs": [],
   "source": [
    "cal_wait  = wait.until(EC.element_to_be_clickable((By.CSS_SELECTOR, 'input[id=\"ctl00_c_qc_QueryInputs_QueryInputsPopup_DATE1_DateCtrl_From_I\"]')))\n",
    "cal_wait.click()\n",
    "cal_input = driver.find_element(                   By.CSS_SELECTOR, 'input[id=\"ctl00_c_qc_QueryInputs_QueryInputsPopup_DATE1_DateCtrl_From_I\"]')\n",
    "driver.execute_script(f'arguments[0].value = \"{when_fmt}\";', cal_input)"
   ]
  },
  {
   "cell_type": "code",
   "execution_count": null,
   "id": "1a1c9e49",
   "metadata": {},
   "outputs": [],
   "source": []
  },
  {
   "cell_type": "code",
   "execution_count": null,
   "id": "1c87785f",
   "metadata": {},
   "outputs": [],
   "source": []
  },
  {
   "cell_type": "code",
   "execution_count": 11,
   "id": "17ba57c6",
   "metadata": {},
   "outputs": [
    {
     "ename": "TimeoutException",
     "evalue": "Message: \n",
     "output_type": "error",
     "traceback": [
      "\u001b[1;31m---------------------------------------------------------------------------\u001b[0m",
      "\u001b[1;31mTimeoutException\u001b[0m                          Traceback (most recent call last)",
      "Cell \u001b[1;32mIn[11], line 10\u001b[0m\n\u001b[0;32m      3\u001b[0m cal_popup\u001b[38;5;241m.\u001b[39mclick()\n\u001b[0;32m      5\u001b[0m \u001b[38;5;66;03m# get the comma separator between month and date. Avoids the default 'month year' without a separating comma\u001b[39;00m\n\u001b[0;32m      6\u001b[0m \u001b[38;5;66;03m#wait.until(EC.element_to_be_clickable((By.CSS_SELECTOR, 'td[id=\"ctl00_c_qc_QueryInputs_QueryInputsPopup_DATE1_DateCtrl_From_DDD_C_NMC\"]'))).click() # (right) shift calendar to next month\u001b[39;00m\n\u001b[0;32m      7\u001b[0m \u001b[38;5;66;03m#wait.until(EC.element_to_be_clickable((By.CSS_SELECTOR, 'td[id=\"ctl00_c_qc_QueryInputs_QueryInputsPopup_DATE1_DateCtrl_From_DDD_C_PMC\"]'))).click() #  (left) shift calendar to previous month\u001b[39;00m\n\u001b[0;32m      8\u001b[0m \n\u001b[0;32m      9\u001b[0m \u001b[38;5;66;03m# set up the calendar left-clicker\u001b[39;00m\n\u001b[1;32m---> 10\u001b[0m lmonth_selector \u001b[38;5;241m=\u001b[39m \u001b[43mwait\u001b[49m\u001b[38;5;241;43m.\u001b[39;49m\u001b[43muntil\u001b[49m\u001b[43m(\u001b[49m\u001b[43mEC\u001b[49m\u001b[38;5;241;43m.\u001b[39;49m\u001b[43melement_to_be_clickable\u001b[49m\u001b[43m(\u001b[49m\u001b[43m(\u001b[49m\u001b[43mBy\u001b[49m\u001b[38;5;241;43m.\u001b[39;49m\u001b[43mCSS_SELECTOR\u001b[49m\u001b[43m,\u001b[49m\u001b[43m \u001b[49m\u001b[38;5;124;43m'\u001b[39;49m\u001b[38;5;124;43mtd[id=\u001b[39;49m\u001b[38;5;124;43m\"\u001b[39;49m\u001b[38;5;124;43mctl00_c_qc_QueryInputs_QueryInputsPopup_DATE1_DateCtrl_From_DDD_C_PMC\u001b[39;49m\u001b[38;5;124;43m\"\u001b[39;49m\u001b[38;5;124;43m]\u001b[39;49m\u001b[38;5;124;43m'\u001b[39;49m\u001b[43m)\u001b[49m\u001b[43m)\u001b[49m\u001b[43m)\u001b[49m\n",
      "File \u001b[1;32m~\\Anaconda3\\lib\\site-packages\\selenium\\webdriver\\support\\wait.py:95\u001b[0m, in \u001b[0;36mWebDriverWait.until\u001b[1;34m(self, method, message)\u001b[0m\n\u001b[0;32m     93\u001b[0m     \u001b[38;5;28;01mif\u001b[39;00m time\u001b[38;5;241m.\u001b[39mmonotonic() \u001b[38;5;241m>\u001b[39m end_time:\n\u001b[0;32m     94\u001b[0m         \u001b[38;5;28;01mbreak\u001b[39;00m\n\u001b[1;32m---> 95\u001b[0m \u001b[38;5;28;01mraise\u001b[39;00m TimeoutException(message, screen, stacktrace)\n",
      "\u001b[1;31mTimeoutException\u001b[0m: Message: \n"
     ]
    }
   ],
   "source": [
    "# open the calendar\n",
    "cal_popup       = driver.find_element(By.CSS_SELECTOR, 'td[id=\"ctl00_c_qc_QueryInputs_QueryInputsPopup_DATE1_DateCtrl_From_B-1\"]')\n",
    "cal_popup.click()\n",
    "\n",
    "# get the comma separator between month and date. Avoids the default 'month year' without a separating comma\n",
    "#wait.until(EC.element_to_be_clickable((By.CSS_SELECTOR, 'td[id=\"ctl00_c_qc_QueryInputs_QueryInputsPopup_DATE1_DateCtrl_From_DDD_C_NMC\"]'))).click() # (right) shift calendar to next month\n",
    "#wait.until(EC.element_to_be_clickable((By.CSS_SELECTOR, 'td[id=\"ctl00_c_qc_QueryInputs_QueryInputsPopup_DATE1_DateCtrl_From_DDD_C_PMC\"]'))).click() #  (left) shift calendar to previous month\n",
    "\n",
    "# set up the calendar left-clicker\n",
    "lmonth_selector = wait.until(EC.element_to_be_clickable((By.CSS_SELECTOR, 'td[id=\"ctl00_c_qc_QueryInputs_QueryInputsPopup_DATE1_DateCtrl_From_DDD_C_PMC\"]')))"
   ]
  },
  {
   "cell_type": "code",
   "execution_count": null,
   "id": "6549d4b7",
   "metadata": {},
   "outputs": [],
   "source": [
    "from_mnth_selector = wait.until(EC.element_to_be_clickable((By.CSS_SELECTOR, 'td[id=\"ctl00_c_qc_QueryInputs_QueryInputsPopup_DATE1_DateCtrl_From_I\"]')))\n",
    "to_month_selector  = wait.until(EC.element_to_be_clickable((By.CSS_SELECTOR, 'td[id=\"ctl00_c_qc_QueryInputs_QueryInputsPopup_DATE1_DateCtrl_To_I\"]'  )))"
   ]
  },
  {
   "cell_type": "code",
   "execution_count": null,
   "id": "2140937a",
   "metadata": {},
   "outputs": [],
   "source": []
  },
  {
   "cell_type": "code",
   "execution_count": 34,
   "id": "ebf3304b",
   "metadata": {},
   "outputs": [],
   "source": [
    "# left click the calendar until the reporting 'month year' combination presents\n",
    "while driver.find_element(By.XPATH,'//td[@id=\"ctl00_c_qc_QueryInputs_QueryInputsPopup_DATE1_DateCtrl_From_DDD_C_TC\"]').text != month_year_:\n",
    "    lmonth_selector.click()\n",
    "# use Python Selenium to get span text; https://stackoverflow.com/questions/14590341/use-python-selenium-to-get-span-text\n",
    "    \n",
    "# select the reporting day on the calendar\n",
    "day_selector = driver.find_element(By.XPATH,f'//td[@class=\"dxeCalendarDay\"][text()={day_}] | //td[@class=\"dxeCalendarDay dxeCalendarWeekend\"][text()={day_}]')\n",
    "day_selector.click()"
   ]
  },
  {
   "cell_type": "code",
   "execution_count": 35,
   "id": "9e445679",
   "metadata": {},
   "outputs": [],
   "source": [
    "# get the web elements of fund list, and of the submit button\n",
    "fund_selector  = driver.find_element(By.CSS_SELECTOR, 'input[id=\"ctl00_c_qc_QueryInputs_QueryInputsPopup_FUND0_SelectedIds\"]')\n",
    "\n",
    "# assign values to the fund list element\n",
    "driver.execute_script(f'arguments[0].value = \"{fnds_}\";', fund_selector)"
   ]
  },
  {
   "cell_type": "code",
   "execution_count": 36,
   "id": "b875e2e9",
   "metadata": {},
   "outputs": [],
   "source": [
    "# click the 'Submit' button\n",
    "submit_button  = driver.find_element(By.CSS_SELECTOR, 'input[id=\"ctl00_c_qc_QueryInputs_QueryInputsPopup_RunBtn\"]')\n",
    "submit_button.click()"
   ]
  },
  {
   "cell_type": "code",
   "execution_count": null,
   "id": "05ce0bae",
   "metadata": {},
   "outputs": [],
   "source": []
  },
  {
   "cell_type": "code",
   "execution_count": null,
   "id": "0540ce43",
   "metadata": {},
   "outputs": [],
   "source": []
  },
  {
   "cell_type": "code",
   "execution_count": null,
   "id": "ebe3fb7d",
   "metadata": {},
   "outputs": [],
   "source": []
  },
  {
   "cell_type": "code",
   "execution_count": null,
   "id": "3cd28361",
   "metadata": {},
   "outputs": [],
   "source": []
  },
  {
   "cell_type": "code",
   "execution_count": null,
   "id": "4bfa3b78",
   "metadata": {},
   "outputs": [],
   "source": []
  },
  {
   "cell_type": "code",
   "execution_count": null,
   "id": "eb929fe6",
   "metadata": {},
   "outputs": [],
   "source": []
  },
  {
   "cell_type": "code",
   "execution_count": null,
   "id": "8d631092",
   "metadata": {},
   "outputs": [],
   "source": []
  },
  {
   "cell_type": "code",
   "execution_count": null,
   "id": "ad7b19cf",
   "metadata": {},
   "outputs": [],
   "source": []
  },
  {
   "cell_type": "code",
   "execution_count": null,
   "id": "d2657240",
   "metadata": {},
   "outputs": [],
   "source": []
  },
  {
   "cell_type": "code",
   "execution_count": null,
   "id": "b33ec194",
   "metadata": {},
   "outputs": [],
   "source": []
  },
  {
   "cell_type": "code",
   "execution_count": 26,
   "id": "cde526a8",
   "metadata": {},
   "outputs": [
    {
     "ename": "ElementNotInteractableException",
     "evalue": "Message: Element <td id=\"ExportMnu_DXI4_T\" class=\"item\"> could not be scrolled into view\nStacktrace:\nRemoteError@chrome://remote/content/shared/RemoteError.sys.mjs:8:8\nWebDriverError@chrome://remote/content/shared/webdriver/Errors.sys.mjs:187:5\nElementNotInteractableError@chrome://remote/content/shared/webdriver/Errors.sys.mjs:347:5\nwebdriverClickElement@chrome://remote/content/marionette/interaction.sys.mjs:152:11\ninteraction.clickElement@chrome://remote/content/marionette/interaction.sys.mjs:121:11\nclickElement@chrome://remote/content/marionette/actors/MarionetteCommandsChild.sys.mjs:204:29\nreceiveMessage@chrome://remote/content/marionette/actors/MarionetteCommandsChild.sys.mjs:86:31\n",
     "output_type": "error",
     "traceback": [
      "\u001b[1;31m---------------------------------------------------------------------------\u001b[0m",
      "\u001b[1;31mElementNotInteractableException\u001b[0m           Traceback (most recent call last)",
      "Cell \u001b[1;32mIn[26], line 2\u001b[0m\n\u001b[0;32m      1\u001b[0m xls_button  \u001b[38;5;241m=\u001b[39m driver\u001b[38;5;241m.\u001b[39mfind_element(By\u001b[38;5;241m.\u001b[39mCSS_SELECTOR, \u001b[38;5;124m'\u001b[39m\u001b[38;5;124mtd[id=\u001b[39m\u001b[38;5;124m\"\u001b[39m\u001b[38;5;124mExportMnu_DXI4_T\u001b[39m\u001b[38;5;124m\"\u001b[39m\u001b[38;5;124m]\u001b[39m\u001b[38;5;124m'\u001b[39m)\n\u001b[1;32m----> 2\u001b[0m \u001b[43mxls_button\u001b[49m\u001b[38;5;241;43m.\u001b[39;49m\u001b[43mclick\u001b[49m\u001b[43m(\u001b[49m\u001b[43m)\u001b[49m\n",
      "File \u001b[1;32m~\\Anaconda3\\lib\\site-packages\\selenium\\webdriver\\remote\\webelement.py:93\u001b[0m, in \u001b[0;36mWebElement.click\u001b[1;34m(self)\u001b[0m\n\u001b[0;32m     91\u001b[0m \u001b[38;5;28;01mdef\u001b[39;00m \u001b[38;5;21mclick\u001b[39m(\u001b[38;5;28mself\u001b[39m) \u001b[38;5;241m-\u001b[39m\u001b[38;5;241m>\u001b[39m \u001b[38;5;28;01mNone\u001b[39;00m:\n\u001b[0;32m     92\u001b[0m     \u001b[38;5;124;03m\"\"\"Clicks the element.\"\"\"\u001b[39;00m\n\u001b[1;32m---> 93\u001b[0m     \u001b[38;5;28;43mself\u001b[39;49m\u001b[38;5;241;43m.\u001b[39;49m\u001b[43m_execute\u001b[49m\u001b[43m(\u001b[49m\u001b[43mCommand\u001b[49m\u001b[38;5;241;43m.\u001b[39;49m\u001b[43mCLICK_ELEMENT\u001b[49m\u001b[43m)\u001b[49m\n",
      "File \u001b[1;32m~\\Anaconda3\\lib\\site-packages\\selenium\\webdriver\\remote\\webelement.py:410\u001b[0m, in \u001b[0;36mWebElement._execute\u001b[1;34m(self, command, params)\u001b[0m\n\u001b[0;32m    408\u001b[0m     params \u001b[38;5;241m=\u001b[39m {}\n\u001b[0;32m    409\u001b[0m params[\u001b[38;5;124m\"\u001b[39m\u001b[38;5;124mid\u001b[39m\u001b[38;5;124m\"\u001b[39m] \u001b[38;5;241m=\u001b[39m \u001b[38;5;28mself\u001b[39m\u001b[38;5;241m.\u001b[39m_id\n\u001b[1;32m--> 410\u001b[0m \u001b[38;5;28;01mreturn\u001b[39;00m \u001b[38;5;28;43mself\u001b[39;49m\u001b[38;5;241;43m.\u001b[39;49m\u001b[43m_parent\u001b[49m\u001b[38;5;241;43m.\u001b[39;49m\u001b[43mexecute\u001b[49m\u001b[43m(\u001b[49m\u001b[43mcommand\u001b[49m\u001b[43m,\u001b[49m\u001b[43m \u001b[49m\u001b[43mparams\u001b[49m\u001b[43m)\u001b[49m\n",
      "File \u001b[1;32m~\\Anaconda3\\lib\\site-packages\\selenium\\webdriver\\remote\\webdriver.py:444\u001b[0m, in \u001b[0;36mWebDriver.execute\u001b[1;34m(self, driver_command, params)\u001b[0m\n\u001b[0;32m    442\u001b[0m response \u001b[38;5;241m=\u001b[39m \u001b[38;5;28mself\u001b[39m\u001b[38;5;241m.\u001b[39mcommand_executor\u001b[38;5;241m.\u001b[39mexecute(driver_command, params)\n\u001b[0;32m    443\u001b[0m \u001b[38;5;28;01mif\u001b[39;00m response:\n\u001b[1;32m--> 444\u001b[0m     \u001b[38;5;28;43mself\u001b[39;49m\u001b[38;5;241;43m.\u001b[39;49m\u001b[43merror_handler\u001b[49m\u001b[38;5;241;43m.\u001b[39;49m\u001b[43mcheck_response\u001b[49m\u001b[43m(\u001b[49m\u001b[43mresponse\u001b[49m\u001b[43m)\u001b[49m\n\u001b[0;32m    445\u001b[0m     response[\u001b[38;5;124m\"\u001b[39m\u001b[38;5;124mvalue\u001b[39m\u001b[38;5;124m\"\u001b[39m] \u001b[38;5;241m=\u001b[39m \u001b[38;5;28mself\u001b[39m\u001b[38;5;241m.\u001b[39m_unwrap_value(response\u001b[38;5;241m.\u001b[39mget(\u001b[38;5;124m\"\u001b[39m\u001b[38;5;124mvalue\u001b[39m\u001b[38;5;124m\"\u001b[39m, \u001b[38;5;28;01mNone\u001b[39;00m))\n\u001b[0;32m    446\u001b[0m     \u001b[38;5;28;01mreturn\u001b[39;00m response\n",
      "File \u001b[1;32m~\\Anaconda3\\lib\\site-packages\\selenium\\webdriver\\remote\\errorhandler.py:249\u001b[0m, in \u001b[0;36mErrorHandler.check_response\u001b[1;34m(self, response)\u001b[0m\n\u001b[0;32m    247\u001b[0m         alert_text \u001b[38;5;241m=\u001b[39m value[\u001b[38;5;124m\"\u001b[39m\u001b[38;5;124malert\u001b[39m\u001b[38;5;124m\"\u001b[39m]\u001b[38;5;241m.\u001b[39mget(\u001b[38;5;124m\"\u001b[39m\u001b[38;5;124mtext\u001b[39m\u001b[38;5;124m\"\u001b[39m)\n\u001b[0;32m    248\u001b[0m     \u001b[38;5;28;01mraise\u001b[39;00m exception_class(message, screen, stacktrace, alert_text)  \u001b[38;5;66;03m# type: ignore[call-arg]  # mypy is not smart enough here\u001b[39;00m\n\u001b[1;32m--> 249\u001b[0m \u001b[38;5;28;01mraise\u001b[39;00m exception_class(message, screen, stacktrace)\n",
      "\u001b[1;31mElementNotInteractableException\u001b[0m: Message: Element <td id=\"ExportMnu_DXI4_T\" class=\"item\"> could not be scrolled into view\nStacktrace:\nRemoteError@chrome://remote/content/shared/RemoteError.sys.mjs:8:8\nWebDriverError@chrome://remote/content/shared/webdriver/Errors.sys.mjs:187:5\nElementNotInteractableError@chrome://remote/content/shared/webdriver/Errors.sys.mjs:347:5\nwebdriverClickElement@chrome://remote/content/marionette/interaction.sys.mjs:152:11\ninteraction.clickElement@chrome://remote/content/marionette/interaction.sys.mjs:121:11\nclickElement@chrome://remote/content/marionette/actors/MarionetteCommandsChild.sys.mjs:204:29\nreceiveMessage@chrome://remote/content/marionette/actors/MarionetteCommandsChild.sys.mjs:86:31\n"
     ]
    }
   ],
   "source": [
    "xls_button  = driver.find_element(By.CSS_SELECTOR, 'td[id=\"ExportMnu_DXI4_T\"]')\n",
    "xls_button.click()"
   ]
  },
  {
   "cell_type": "code",
   "execution_count": null,
   "id": "f4357c60",
   "metadata": {},
   "outputs": [],
   "source": []
  },
  {
   "cell_type": "code",
   "execution_count": null,
   "id": "c75effd3",
   "metadata": {},
   "outputs": [],
   "source": []
  },
  {
   "cell_type": "code",
   "execution_count": null,
   "id": "bf746296",
   "metadata": {},
   "outputs": [],
   "source": []
  },
  {
   "cell_type": "code",
   "execution_count": null,
   "id": "eb860ef0",
   "metadata": {},
   "outputs": [],
   "source": []
  },
  {
   "cell_type": "code",
   "execution_count": null,
   "id": "7c8674cb",
   "metadata": {},
   "outputs": [],
   "source": []
  },
  {
   "cell_type": "code",
   "execution_count": null,
   "id": "45f24ba7",
   "metadata": {},
   "outputs": [],
   "source": []
  },
  {
   "cell_type": "code",
   "execution_count": null,
   "id": "6bd0f5e9",
   "metadata": {},
   "outputs": [],
   "source": []
  },
  {
   "cell_type": "code",
   "execution_count": null,
   "id": "23ebb073",
   "metadata": {},
   "outputs": [],
   "source": [
    "# SPARE\n",
    "# click the month, year selector\n",
    "month_year_selector = driver.find_element(By.CSS_SELECTOR, 'td[id=\"ctl00_c_qc_QueryInputs_QueryInputsPopup_DATE1_DateCtrl_From_DDD_C_TC\"]')\n",
    "month_year_selector.click()"
   ]
  },
  {
   "cell_type": "code",
   "execution_count": null,
   "id": "dc8a1038",
   "metadata": {},
   "outputs": [],
   "source": [
    "pre_calendar = driver.window_handles[0]\n",
    "pre_calendar"
   ]
  },
  {
   "cell_type": "code",
   "execution_count": null,
   "id": "e92cff92",
   "metadata": {},
   "outputs": [],
   "source": [
    "curr_calendar = driver.window_handles[0]\n",
    "curr_calendar"
   ]
  },
  {
   "cell_type": "code",
   "execution_count": null,
   "id": "c82c956e",
   "metadata": {},
   "outputs": [],
   "source": [
    "driver.find_element(By.XPATH,'//td[@class=\"dxeCalendarFastNavYear dxeCalendarFastNavYearSelected\"]').text"
   ]
  },
  {
   "cell_type": "code",
   "execution_count": null,
   "id": "6541cda7",
   "metadata": {},
   "outputs": [],
   "source": [
    "# SPARE - open the calendar\n",
    "#cal_popup       = driver.find_element(By.CSS_SELECTOR, 'td[id=\"ctl00_c_qc_QueryInputs_QueryInputsPopup_DATE1_DateCtrl_From_B-1\"]')\n",
    "#cal_popup.click()"
   ]
  },
  {
   "cell_type": "code",
   "execution_count": null,
   "id": "ef3c6bc4",
   "metadata": {},
   "outputs": [],
   "source": [
    "driver.find_element(By.XPATH,'//td[@class=\"dxeCalendarFastNavYearSelected\"]').text"
   ]
  },
  {
   "cell_type": "code",
   "execution_count": null,
   "id": "d3044314",
   "metadata": {},
   "outputs": [],
   "source": [
    "# get the web elements of fund list, and of the submit button\n",
    "fund_selector  = driver.find_element(By.CSS_SELECTOR, 'input[id=\"ctl00_c_qc_QueryInputs_QueryInputsPopup_FUND0_SelectedIds\"]')\n",
    "\n",
    "# assign values to the fund list elements\n",
    "driver.execute_script(f'arguments[0].value = \"IJGIPF,QIFFGIF\";', fund_selector)"
   ]
  },
  {
   "cell_type": "code",
   "execution_count": null,
   "id": "538d0d33",
   "metadata": {},
   "outputs": [],
   "source": [
    "# click the submit button\n"
   ]
  },
  {
   "cell_type": "code",
   "execution_count": null,
   "id": "b849fb36",
   "metadata": {},
   "outputs": [],
   "source": []
  },
  {
   "cell_type": "code",
   "execution_count": null,
   "id": "dd943e73",
   "metadata": {},
   "outputs": [],
   "source": [
    "list(driver.find_elements(By.XPATH,'//td[@class=\"dxeCalendarFastNavYear\"] | td[@class=\"dxeCalendarFastNavYear dxeCalendarFastNavYearSelected\"]'))"
   ]
  },
  {
   "cell_type": "code",
   "execution_count": null,
   "id": "00d6179a",
   "metadata": {},
   "outputs": [],
   "source": [
    "list(e.text for e in driver.find_elements(By.XPATH,'//td[@class=\"dxeCalendarFastNavYear\"] | td[@class=\"dxeCalendarFastNavYear dxeCalendarFastNavYearSelected\"] | td[@class=\"dxeCalendarFastNavYear dxeCalendarFastNavYearSelected dxeCalendarFastNavYearHover\"]'))"
   ]
  },
  {
   "cell_type": "code",
   "execution_count": null,
   "id": "abe585ca",
   "metadata": {},
   "outputs": [],
   "source": [
    "x = driver.find_elements(By.XPATH,'//td[@class=\"dxeCalendarFastNavYear\"] | td[@class=\"dxeCalendarFastNavYear dxeCalendarFastNavYearSelected\"]')\n",
    "x"
   ]
  },
  {
   "cell_type": "code",
   "execution_count": null,
   "id": "bb0aec87",
   "metadata": {},
   "outputs": [],
   "source": [
    "# find the year shift-left clicker button\n",
    "lyear_selector = driver.find_element(By.CSS_SELECTOR, 'img[class=\"dxEditors_edtCalendarFNPrevYear\"]') # year shift-left selector\n",
    "\n",
    "# find the correct year\n",
    "while year_ not in list(e.text for e in driver.find_elements(By.XPATH,'//td[@class=\"dxeCalendarFastNavYear\"] | td[@class=\"dxeCalendarFastNavYear dxeCalendarFastNavYearSelected\"]')):\n",
    "    lyear_selector.click()\n",
    "    \n",
    "# click the correct year"
   ]
  },
  {
   "cell_type": "code",
   "execution_count": null,
   "id": "59be483a",
   "metadata": {},
   "outputs": [],
   "source": [
    "month_"
   ]
  },
  {
   "cell_type": "code",
   "execution_count": null,
   "id": "c5537599",
   "metadata": {},
   "outputs": [],
   "source": [
    "mo_ =  driver.find_elements(By.XPATH,f'//td[@class=\"dxeCalendarFastNavMonth\"] | //td[@class=\"dxeCalendarFastNavMonth dxeCalendarFastNavMonthSelected\"] | //td[@class=\"dxeCalendarFastNavMonth dxeCalendarFastNavMonthSelected dxeCalendarFastNavMonthHover\"]')\n",
    "for e in mo_:\n",
    "    print(e.text, type(e.text))"
   ]
  },
  {
   "cell_type": "code",
   "execution_count": null,
   "id": "a443a085",
   "metadata": {},
   "outputs": [],
   "source": [
    "month_selector = driver.find_elements(By.XPATH,f'//td[@class=\"dxeCalendarFastNavMonth\"][text()={month_}] | //td[@class=\"dxeCalendarFastNavMonth dxeCalendarFastNavMonthSelected\"][text()={month_}]')\n",
    "for e in month_selector:\n",
    "    print(e)"
   ]
  },
  {
   "cell_type": "code",
   "execution_count": null,
   "id": "5f127688",
   "metadata": {},
   "outputs": [],
   "source": [
    "month_selector = driver.find_elements(By.XPATH,f'//td[@class=\"dxeCalendarFastNavMonth\"][text()=\"{month_}\"] | //td[@class=\"dxeCalendarFastNavMonth dxeCalendarFastNavMonthSelected\"][text()=\"{month_}\"] | //td[@class=\"dxeCalendarFastNavMonth dxeCalendarFastNavMonthSelected dxeCalendarFastNavMonthHover\"][text()=\"{month_}\"]')"
   ]
  },
  {
   "cell_type": "code",
   "execution_count": null,
   "id": "34c88db1",
   "metadata": {},
   "outputs": [],
   "source": []
  },
  {
   "cell_type": "code",
   "execution_count": null,
   "id": "e1c1f5a3",
   "metadata": {},
   "outputs": [],
   "source": [
    "# select the reporting month on the calendar\n",
    "month_selector = driver.find_element(By.XPATH,f'//td[@class=\"dxeCalendarFastNavMonth\"][text()=\"{month_}\"] | //td[@class=\"dxeCalendarFastNavMonth dxeCalendarFastNavMonthSelected\"][text()=\"{month_}\"] | //td[@class=\"dxeCalendarFastNavMonth dxeCalendarFastNavMonthSelected dxeCalendarFastNavMonthHover\"][text()=\"{month_}\"]')\n",
    "month_selector.click()"
   ]
  },
  {
   "cell_type": "code",
   "execution_count": null,
   "id": "ce26ef6c",
   "metadata": {},
   "outputs": [],
   "source": []
  },
  {
   "cell_type": "code",
   "execution_count": null,
   "id": "d90ba293",
   "metadata": {},
   "outputs": [],
   "source": [
    "# click the 'Submit' button\n",
    "submit_button  = driver.find_element(By.CSS_SELECTOR, 'input[id=\"ctl00_c_qc_QueryInputs_QueryInputsPopup_RunBtn\"]')\n",
    "submit_button.click()"
   ]
  },
  {
   "cell_type": "code",
   "execution_count": null,
   "id": "92a2d777",
   "metadata": {},
   "outputs": [],
   "source": []
  },
  {
   "cell_type": "code",
   "execution_count": null,
   "id": "a8ce8f71",
   "metadata": {},
   "outputs": [],
   "source": []
  },
  {
   "cell_type": "code",
   "execution_count": null,
   "id": "bc1fb415",
   "metadata": {},
   "outputs": [],
   "source": []
  },
  {
   "cell_type": "code",
   "execution_count": null,
   "id": "41de5575",
   "metadata": {},
   "outputs": [],
   "source": [
    "# enter fund names\n",
    "name_      = driver.find_element(By.CSS_SELECTOR, 'input[id=\"ctl00_c_qc_QueryInputs_QueryInputsPopup_FUND0_FilterValue\"]')\n",
    "#name_tick_ = driver.find_element(By.CSS_SELECTOR, 'span[id=\"ctl00_c_qc_QueryInputs_QueryInputsPopup_FUND0_SimpleFilterGrid_DXSelBtn0_D\"]')\n",
    "#name_tick_ = wait.until(EC.element_to_be_clickable((By.CSS_SELECTOR, 'span[id=\"ctl00_c_qc_QueryInputs_QueryInputsPopup_FUND0_SimpleFilterGrid_DXSelBtn0_D\"]'))).click()\n",
    "\n",
    "#name_.send_keys('LAUBAl')\n",
    "#name_tick_.click()\n",
    "\n",
    "for name in fnds_:\n",
    "    name_.send_keys(name)\n",
    "    #driver.execute_script(name, name_)\n",
    "    wait.until(EC.element_to_be_clickable((By.CSS_SELECTOR, 'span[id=\"ctl00_c_qc_QueryInputs_QueryInputsPopup_FUND0_SimpleFilterGrid_DXSelBtn0_D\"]'))).click()\n",
    "    name_.clear()"
   ]
  },
  {
   "cell_type": "code",
   "execution_count": null,
   "id": "2ff410c4",
   "metadata": {},
   "outputs": [],
   "source": [
    "for handle in driver.window_handles:\n",
    "    driver.switch_to.window(handle)\n",
    "    print(driver.title)"
   ]
  },
  {
   "cell_type": "code",
   "execution_count": null,
   "id": "b09922c4",
   "metadata": {},
   "outputs": [],
   "source": [
    "x = driver.getWindowHandle[0]\n",
    "x"
   ]
  },
  {
   "cell_type": "code",
   "execution_count": null,
   "id": "e5ae5b4c",
   "metadata": {},
   "outputs": [],
   "source": [
    "window_before = driver.window_handles[0]\n",
    "window_before"
   ]
  },
  {
   "cell_type": "code",
   "execution_count": null,
   "id": "2e81cc47",
   "metadata": {},
   "outputs": [],
   "source": []
  },
  {
   "cell_type": "code",
   "execution_count": null,
   "id": "3724310f",
   "metadata": {},
   "outputs": [],
   "source": [
    "fund_selector.get_attribute(\"value\")"
   ]
  },
  {
   "cell_type": "code",
   "execution_count": null,
   "id": "b57fc43c",
   "metadata": {},
   "outputs": [],
   "source": [
    "driver.find_element(By.CSS_SELECTOR, 'tr[id=\"ctl00_c_qc_QueryInputs_QueryInputsPopup_FUND0_SelectedItemsGrid_DXSyncInput\"][dxo.keys]').text"
   ]
  },
  {
   "cell_type": "code",
   "execution_count": null,
   "id": "ee45ec89",
   "metadata": {},
   "outputs": [],
   "source": [
    "driver.find_element(By.XPATH, \"//*[@id='dxss_1044391392']//*[dxo.keys=['IJGIPF','PMMF','QIFFGIF']]\")\n",
    "\n",
    "#//*[@id=\"dxss_1044391392\"]/text()"
   ]
  },
  {
   "cell_type": "code",
   "execution_count": null,
   "id": "b0d663f5",
   "metadata": {},
   "outputs": [],
   "source": []
  },
  {
   "cell_type": "code",
   "execution_count": null,
   "id": "81f27dee",
   "metadata": {},
   "outputs": [],
   "source": [
    "# check that funds list is accurate\n",
    "len(fnds_), len(fund_selector.get_attribute(\"value\"))"
   ]
  },
  {
   "cell_type": "code",
   "execution_count": null,
   "id": "c6e0e0b1",
   "metadata": {},
   "outputs": [],
   "source": []
  },
  {
   "cell_type": "code",
   "execution_count": null,
   "id": "5f5207e6",
   "metadata": {},
   "outputs": [],
   "source": []
  },
  {
   "cell_type": "code",
   "execution_count": null,
   "id": "fb6d27a9",
   "metadata": {},
   "outputs": [],
   "source": []
  },
  {
   "cell_type": "code",
   "execution_count": null,
   "id": "81feaa0c",
   "metadata": {},
   "outputs": [],
   "source": []
  },
  {
   "cell_type": "code",
   "execution_count": null,
   "id": "a1427eda",
   "metadata": {},
   "outputs": [],
   "source": [
    "#fx = driver.find_element(By.CSS_SELECTOR, 'tr[id=\"ctl00_c_qc_QueryInputs_QueryInputsPopup_FUND0_SelectedItemsGrid_DXDataRow3\"]')\n",
    "fx = driver.find_element(By.CSS_SELECTOR, 'tr[id=\"ctl00_c_qc_QueryInputs_QueryInputsPopup_FUND0_SelectedItemsGrid_DXSyncInput\"]')\n",
    "\n",
    "\n",
    "# assign values to the fund list elements\n",
    "driver.execute_script(f'arguments[0].value = \"IJGIPF, QIFFGIF\";', fund_selector)\n",
    "#ctl00_c_qc_QueryInputs_QueryInputsPopup_FUND0_SelectedItemsGrid_DXDataRow0"
   ]
  },
  {
   "cell_type": "code",
   "execution_count": null,
   "id": "6aac4ae3",
   "metadata": {},
   "outputs": [],
   "source": []
  }
 ],
 "metadata": {
  "kernelspec": {
   "display_name": "Python 3 (ipykernel)",
   "language": "python",
   "name": "python3"
  },
  "language_info": {
   "codemirror_mode": {
    "name": "ipython",
    "version": 3
   },
   "file_extension": ".py",
   "mimetype": "text/x-python",
   "name": "python",
   "nbconvert_exporter": "python",
   "pygments_lexer": "ipython3",
   "version": "3.9.12"
  }
 },
 "nbformat": 4,
 "nbformat_minor": 5
}
