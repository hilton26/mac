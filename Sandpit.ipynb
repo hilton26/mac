{
 "cells": [
  {
   "cell_type": "markdown",
   "id": "65482c6c",
   "metadata": {},
   "source": [
    "#### How to apply a function to two columns of Pandas dataframe\n",
    "https://stackoverflow.com/questions/13331698/how-to-apply-a-function-to-two-columns-of-pandas-dataframe"
   ]
  },
  {
   "cell_type": "code",
   "execution_count": 2,
   "id": "f88f7b41",
   "metadata": {},
   "outputs": [
    {
     "name": "stdout",
     "output_type": "stream",
     "text": [
      "  ID  col_1  col_2      col_3\n",
      "0  1      0      1     [a, b]\n",
      "1  2      2      4  [c, d, e]\n",
      "2  3      3      5  [d, e, f]\n"
     ]
    }
   ],
   "source": [
    "import pandas as pd\n",
    "\n",
    "df = pd.DataFrame({'ID':['1', '2', '3'], 'col_1': [0, 2, 3], 'col_2':[1, 4, 5]})\n",
    "mylist = ['a', 'b', 'c', 'd', 'e', 'f']\n",
    "\n",
    "def get_sublist(sta,end):\n",
    "    return mylist[sta:end+1]\n",
    "\n",
    "df['col_3'] = df.apply(lambda x: get_sublist(x.col_1, x.col_2), axis=1)\n",
    "\n",
    "print(df)"
   ]
  },
  {
   "cell_type": "code",
   "execution_count": 3,
   "id": "28b4342a",
   "metadata": {},
   "outputs": [
    {
     "ename": "NameError",
     "evalue": "name 'f' is not defined",
     "output_type": "error",
     "traceback": [
      "\u001b[1;31m---------------------------------------------------------------------------\u001b[0m",
      "\u001b[1;31mNameError\u001b[0m                                 Traceback (most recent call last)",
      "Input \u001b[1;32mIn [3]\u001b[0m, in \u001b[0;36m<cell line: 1>\u001b[1;34m()\u001b[0m\n\u001b[1;32m----> 1\u001b[0m df2[\u001b[38;5;124m'\u001b[39m\u001b[38;5;124mcol_3\u001b[39m\u001b[38;5;124m'\u001b[39m] \u001b[38;5;241m=\u001b[39m \u001b[43mdf\u001b[49m\u001b[38;5;241;43m.\u001b[39;49m\u001b[43mapply\u001b[49m\u001b[43m(\u001b[49m\u001b[38;5;28;43;01mlambda\u001b[39;49;00m\u001b[43m \u001b[49m\u001b[43mx\u001b[49m\u001b[43m:\u001b[49m\u001b[43m \u001b[49m\u001b[43mf\u001b[49m\u001b[43m(\u001b[49m\u001b[43mx\u001b[49m\u001b[43m[\u001b[49m\u001b[38;5;124;43m'\u001b[39;49m\u001b[38;5;124;43mcol 1\u001b[39;49m\u001b[38;5;124;43m'\u001b[39;49m\u001b[43m]\u001b[49m\u001b[43m,\u001b[49m\u001b[43m \u001b[49m\u001b[43mx\u001b[49m\u001b[43m[\u001b[49m\u001b[38;5;124;43m'\u001b[39;49m\u001b[38;5;124;43mcol 2\u001b[39;49m\u001b[38;5;124;43m'\u001b[39;49m\u001b[43m]\u001b[49m\u001b[43m)\u001b[49m\u001b[43m,\u001b[49m\u001b[43m \u001b[49m\u001b[43maxis\u001b[49m\u001b[38;5;241;43m=\u001b[39;49m\u001b[38;5;241;43m1\u001b[39;49m\u001b[43m)\u001b[49m\n\u001b[0;32m      3\u001b[0m \u001b[38;5;28mprint\u001b[39m(df2)\n",
      "File \u001b[1;32m~\\Anaconda3\\lib\\site-packages\\pandas\\core\\frame.py:8839\u001b[0m, in \u001b[0;36mDataFrame.apply\u001b[1;34m(self, func, axis, raw, result_type, args, **kwargs)\u001b[0m\n\u001b[0;32m   8828\u001b[0m \u001b[38;5;28;01mfrom\u001b[39;00m \u001b[38;5;21;01mpandas\u001b[39;00m\u001b[38;5;21;01m.\u001b[39;00m\u001b[38;5;21;01mcore\u001b[39;00m\u001b[38;5;21;01m.\u001b[39;00m\u001b[38;5;21;01mapply\u001b[39;00m \u001b[38;5;28;01mimport\u001b[39;00m frame_apply\n\u001b[0;32m   8830\u001b[0m op \u001b[38;5;241m=\u001b[39m frame_apply(\n\u001b[0;32m   8831\u001b[0m     \u001b[38;5;28mself\u001b[39m,\n\u001b[0;32m   8832\u001b[0m     func\u001b[38;5;241m=\u001b[39mfunc,\n\u001b[1;32m   (...)\u001b[0m\n\u001b[0;32m   8837\u001b[0m     kwargs\u001b[38;5;241m=\u001b[39mkwargs,\n\u001b[0;32m   8838\u001b[0m )\n\u001b[1;32m-> 8839\u001b[0m \u001b[38;5;28;01mreturn\u001b[39;00m \u001b[43mop\u001b[49m\u001b[38;5;241;43m.\u001b[39;49m\u001b[43mapply\u001b[49m\u001b[43m(\u001b[49m\u001b[43m)\u001b[49m\u001b[38;5;241m.\u001b[39m__finalize__(\u001b[38;5;28mself\u001b[39m, method\u001b[38;5;241m=\u001b[39m\u001b[38;5;124m\"\u001b[39m\u001b[38;5;124mapply\u001b[39m\u001b[38;5;124m\"\u001b[39m)\n",
      "File \u001b[1;32m~\\Anaconda3\\lib\\site-packages\\pandas\\core\\apply.py:727\u001b[0m, in \u001b[0;36mFrameApply.apply\u001b[1;34m(self)\u001b[0m\n\u001b[0;32m    724\u001b[0m \u001b[38;5;28;01melif\u001b[39;00m \u001b[38;5;28mself\u001b[39m\u001b[38;5;241m.\u001b[39mraw:\n\u001b[0;32m    725\u001b[0m     \u001b[38;5;28;01mreturn\u001b[39;00m \u001b[38;5;28mself\u001b[39m\u001b[38;5;241m.\u001b[39mapply_raw()\n\u001b[1;32m--> 727\u001b[0m \u001b[38;5;28;01mreturn\u001b[39;00m \u001b[38;5;28;43mself\u001b[39;49m\u001b[38;5;241;43m.\u001b[39;49m\u001b[43mapply_standard\u001b[49m\u001b[43m(\u001b[49m\u001b[43m)\u001b[49m\n",
      "File \u001b[1;32m~\\Anaconda3\\lib\\site-packages\\pandas\\core\\apply.py:851\u001b[0m, in \u001b[0;36mFrameApply.apply_standard\u001b[1;34m(self)\u001b[0m\n\u001b[0;32m    850\u001b[0m \u001b[38;5;28;01mdef\u001b[39;00m \u001b[38;5;21mapply_standard\u001b[39m(\u001b[38;5;28mself\u001b[39m):\n\u001b[1;32m--> 851\u001b[0m     results, res_index \u001b[38;5;241m=\u001b[39m \u001b[38;5;28;43mself\u001b[39;49m\u001b[38;5;241;43m.\u001b[39;49m\u001b[43mapply_series_generator\u001b[49m\u001b[43m(\u001b[49m\u001b[43m)\u001b[49m\n\u001b[0;32m    853\u001b[0m     \u001b[38;5;66;03m# wrap results\u001b[39;00m\n\u001b[0;32m    854\u001b[0m     \u001b[38;5;28;01mreturn\u001b[39;00m \u001b[38;5;28mself\u001b[39m\u001b[38;5;241m.\u001b[39mwrap_results(results, res_index)\n",
      "File \u001b[1;32m~\\Anaconda3\\lib\\site-packages\\pandas\\core\\apply.py:867\u001b[0m, in \u001b[0;36mFrameApply.apply_series_generator\u001b[1;34m(self)\u001b[0m\n\u001b[0;32m    864\u001b[0m \u001b[38;5;28;01mwith\u001b[39;00m option_context(\u001b[38;5;124m\"\u001b[39m\u001b[38;5;124mmode.chained_assignment\u001b[39m\u001b[38;5;124m\"\u001b[39m, \u001b[38;5;28;01mNone\u001b[39;00m):\n\u001b[0;32m    865\u001b[0m     \u001b[38;5;28;01mfor\u001b[39;00m i, v \u001b[38;5;129;01min\u001b[39;00m \u001b[38;5;28menumerate\u001b[39m(series_gen):\n\u001b[0;32m    866\u001b[0m         \u001b[38;5;66;03m# ignore SettingWithCopy here in case the user mutates\u001b[39;00m\n\u001b[1;32m--> 867\u001b[0m         results[i] \u001b[38;5;241m=\u001b[39m \u001b[38;5;28;43mself\u001b[39;49m\u001b[38;5;241;43m.\u001b[39;49m\u001b[43mf\u001b[49m\u001b[43m(\u001b[49m\u001b[43mv\u001b[49m\u001b[43m)\u001b[49m\n\u001b[0;32m    868\u001b[0m         \u001b[38;5;28;01mif\u001b[39;00m \u001b[38;5;28misinstance\u001b[39m(results[i], ABCSeries):\n\u001b[0;32m    869\u001b[0m             \u001b[38;5;66;03m# If we have a view on v, we need to make a copy because\u001b[39;00m\n\u001b[0;32m    870\u001b[0m             \u001b[38;5;66;03m#  series_generator will swap out the underlying data\u001b[39;00m\n\u001b[0;32m    871\u001b[0m             results[i] \u001b[38;5;241m=\u001b[39m results[i]\u001b[38;5;241m.\u001b[39mcopy(deep\u001b[38;5;241m=\u001b[39m\u001b[38;5;28;01mFalse\u001b[39;00m)\n",
      "Input \u001b[1;32mIn [3]\u001b[0m, in \u001b[0;36m<lambda>\u001b[1;34m(x)\u001b[0m\n\u001b[1;32m----> 1\u001b[0m df2[\u001b[38;5;124m'\u001b[39m\u001b[38;5;124mcol_3\u001b[39m\u001b[38;5;124m'\u001b[39m] \u001b[38;5;241m=\u001b[39m df\u001b[38;5;241m.\u001b[39mapply(\u001b[38;5;28;01mlambda\u001b[39;00m x: \u001b[43mf\u001b[49m(x[\u001b[38;5;124m'\u001b[39m\u001b[38;5;124mcol 1\u001b[39m\u001b[38;5;124m'\u001b[39m], x[\u001b[38;5;124m'\u001b[39m\u001b[38;5;124mcol 2\u001b[39m\u001b[38;5;124m'\u001b[39m]), axis\u001b[38;5;241m=\u001b[39m\u001b[38;5;241m1\u001b[39m)\n\u001b[0;32m      3\u001b[0m \u001b[38;5;28mprint\u001b[39m(df2)\n",
      "\u001b[1;31mNameError\u001b[0m: name 'f' is not defined"
     ]
    }
   ],
   "source": [
    "df2['col_3'] = df.apply(lambda x: f(x['col 1'], x['col 2']), axis=1)\n",
    "\n",
    "print(df2)"
   ]
  },
  {
   "cell_type": "code",
   "execution_count": 5,
   "id": "9d1fa31e",
   "metadata": {},
   "outputs": [
    {
     "name": "stdout",
     "output_type": "stream",
     "text": [
      "[0 1 2 3 4 5 6 7 8 9] [ 0  1  2  3  4 50 60 70 80 90]\n"
     ]
    }
   ],
   "source": [
    "# Demystifying np.where and np.select\n",
    "# https://medium.com/analytics-vidhya/demystifying-np-where-and-np-select-76e3ca49e316\n",
    "import numpy as np \n",
    "a = np.arange(10)\n",
    "print (a, np.where(a < 5,a,10*a))"
   ]
  },
  {
   "cell_type": "code",
   "execution_count": 5,
   "id": "cd56932c",
   "metadata": {},
   "outputs": [
    {
     "data": {
      "text/plain": [
       "\"@ 20230816 Rates, Electricity 589kWh, Water 14kI, Refuse, Sewerage IOkI R3857, 14 @ 202307/7 Rates, Electricity 81 lkWh, Water 121, Refuse, Sewerage 10kl R4247,29 @ 202306/5 Rates, Electricity 776kVVh, Water 12kl, Refuse Sewerage 9kl R3877,07 @ 20230516 Rates, Electricity 651 kWh, Water 14kI, Refuse, Sewerage 7kI R363576 @ 20230418 Rates, Electricity 689kWh, Water 1 Ikl, Refuse, Sewerage IOkI R337508 @ 20230315 Rates, Electricity 624kWh, Water 11 kl Refuse, Sewerage R323@28 @ 20230215 Rates, Electricity 482kWh, Water 121, Refuse Sewerage R2997,99 @ 20230117 Rates, Electricity 712kWh, Water 171, Refuse, Sewerage 13kl R3924,74 @ 20221215 Rates, Electricity 672kVVh, Water 15kl, Refuse, Sewerage 10,5kl R3737,24 @ 20221115 Rates, Electricity' 630kWh, Water 24kI, Refuse, Sewerage 168kI R.335,579 @ 20221017 Rates, Electricity 754kVVh, Water 122kl, Refuse Sewerage 37kl R3891, @ 20.220915 Rata, Electricity 875kVVh, Water 211, Refuse Sewerage 14,7kl R4036,07 @ 20220816 Rates, Electricity 732kWh, Water 131, Refuse Sewerage 59kl R3791,82 @ 202207/5 Rates, Electricity 619kWh, Water 14kI, Refuse, Sewerage 9,8kI R3360,28 @ 20220615 Rates, Electricity 631 kWh, Water IOkI, Refuse, Sewerage 7, Ikl R3017,61 @ 20220517 Rates, Electricity 660kVVh, Water 131, Refuse, Sewerage 9,2kl R328079 @ 20220419 Rates, Electricity 539kVVh, Water 1 lkl, Refuse, Sewerage 7,7 2839,18 @ 202203/5 Rates, Electricity 459kWh, Water 38kI, Refuse, Sewerage 255kI R268540 @ 20220215 Rates, Electricity 691 kWh, Water 1 1,4kI, Refuse, Sewerage 106kI R320... @ 20.220117 Rates, Electricity 634kWh, Water 15kI, Refuse, Sewerage 10,6kI R337523 @ 20211215 Rates, Electricity 1.301 kWh, Water 13kI, Refuse, Sewerage 8kI R3592,22 @ 20211115 Rates, Electricity 530kWh, Water 11 kl Refuse, Sewerage 34kI R2792,67 @ 20211015 Rates, Electricity 1895kWh, Water 11 kl Refuse, Sewerage 7,7kI R.3398,86 @ 20210915 Rates, Electricity 587kWh, Water 1 1 kl Refuse, Sewerage 7,6kI R2992,35 @ 20210817 Rates, Electricity 572kWh, Water IOkI, Refuse, Sewerage 6, Ikl R286041 @ 20210715 Rates, Electricity 779kVVh, Water 131, Refuse, Sewerage 9,2kl R342549 @ 202106/5 Rates, Electricity 508kWh, Water 12kI, Refuse, Sewerage 34kI R253@23 @ 20210517 Rates, Electricity 5C4kWh, Water 13kI, Refuse Sewerage 9,0kI R2620,46 @ 20210419 Rates, Electricity 586kWh, Water 12kI, Refuse, Sewerage 34kI R2802, 12 @ 20210315 Rates, Electricity 442kWh, Water 14kI, Refuse, Sewerage 9,8kI R2563,60 @ 20210215 Rates, Electricity 424kWh, Water 1 Ikl, Refuse, Sewerage 7,8kI R2306, 18 @ 20210118 Rates, Electricity 508kWh, Water 12kI, Refuse, Sewerage 34kI R2614,23 @ 20201215 Rates, Electricity 405kWh, Water IOkI, Refuse, Sewerage 7,0kI 8.2304,66 @ 20201116 Rates, Electricity 447kWh, Water IOkI, Refuse, Sewerage COkI R2368,80 @ 20201015 Rates, Electricity 453kWh, Water 8kI, Refuse, Sewerage 5,6kI 8.2344,98 @ 20200915 Rates, Electricity 601 kWh, Water 7kI, Refuse, Sewerage 5,9kI R2543,27 @ 20200818 Rates, Electricity 520kWh, Water 8kI, Refuse, Sewerage 5,4kI R246/,02 @ 202007/5 Rates, Electricity 565kVVh, Water 261, Refuse, Sewerage 131k1 8.2237,21\""
      ]
     },
     "execution_count": 5,
     "metadata": {},
     "output_type": "execute_result"
    }
   ],
   "source": [
    "txt = \"@ 20230816 Rates, Electricity 589kWh, Water 14kI, Refuse, Sewerage IOkI R3857, 14 @ 202307/7 Rates, Electricity 81 lkWh, Water 121, Refuse, Sewerage 10kl R4247,29 @ 202306/5 Rates, Electricity 776kVVh, Water 12kl, Refuse Sewerage 9kl R3877,07 @ 20230516 Rates, Electricity 651 kWh, Water 14kI, Refuse, Sewerage 7kI R363576 @ 20230418 Rates, Electricity 689kWh, Water 1 Ikl, Refuse, Sewerage IOkI R337508 @ 20230315 Rates, Electricity 624kWh, Water 11 kl Refuse, Sewerage R323@28 @ 20230215 Rates, Electricity 482kWh, Water 121, Refuse Sewerage R2997,99 @ 20230117 Rates, Electricity 712kWh, Water 171, Refuse, Sewerage 13kl R3924,74 @ 20221215 Rates, Electricity 672kVVh, Water 15kl, Refuse, Sewerage 10,5kl R3737,24 @ 20221115 Rates, Electricity' 630kWh, Water 24kI, Refuse, Sewerage 168kI R.335,579 @ 20221017 Rates, Electricity 754kVVh, Water 122kl, Refuse Sewerage 37kl R3891, @ 20.220915 Rata, Electricity 875kVVh, Water 211, Refuse Sewerage 14,7kl R4036,07 @ 20220816 Rates, Electricity 732kWh, Water 131, Refuse Sewerage 59kl R3791,82 @ 202207/5 Rates, Electricity 619kWh, Water 14kI, Refuse, Sewerage 9,8kI R3360,28 @ 20220615 Rates, Electricity 631 kWh, Water IOkI, Refuse, Sewerage 7, Ikl R3017,61 @ 20220517 Rates, Electricity 660kVVh, Water 131, Refuse, Sewerage 9,2kl R328079 @ 20220419 Rates, Electricity 539kVVh, Water 1 lkl, Refuse, Sewerage 7,7 2839,18 @ 202203/5 Rates, Electricity 459kWh, Water 38kI, Refuse, Sewerage 255kI R268540 @ 20220215 Rates, Electricity 691 kWh, Water 1 1,4kI, Refuse, Sewerage 106kI R320... @ 20.220117 Rates, Electricity 634kWh, Water 15kI, Refuse, Sewerage 10,6kI R337523 @ 20211215 Rates, Electricity 1.301 kWh, Water 13kI, Refuse, Sewerage 8kI R3592,22 @ 20211115 Rates, Electricity 530kWh, Water 11 kl Refuse, Sewerage 34kI R2792,67 @ 20211015 Rates, Electricity 1895kWh, Water 11 kl Refuse, Sewerage 7,7kI R.3398,86 @ 20210915 Rates, Electricity 587kWh, Water 1 1 kl Refuse, Sewerage 7,6kI R2992,35 @ 20210817 Rates, Electricity 572kWh, Water IOkI, Refuse, Sewerage 6, Ikl R286041 @ 20210715 Rates, Electricity 779kVVh, Water 131, Refuse, Sewerage 9,2kl R342549 @ 202106/5 Rates, Electricity 508kWh, Water 12kI, Refuse, Sewerage 34kI R253@23 @ 20210517 Rates, Electricity 5C4kWh, Water 13kI, Refuse Sewerage 9,0kI R2620,46 @ 20210419 Rates, Electricity 586kWh, Water 12kI, Refuse, Sewerage 34kI R2802, 12 @ 20210315 Rates, Electricity 442kWh, Water 14kI, Refuse, Sewerage 9,8kI R2563,60 @ 20210215 Rates, Electricity 424kWh, Water 1 Ikl, Refuse, Sewerage 7,8kI R2306, 18 @ 20210118 Rates, Electricity 508kWh, Water 12kI, Refuse, Sewerage 34kI R2614,23 @ 20201215 Rates, Electricity 405kWh, Water IOkI, Refuse, Sewerage 7,0kI 8.2304,66 @ 20201116 Rates, Electricity 447kWh, Water IOkI, Refuse, Sewerage COkI R2368,80 @ 20201015 Rates, Electricity 453kWh, Water 8kI, Refuse, Sewerage 5,6kI 8.2344,98 @ 20200915 Rates, Electricity 601 kWh, Water 7kI, Refuse, Sewerage 5,9kI R2543,27 @ 20200818 Rates, Electricity 520kWh, Water 8kI, Refuse, Sewerage 5,4kI R246/,02 @ 202007/5 Rates, Electricity 565kVVh, Water 261, Refuse, Sewerage 131k1 8.2237,21\"\n",
    "txt"
   ]
  },
  {
   "cell_type": "code",
   "execution_count": 9,
   "id": "fc0db3f7",
   "metadata": {},
   "outputs": [
    {
     "data": {
      "text/plain": [
       "['',\n",
       " ' 20230816 Rates, Electricity 589kWh, Water 14kI, Refuse, Sewerage IOkI R3857, 14 ',\n",
       " ' 202307/7 Rates, Electricity 81 lkWh, Water 121, Refuse, Sewerage 10kl R4247,29 ',\n",
       " ' 202306/5 Rates, Electricity 776kVVh, Water 12kl, Refuse Sewerage 9kl R3877,07 ',\n",
       " ' 20230516 Rates, Electricity 651 kWh, Water 14kI, Refuse, Sewerage 7kI R363576 ',\n",
       " ' 20230418 Rates, Electricity 689kWh, Water 1 Ikl, Refuse, Sewerage IOkI R337508 ',\n",
       " ' 20230315 Rates, Electricity 624kWh, Water 11 kl Refuse, Sewerage R323',\n",
       " '28 ',\n",
       " ' 20230215 Rates, Electricity 482kWh, Water 121, Refuse Sewerage R2997,99 ',\n",
       " ' 20230117 Rates, Electricity 712kWh, Water 171, Refuse, Sewerage 13kl R3924,74 ',\n",
       " ' 20221215 Rates, Electricity 672kVVh, Water 15kl, Refuse, Sewerage 10,5kl R3737,24 ',\n",
       " \" 20221115 Rates, Electricity' 630kWh, Water 24kI, Refuse, Sewerage 168kI R.335,579 \",\n",
       " ' 20221017 Rates, Electricity 754kVVh, Water 122kl, Refuse Sewerage 37kl R3891, ',\n",
       " ' 20.220915 Rata, Electricity 875kVVh, Water 211, Refuse Sewerage 14,7kl R4036,07 ',\n",
       " ' 20220816 Rates, Electricity 732kWh, Water 131, Refuse Sewerage 59kl R3791,82 ',\n",
       " ' 202207/5 Rates, Electricity 619kWh, Water 14kI, Refuse, Sewerage 9,8kI R3360,28 ',\n",
       " ' 20220615 Rates, Electricity 631 kWh, Water IOkI, Refuse, Sewerage 7, Ikl R3017,61 ',\n",
       " ' 20220517 Rates, Electricity 660kVVh, Water 131, Refuse, Sewerage 9,2kl R328079 ',\n",
       " ' 20220419 Rates, Electricity 539kVVh, Water 1 lkl, Refuse, Sewerage 7,7 2839,18 ',\n",
       " ' 202203/5 Rates, Electricity 459kWh, Water 38kI, Refuse, Sewerage 255kI R268540 ',\n",
       " ' 20220215 Rates, Electricity 691 kWh, Water 1 1,4kI, Refuse, Sewerage 106kI R320... ',\n",
       " ' 20.220117 Rates, Electricity 634kWh, Water 15kI, Refuse, Sewerage 10,6kI R337523 ',\n",
       " ' 20211215 Rates, Electricity 1.301 kWh, Water 13kI, Refuse, Sewerage 8kI R3592,22 ',\n",
       " ' 20211115 Rates, Electricity 530kWh, Water 11 kl Refuse, Sewerage 34kI R2792,67 ',\n",
       " ' 20211015 Rates, Electricity 1895kWh, Water 11 kl Refuse, Sewerage 7,7kI R.3398,86 ',\n",
       " ' 20210915 Rates, Electricity 587kWh, Water 1 1 kl Refuse, Sewerage 7,6kI R2992,35 ',\n",
       " ' 20210817 Rates, Electricity 572kWh, Water IOkI, Refuse, Sewerage 6, Ikl R286041 ',\n",
       " ' 20210715 Rates, Electricity 779kVVh, Water 131, Refuse, Sewerage 9,2kl R342549 ',\n",
       " ' 202106/5 Rates, Electricity 508kWh, Water 12kI, Refuse, Sewerage 34kI R253',\n",
       " '23 ',\n",
       " ' 20210517 Rates, Electricity 5C4kWh, Water 13kI, Refuse Sewerage 9,0kI R2620,46 ',\n",
       " ' 20210419 Rates, Electricity 586kWh, Water 12kI, Refuse, Sewerage 34kI R2802, 12 ',\n",
       " ' 20210315 Rates, Electricity 442kWh, Water 14kI, Refuse, Sewerage 9,8kI R2563,60 ',\n",
       " ' 20210215 Rates, Electricity 424kWh, Water 1 Ikl, Refuse, Sewerage 7,8kI R2306, 18 ',\n",
       " ' 20210118 Rates, Electricity 508kWh, Water 12kI, Refuse, Sewerage 34kI R2614,23 ',\n",
       " ' 20201215 Rates, Electricity 405kWh, Water IOkI, Refuse, Sewerage 7,0kI 8.2304,66 ',\n",
       " ' 20201116 Rates, Electricity 447kWh, Water IOkI, Refuse, Sewerage COkI R2368,80 ',\n",
       " ' 20201015 Rates, Electricity 453kWh, Water 8kI, Refuse, Sewerage 5,6kI 8.2344,98 ',\n",
       " ' 20200915 Rates, Electricity 601 kWh, Water 7kI, Refuse, Sewerage 5,9kI R2543,27 ',\n",
       " ' 20200818 Rates, Electricity 520kWh, Water 8kI, Refuse, Sewerage 5,4kI R246/,02 ',\n",
       " ' 202007/5 Rates, Electricity 565kVVh, Water 261, Refuse, Sewerage 131k1 8.2237,21']"
      ]
     },
     "execution_count": 9,
     "metadata": {},
     "output_type": "execute_result"
    }
   ],
   "source": [
    "txt_str = txt.split('@')\n",
    "txt_str"
   ]
  },
  {
   "cell_type": "code",
   "execution_count": 1,
   "id": "5cb95f08",
   "metadata": {},
   "outputs": [],
   "source": [
    "import requests\n",
    "import sys"
   ]
  },
  {
   "cell_type": "code",
   "execution_count": 3,
   "id": "7f78ae99",
   "metadata": {},
   "outputs": [
    {
     "name": "stdout",
     "output_type": "stream",
     "text": [
      "<Response [200]>\n"
     ]
    }
   ],
   "source": [
    "res = requests.get(url=f\"https://www.indexmundi.com/\")\n",
    "print(res)"
   ]
  },
  {
   "cell_type": "code",
   "execution_count": 9,
   "id": "0d4142e2",
   "metadata": {},
   "outputs": [
    {
     "data": {
      "text/plain": [
       "[3, 5, 7, 9]"
      ]
     },
     "execution_count": 9,
     "metadata": {},
     "output_type": "execute_result"
    }
   ],
   "source": [
    "x = [i for i in range(3, 10, 2)]\n",
    "x"
   ]
  },
  {
   "cell_type": "code",
   "execution_count": 2,
   "id": "1f0c2b0e",
   "metadata": {},
   "outputs": [],
   "source": [
    "#https://stackoverflow.com/questions/14603478/firefox-wont-drive-with-selenium-webdriver\n",
    "\n",
    "from selenium import webdriver\n",
    "from selenium.webdriver.common.keys import Keys\n",
    "\n",
    "driver = webdriver.Firefox()\n",
    "url = \"http://google.com\" \n",
    "driver.get(url)"
   ]
  },
  {
   "cell_type": "code",
   "execution_count": 1,
   "id": "e5f6972e",
   "metadata": {},
   "outputs": [
    {
     "ename": "InvalidArgumentException",
     "evalue": "Message: Malformed URL: URL constructor: http://somedomain / url_that_delays_loading is not a valid URL.\nStacktrace:\nRemoteError@chrome://remote/content/shared/RemoteError.sys.mjs:8:8\nWebDriverError@chrome://remote/content/shared/webdriver/Errors.sys.mjs:188:5\nInvalidArgumentError@chrome://remote/content/shared/webdriver/Errors.sys.mjs:379:5\nGeckoDriver.prototype.navigateTo@chrome://remote/content/marionette/driver.sys.mjs:848:11\n",
     "output_type": "error",
     "traceback": [
      "\u001b[1;31m---------------------------------------------------------------------------\u001b[0m",
      "\u001b[1;31mInvalidArgumentException\u001b[0m                  Traceback (most recent call last)",
      "Cell \u001b[1;32mIn[1], line 10\u001b[0m\n\u001b[0;32m      7\u001b[0m driver\u001b[38;5;241m.\u001b[39mimplicitly_wait(\u001b[38;5;241m10\u001b[39m) \u001b[38;5;66;03m# seconds\u001b[39;00m\n\u001b[0;32m      9\u001b[0m \u001b[38;5;66;03m# get url\u001b[39;00m\n\u001b[1;32m---> 10\u001b[0m \u001b[43mdriver\u001b[49m\u001b[38;5;241;43m.\u001b[39;49m\u001b[43mget\u001b[49m\u001b[43m(\u001b[49m\u001b[38;5;124;43m\"\u001b[39;49m\u001b[38;5;124;43mhttp://somedomain / url_that_delays_loading\u001b[39;49m\u001b[38;5;124;43m\"\u001b[39;49m\u001b[43m)\u001b[49m\n\u001b[0;32m     12\u001b[0m \u001b[38;5;66;03m# get element after 10 seconds\u001b[39;00m\n\u001b[0;32m     13\u001b[0m myDynamicElement \u001b[38;5;241m=\u001b[39m driver\u001b[38;5;241m.\u001b[39mfind_element_by_id(\u001b[38;5;124m\"\u001b[39m\u001b[38;5;124mmyDynamicElement\u001b[39m\u001b[38;5;124m\"\u001b[39m)\n",
      "File \u001b[1;32m~\\Anaconda3\\lib\\site-packages\\selenium\\webdriver\\remote\\webdriver.py:455\u001b[0m, in \u001b[0;36mWebDriver.get\u001b[1;34m(self, url)\u001b[0m\n\u001b[0;32m    451\u001b[0m \u001b[38;5;28;01mdef\u001b[39;00m \u001b[38;5;21mget\u001b[39m(\u001b[38;5;28mself\u001b[39m, url: \u001b[38;5;28mstr\u001b[39m) \u001b[38;5;241m-\u001b[39m\u001b[38;5;241m>\u001b[39m \u001b[38;5;28;01mNone\u001b[39;00m:\n\u001b[0;32m    452\u001b[0m     \u001b[38;5;124;03m\"\"\"\u001b[39;00m\n\u001b[0;32m    453\u001b[0m \u001b[38;5;124;03m    Loads a web page in the current browser session.\u001b[39;00m\n\u001b[0;32m    454\u001b[0m \u001b[38;5;124;03m    \"\"\"\u001b[39;00m\n\u001b[1;32m--> 455\u001b[0m     \u001b[38;5;28;43mself\u001b[39;49m\u001b[38;5;241;43m.\u001b[39;49m\u001b[43mexecute\u001b[49m\u001b[43m(\u001b[49m\u001b[43mCommand\u001b[49m\u001b[38;5;241;43m.\u001b[39;49m\u001b[43mGET\u001b[49m\u001b[43m,\u001b[49m\u001b[43m \u001b[49m\u001b[43m{\u001b[49m\u001b[38;5;124;43m\"\u001b[39;49m\u001b[38;5;124;43murl\u001b[39;49m\u001b[38;5;124;43m\"\u001b[39;49m\u001b[43m:\u001b[49m\u001b[43m \u001b[49m\u001b[43murl\u001b[49m\u001b[43m}\u001b[49m\u001b[43m)\u001b[49m\n",
      "File \u001b[1;32m~\\Anaconda3\\lib\\site-packages\\selenium\\webdriver\\remote\\webdriver.py:444\u001b[0m, in \u001b[0;36mWebDriver.execute\u001b[1;34m(self, driver_command, params)\u001b[0m\n\u001b[0;32m    442\u001b[0m response \u001b[38;5;241m=\u001b[39m \u001b[38;5;28mself\u001b[39m\u001b[38;5;241m.\u001b[39mcommand_executor\u001b[38;5;241m.\u001b[39mexecute(driver_command, params)\n\u001b[0;32m    443\u001b[0m \u001b[38;5;28;01mif\u001b[39;00m response:\n\u001b[1;32m--> 444\u001b[0m     \u001b[38;5;28;43mself\u001b[39;49m\u001b[38;5;241;43m.\u001b[39;49m\u001b[43merror_handler\u001b[49m\u001b[38;5;241;43m.\u001b[39;49m\u001b[43mcheck_response\u001b[49m\u001b[43m(\u001b[49m\u001b[43mresponse\u001b[49m\u001b[43m)\u001b[49m\n\u001b[0;32m    445\u001b[0m     response[\u001b[38;5;124m\"\u001b[39m\u001b[38;5;124mvalue\u001b[39m\u001b[38;5;124m\"\u001b[39m] \u001b[38;5;241m=\u001b[39m \u001b[38;5;28mself\u001b[39m\u001b[38;5;241m.\u001b[39m_unwrap_value(response\u001b[38;5;241m.\u001b[39mget(\u001b[38;5;124m\"\u001b[39m\u001b[38;5;124mvalue\u001b[39m\u001b[38;5;124m\"\u001b[39m, \u001b[38;5;28;01mNone\u001b[39;00m))\n\u001b[0;32m    446\u001b[0m     \u001b[38;5;28;01mreturn\u001b[39;00m response\n",
      "File \u001b[1;32m~\\Anaconda3\\lib\\site-packages\\selenium\\webdriver\\remote\\errorhandler.py:249\u001b[0m, in \u001b[0;36mErrorHandler.check_response\u001b[1;34m(self, response)\u001b[0m\n\u001b[0;32m    247\u001b[0m         alert_text \u001b[38;5;241m=\u001b[39m value[\u001b[38;5;124m\"\u001b[39m\u001b[38;5;124malert\u001b[39m\u001b[38;5;124m\"\u001b[39m]\u001b[38;5;241m.\u001b[39mget(\u001b[38;5;124m\"\u001b[39m\u001b[38;5;124mtext\u001b[39m\u001b[38;5;124m\"\u001b[39m)\n\u001b[0;32m    248\u001b[0m     \u001b[38;5;28;01mraise\u001b[39;00m exception_class(message, screen, stacktrace, alert_text)  \u001b[38;5;66;03m# type: ignore[call-arg]  # mypy is not smart enough here\u001b[39;00m\n\u001b[1;32m--> 249\u001b[0m \u001b[38;5;28;01mraise\u001b[39;00m exception_class(message, screen, stacktrace)\n",
      "\u001b[1;31mInvalidArgumentException\u001b[0m: Message: Malformed URL: URL constructor: http://somedomain / url_that_delays_loading is not a valid URL.\nStacktrace:\nRemoteError@chrome://remote/content/shared/RemoteError.sys.mjs:8:8\nWebDriverError@chrome://remote/content/shared/webdriver/Errors.sys.mjs:188:5\nInvalidArgumentError@chrome://remote/content/shared/webdriver/Errors.sys.mjs:379:5\nGeckoDriver.prototype.navigateTo@chrome://remote/content/marionette/driver.sys.mjs:848:11\n"
     ]
    }
   ],
   "source": [
    "# import webdriver\n",
    "from selenium import webdriver\n",
    "  \n",
    "driver = webdriver.Firefox()\n",
    "  \n",
    "# set implicit wait time\n",
    "driver.implicitly_wait(10) # seconds\n",
    "  \n",
    "# get url\n",
    "driver.get(\"http://somedomain / url_that_delays_loading\")\n",
    "  \n",
    "# get element after 10 seconds\n",
    "myDynamicElement = driver.find_element_by_id(\"myDynamicElement\")"
   ]
  },
  {
   "cell_type": "code",
   "execution_count": 1,
   "id": "374b7f28",
   "metadata": {},
   "outputs": [
    {
     "name": "stdout",
     "output_type": "stream",
     "text": [
      "Last business day April 2022: 29\n"
     ]
    }
   ],
   "source": [
    "https://pynative.com/python-get-business-days/#:~:text=Use%20the%20calendar%20module%20to,to%205%2C%20i.e.%2C%20weekdays.\n",
    "import calendar\n",
    "\n",
    "last_day = max(calendar.monthcalendar(2022, 4)[-1:][0][:5])\n",
    "print('Last business day April 2022:', last_day)"
   ]
  },
  {
   "cell_type": "code",
   "execution_count": 3,
   "id": "b8982cd5",
   "metadata": {},
   "outputs": [
    {
     "name": "stdout",
     "output_type": "stream",
     "text": [
      "Number of business days is: 20\n"
     ]
    }
   ],
   "source": [
    "#https://pynative.com/python-get-business-days/#:~:text=Use%20the%20calendar%20module%20to,to%205%2C%20i.e.%2C%20weekdays.\n",
    "import datetime\n",
    "import numpy as np\n",
    "\n",
    "start = datetime.date(2022, 2, 15)\n",
    "end = datetime.date(2022, 3, 16)\n",
    "\n",
    "# include holidays in a list\n",
    "days = np.busday_count(start, end, holidays=['2022-02-21'])\n",
    "print('Number of business days is:', days)"
   ]
  },
  {
   "cell_type": "code",
   "execution_count": 4,
   "id": "b2fc4d52",
   "metadata": {},
   "outputs": [
    {
     "name": "stdout",
     "output_type": "stream",
     "text": [
      "Number of business days in April 2022: 21\n"
     ]
    }
   ],
   "source": [
    "# https://pynative.com/python-get-business-days/#:~:text=Use%20the%20calendar%20module%20to,to%205%2C%20i.e.%2C%20weekdays.\n",
    "import numpy as np\n",
    "\n",
    "# Number of weekdays in April 2022\n",
    "res = np.busday_count('2022-04', '2022-05')\n",
    "print(\"Number of business days in April 2022:\", res)"
   ]
  },
  {
   "cell_type": "code",
   "execution_count": 5,
   "id": "863c4774",
   "metadata": {},
   "outputs": [
    {
     "name": "stdout",
     "output_type": "stream",
     "text": [
      "Collecting holidays\n",
      "  Downloading holidays-0.32-py3-none-any.whl (754 kB)\n",
      "     ---------------------------------------- 0.0/754.4 kB ? eta -:--:--\n",
      "     ---------- --------------------------- 204.8/754.4 kB 4.1 MB/s eta 0:00:01\n",
      "     ----------------------------------- -- 706.6/754.4 kB 7.5 MB/s eta 0:00:01\n",
      "     -------------------------------------- 754.4/754.4 kB 6.0 MB/s eta 0:00:00\n",
      "Requirement already satisfied: python-dateutil in c:\\users\\hilton.netta\\anaconda3\\lib\\site-packages (from holidays) (2.8.2)\n",
      "Requirement already satisfied: six>=1.5 in c:\\users\\hilton.netta\\anaconda3\\lib\\site-packages (from python-dateutil->holidays) (1.16.0)\n",
      "Installing collected packages: holidays\n",
      "Successfully installed holidays-0.32\n"
     ]
    }
   ],
   "source": [
    "#https://practicaldatascience.co.uk/data-science/how-to-get-a-list-of-national-holiday-dates-in-python\n",
    "!pip3 install holidays"
   ]
  },
  {
   "cell_type": "code",
   "execution_count": 8,
   "id": "03eeda77",
   "metadata": {},
   "outputs": [],
   "source": [
    "import pandas as pd\n",
    "import holidays"
   ]
  },
  {
   "cell_type": "code",
   "execution_count": 9,
   "id": "9ff2859c",
   "metadata": {},
   "outputs": [],
   "source": [
    "# https://practicaldatascience.co.uk/data-science/how-to-get-a-list-of-national-holiday-dates-in-python\n",
    "# Create a function to get national holiday dates\n",
    "def get_national_holidays(start_date, end_date, country):\n",
    "    \"\"\"Return a list of the dates of national holidays between two dates \n",
    "    for a given country.\n",
    "    \n",
    "    Args:\n",
    "        start_date (str): Start date of the period\n",
    "        end_date (str): End date of the period\n",
    "        country (str): Country to get the national holidays for\n",
    "    \n",
    "    Returns:\n",
    "        list: List of national holiday dates\n",
    "    \"\"\"\n",
    "\n",
    "    # Get the Bank Holidays for the given country\n",
    "    holiday_days = holidays.CountryHoliday(country)\n",
    "\n",
    "    # Create a list of dates between the start and end date\n",
    "    date_range = pd.date_range(start_date, end_date)\n",
    "\n",
    "    # Filter the dates to only include Bank Holidays\n",
    "    national_holidays = [date for date in date_range if date in holiday_days]\n",
    "\n",
    "    return national_holidays"
   ]
  },
  {
   "cell_type": "code",
   "execution_count": 10,
   "id": "80a5008b",
   "metadata": {},
   "outputs": [
    {
     "data": {
      "text/plain": [
       "[Timestamp('2023-01-01 00:00:00', freq='D'),\n",
       " Timestamp('2023-01-02 00:00:00', freq='D'),\n",
       " Timestamp('2023-04-07 00:00:00', freq='D'),\n",
       " Timestamp('2023-05-01 00:00:00', freq='D'),\n",
       " Timestamp('2023-05-08 00:00:00', freq='D'),\n",
       " Timestamp('2023-05-29 00:00:00', freq='D'),\n",
       " Timestamp('2023-12-25 00:00:00', freq='D'),\n",
       " Timestamp('2023-12-26 00:00:00', freq='D')]"
      ]
     },
     "execution_count": 10,
     "metadata": {},
     "output_type": "execute_result"
    }
   ],
   "source": [
    "national_holidays_GB = get_national_holidays('2023-01-01', '2023-12-31', 'GB')\n",
    "national_holidays_GB"
   ]
  },
  {
   "cell_type": "code",
   "execution_count": null,
   "id": "6f1187c0",
   "metadata": {},
   "outputs": [],
   "source": [
    "national_holidays_ZA = get_national_holidays('2023-01-01', '2023-12-31', 'GB')\n",
    "national_holidays_GB"
   ]
  }
 ],
 "metadata": {
  "kernelspec": {
   "display_name": "Python 3 (ipykernel)",
   "language": "python",
   "name": "python3"
  },
  "language_info": {
   "codemirror_mode": {
    "name": "ipython",
    "version": 3
   },
   "file_extension": ".py",
   "mimetype": "text/x-python",
   "name": "python",
   "nbconvert_exporter": "python",
   "pygments_lexer": "ipython3",
   "version": "3.9.12"
  }
 },
 "nbformat": 4,
 "nbformat_minor": 5
}
