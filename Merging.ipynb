{
 "cells": [
  {
   "cell_type": "markdown",
   "id": "ea6d3260",
   "metadata": {},
   "source": [
    "## Pandas merge() - Merging Two DataFrame Objects\n",
    "##### https://www.digitalocean.com/community/tutorials/pandas-merge-two-dataframe"
   ]
  },
  {
   "cell_type": "markdown",
   "id": "0bbac23b",
   "metadata": {},
   "source": [
    "### 1. Default merging - inner join"
   ]
  },
  {
   "cell_type": "code",
   "execution_count": 4,
   "id": "9b2b8de7",
   "metadata": {},
   "outputs": [
    {
     "name": "stdout",
     "output_type": "stream",
     "text": [
      "DataFrame 1:\n",
      "      Name Country Role\n",
      "0  Pankaj   India  CEO\n",
      "1  Meghna   India  CTO\n",
      "2    Lisa     USA  CTO \n",
      " Length: 3\n",
      "\n",
      "DataFrame 2:\n",
      "    ID    Name\n",
      "0   1  Pankaj\n",
      "1   2  Anupam\n",
      "2   3    Amit \n",
      " Length: 3\n",
      "\n",
      "Result:\n",
      "      Name Country Role  ID\n",
      "0  Pankaj   India  CEO   1 \n",
      " Length: 1\n",
      "\n"
     ]
    }
   ],
   "source": [
    "import pandas as pd\n",
    "\n",
    "d1 = {'Name': ['Pankaj', 'Meghna', 'Lisa'], 'Country': ['India', 'India', 'USA'], 'Role': ['CEO', 'CTO', 'CTO']}\n",
    "df1 = pd.DataFrame(d1)                                       # dataframe to be looked up\n",
    "print('DataFrame 1:\\n', df1, '\\n Length:', len(df1))\n",
    "print()\n",
    "\n",
    "d2 = {'ID': [1, 2, 3], 'Name': ['Pankaj', 'Anupam', 'Amit']}\n",
    "df2 = pd.DataFrame(d2)                                       # dataframe to be looked \n",
    "print('DataFrame 2:\\n', df2, '\\n Length:', len(df2))\n",
    "print()\n",
    "\n",
    "df_merged = df1.merge(df2)\n",
    "print('Result:\\n', df_merged, '\\n Length:', len(df_merged))\n",
    "print()"
   ]
  },
  {
   "cell_type": "markdown",
   "id": "c1bd4a5e",
   "metadata": {},
   "source": [
    "### 2. Merging DataFrames with Left, Right, and Outer Join"
   ]
  },
  {
   "cell_type": "code",
   "execution_count": 5,
   "id": "b561ae3a",
   "metadata": {},
   "outputs": [
    {
     "name": "stdout",
     "output_type": "stream",
     "text": [
      "Result Left Join:\n",
      "      Name Country Role   ID\n",
      "0  Pankaj   India  CEO  1.0\n",
      "1  Meghna   India  CTO  NaN\n",
      "2    Lisa     USA  CTO  NaN\n",
      "\n",
      "Result Right Join:\n",
      "      Name Country Role  ID\n",
      "0  Pankaj   India  CEO   1\n",
      "1  Anupam     NaN  NaN   2\n",
      "2    Amit     NaN  NaN   3\n",
      "\n",
      "Result Outer Join:\n",
      "      Name Country Role   ID\n",
      "0  Pankaj   India  CEO  1.0\n",
      "1  Meghna   India  CTO  NaN\n",
      "2    Lisa     USA  CTO  NaN\n",
      "3  Anupam     NaN  NaN  2.0\n",
      "4    Amit     NaN  NaN  3.0\n",
      "\n"
     ]
    }
   ],
   "source": [
    "print('Result Left Join:\\n',  df1.merge(df2, how='left'))\n",
    "print()\n",
    "print('Result Right Join:\\n', df1.merge(df2, how='right'))\n",
    "print()\n",
    "print('Result Outer Join:\\n', df1.merge(df2, how='outer'))\n",
    "print()"
   ]
  },
  {
   "cell_type": "markdown",
   "id": "90e5077e",
   "metadata": {},
   "source": [
    "### 3. Merging DataFrame on Specific Columns"
   ]
  },
  {
   "cell_type": "code",
   "execution_count": 3,
   "id": "00989fa4",
   "metadata": {},
   "outputs": [
    {
     "name": "stdout",
     "output_type": "stream",
     "text": [
      "Dataframe 1:\n",
      "      Name  ID Country Role\n",
      "0  Pankaj   1   India  CEO\n",
      "1  Meghna   2   India  CTO\n",
      "2    Lisa   3     USA  CTO\n",
      "\n",
      "Dataframe 2:\n",
      "    ID    Name\n",
      "0   1  Pankaj\n",
      "1   2  Anupam\n",
      "2   3    Amit\n",
      "\n",
      "Merge on \"ID\":\n",
      "    Name_x  ID Country Role  Name_y\n",
      "0  Pankaj   1   India  CEO  Pankaj\n",
      "1  Meghna   2   India  CTO  Anupam\n",
      "2    Lisa   3     USA  CTO    Amit\n",
      "\n",
      "Merge on \"Name\":\n",
      "      Name  ID_x Country Role  ID_y\n",
      "0  Pankaj     1   India  CEO     1\n",
      "\n"
     ]
    }
   ],
   "source": [
    "d1 = {'Name': ['Pankaj', 'Meghna', 'Lisa'], 'ID': [1, 2, 3], 'Country': ['India', 'India', 'USA'],\n",
    "      'Role': ['CEO', 'CTO', 'CTO']}\n",
    "df1 = pd.DataFrame(d1) # the dataframe that contains the information we want to look up\n",
    "\n",
    "d2 = {'ID': [1, 2, 3], 'Name': ['Pankaj', 'Anupam', 'Amit']}\n",
    "df2 = pd.DataFrame(d2) # the dataframe that\n",
    "\n",
    "print('Dataframe 1:\\n', df1)\n",
    "print()\n",
    "print('Dataframe 2:\\n', df2)\n",
    "print()\n",
    "\n",
    "print('Merge on \"ID\":\\n'  , df1.merge(df2, on='ID'))\n",
    "print()\n",
    "print('Merge on \"Name\":\\n', df1.merge(df2, on='Name'))\n",
    "print()"
   ]
  },
  {
   "cell_type": "markdown",
   "id": "aa469566",
   "metadata": {},
   "source": [
    "### 4. Specify Left and Right Columns for Merging DataFrame Objects"
   ]
  },
  {
   "cell_type": "code",
   "execution_count": 4,
   "id": "4cc25f7a",
   "metadata": {},
   "outputs": [
    {
     "name": "stdout",
     "output_type": "stream",
     "text": [
      "Dataframe 1:\n",
      "      Name  ID1 Country Role\n",
      "0  Pankaj    1   India  CEO\n",
      "1  Meghna    2   India  CTO\n",
      "2    Lisa    3     USA  CTO\n",
      "\n",
      "Dataframe 2:\n",
      "    ID2    Name\n",
      "0    1  Pankaj\n",
      "1    2  Anupam\n",
      "2    3    Amit\n",
      "\n",
      "Default merge on df2 (inner join):\n",
      "      Name  ID1 Country Role  ID2\n",
      "0  Pankaj    1   India  CEO    1\n",
      "\n",
      "Merge left on \"ID1\" and merge right on \"ID2\":\n",
      "    Name_x  ID1 Country Role  ID2  Name_y\n",
      "0  Pankaj    1   India  CEO    1  Pankaj\n",
      "1  Meghna    2   India  CTO    2  Anupam\n",
      "2    Lisa    3     USA  CTO    3    Amit\n",
      "\n"
     ]
    }
   ],
   "source": [
    "d1  = {'Name': ['Pankaj', 'Meghna', 'Lisa'], 'ID1': [1, 2, 3], 'Country': ['India', 'India', 'USA'],\n",
    "      'Role': ['CEO', 'CTO', 'CTO']}\n",
    "df1 = pd.DataFrame(d1)\n",
    "d2  = {'ID2': [1, 2, 3], 'Name': ['Pankaj', 'Anupam', 'Amit']}\n",
    "df2 = pd.DataFrame(d2)\n",
    "\n",
    "print('Dataframe 1:\\n', df1)\n",
    "print()\n",
    "print('Dataframe 2:\\n', df2)\n",
    "print()\n",
    "\n",
    "print('Default merge on df2 (inner join):\\n', df1.merge(df2))\n",
    "print()\n",
    "print('Merge left on \"ID1\" and merge right on \"ID2\":\\n', df1.merge(df2, left_on='ID1', right_on='ID2'))\n",
    "print()"
   ]
  },
  {
   "cell_type": "markdown",
   "id": "7b771319",
   "metadata": {},
   "source": [
    "### 5. Using Index as the Join Keys for Merging DataFrames"
   ]
  },
  {
   "cell_type": "code",
   "execution_count": 5,
   "id": "2730866e",
   "metadata": {},
   "outputs": [
    {
     "name": "stdout",
     "output_type": "stream",
     "text": [
      "Dataframe 1:\n",
      "      Name Country Role\n",
      "0  Pankaj   India  CEO\n",
      "1  Meghna   India  CTO\n",
      "2    Lisa     USA  CTO\n",
      "\n",
      "Dataframe 2:\n",
      "    ID    Name\n",
      "0   1  Pankaj\n",
      "1   2  Anupam\n",
      "2   3    Amit\n",
      "\n",
      "Default merge (inner join) called \"df_merged\":\n",
      "      Name Country Role  ID\n",
      "0  Pankaj   India  CEO   1\n",
      "\n",
      "\n",
      "Index merge:\n",
      "    Name_x Country Role  ID  Name_y\n",
      "0  Pankaj   India  CEO   1  Pankaj\n",
      "1  Meghna   India  CTO   2  Anupam\n",
      "2    Lisa     USA  CTO   3    Amit\n"
     ]
    }
   ],
   "source": [
    "d1  = {'Name': ['Pankaj', 'Meghna', 'Lisa'], 'Country': ['India', 'India', 'USA'], 'Role': ['CEO', 'CTO', 'CTO']}\n",
    "df1 = pd.DataFrame(d1)\n",
    "\n",
    "d2  = {'ID': [1, 2, 3], 'Name': ['Pankaj', 'Anupam', 'Amit']}\n",
    "df2 = pd.DataFrame(d2)\n",
    "\n",
    "print('Dataframe 1:\\n', df1)\n",
    "print()\n",
    "print('Dataframe 2:\\n', df2)\n",
    "print()\n",
    "\n",
    "df_merged = df1.merge(df2)\n",
    "print('Default merge (inner join) called \"df_merged\":\\n', df_merged)\n",
    "print()\n",
    "df_merged = df1.merge(df2, left_index=True, right_index=True)\n",
    "print('\\nIndex merge:\\n', df_merged)"
   ]
  },
  {
   "cell_type": "code",
   "execution_count": null,
   "id": "8740150c",
   "metadata": {},
   "outputs": [],
   "source": []
  }
 ],
 "metadata": {
  "kernelspec": {
   "display_name": "Python 3 (ipykernel)",
   "language": "python",
   "name": "python3"
  },
  "language_info": {
   "codemirror_mode": {
    "name": "ipython",
    "version": 3
   },
   "file_extension": ".py",
   "mimetype": "text/x-python",
   "name": "python",
   "nbconvert_exporter": "python",
   "pygments_lexer": "ipython3",
   "version": "3.9.12"
  }
 },
 "nbformat": 4,
 "nbformat_minor": 5
}
