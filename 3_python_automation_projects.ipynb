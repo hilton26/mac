{
 "cells": [
  {
   "cell_type": "markdown",
   "id": "b4fb8cf9",
   "metadata": {},
   "source": [
    "### 3 Python Automation Projects - For Beginners<br>\n",
    "https://www.youtube.com/watch?v=Oz3W-LKfafE"
   ]
  },
  {
   "cell_type": "code",
   "execution_count": 3,
   "id": "578f1e91",
   "metadata": {},
   "outputs": [],
   "source": [
    "password = \"lYsychans'k9#\"\n",
    "user_name = 'hiltonnetta@gmail.com'\n",
    "API_KEY = '0347410bd6005b774d851422ead74762'"
   ]
  },
  {
   "cell_type": "code",
   "execution_count": null,
   "id": "fc12ce6e",
   "metadata": {},
   "outputs": [],
   "source": []
  }
 ],
 "metadata": {
  "kernelspec": {
   "display_name": "Python 3 (ipykernel)",
   "language": "python",
   "name": "python3"
  },
  "language_info": {
   "codemirror_mode": {
    "name": "ipython",
    "version": 3
   },
   "file_extension": ".py",
   "mimetype": "text/x-python",
   "name": "python",
   "nbconvert_exporter": "python",
   "pygments_lexer": "ipython3",
   "version": "3.9.12"
  }
 },
 "nbformat": 4,
 "nbformat_minor": 5
}
