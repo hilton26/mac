{
 "cells": [
  {
   "cell_type": "markdown",
   "id": "7a81117d",
   "metadata": {},
   "source": [
    "A Complete Yet Simple Guide to Move from Excel to Python<br>\n",
    "https://towardsdatascience.com/a-complete-yet-simple-guide-to-move-from-excel-to-python-d664e5683039"
   ]
  },
  {
   "cell_type": "code",
   "execution_count": null,
   "id": "e9445905",
   "metadata": {},
   "outputs": [],
   "source": []
  }
 ],
 "metadata": {
  "kernelspec": {
   "display_name": "Python 3",
   "language": "python",
   "name": "python3"
  },
  "language_info": {
   "codemirror_mode": {
    "name": "ipython",
    "version": 3
   },
   "file_extension": ".py",
   "mimetype": "text/x-python",
   "name": "python",
   "nbconvert_exporter": "python",
   "pygments_lexer": "ipython3",
   "version": "3.8.8"
  }
 },
 "nbformat": 4,
 "nbformat_minor": 5
}
