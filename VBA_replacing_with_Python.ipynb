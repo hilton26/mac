{
 "cells": [
  {
   "cell_type": "markdown",
   "id": "794e59b3",
   "metadata": {},
   "source": [
    "How to Replace VBA with Python(Step-By-Step Tutorial) Sep 2021\n",
    "https://www.youtube.com/watch?v=6qo3ly3-_I8\n",
    "\n",
    "Python: Pandas read_excel cannot open .xls file, ValueError: File is not a recognized excel file\n",
    "https://stackoverflow.com/questions/68018701/python-pandas-read-excel-cannot-open-xls-file-valueerror-file-is-not-a-recog\n",
    "\n",
    "Python 3 Quick Tip: The easy way to deal with file paths on Windows, Mac and Linux\n",
    "https://medium.com/@ageitgey/python-3-quick-tip-the-easy-way-to-deal-with-file-paths-on-windows-mac-and-linux-11a072b58d5f\n",
    "\n",
    "Data to Fish: Convert CSV to Excel using Python (example included)\n",
    "https://datatofish.com/csv-to-excel-python/\n",
    "\n",
    "How To Fix pandas.parser.CParserError: Error tokenizing data\n",
    "https://towardsdatascience.com/fix-pandas-parser-error-tokenizing-data-889167292d38"
   ]
  },
  {
   "cell_type": "code",
   "execution_count": 1,
   "id": "9ee2efd7",
   "metadata": {},
   "outputs": [
    {
     "name": "stdout",
     "output_type": "stream",
     "text": [
      "C:\\Users\\hilton.netta\\py\n"
     ]
    }
   ],
   "source": [
    "import os\n",
    "print(os.getcwd())"
   ]
  },
  {
   "cell_type": "code",
   "execution_count": 5,
   "id": "9a1ad555",
   "metadata": {},
   "outputs": [
    {
     "name": "stdout",
     "output_type": "stream",
     "text": [
      "C:\\Users\\hilton.netta\\Downloads\n"
     ]
    }
   ],
   "source": [
    "# file paths and names\n",
    "\n",
    "from pathlib import Path\n",
    "holder_folder = Path(\"C:\\\\\",\"Users\",\"hilton.netta\",\"Downloads\")\n",
    "print(holder_folder)\n",
    "deriv_file = 'Derivative Exposure.csv'\n",
    "deriv_sheet = 'Derivative Exposure'\n",
    "holdings_file = 'Portfolio Analytics Report - New.csv'\n",
    "holdings_sheet = 'Portfolio Analytics Report - Ne'"
   ]
  },
  {
   "cell_type": "code",
   "execution_count": 50,
   "id": "92a03877",
   "metadata": {},
   "outputs": [],
   "source": [
    "import openpyxl\n",
    "import pandas as pd\n",
    "\n",
    "deriv_file = 'Derivative Exposure.xlsx'\n",
    "deriv_sheet = 'Derivative Exposure'\n",
    "holdings_file = 'Portfolio Analytics Report - New.xlsx'\n",
    "holdings_sheet = 'Portfolio Analytics Report - Ne'\n",
    "\n",
    "book = openpyxl.load_workbook(holder_folder / deriv_file)\n",
    "sheet = book[deriv_sheet]\n",
    "\n",
    "sheet['L1'] = 'Hello there'\n",
    "\n",
    "book.save(downloads_folder + deriv_file)"
   ]
  },
  {
   "cell_type": "code",
   "execution_count": null,
   "id": "76ce066a",
   "metadata": {},
   "outputs": [],
   "source": [
    "# FROM file\n",
    "\n",
    "flFROM = r'C:\\\\Users\\\\hilton.netta\\\\Downloads\\\\Derivative Exposure.xlsx'\n",
    "shtFROM = openpyxl.load_workbook(flFROM)['Derivative Exposure']"
   ]
  },
  {
   "cell_type": "code",
   "execution_count": 54,
   "id": "c1c6015f",
   "metadata": {},
   "outputs": [],
   "source": [
    "# TO file\n",
    "derv_test_path = Path('\\\\\\pim-cpt-fs\\\\profile$\\\\PProfile Operations\\\\Legal\\\\Legal and Compliance Framework\\\\Hilton\\W\\\\')\n",
    "flnm =  derv_test_path / 'DervTest.xlsm'\n",
    "wb = openpyxl.load_workbook(flnm)\n",
    "sht = wb['D']"
   ]
  },
  {
   "cell_type": "code",
   "execution_count": null,
   "id": "883c2ab2",
   "metadata": {},
   "outputs": [],
   "source": [
    "# calculate total rows and columns in source file\n",
    "mr = wb.max_row\n",
    "mc = ws1.max_column"
   ]
  },
  {
   "cell_type": "code",
   "execution_count": 33,
   "id": "a297903e",
   "metadata": {},
   "outputs": [
    {
     "data": {
      "text/plain": [
       "['H', 'D', 'S', 'k', 'Static', 'Summary', 'Glbl Expsr', 'Data', 'Deltas', 'BM']"
      ]
     },
     "execution_count": 33,
     "metadata": {},
     "output_type": "execute_result"
    }
   ],
   "source": [
    "wb.sheetnames"
   ]
  },
  {
   "cell_type": "code",
   "execution_count": 26,
   "id": "b6dd997c",
   "metadata": {},
   "outputs": [],
   "source": [
    "sheet = wb['Static']"
   ]
  },
  {
   "cell_type": "code",
   "execution_count": 29,
   "id": "8f0f3dd2",
   "metadata": {},
   "outputs": [
    {
     "name": "stdout",
     "output_type": "stream",
     "text": [
      "(datetime.datetime(2020, 12, 16, 0, 0), 'Day of Reconciliation', None, 'Back to links')\n",
      "(datetime.datetime(2020, 12, 25, 0, 0), 'Christmas Day', None, None)\n",
      "(datetime.datetime(2020, 12, 26, 0, 0), 'Boxing Day', None, None)\n",
      "(datetime.datetime(2021, 1, 1, 0, 0), \"New Year's Day\", None, None)\n",
      "(datetime.datetime(2021, 3, 22, 0, 0), 'Human Rights Day', None, None)\n",
      "(datetime.datetime(2021, 4, 2, 0, 0), 'Good Friday', None, None)\n",
      "(datetime.datetime(2021, 4, 5, 0, 0), 'Family Day', None, None)\n",
      "(datetime.datetime(2021, 4, 27, 0, 0), 'Freedom Day', None, None)\n",
      "(datetime.datetime(2021, 5, 1, 0, 0), \"International Workers' Day\", None, None)\n",
      "(datetime.datetime(2021, 6, 16, 0, 0), 'Youth Day (in South Africa)', None, None)\n",
      "(datetime.datetime(2021, 8, 9, 0, 0), \"National Women's Day\", None, None)\n",
      "(datetime.datetime(2021, 9, 24, 0, 0), 'Heritage Day', None, None)\n",
      "(datetime.datetime(2021, 11, 1, 0, 0), 'Election Day', None, None)\n",
      "(datetime.datetime(2021, 12, 16, 0, 0), 'Day of Reconciliation', None, None)\n",
      "(datetime.datetime(2021, 12, 25, 0, 0), 'Christmas Day', None, None)\n",
      "(datetime.datetime(2021, 12, 27, 0, 0), 'Boxing Day', None, None)\n",
      "(datetime.datetime(2022, 1, 1, 0, 0), \"New Year's Day\", None, None)\n",
      "(datetime.datetime(2022, 3, 21, 0, 0), 'Human Rights Day', None, None)\n",
      "(datetime.datetime(2022, 4, 15, 0, 0), 'Good Friday', None, None)\n",
      "(datetime.datetime(2022, 4, 18, 0, 0), 'Family Day', None, None)\n",
      "(datetime.datetime(2022, 4, 27, 0, 0), 'Freedom Day', None, None)\n",
      "(datetime.datetime(2022, 5, 1, 0, 0), \"Workers' Day\", None, None)\n",
      "(datetime.datetime(2022, 5, 2, 0, 0), \"Workers' Day Holiday\", None, None)\n",
      "(datetime.datetime(2022, 6, 16, 0, 0), 'Youth Day', None, None)\n",
      "(datetime.datetime(2022, 8, 9, 0, 0), \"National Women's Day\", None, None)\n",
      "(datetime.datetime(2022, 9, 24, 0, 0), 'Heritage Day', None, None)\n",
      "(datetime.datetime(2022, 12, 16, 0, 0), 'Day of Reconciliation', None, None)\n",
      "(datetime.datetime(2022, 12, 25, 0, 0), 'Christmas Day', None, None)\n",
      "(datetime.datetime(2022, 12, 26, 0, 0), 'Day of Goodwill', None, None)\n"
     ]
    }
   ],
   "source": [
    "for row in sheet.iter_rows(min_row = 1, max_row = 29, min_col = 1, max_col = 4, values_only = True):\n",
    "    print(row)"
   ]
  },
  {
   "cell_type": "code",
   "execution_count": 39,
   "id": "d528406b",
   "metadata": {},
   "outputs": [],
   "source": [
    "df = pd.read_excel(flnm, 'Static',engine = 'openpyxl')"
   ]
  },
  {
   "cell_type": "code",
   "execution_count": 40,
   "id": "f32edbf0",
   "metadata": {},
   "outputs": [
    {
     "name": "stdout",
     "output_type": "stream",
     "text": [
      "Index([2020-12-16 00:00:00, 'Day of Reconciliation', 'Unnamed: 2',\n",
      "       'Back to links'],\n",
      "      dtype='object')\n"
     ]
    }
   ],
   "source": [
    "results = df.columns\n",
    "print(results)"
   ]
  },
  {
   "cell_type": "code",
   "execution_count": 48,
   "id": "5f4671ee",
   "metadata": {},
   "outputs": [
    {
     "name": "stdout",
     "output_type": "stream",
     "text": [
      "  2020-12-16 00:00:00 Day of Reconciliation  Unnamed: 2\n",
      "0          2020-12-25         Christmas Day         NaN\n",
      "1          2020-12-26            Boxing Day         NaN\n",
      "2          2021-01-01        New Year's Day         NaN\n",
      "3          2021-03-22      Human Rights Day         NaN\n",
      "4          2021-04-02           Good Friday         NaN\n"
     ]
    }
   ],
   "source": [
    "results = df.iloc[:5,:3]\n",
    "print(results)"
   ]
  },
  {
   "cell_type": "code",
   "execution_count": 51,
   "id": "238d2917",
   "metadata": {},
   "outputs": [
    {
     "ename": "NameError",
     "evalue": "name 'openpxyl' is not defined",
     "output_type": "error",
     "traceback": [
      "\u001b[1;31m---------------------------------------------------------------------------\u001b[0m",
      "\u001b[1;31mNameError\u001b[0m                                 Traceback (most recent call last)",
      "\u001b[1;32m<ipython-input-51-46932f34b934>\u001b[0m in \u001b[0;36m<module>\u001b[1;34m\u001b[0m\n\u001b[1;32m----> 1\u001b[1;33m \u001b[0mopenpxyl\u001b[0m\u001b[1;33m.\u001b[0m\u001b[0mload_workbook\u001b[0m\u001b[1;33m(\u001b[0m\u001b[0mflnm\u001b[0m\u001b[1;33m)\u001b[0m\u001b[1;33m\u001b[0m\u001b[1;33m\u001b[0m\u001b[0m\n\u001b[0m",
      "\u001b[1;31mNameError\u001b[0m: name 'openpxyl' is not defined"
     ]
    }
   ],
   "source": [
    "openpxyl.load_workbook(flnm)"
   ]
  },
  {
   "cell_type": "code",
   "execution_count": null,
   "id": "174626a8",
   "metadata": {},
   "outputs": [],
   "source": []
  }
 ],
 "metadata": {
  "kernelspec": {
   "display_name": "Python 3",
   "language": "python",
   "name": "python3"
  },
  "language_info": {
   "codemirror_mode": {
    "name": "ipython",
    "version": 3
   },
   "file_extension": ".py",
   "mimetype": "text/x-python",
   "name": "python",
   "nbconvert_exporter": "python",
   "pygments_lexer": "ipython3",
   "version": "3.8.8"
  }
 },
 "nbformat": 4,
 "nbformat_minor": 5
}
