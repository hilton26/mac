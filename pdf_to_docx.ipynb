{
 "cells": [
  {
   "cell_type": "markdown",
   "id": "afd31d58",
   "metadata": {},
   "source": [
    "### pdf2docx\n",
    "https://dothinking.github.io/pdf2docx/quickstart.convert.html"
   ]
  },
  {
   "cell_type": "code",
   "execution_count": 10,
   "id": "27b7fd0a",
   "metadata": {},
   "outputs": [],
   "source": [
    "# import Libraries\n",
    "from pdf2docx import Converter #!pip install pdf2docx"
   ]
  },
  {
   "cell_type": "code",
   "execution_count": 24,
   "id": "7cecc26d",
   "metadata": {},
   "outputs": [],
   "source": [
    "# set paths and file names\n",
    "\n",
    "pthPDF    = r'P:\\Working Folders\\Hilton\\docs'\n",
    "pthDOCX   = r'P:\\Working Folders\\Hilton\\docs'\n",
    "pdf_name  = '20221007 PIM_Amplats_Portfolio Management Agreement.pdf'\n",
    "\n",
    "pdf_file  = pthPDF + f'\\{pdf_name}'\n",
    "docx_file = pthDOCX + pdf_name.replace('.pdf', '.docx')\n",
    "\n",
    "#print(pdf_file, docx_file) # as a check"
   ]
  },
  {
   "cell_type": "code",
   "execution_count": 25,
   "id": "2b4f5b64",
   "metadata": {},
   "outputs": [
    {
     "name": "stderr",
     "output_type": "stream",
     "text": [
      "[INFO] Start to convert P:\\Working Folders\\Hilton\\docs\\20221007 PIM_Amplats_Portfolio Management Agreement.pdf\n",
      "[INFO] \u001b[1;36m[1/4] Opening document...\u001b[0m\n",
      "[INFO] \u001b[1;36m[2/4] Analyzing document...\u001b[0m\n",
      "[WARNING] Words count: 0. It might be a scanned pdf, which is not supported yet.\n",
      "[INFO] \u001b[1;36m[3/4] Parsing pages...\u001b[0m\n",
      "[INFO] (1/38) Page 1\n",
      "[INFO] (2/38) Page 2\n",
      "[INFO] (3/38) Page 3\n",
      "[INFO] (4/38) Page 4\n",
      "[INFO] (5/38) Page 5\n",
      "[INFO] (6/38) Page 6\n",
      "[INFO] (7/38) Page 7\n",
      "[INFO] (8/38) Page 8\n",
      "[INFO] (9/38) Page 9\n",
      "[INFO] (10/38) Page 10\n",
      "[INFO] (11/38) Page 11\n",
      "[INFO] (12/38) Page 12\n",
      "[INFO] (13/38) Page 13\n",
      "[INFO] (14/38) Page 14\n",
      "[INFO] (15/38) Page 15\n",
      "[INFO] (16/38) Page 16\n",
      "[INFO] (17/38) Page 17\n",
      "[INFO] (18/38) Page 18\n",
      "[INFO] (19/38) Page 19\n",
      "[INFO] (20/38) Page 20\n",
      "[INFO] (21/38) Page 21\n",
      "[INFO] (22/38) Page 22\n",
      "[INFO] (23/38) Page 23\n",
      "[INFO] (24/38) Page 24\n",
      "[INFO] (25/38) Page 25\n",
      "[INFO] (26/38) Page 26\n",
      "[INFO] (27/38) Page 27\n",
      "[INFO] (28/38) Page 28\n",
      "[INFO] (29/38) Page 29\n",
      "[INFO] (30/38) Page 30\n",
      "[INFO] (31/38) Page 31\n",
      "[INFO] (32/38) Page 32\n",
      "[INFO] (33/38) Page 33\n",
      "[INFO] (34/38) Page 34\n",
      "[INFO] (35/38) Page 35\n",
      "[INFO] (36/38) Page 36\n",
      "[INFO] (37/38) Page 37\n",
      "[INFO] (38/38) Page 38\n",
      "[INFO] \u001b[1;36m[4/4] Creating pages...\u001b[0m\n",
      "[INFO] (1/38) Page 1\n",
      "[INFO] (2/38) Page 2\n",
      "[INFO] (3/38) Page 3\n",
      "[INFO] (4/38) Page 4\n",
      "[INFO] (5/38) Page 5\n",
      "[INFO] (6/38) Page 6\n",
      "[INFO] (7/38) Page 7\n",
      "[INFO] (8/38) Page 8\n",
      "[INFO] (9/38) Page 9\n",
      "[INFO] (10/38) Page 10\n",
      "[INFO] (11/38) Page 11\n",
      "[INFO] (12/38) Page 12\n",
      "[INFO] (13/38) Page 13\n",
      "[INFO] (14/38) Page 14\n",
      "[INFO] (15/38) Page 15\n",
      "[INFO] (16/38) Page 16\n",
      "[INFO] (17/38) Page 17\n",
      "[INFO] (18/38) Page 18\n",
      "[INFO] (19/38) Page 19\n",
      "[INFO] (20/38) Page 20\n",
      "[INFO] (21/38) Page 21\n",
      "[INFO] (22/38) Page 22\n",
      "[INFO] (23/38) Page 23\n",
      "[INFO] (24/38) Page 24\n",
      "[INFO] (25/38) Page 25\n",
      "[INFO] (26/38) Page 26\n",
      "[INFO] (27/38) Page 27\n",
      "[INFO] (28/38) Page 28\n",
      "[INFO] (29/38) Page 29\n",
      "[INFO] (30/38) Page 30\n",
      "[INFO] (31/38) Page 31\n",
      "[INFO] (32/38) Page 32\n",
      "[INFO] (33/38) Page 33\n",
      "[INFO] (34/38) Page 34\n",
      "[INFO] (35/38) Page 35\n",
      "[INFO] (36/38) Page 36\n",
      "[INFO] (37/38) Page 37\n",
      "[INFO] (38/38) Page 38\n",
      "[INFO] Terminated in 66.58s.\n"
     ]
    }
   ],
   "source": [
    "# convert pdf to docx\n",
    "cv = Converter(pdf_file)\n",
    "cv.convert(docx_file)      # all pages by default\n",
    "cv.close()"
   ]
  }
 ],
 "metadata": {
  "kernelspec": {
   "display_name": "Python 3 (ipykernel)",
   "language": "python",
   "name": "python3"
  },
  "language_info": {
   "codemirror_mode": {
    "name": "ipython",
    "version": 3
   },
   "file_extension": ".py",
   "mimetype": "text/x-python",
   "name": "python",
   "nbconvert_exporter": "python",
   "pygments_lexer": "ipython3",
   "version": "3.9.12"
  }
 },
 "nbformat": 4,
 "nbformat_minor": 5
}
