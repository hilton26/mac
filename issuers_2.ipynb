{
 "cells": [
  {
   "cell_type": "markdown",
   "id": "d44d3974",
   "metadata": {},
   "source": [
    "# Step 2: Categorisation of securities"
   ]
  },
  {
   "cell_type": "markdown",
   "id": "6fb1c109",
   "metadata": {},
   "source": [
    "Resources\n",
    "structures P:\\Working Folders\\Hilton\\W\\structures.xlsm\n",
    "\n",
    "Reg28 sheet format and formula P:\\Working Folders\\Hilton\\W\\Reg28 Checker Format and Formulae.docx\n",
    "\n",
    "input file P:\\Working Folders\\Hilton\\W\\Reg 28 Report - input.xlsx\n",
    "\n",
    "issuer results file P:\\Working Folders\\Hilton\\W\\issuers_1_done.xlsx\n",
    "\n",
    "merged file P:\\Working Folders\\Hilton\\W\\merged.xlsx\n",
    "\n",
    "output file P:\\Working Folders\\Hilton\\W\\issuers_2_done.xlsx"
   ]
  },
  {
   "cell_type": "markdown",
   "id": "ab43b0ea",
   "metadata": {},
   "source": [
    "#### Resources\n",
    " \n",
    " 'else' in a list comprehension<br>\n",
    " https://stackoverflow.com/questions/2951701/is-it-possible-to-use-else-in-a-list-comprehension\n",
    " \n",
    "convert string to variable<br>\n",
    "https://www.codeproject.com/Questions/1222606/Python-convert-string-and-variable-to-list-name\n",
    "\n",
    "Apply function to each element of a list<br>\n",
    "https://stackoverflow.com/questions/25082410/apply-function-to-each-element-of-a-list\n",
    "\n",
    "Replace Vlookup in Python using Pandas<br>\n",
    "https://www.youtube.com/watch?v=AHS925L8JVk&t=9s"
   ]
  },
  {
   "cell_type": "code",
   "execution_count": 1,
   "id": "3101ecd1",
   "metadata": {},
   "outputs": [],
   "source": [
    "# create a time difference function\n",
    "import datetime\n",
    "\n",
    "def timediff(start, end, decimals = 1):\n",
    "    if   int((end - start) / 3600) > 0: # non-zero hours\n",
    "        return str(int(  (end - start) / 3600))           + 'hr '  + \\\n",
    "               str(int(  (end - start) /   60))           + 'min ' + \\\n",
    "               str(round((end - start) %   60, decimals)) + 'sec'\n",
    "    elif int((end - start) /   60) > 0: # non-zero hours and minutes\n",
    "        return str(int(  (end - start) /   60))           + 'min ' + \\\n",
    "               str(round((end - start) %   60, decimals)) + 'sec'\n",
    "    else:\n",
    "        return str(round((end - start) %   60, decimals)) + 'sec'"
   ]
  },
  {
   "cell_type": "code",
   "execution_count": 2,
   "id": "fddf5297",
   "metadata": {},
   "outputs": [
    {
     "name": "stdout",
     "output_type": "stream",
     "text": [
      "0.6sec\n"
     ]
    }
   ],
   "source": [
    "# libraries, libraries!\n",
    "\n",
    "    # time, to determine run durations\n",
    "import time\n",
    "start_time = time.time()\n",
    "start_time_overlord = time.time()\n",
    "\n",
    "    # general libraries\n",
    "import pandas   as     pd        # for dataframes\n",
    "import numpy    as     np        # for np.NaN\n",
    "import re                        # for regex\n",
    "from   re       import search    # for regex\n",
    "from   datetime import datetime  # for script run durations\n",
    "\n",
    "    # utilise openpyxl tools to add excel features to results sheet\n",
    "import openpyxl        as     px                                          # for adding sort filters to the excel sheet\n",
    "from   openpyxl.cell   import Cell                                        # to format cells\n",
    "from   openpyxl.styles import Alignment, Color, PatternFill, Font, Border # to format cells\n",
    "\n",
    "    # access Excel application to open results sheet\n",
    "import  win32com.client as win32                                          # library to convert xls to xlsx\n",
    "excel = win32.gencache.EnsureDispatch('Excel.Application')                # to open excel application\n",
    "\n",
    "print(timediff(start_time, time.time()))"
   ]
  },
  {
   "cell_type": "code",
   "execution_count": 3,
   "id": "1074894e",
   "metadata": {},
   "outputs": [],
   "source": [
    "# get the overridden securities\n",
    "\n",
    "structures = r'P:\\Working Folders\\Hilton\\W\\structures.xlsm'\n",
    "overrides  = pd.read_excel(structures, sheet_name = 'overrides')  # security data overrides"
   ]
  },
  {
   "cell_type": "code",
   "execution_count": 4,
   "id": "2370d1ee",
   "metadata": {},
   "outputs": [
    {
     "name": "stdout",
     "output_type": "stream",
     "text": [
      "0.0sec\n"
     ]
    }
   ],
   "source": [
    "# set paths\n",
    "start_time = time.time()\n",
    "\n",
    "pthCompliance    = r'P:\\Investment Operations\\GRC\\Compliance'            # path to PIM Compliance folder\n",
    "pthW             = r'P:\\Working Folders\\Hilton\\W'\n",
    "pth_infra        = pthCompliance + r'\\Regulations\\Reg 28 Infrastructure' # for gov guarantee (of infrastructure issuers)\n",
    "results_filename = r'\\issuers_1_done.xlsx'                               # stage 1 output file name\n",
    "\n",
    "print(timediff(start_time, time.time()))"
   ]
  },
  {
   "cell_type": "code",
   "execution_count": 5,
   "id": "8d398699",
   "metadata": {},
   "outputs": [],
   "source": [
    "# utility function to check if a string contains a list element\n",
    "# https://www.geeksforgeeks.org/python-test-if-string-contains-element-from-list/\n",
    "\n",
    "def res(t_list, t_string):\n",
    "    return bool([ele for ele in t_list if(ele in t_string)])"
   ]
  },
  {
   "cell_type": "code",
   "execution_count": 6,
   "id": "f84fce3d",
   "metadata": {},
   "outputs": [
    {
     "name": "stdout",
     "output_type": "stream",
     "text": [
      "0.1sec\n"
     ]
    }
   ],
   "source": [
    "# read in a Reg 28 file from Eagle as a dataframe called 'results' to use as input\n",
    "start_time = time.time()\n",
    "\n",
    "results_columns = ['Entity Name', 'Investment Type', 'i Issue Name', 'Primary Asset ID', 'CCY', 'Reg28 Classification',\n",
    "                    'End Market Value', 'Percentage of Market Value', 'Closing Exposure PA', 'CLN', 'FRN', 'ILB', 'BESA', \n",
    "                    'repo', 'margin', 'Date', 'MedCirc062022', 'MedCirc122023', 'GovGuar', 'Term', 'Issuer']\n",
    "\n",
    "results         = pd.read_excel(pthW + results_filename, sheet_name = 'results', usecols = results_columns)\n",
    "                  #r'P:\\Working Folders\\Hilton\\W\\Reg 28 Report - results.xlsx'\n",
    "\n",
    "print(timediff(start_time, time.time()))"
   ]
  },
  {
   "cell_type": "code",
   "execution_count": 7,
   "id": "538ab059",
   "metadata": {},
   "outputs": [],
   "source": [
    "# import the Reg 28 file with all issuer codes assigned a named issuer\n",
    "structures  = pthW + r'\\structures.xlsm'\n",
    "\n",
    "# specify columns to include in 'reg' dataframe\n",
    "reg_columns = ['Issuer Name', 'vs structures', 'MCap', 'Ticker', 'Deb', 'Exchange', 'Foreign', 'GPL', 'Fund', 'Bank',\n",
    "               'Debt', 'Equity', 'Property', 'Commodity', 'Partg_emplr', 'HL', 'HF', 'PEF', 'Other', 'Infra', 'DI900']\n",
    "\n",
    "reg         = pd.read_excel(structures, sheet_name = 'reg', usecols = reg_columns)\n",
    "              #r'P:\\Working Folders\\Hilton\\W\\structures.xlsm'"
   ]
  },
  {
   "cell_type": "code",
   "execution_count": 8,
   "id": "6ef7e809",
   "metadata": {},
   "outputs": [],
   "source": [
    "# with all instruments assigned an issuer, merge with the data file in order to look up instrument attributes\n",
    "merged = results.merge(reg,\n",
    "                      left_on  = 'Issuer',\n",
    "                      right_on = 'Issuer Name',\n",
    "                      how      = 'left') # vlookup using pandas https://www.youtube.com/watch?v=AHS925L8JVk&t=9sb\n",
    "\n",
    "# save the merged workbook here P:\\Working Folders\\Hilton\\W\\merged.xlsx\n",
    "merged.to_excel(pthW + r'\\merged.xlsx', sheet_name = 'merged', index = False)"
   ]
  },
  {
   "cell_type": "code",
   "execution_count": 1,
   "id": "33e1bd63",
   "metadata": {},
   "outputs": [
    {
     "ename": "NameError",
     "evalue": "name 'merged' is not defined",
     "output_type": "error",
     "traceback": [
      "\u001b[1;31m---------------------------------------------------------------------------\u001b[0m",
      "\u001b[1;31mNameError\u001b[0m                                 Traceback (most recent call last)",
      "Cell \u001b[1;32mIn[1], line 2\u001b[0m\n\u001b[0;32m      1\u001b[0m \u001b[38;5;66;03m# Equities without market caps # https://www.geeksforgeeks.org/filter-pandas-dataframe-with-multiple-conditions/\u001b[39;00m\n\u001b[1;32m----> 2\u001b[0m eq_no_MCap  \u001b[38;5;241m=\u001b[39m \u001b[43mmerged\u001b[49m\u001b[38;5;241m.\u001b[39mloc[(merged[\u001b[38;5;124m'\u001b[39m\u001b[38;5;124mMCap\u001b[39m\u001b[38;5;124m'\u001b[39m]\u001b[38;5;241m.\u001b[39misnull()\u001b[38;5;241m.\u001b[39mvalues) \u001b[38;5;241m&\u001b[39m (merged[\u001b[38;5;124m'\u001b[39m\u001b[38;5;124mInvestment Type\u001b[39m\u001b[38;5;124m'\u001b[39m] \u001b[38;5;241m==\u001b[39m\u001b[38;5;124m'\u001b[39m\u001b[38;5;124mEQ\u001b[39m\u001b[38;5;124m'\u001b[39m)\n\u001b[0;32m      3\u001b[0m                     ]\u001b[38;5;241m.\u001b[39mdrop_duplicates(subset\u001b[38;5;241m=\u001b[39m\u001b[38;5;124m'\u001b[39m\u001b[38;5;124mPrimary Asset ID\u001b[39m\u001b[38;5;124m'\u001b[39m, keep \u001b[38;5;241m=\u001b[39m \u001b[38;5;124m'\u001b[39m\u001b[38;5;124mfirst\u001b[39m\u001b[38;5;124m'\u001b[39m)[\u001b[38;5;124m'\u001b[39m\u001b[38;5;124mPrimary Asset ID\u001b[39m\u001b[38;5;124m'\u001b[39m]\n",
      "\u001b[1;31mNameError\u001b[0m: name 'merged' is not defined"
     ]
    }
   ],
   "source": [
    "# Equities without market caps # https://www.geeksforgeeks.org/filter-pandas-dataframe-with-multiple-conditions/\n",
    "eq_no_MCap  = merged.loc[(merged['MCap'].isnull().values) & (merged['Investment Type'] =='EQ')\n",
    "                    ].drop_duplicates(subset='Primary Asset ID', keep = 'first')['Primary Asset ID']"
   ]
  },
  {
   "cell_type": "code",
   "execution_count": 10,
   "id": "a0ea69cf",
   "metadata": {},
   "outputs": [],
   "source": [
    "# Securities without market caps # https://www.geeksforgeeks.org/filter-pandas-dataframe-with-multiple-conditions/\n",
    "no_MCap     = merged.loc[(merged['MCap'].isnull().values)\n",
    "                    ].drop_duplicates(subset='Primary Asset ID', keep = 'first')['Primary Asset ID']"
   ]
  },
  {
   "cell_type": "code",
   "execution_count": 11,
   "id": "e2b8e6d9",
   "metadata": {},
   "outputs": [
    {
     "data": {
      "text/plain": [
       "Series([], Name: MCap, dtype: float64)"
      ]
     },
     "execution_count": 11,
     "metadata": {},
     "output_type": "execute_result"
    }
   ],
   "source": [
    "#proof that the merged datagrame includes a non-zero market cap for the instrument\n",
    "merged[merged['Primary Asset ID'] == 'SSS']['MCap']"
   ]
  },
  {
   "cell_type": "code",
   "execution_count": 12,
   "id": "5af28bf0",
   "metadata": {},
   "outputs": [],
   "source": [
    "# function to get asset class of a derivative\n",
    "def derv_ft_op(row):\n",
    "    if   row['Investment Type'] == 'OP' and res(['JADM', 'ZAUS', 'CURR', 'ZAR'], row['i Issue Name'].upper()):\n",
    "        return 'c'\n",
    "    if   row['Investment Type'] == 'OP' and res(['ALSI', 'UKX', 'SPX', 'HSCEI', 'SPYQ', 'SX5E'], row['i Issue Name']):\n",
    "        return 'e'\n",
    "    elif row['Investment Type'] == 'FT' and row['Property'] == 'P':\n",
    "        return 'p'\n",
    "    elif row['Investment Type'] == 'DERV' and 'TRS' in row['Primary Asset ID'].upper():\n",
    "        return 'e'\n",
    "    elif row['Investment Type'] == 'DERV' and ('CPI' in row['i Issue Name'].upper() or row['Term'] >= 396):\n",
    "        return 'd'       \n",
    "    elif row['Investment Type'] == 'DERV':\n",
    "        return 'c'\n",
    "    elif row['Investment Type'] == 'FT' and (row['GPL'] == 'G' or res(['BOND', 'CBT', 'NOTE'], row['i Issue Name'].upper())):\n",
    "        return 'd'\n",
    "    elif row['Investment Type'] == 'FT':\n",
    "        return 'e'    "
   ]
  },
  {
   "cell_type": "code",
   "execution_count": 13,
   "id": "e95ea3ba",
   "metadata": {},
   "outputs": [
    {
     "name": "stdout",
     "output_type": "stream",
     "text": [
      "0.0sec\n"
     ]
    }
   ],
   "source": [
    "# (3) identify derivative asset classes\n",
    "start_time = time.time()\n",
    "\n",
    "merged['dX']  = merged.apply(lambda row: derv_ft_op(row), axis=1)\n",
    "\n",
    "print(timediff(start_time, time.time()))"
   ]
  },
  {
   "cell_type": "code",
   "execution_count": 14,
   "id": "67afc72a",
   "metadata": {},
   "outputs": [
    {
     "data": {
      "text/plain": [
       "Series([], Name: MCap, dtype: float64)"
      ]
     },
     "execution_count": 14,
     "metadata": {},
     "output_type": "execute_result"
    }
   ],
   "source": [
    "#proof that the merged datagrame includes a non-zero market cap for the instrument\n",
    "merged[merged['Primary Asset ID'] == 'SSS']['MCap']"
   ]
  },
  {
   "cell_type": "code",
   "execution_count": 15,
   "id": "87c2834d",
   "metadata": {},
   "outputs": [],
   "source": [
    "# insert overridden instrument codes\n",
    "for i in range(len(overrides)): #https://www.geeksforgeeks.org/different-ways-to-iterate-over-rows-in-pandas-dataframe/\n",
    "    instr = overrides['InstrCode'][i]\n",
    "    \n",
    "    if merged['Primary Asset ID'].eq(overrides.loc[i, 'InstrCode']).any(): \n",
    "    #https://www.statology.org/pandas-check-if-column-contains-string/\n",
    "    #https://www.geeksforgeeks.org/python-data-types/ they are str, int, float, complex, list, tuple\n",
    "        \n",
    "        # test for 'BESA'\n",
    "        if isinstance(overrides['BESA'][i], str):\n",
    "            merged.at[merged[merged['Primary Asset ID'] == instr].index[0], 'BESA'    ] = overrides['BESA'    ][i]\n",
    "            # https://datagy.io/pandas-get-row-number/\n",
    "            # https://stackoverflow.com/questions/13842088/set-value-for-particular-cell-in-pandas-dataframe-using-index\n",
    "        \n",
    "        # test for 'Issuer'\n",
    "        #if isinstance(overrides['Issuer'][i], str):\n",
    "            #merged.at[merged[merged['Primary Asset ID'] == instr].index[0], 'Issuer'  ] = overrides['Issuer'  ][i]\n",
    "        \n",
    "        # test for 'Date'        \n",
    "        if isinstance(overrides['Date'][i], datetime):\n",
    "            merged.at[merged[merged['Primary Asset ID'] == instr].index[0], 'Date'    ] = overrides['Date'    ][i]\n",
    "        \n",
    "        # test for 'Term'        \n",
    "        if isinstance(overrides['Term'][i], float):\n",
    "            merged.at[merged[merged['Primary Asset ID'] == instr].index[0], 'Term'    ] = overrides['Term'    ][i]            \n",
    "        \n",
    "        # test for 'MCap'        \n",
    "        #if isinstance(overrides['MCap'][i], float):\n",
    "            #merged.at[merged[merged['Primary Asset ID'] == instr].index[0], 'MCap'    ] = overrides['MCap'    ][i]\n",
    "\n",
    "        # test for 'Property'\n",
    "        #if isinstance(overrides['Property'][i], str):\n",
    "            #merged.at[merged[merged['Primary Asset ID'] == instr].index[0], 'Property'] = overrides['Property'][i]\n",
    "\n",
    "        # test for 'Government guarantee'\n",
    "        if isinstance(overrides['GovGuar'][i], str):\n",
    "            merged.at[merged[merged['Primary Asset ID'] == instr].index[0], 'GovGuar' ] = overrides['GovGuar' ][i]            \n"
   ]
  },
  {
   "cell_type": "code",
   "execution_count": 16,
   "id": "5e273693",
   "metadata": {},
   "outputs": [
    {
     "data": {
      "text/plain": [
       "Series([], Name: MCap, dtype: float64)"
      ]
     },
     "execution_count": 16,
     "metadata": {},
     "output_type": "execute_result"
    }
   ],
   "source": [
    "#proof that the merged datagrame includes a non-zero market cap for the instrument\n",
    "merged[merged['Primary Asset ID'] == 'SSS']['MCap']"
   ]
  },
  {
   "cell_type": "code",
   "execution_count": 17,
   "id": "2c47c73d",
   "metadata": {},
   "outputs": [],
   "source": [
    "# function that creates a new column based on the values of other columns\n",
    "# Python: Check if String Contains Substring https://stackabuse.com/python-check-if-string-contains-substring/\n",
    "\n",
    "def classify_Reg28(row):\n",
    "   \n",
    "    # 1.1(a) Cash with SARB-registered bank   \n",
    "    if ((res(['CASH', 'FWD'], row['Investment Type']) or row['dX'] == 'c') and pd.isna(row['margin']) and row['Bank'] == 's') or (row['Investment Type'] == 'SYTH'):\n",
    "        return '1.1(a)'\n",
    "    \n",
    "    # 1.1(b) Money market instruments with SARB registered bank\n",
    "    elif (row['Investment Type'] == 'ST' or row['Investment Type'] == 'FI') and row['Bank'] == 's':\n",
    "        return '1.1(b)'  \n",
    "    \n",
    "    # 1.1(c) Positive margin account balance with SARB registered bank\n",
    "    elif res(['ST', 'CASH'], row['Investment Type']) and row['margin'] == 'm' and row['Bank'] == 's':\n",
    "        return '1.1(c)'\n",
    "    \n",
    "    # 1.2(a) Cash with a foreign bank\n",
    "    elif (res(['ST', 'CASH', 'FWD', 'SYTH'], row['Investment Type']) or row['dX'] == 'c') and row['Bank'] == 'b' or row['Primary Asset ID'] == '0649317':\n",
    "        return '1.2(a)'\n",
    "    \n",
    "    # 1.2(b) Cash with an African bank\n",
    "    elif res(['ST', 'CASH'], row['Investment Type']) and row['Bank'] == 'a':\n",
    "        return '1.2(b)'\n",
    "    \n",
    "    # 1.2(c) Money market instruments with foreign bank\n",
    "    elif (row['Investment Type'] == 'ST' or row['dX'] == 'c' or (row['Investment Type'] == 'FI' and row['Term'] < 396)) and row['Bank'] == 'b':\n",
    "        return '1.2(c)'  \n",
    "    \n",
    "    # 2.1(a) SA government debt, ZAR-denominated\n",
    "    elif (row['Issuer'] == 'Republic of South Africa' or row['GovGuar'] == 1) and row['CCY'] == 'ZAR':\n",
    "        return '2.1(a)'\n",
    "        \n",
    "    # 2.1(b) Foreign government debt and foreign government guaranteed debt\n",
    "    elif row['Issuer'] != 'Republic of South Africa' and row['GPL'] == 'G':\n",
    "        return '2.1(b)'  \n",
    " \n",
    "    # 2.1(c)(i) Debt issued by SARB registered bank with MCap > R20bn\n",
    "    elif (res(['FI', 'ST'], row['Investment Type']) or row['dX'] == 'd') and row['Bank'] == 's' and row['Term'] >= 396 and row['MCap'] > 20:\n",
    "        return '2.1(c)(i)'\n",
    " \n",
    "    # 2.1(c)(ii) Debt issued by SARB registered bank with R2bn < MCap < R20bn\n",
    "    elif (res(['FI', 'ST'], row['Investment Type']) or row['dX'] == 'd') and row['Bank'] == 's' and row['Term'] >= 396 and row['MCap'] < 20 and row['MCap'] > 2:\n",
    "        return '2.1(c)(ii)'\n",
    " \n",
    "    # 2.1(c)(iii) Debt issued by SARB registered bank with MCap < R2bn\n",
    "    elif (res(['FI', 'ST'], row['Investment Type']) or row['dX'] == 'd') and row['Bank'] == 's' and row['Term'] >= 396 and row['MCap'] < 20 and row['MCap'] < 2:\n",
    "        return '2.1(c)(iii)'          \n",
    " \n",
    "    # 2.1(c)(iv) Debt issued by SARB registered, unlisted bank\n",
    "    elif (res(['FI', 'ST'], row['Investment Type']) or row['dX'] == 'd') and row['Bank'] == 's' and row['Term'] >= 396 and (row['MCap'] == 0 or pd.isna(row['MCap'])):\n",
    "        return '2.1(c)(iv)'     \n",
    "              \n",
    "    # 2.2(a) SA government debt, non-ZAR-denominated\n",
    "    elif row['Issuer'] == 'Republic of South Africa' and row['CCY'] != 'ZAR':\n",
    "        return '2.2(a)' \n",
    "    \n",
    "    # 2.2(c)(i) Debt issued by foreign bank with MCap > R20bn\n",
    "    elif (res(['FI', 'ST'], row['Investment Type']) or row['dX'] == 'd') and row['Bank'] == 'b' and row['Term'] >= 396 and row['MCap'] > 20:\n",
    "        return '2.2(c)(i)'\n",
    " \n",
    "    # 2.2(c)(ii) Debt issued by foreign bank with R2bn < MCap < R20bn\n",
    "    elif (res(['FI', 'ST'], row['Investment Type']) or row['dX'] == 'd') and row['Bank'] == 'b' and row['Term'] >= 396 and row['MCap'] < 20 and row['MCap'] > 2:\n",
    "        return '2.2(c)(ii)'\n",
    " \n",
    "    # 2.2(c)(iii) Debt issued by foreign bank with MCap < R2bn\n",
    "    elif (res(['FI', 'ST'], row['Investment Type']) or row['dX'] == 'd') and row['Bank'] == 'b' and row['Term'] >= 396 and row['MCap'] < 20 and row['MCap'] < 2:\n",
    "        return '2.2(c)(iii)'          \n",
    " \n",
    "    # 2.2(c)(iv) Debt issued by unlisted foreign bank\n",
    "    elif (res(['FI', 'ST'], row['Investment Type']) or row['dX'] == 'd') and row['Bank'] == 'b' and row['Term'] >= 396 and pd.isna(row['MCap']):\n",
    "        return '2.2(c)(iv)'             \n",
    "          \n",
    "    # 2.1(d)(i) Listed debt issued by PFMA entities and by listed corporates\n",
    "    elif (res(['FI', 'ST'], row['Investment Type']) or row['dX'] == 'd') and (row['GPL'] == 'p' or  row['MCap'] > 0) and row['BESA'] == 'B' and row['CCY'] == 'ZAR':\n",
    "        return '2.1(d)(i)'\n",
    "          \n",
    "    # 2.1(d)(ii) Unlisted debt issued by PFMA entities and by listed corporates\n",
    "    elif (res(['FI', 'ST'], row['Investment Type']) or row['dX'] == 'd') and (row['GPL'] == 'p' or  row['MCap'] > 0) and row['BESA'] != 'B' and row['CCY'] == 'ZAR':\n",
    "        return '2.1(d)(ii)'\n",
    "          \n",
    "    # 2.1(e)(i) Listed debt issued by unlisted corporates\n",
    "    elif res(['FI', 'ST'], row['Investment Type']) and row['GPL'] != 'p' and  pd.isna(row['MCap']) and row['BESA'] == 'B' and row['CCY'] == 'ZAR':\n",
    "        return '2.1(e)(i)'\n",
    "               \n",
    "    # 2.1(e)(ii) Unlisted debt issued by unlisted corporates\n",
    "    elif res(['FI', 'ST'], row['Investment Type']) and row['GPL'] != 'p' and  pd.isna(row['MCap']) and row['BESA'] != 'B' and row['CCY'] == 'ZAR':\n",
    "        return '2.1(e)(ii)'         \n",
    "          \n",
    "    # 2.2(d)(i) Listed foreign debt issued by listed corporates\n",
    "    elif res(['FI', 'ST'], row['Investment Type']) and (row['GPL'] == 'p' or  row['MCap'] > 0) and row['CCY'] != 'ZAR':\n",
    "        return '2.2(d)(i)'\n",
    "          \n",
    "    # 2.2(d)(ii) Unlisted foreign debt issued listed corporates\n",
    "    elif res(['FI', 'ST'], row['Investment Type']) and (row['GPL'] == 'p' or  row['MCap'] > 0) and row['BESA'] != 'B' and row['CCY'] != 'ZAR':\n",
    "        return '2.2(d)(ii)'\n",
    "          \n",
    "    # 2.2(e)(i) Listed foreign debt issued by unlisted corporates\n",
    "    elif res(['FI', 'ST'], row['Investment Type']) and row['GPL'] != 'p' and  pd.isna(row['MCap']) and row['BESA'] != 'B' and row['CCY'] != 'ZAR':\n",
    "        return '2.2(e)(i)'\n",
    "               \n",
    "    # 2.2(e)(ii) Unlisted foreign debt issued by unlisted corporates\n",
    "    elif res(['FI', 'ST'], row['Investment Type']) and row['GPL'] != 'p' and  pd.isna(row['MCap']) and row['BESA'] != 'B' and row['CCY'] != 'ZAR':\n",
    "        return '2.2(e)(ii)'\n",
    "          \n",
    "    # 3.1(a)(i) Listed ordinary and preference shares, market cap >= R20bn\n",
    "    elif ((row['Investment Type'] == 'EQ' and row['MCap'] >= 20) or row['dX'] == 'e') and row['CCY'] == 'ZAR' and row['Property'] != 'P':\n",
    "        return '3.1(a)(i)'\n",
    "                  \n",
    "    # 3.1(a)(ii) Listed ordinary and preference shares, market cap >= R2bn\n",
    "    elif row['Investment Type'] == 'EQ' and row['MCap'] >= 2 and row['CCY'] == 'ZAR' and row['Property'] != 'P':\n",
    "        return '3.1(a)(ii)'\n",
    "              \n",
    "    # 3.1(a)(iii) Listed ordinary and preference shares, market cap < R2bn\n",
    "    elif row['Investment Type'] == 'EQ' and row['MCap'] < 2 and row['CCY'] == 'ZAR' and row['Property'] != 'P':\n",
    "        return '3.1(a)(iii)'\n",
    "              \n",
    "    # 3.1(b) Unlisted ordinary and preference shares\n",
    "    elif row['Investment Type'] == 'EQ' and pd.isna(row['MCap']) and row['CCY'] == 'ZAR' and row['Property'] != 'P':\n",
    "        return '3.1(b)'    \n",
    "          \n",
    "    # 3.2(a)(i) Listed ordinary and preference shares, market cap >= R20bn\n",
    "    elif ((row['Investment Type'] == 'EQ' and row['MCap'] >= 20) or row['dX'] == 'e') and row['CCY'] != 'ZAR' and row['Property'] != 'P':\n",
    "        return '3.2(a)(i)'\n",
    "                  \n",
    "    # 3.2(a)(ii) Listed ordinary and preference shares, market cap >= R2bn\n",
    "    elif row['Investment Type'] == 'EQ' and row['MCap'] >= 2 and row['CCY'] != 'ZAR' and row['Property'] != 'P':\n",
    "        return '3.2(a)(ii)'\n",
    "              \n",
    "    # 3.2(a)(iii) Listed ordinary and preference shares, market cap < R2bn\n",
    "    elif row['Investment Type'] == 'EQ' and row['MCap'] < 2 and row['CCY'] != 'ZAR' and row['Property'] != 'P':\n",
    "        return '3.2(a)(iii)'\n",
    "                  \n",
    "    # 3.2(b) Unlisted ordinary and preference shares\n",
    "    elif row['Investment Type'] == 'EQ' and pd.isna(row['MCap']) and row['CCY'] != 'ZAR' and row['Property'] != 'P':\n",
    "        return '3.2(b)'\n",
    "\n",
    "    # 4.1(a)(i) Listed ordinary and preference shares, market cap >= R20bn\n",
    "    elif ((row['Investment Type'] == 'EQ' and row['MCap'] >= 10) or row['dX'] == 'p') and row['CCY'] == 'ZAR' and row['Property'] == 'P':\n",
    "        return '4.1(a)(i)'\n",
    "                  \n",
    "    # 4.1(a)(ii) Listed ordinary and preference shares, market cap >= R2bn\n",
    "    elif row['Investment Type'] == 'EQ'and row['MCap'] >= 3 and row['CCY'] == 'ZAR' and row['Property'] == 'P':\n",
    "        return '4.1(a)(ii)'\n",
    "              \n",
    "    # 4.1(a)(iii) Listed ordinary and preference shares, market cap < R2bn\n",
    "    elif row['Investment Type'] == 'EQ' and row['MCap'] < 3 and row['CCY'] == 'ZAR' and row['Property'] == 'P':\n",
    "        return '4.1(a)(iii)'\n",
    "              \n",
    "    # 4.1(b) Unlisted ordinary and preference shares\n",
    "    elif row['Investment Type'] == 'EQ' and pd.isna(row['MCap']) and row['CCY'] == 'ZAR' and row['Property'] == 'P':\n",
    "        return '4.1(b)'    \n",
    "          \n",
    "    # 4.2(a)(i) Listed ordinary and preference shares, market cap >= R20bn\n",
    "    elif ((row['Investment Type'] == 'EQ' and row['MCap'] >= 10) or row['dX'] == 'p') and row['CCY'] != 'ZAR' and row['Property'] == 'P':\n",
    "        return '4.2(a)(i)'\n",
    "                  \n",
    "    # 4.2(a)(ii) Listed ordinary and preference shares, market cap >= R2bn\n",
    "    elif row['Investment Type'] == 'EQ' and row['MCap'] >= 3 and row['CCY'] != 'ZAR' and row['Property'] == 'P':\n",
    "        return '4.2(a)(ii)'\n",
    "              \n",
    "    # 4.2(a)(iii) Listed ordinary and preference [roperty shares, market cap < R2bn\n",
    "    elif row['Investment Type'] == 'EQ' and row['MCap'] < 3 and row['CCY'] != 'ZAR' and row['Property'] == 'P':\n",
    "        return '4.2(a)(iii)'\n",
    "                  \n",
    "    # 4.2(b) Unlisted ordinary and preference property shares\n",
    "    elif row['Investment Type'] == 'EQ' and pd.isna(row['MCap']) and row['CCY'] != 'ZAR' and row['Property'] == 'P':\n",
    "        return '4.2(b)'  \n",
    "    \n",
    "    # 5. Commodities - NewGold, NewPlats and NwPalladium\n",
    "    #if search(  'NEWGOLD', row['i Issue Name'].upper()) and row['CCY'] == 'ZAR' and row['Primary Asset ID'].find('GLD') != -1:\n",
    "    elif row['CCY'] == 'ZAR' and not(row['Primary Asset ID'].upper().find('GLD'))   == -1:\n",
    "        return '5.1(a)(i)'\n",
    "    elif row['CCY'] == 'ZAR' and not(row['Primary Asset ID'].upper().find('NGPLT')) == -1 or not(row['Primary Asset ID'].upper().find('NGPLD')) == -1:\n",
    "        return '5.1(a)(ii)'\n",
    "    \n",
    "    # 8. Hedge funds\n",
    "    elif row['HF'] == 'hf': \n",
    "        return '8.1(a)(i)' # local fund of hedge funds\n",
    "    elif row['HF'] == 'fohf':\n",
    "        return '8.1(a)(ii)' # local hedge funds\n",
    "    \n",
    "    # 9. Private equity funds\n",
    "    elif row['PEF'] == 'pef': \n",
    "        return '9.1(a)(i)' # local private equity fund\n",
    "    elif row['PEF'] == 'fopef':\n",
    "        return '9.1(a)(ii)' # local fund of private equity funds  \n",
    "    \n",
    "    #10. 'Other' - purposely no script here\n",
    "    \n",
    "    #11. Infrastructure\n",
    "    elif row['Infra'] == 'i' and row['GovGuar'] != 1: \n",
    "        return '11(b)'\n",
    "      \n",
    "    # uncategorised\n",
    "    else:\n",
    "        return '--- r28 ---'  "
   ]
  },
  {
   "cell_type": "code",
   "execution_count": 18,
   "id": "aca380f6",
   "metadata": {},
   "outputs": [],
   "source": [
    "# function that classifies securities in terms of Rergulation 30 based on the values of other columns\n",
    "# Python: Check if String Contains Substring https://stackabuse.com/python-check-if-string-contains-substring/\n",
    "\n",
    "def classify_Reg30(row):\n",
    "    \n",
    "    # Take Council for Medical Schemes classification as the default\n",
    "    if pd.notna(row['MedCirc122023']) and pd.isna(row['CLN']):\n",
    "        return  row['MedCirc122023']\n",
    "            \n",
    "    # 7(a)(ii) \"Other\" securities\n",
    "    elif res(['FWD', 'FT', 'OP', 'DERV'], row['Investment Type']) or row['repo'] == 'RPC' or row['Primary Asset ID'] == 'SAFEX' or row['Primary Asset ID'] == 'VARMARG':\n",
    "        return '7(a)(ii)'    \n",
    "   \n",
    "    # 1(a)(i) Cash with SARB-registered bank with DI900 >= R5bn, including margin account balances\n",
    "    elif (row['FRN'] == 1 or res(['CASH', 'ST', 'SYTH'], row['Investment Type']) or row['margin'] == 'm') and row['Bank'] == 's' and row['DI900'] >= 5:\n",
    "        return '1(a)(i)'\n",
    "    \n",
    "    # 1(a)(ii)  Cash with SARB-registered bank with DI900 >= 0.1, including margin account balances\n",
    "    elif (row['FRN'] == 1 or res(['CASH', 'ST', 'SYTH'], row['Investment Type']) or row['margin'] == 'm') and row['Bank'] == 's' and row['DI900'] >= .1:\n",
    "        return '1(a)(ii)'\n",
    "    \n",
    "    # 1(a)(iii)  Cash with SARB-registered bank, collateralised with RSA government debt under an ISMA\n",
    "    elif row['Investment Type'] == 'ST' and res(['ISMA', 'Collateralised'], row['Primary Asset ID']):\n",
    "        return '1(a)(iii)'\n",
    "    \n",
    "    # 1(b) Cash with a foreign bank\n",
    "    elif (row['FRN'] == 1 or res(['CASH', 'ST', 'SYTH'], row['Investment Type']) or row['dX'] == 'c') and (row['Bank'] == 'a' or row['Bank'] == 'b') or row['Primary Asset ID'] == '0649317':\n",
    "        return '1(b)(i)'  \n",
    "    \n",
    "    # 2(a)(i) SA government and government-guaranteed debt\n",
    "    elif (row['Issuer'] == 'Republic of South Africa' or row['GovGuar'] == 1 or row['dX'] == 'c') and row['CCY'] == 'ZAR':\n",
    "        return '2(a)(i)'\n",
    "    \n",
    "    # 2(a)(ii) SA local authority debt\n",
    "    elif row['CCY'] == 'ZAR' and row['GPL'] == 'la':\n",
    "        return '2(a)(ii)' \n",
    "    \n",
    "    # 2(a)(iii) DBSA debt\n",
    "    elif row['Issuer'] == 'Development Bank of Southern Africa':\n",
    "        return '2(a)(iii)' \n",
    "    \n",
    "    # 2(a)(iv) IDC debt\n",
    "    elif row['Issuer'] == 'Industrial Development Corporation of South Africa':\n",
    "        return '2(a)(iv)' \n",
    "    \n",
    "    # 2(a)(v) INCA debt\n",
    "    elif row['Issuer'] == 'Infrastructure Finance Corporation Limited':\n",
    "        return '2(a)(v)'\n",
    "    \n",
    "    # 2(a)(vi) Land Bank debt\n",
    "    elif row['Issuer'] == 'Land and Agricultural Development Bank of South Africa':\n",
    "        return '2(a)(vi)'\n",
    "    \n",
    "    # 2(a)(vii) TCTA debt\n",
    "    elif row['Issuer'] == 'Trans-Caledon Tunnel Authority':\n",
    "        return '2(a)(vii)'        \n",
    "    \n",
    "    # 2(a)(viii) SANRAL debt\n",
    "    elif row['Issuer'] == 'SA National Roads Agency SOC Ltd':\n",
    "        return '2(a)(viii)'             \n",
    "    \n",
    "    # 2(a)(ix) Eskom debt\n",
    "    elif row['Issuer'] == 'Eskom Holdings SOC Ltd':\n",
    "        return '2(a)(ix)'           \n",
    "    \n",
    "    # 2(a)(x) Transnet debt\n",
    "    elif row['Issuer'] == 'Transnet SOC Ltd':\n",
    "        return '2(a)(x)'           \n",
    "    \n",
    "    # 2(a)(xi) Debt issued by SARB-registered bank with DI900 >= R5bn\n",
    "    elif row['Bank'] == 's' and pd.isna(row['repo']) and row['DI900'] >= 5:\n",
    "        return '2(a)(xi)'          \n",
    "    \n",
    "    # 2(a)(xii) Debt issued by SARB-registered bank with DI900 >= 0.1bn\n",
    "    elif row['Bank'] == 's' and pd.isna(row['repo']) and row['DI900'] >= .1:\n",
    "        return '2(a)(xii)'    \n",
    "\n",
    "    # 2(a)(xiii) Corporate debt listed on BESA and included in OTHI or ALBI\n",
    "    #elif res(['FI', 'ST'], row['Investment Type']) and row['BESA'] == 'B' and row['CCY'] == 'ZAR' and pd.isna(row['GPL']) and pd.isna(row['Bank']):\n",
    "        #return '2(a)(xiii)'   \n",
    "     \n",
    "    elif res(['FI', 'ST'], row['Investment Type']) and row['CCY'] == 'ZAR' and row['Exchange'] != 'CTSE' and row['Deb'] != 'd' and row['repo'] != 'RPC' and row['Property'] != 'P':\n",
    "        return '2(a)(xiv)'  \n",
    "        \n",
    "    # 2(b)(i) Foreign debt\n",
    "    elif res(['FI', 'ST'], row['Investment Type']) and row['CCY'] != 'ZAR':\n",
    "        return '2(b)(i)'\n",
    "        \n",
    "    # 3(a)(i) SA property\n",
    "    elif res(['EQ', 'FI'], row['Investment Type']) and row['Property'] == 'P' and row['CCY'] == 'ZAR':\n",
    "        return '3(a)(i)'\n",
    "    \n",
    "    # 3(b) Foreign property\n",
    "    elif res(['EQ', 'FI'], row['Investment Type']) and row['Property'] == 'P' and row['CCY'] != 'ZAR' :\n",
    "        return '3(b)'             \n",
    "        \n",
    "    # 4(a)(i) Unlisted equity and unlisted debt in the JSE's 'Development Capital and Venture Capital' (DCVC) sector\n",
    "    elif row['Investment Type'] == 'EQ' and row['CCY'] == 'ZAR' and row['Property'] != 'P' and row['Exchange'] == 'DCVC':\n",
    "        return '4(a)(i)'            \n",
    "\n",
    "    # 4(a)(ii)(i) JSE Listed equity with market cap > R50bn\n",
    "    elif row['Investment Type'] == 'EQ' and row['MCap'] > 50 and row['CCY'] == 'ZAR' and row['Property'] != 'P':\n",
    "        return '4(a)(ii)(i)'                \n",
    "\n",
    "    # 4(a)(ii)(ii) JSE Listed equity with market cap > R5bn\n",
    "    elif row['Investment Type'] == 'EQ' and row['MCap'] >= 5 and row['CCY'] == 'ZAR' and row['Property'] != 'P':\n",
    "        return '4(a)(ii)(ii)'                     \n",
    "\n",
    "    # 4(a)(ii)(iii) JSE Listed equity with market cap < R5bn\n",
    "    elif ((row['Investment Type'] == 'EQ' and row['MCap'] < 5) or pd.isna(row['MCap'])) and row['CCY'] == 'ZAR' and row['Property'] != 'P' and row['Deb'] != 'd':\n",
    "        return '4(a)(ii)(iii)'    \n",
    "\n",
    "    # 4(a)(iii)(i) JSE Listed ETFs linked to JSE ALSI\n",
    "    elif row['CCY'] == 'ZAR' and row['Exchange'] == 'XJSE' and row['Fund'] == 'f' and 'ALSI' in row['Issuer Name']:\n",
    "        return '4(a)(iii)(i)'      \n",
    "\n",
    "    # 4(a)(iii)(ii) JSE Listed ETFs not linked to JSE ALSI\n",
    "    elif row['CCY'] == 'ZAR' and row['Fund'] == 'f' and 'ALSI' not in row['Issuer Name']:\n",
    "        return '4(a)(iii)(ii)'\n",
    "    \n",
    "    # 4(a)(iv)(i) (Unlisted) CISes linked to the ALSI\n",
    "    elif row['CCY'] == 'ZAR' and pd.isna(row['Exchange']) and row['Fund'] == 'f' and 'ALSI' in row['Issuer Name']:\n",
    "        return '4(a)(iv)(i)'     \n",
    "    \n",
    "    # 4(a)(iv)(ii) (Unlisted) CISes linked to the ALSI\n",
    "    elif row['CCY'] == 'ZAR' and pd.isna(row['Exchange']) and row['Fund'] == 'f' and 'ALSI' not in row['Issuer Name']:\n",
    "        return '4(a)(iv)(ii)' \n",
    "     \n",
    "    # 4(a)(v)(i) Insurance policies linked to the JSE ALSI\n",
    "    elif row['CCY'] == 'ZAR' and pd.isna(row['Exchange']) and row['Fund'] == 'p' and 'ALSI' in row['Issuer Name']:\n",
    "        return '4(a)(v)(i)'   \n",
    "     \n",
    "    # 4(a)(v)(ii) Insurance policies linked to the JSE ALSI\n",
    "    elif row['CCY'] == 'ZAR' and pd.isna(row['Exchange']) and row['Fund'] == 'p' and 'ALSI' not in row['Issuer Name']:\n",
    "        return '4(a)(v)(ii)'   \n",
    "     \n",
    "    # 4(b)\n",
    "    elif ((row['Investment Type'] == 'EQ' and row['Property'] != 'P')) and row['CCY'] != 'ZAR' :\n",
    "        return '4(b)' \n",
    "     \n",
    "    # 5(a) SA corporate debentures\n",
    "    elif  row['CCY'] == 'ZAR' and row['Deb'] == 'd':\n",
    "        return '5(a)'    \n",
    "    \n",
    "    # 5(b) Foreign corporate debentures\n",
    "    elif row['CCY'] != 'ZAR' and row['Deb'] == 'd':\n",
    "        return '5(b)'  \n",
    "     \n",
    "    # 6(a)(i) SA unlinked insurance policies\n",
    "    elif row['CCY'] == 'ZAR' and pd.isna(row['Exchange']) and row['Fund'] == 'p':\n",
    "        return '6(a)(i)'  \n",
    "     \n",
    "    # 6(a)(ii) SA Linked insurance policies\n",
    "    elif row['CCY'] == 'ZAR' and pd.isna(row['Exchange']) and row['Fund'] == 'p':\n",
    "        return '6(a)(ii)'      \n",
    "\n",
    "    # 6(b) Foreign linked insurance policies\n",
    "    elif row['CCY'] != 'ZAR'  and pd.isna(row['Exchange']) and row['Fund'] == 'p':\n",
    "        return '6(b)'\n",
    "    \n",
    "    # 7(a)(i) SA inventories carried at lesser of book value and realisable value\n",
    "    elif row['CCY'] == 'ZAR' and pd.isna(row['Exchange']) and row['Fund'] == 'i':\n",
    "        return '7(a)(i)'\n",
    "    \n",
    "    # 7(b) Foreign 'other' securities\n",
    "    elif row['CCY'] != 'ZAR' and pd.isna(row['Exchange']) and row['Fund'] == 'i':\n",
    "        return '7(b)'   \n",
    "         \n",
    "    # uncategorised\n",
    "    else:\n",
    "        return '--- r30 ---'  "
   ]
  },
  {
   "cell_type": "code",
   "execution_count": 19,
   "id": "7bf847f0",
   "metadata": {},
   "outputs": [
    {
     "name": "stdout",
     "output_type": "stream",
     "text": [
      "0.0sec\n"
     ]
    }
   ],
   "source": [
    "# (10) assign Reg 28 and reg 30 classifications to each security\n",
    "start_time = time.time()\n",
    "\n",
    "merged['Reg 28 Classification'] = merged.apply(lambda row: classify_Reg28(row), axis=1)\n",
    "merged['Reg 30 Classification'] = merged.apply(lambda row: classify_Reg30(row), axis=1)\n",
    "\n",
    "print(timediff(start_time, time.time()))"
   ]
  },
  {
   "cell_type": "code",
   "execution_count": 20,
   "id": "b36accb9",
   "metadata": {},
   "outputs": [
    {
     "data": {
      "text/plain": [
       "454"
      ]
     },
     "execution_count": 20,
     "metadata": {},
     "output_type": "execute_result"
    }
   ],
   "source": [
    "len(merged.drop_duplicates(subset='Primary Asset ID', keep = 'first'))"
   ]
  },
  {
   "cell_type": "code",
   "execution_count": 21,
   "id": "315dfec4",
   "metadata": {},
   "outputs": [
    {
     "data": {
      "text/plain": [
       "155"
      ]
     },
     "execution_count": 21,
     "metadata": {},
     "output_type": "execute_result"
    }
   ],
   "source": [
    "no_MCap       = merged[(merged['MCap'].isnull().values)\n",
    "                          ].drop_duplicates(subset='Primary Asset ID', keep = 'first')\n",
    "\n",
    "len(no_MCap)"
   ]
  },
  {
   "cell_type": "code",
   "execution_count": 22,
   "id": "7e74a1a0",
   "metadata": {
    "scrolled": true
   },
   "outputs": [
    {
     "name": "stderr",
     "output_type": "stream",
     "text": [
      "C:\\Users\\hilton.netta\\AppData\\Local\\Temp\\ipykernel_15556\\3765607604.py:43: FutureWarning: save is not part of the public API, usage can give unexpected results and will be removed in a future version\n",
      "  writer.save()\n",
      "C:\\Users\\hilton.netta\\Anaconda3\\lib\\site-packages\\xlsxwriter\\workbook.py:339: UserWarning: Calling close() on already closed file.\n",
      "  warn(\"Calling close() on already closed file.\")\n"
     ]
    }
   ],
   "source": [
    "# (15) identify securities with absent classifications\n",
    "start_time = time.time()\n",
    "\n",
    "# drop duplicate 'no issuer' rows https://www.interviewqs.com/ddi-code-snippets/drop-duplicate-rows-pandas\n",
    "no_cat_r28    = merged[(merged['Reg 28 Classification'] == '--- r28 ---') | (merged['Reg 28 Classification'].isnull())\n",
    "                   ].drop_duplicates(subset='Primary Asset ID', keep = 'first')\n",
    "no_cat_r30    = merged[(merged['Reg 30 Classification'] == '--- r30 ---') | (merged['Reg 30 Classification'].isnull())\n",
    "                   ].drop_duplicates(subset='Primary Asset ID', keep = 'first')\n",
    "no_derv_ft_op = merged[((merged['Investment Type'] == 'DERV') | (merged['Investment Type'] == 'FT') |\n",
    "                        (merged['Investment Type'] == 'OP')) & pd.isna(merged['dX'])\n",
    "                      ].drop_duplicates(subset='Primary Asset ID', keep = 'first')\n",
    "term_neg      = merged[merged['Term'] < 0].drop_duplicates(subset='Primary Asset ID', keep = 'first')\n",
    "uniques       = merged.drop_duplicates(subset='Primary Asset ID', keep = 'first')\n",
    "\n",
    "# Securities without market caps # https://www.geeksforgeeks.org/filter-pandas-dataframe-with-multiple-conditions/\n",
    "no_MCap       = merged[(merged['MCap'].isnull().values)\n",
    "                      ].drop_duplicates(subset='Primary Asset ID', keep = 'first')\n",
    "\n",
    "# Equities without market caps # https://www.geeksforgeeks.org/filter-pandas-dataframe-with-multiple-conditions/\n",
    "eq_no_MCap    = merged[(merged['MCap'].isnull().values) & (merged['Investment Type'] =='EQ')\n",
    "                          ].drop_duplicates(subset='Primary Asset ID', keep = 'first')\n",
    "\n",
    "# (16) identifying securities classified as Reg 28 2.1(d)(ii) and Reg 28 2.1(e)(ii)\n",
    "lius = merged[(merged['Reg 28 Classification'] == '2.1(d)(ii)')\n",
    "                          ].drop_duplicates(subset='Primary Asset ID', keep = 'first') # listed issuer unlisted security\n",
    "uius = merged[(merged['Reg 28 Classification'] == '2.1(e)(ii)')\n",
    "                          ].drop_duplicates(subset='Primary Asset ID', keep = 'first') # unlisted issuer unlisted security\n",
    "\n",
    "# (17) write the dataframe to review it as a workbook\n",
    "writer = pd.ExcelWriter(pthW + r'\\issuers_2_done.xlsx', engine  = 'xlsxwriter')\n",
    "\n",
    "merged.to_excel(       writer, index = False,  sheet_name = 'all')                              # categorised securities\n",
    "uniques.to_excel(      writer, index = False,  sheet_name = f'uniques ({len(uniques)})')        # unique securities\n",
    "no_MCap.to_excel(      writer, index = False,  sheet_name = f'no MCaps ({len(no_MCap)})')       # unassigned issuers\n",
    "eq_no_MCap.to_excel(   writer, index = False,  sheet_name = f'no eq MCaps ({len(eq_no_MCap)})') # unassigned issuers\n",
    "term_neg.to_excel(     writer, index = False,  sheet_name = f'neg term ({len(term_neg)})')      # -ve terms to maturity\n",
    "no_derv_ft_op.to_excel(writer, index = False,  sheet_name = f'no dX ({len(no_derv_ft_op)})')    # unassigned derivatives\n",
    "no_cat_r28.to_excel(   writer, index = False,  sheet_name = f'no R28 ({len(no_cat_r28)})')      # Reg 28 not assigned\n",
    "no_cat_r30.to_excel(   writer, index = False,  sheet_name = f'no R30 ({len(no_cat_r30)})')      # Reg 30 not assigned\n",
    "lius.to_excel(         writer, index = False,  sheet_name = f'2.1(d)(ii) ({len(lius)})')        # 2(d)(ii) securities\n",
    "uius.to_excel(         writer, index = False,  sheet_name = f'2.1(e)(ii) ({len(uius)})')        # 2(d)(ii) securities\n",
    "\n",
    "writer.save()\n",
    "writer.close()"
   ]
  },
  {
   "cell_type": "code",
   "execution_count": 23,
   "id": "7d0d3cf9",
   "metadata": {},
   "outputs": [
    {
     "name": "stdout",
     "output_type": "stream",
     "text": [
      "Total securities                             : 461 \n",
      "Unique securities                            : 454 \n",
      "All securities without market capitalisation : 155 \n",
      "Equities without market capitalisation       : 0 \n",
      "Negative term securities                     : 5 \n",
      "Unassigned derivative asset class            : 0 \n",
      "Reg28 2.1(d)(ii) securities                  : 17 \n",
      "Reg28 2.1(e)(ii) securities                  : 55 \n",
      "Unique securities not categorised for Reg 28 : 0 \n",
      "Unique securities not categorised for Reg 30 : 0\n",
      "\n",
      "\n",
      "0.4sec\n",
      "2.6sec\n"
     ]
    }
   ],
   "source": [
    "# print how many securities have been categorised and how many not\n",
    "print(  'Total securities                             :', len(merged),\n",
    "      '\\nUnique securities                            :', len(uniques),\n",
    "      '\\nAll securities without market capitalisation :', len(no_MCap),          \n",
    "      '\\nNegative term securities                     :', len(term_neg),\n",
    "      '\\nReg28 2.1(d)(ii) securities                  :', len(lius),\n",
    "      '\\nReg28 2.1(e)(ii) securities                  :', len(uius),\n",
    "      '\\nEquities without market capitalisation       :', len(eq_no_MCap),\n",
    "      '\\nUnassigned derivative asset class            :', len(no_derv_ft_op),\n",
    "      '\\nUnique securities not categorised for Reg 28 :', len(no_cat_r28),\n",
    "      '\\nUnique securities not categorised for Reg 30 :', len(no_cat_r30))\n",
    "\n",
    "print('\\n')\n",
    "print(timediff(start_time, time.time()))\n",
    "print(timediff(start_time_overlord, time.time()))\n",
    "\n",
    "# dataframes: example, no_issuer, no_CLN_issuer\n",
    "# input file  P:\\Working Folders\\Hilton\\W\\Reg 28 Report - input.xlsx\n",
    "# structures  P:\\Working Folders\\Hilton\\W\\structures.xlsm\n",
    "# results     P:\\Working Folders\\Hilton\\W\\issuer_1_done.xlsx\n",
    "# merged      P:\\Working Folders\\Hilton\\W\\merged.xlsx\n",
    "# output      P:\\Working Folders\\Hilton\\W\\issuers_2_done.xlsx"
   ]
  }
 ],
 "metadata": {
  "kernelspec": {
   "display_name": "Python 3 (ipykernel)",
   "language": "python",
   "name": "python3"
  },
  "language_info": {
   "codemirror_mode": {
    "name": "ipython",
    "version": 3
   },
   "file_extension": ".py",
   "mimetype": "text/x-python",
   "name": "python",
   "nbconvert_exporter": "python",
   "pygments_lexer": "ipython3",
   "version": "3.9.12"
  }
 },
 "nbformat": 4,
 "nbformat_minor": 5
}
