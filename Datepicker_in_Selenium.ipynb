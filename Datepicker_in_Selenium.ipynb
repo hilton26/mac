{
 "cells": [
  {
   "cell_type": "markdown",
   "id": "8177baa6",
   "metadata": {},
   "source": [
    "### How to Select a Date from DatePicker in Selenium - SWTestAcademy\n",
    "https://www.swtestacademy.com/datepicker-using-selenium/"
   ]
  },
  {
   "cell_type": "markdown",
   "id": "bdc4781c",
   "metadata": {},
   "source": [
    "#### How To Handle Calendar In Selenium Webdriver Using Python  - Mukesh Otwani\n",
    "#https://www.youtube.com/watch?v=0b2No_0cVcc at 9min10sec"
   ]
  },
  {
   "cell_type": "code",
   "execution_count": 2,
   "id": "cb3b4172",
   "metadata": {},
   "outputs": [],
   "source": [
    "import os\n",
    "from selenium import webdriver\n",
    "\n",
    "from selenium.webdriver.common.by import By\n",
    "from selenium.webdriver.common.keys import Keys\n",
    "from selenium.webdriver.support.ui import WebDriverWait\n",
    "from selenium.webdriver.support import expected_conditions as EC"
   ]
  },
  {
   "cell_type": "code",
   "execution_count": 8,
   "id": "b2289fc6",
   "metadata": {},
   "outputs": [],
   "source": [
    "os.environ['PATH'] += '://Volumes/Seagate/OneDrive/Py/SeleniumDrivers'\n",
    "# print(os.environ['PATH'])"
   ]
  },
  {
   "cell_type": "code",
   "execution_count": 13,
   "id": "dca62f30",
   "metadata": {},
   "outputs": [],
   "source": [
    "web_url = \"https://www.turkishairlines.com\"\n",
    "\n",
    "driver = webdriver.Chrome()\n",
    "driver.get(web_url)"
   ]
  },
  {
   "cell_type": "code",
   "execution_count": 14,
   "id": "d56093b4",
   "metadata": {},
   "outputs": [
    {
     "ename": "AttributeError",
     "evalue": "'WebDriver' object has no attribute 'findElement'",
     "output_type": "error",
     "traceback": [
      "\u001b[0;31m---------------------------------------------------------------------------\u001b[0m",
      "\u001b[0;31mAttributeError\u001b[0m                            Traceback (most recent call last)",
      "\u001b[0;32m/var/folders/tn/qpcd_fbx3y18d0537n7lmhvm0000gn/T/ipykernel_2461/2808721952.py\u001b[0m in \u001b[0;36m<module>\u001b[0;34m\u001b[0m\n\u001b[0;32m----> 1\u001b[0;31m \u001b[0mdriver\u001b[0m\u001b[0;34m.\u001b[0m\u001b[0mfindElement\u001b[0m\u001b[0;34m(\u001b[0m\u001b[0mBy\u001b[0m\u001b[0;34m.\u001b[0m\u001b[0mid\u001b[0m\u001b[0;34m(\u001b[0m\u001b[0;34m\"dateSelector\"\u001b[0m\u001b[0;34m)\u001b[0m\u001b[0;34m)\u001b[0m\u001b[0;34m.\u001b[0m\u001b[0mclick\u001b[0m\u001b[0;34m(\u001b[0m\u001b[0;34m)\u001b[0m\u001b[0;34m\u001b[0m\u001b[0;34m\u001b[0m\u001b[0m\n\u001b[0m",
      "\u001b[0;31mAttributeError\u001b[0m: 'WebDriver' object has no attribute 'findElement'"
     ]
    }
   ],
   "source": [
    "driver.findElement(By.id(\"dateSelector\")).click()"
   ]
  },
  {
   "cell_type": "code",
   "execution_count": null,
   "id": "54707854",
   "metadata": {},
   "outputs": [],
   "source": []
  }
 ],
 "metadata": {
  "kernelspec": {
   "display_name": "Python 3 (ipykernel)",
   "language": "python",
   "name": "python3"
  },
  "language_info": {
   "codemirror_mode": {
    "name": "ipython",
    "version": 3
   },
   "file_extension": ".py",
   "mimetype": "text/x-python",
   "name": "python",
   "nbconvert_exporter": "python",
   "pygments_lexer": "ipython3",
   "version": "3.9.13"
  }
 },
 "nbformat": 4,
 "nbformat_minor": 5
}
