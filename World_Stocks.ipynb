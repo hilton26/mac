{
 "cells": [
  {
   "cell_type": "markdown",
   "id": "9165024c",
   "metadata": {},
   "source": [
    "### Download Every Stock in the World<br>\n",
    "https://www.youtube.com/watch?v=xzBcPoxue-g"
   ]
  },
  {
   "cell_type": "code",
   "execution_count": 7,
   "id": "f4b8044c",
   "metadata": {},
   "outputs": [],
   "source": [
    "# import libraries\n",
    "import numpy as np\n",
    "import pandas as pd\n",
    "import matplotlib.pyplot as plt\n",
    "import matplotlib.dates as mdates\n",
    "%matplotlib inline\n",
    "\n",
    "import datetime as dt\n",
    "import time\n",
    "\n",
    "import yfinance as yf #!pip install yfinance"
   ]
  },
  {
   "cell_type": "markdown",
   "id": "2633d051",
   "metadata": {},
   "source": [
    "### YFinance"
   ]
  },
  {
   "cell_type": "code",
   "execution_count": 8,
   "id": "7ffe4e46",
   "metadata": {},
   "outputs": [],
   "source": [
    "def get_info_on_stock(ticker):\n",
    "    stock = yf.Ticker(ticker)\n",
    "    hist = stock.history(period='max')['Close']\n",
    "    \n",
    "    print(stock.recommendations)"
   ]
  },
  {
   "cell_type": "code",
   "execution_count": 9,
   "id": "8e8b08c7",
   "metadata": {},
   "outputs": [
    {
     "name": "stdout",
     "output_type": "stream",
     "text": [
      "WARNING: No decryption keys could be extracted from JS file. Falling back to backup decrypt methods.\n"
     ]
    },
    {
     "ename": "Exception",
     "evalue": "yfinance failed to decrypt Yahoo data response",
     "output_type": "error",
     "traceback": [
      "\u001b[1;31m---------------------------------------------------------------------------\u001b[0m",
      "\u001b[1;31mException\u001b[0m                                 Traceback (most recent call last)",
      "Input \u001b[1;32mIn [9]\u001b[0m, in \u001b[0;36m<cell line: 1>\u001b[1;34m()\u001b[0m\n\u001b[1;32m----> 1\u001b[0m \u001b[43mget_info_on_stock\u001b[49m\u001b[43m(\u001b[49m\u001b[38;5;124;43m\"\u001b[39;49m\u001b[38;5;124;43mTSLA\u001b[39;49m\u001b[38;5;124;43m\"\u001b[39;49m\u001b[43m)\u001b[49m\n",
      "Input \u001b[1;32mIn [8]\u001b[0m, in \u001b[0;36mget_info_on_stock\u001b[1;34m(ticker)\u001b[0m\n\u001b[0;32m      2\u001b[0m stock \u001b[38;5;241m=\u001b[39m yf\u001b[38;5;241m.\u001b[39mTicker(ticker)\n\u001b[0;32m      3\u001b[0m hist \u001b[38;5;241m=\u001b[39m stock\u001b[38;5;241m.\u001b[39mhistory(period\u001b[38;5;241m=\u001b[39m\u001b[38;5;124m'\u001b[39m\u001b[38;5;124mmax\u001b[39m\u001b[38;5;124m'\u001b[39m)[\u001b[38;5;124m'\u001b[39m\u001b[38;5;124mClose\u001b[39m\u001b[38;5;124m'\u001b[39m]\n\u001b[1;32m----> 5\u001b[0m \u001b[38;5;28mprint\u001b[39m(\u001b[43mstock\u001b[49m\u001b[38;5;241;43m.\u001b[39;49m\u001b[43mrecommendations\u001b[49m)\n",
      "File \u001b[1;32m~\\Anaconda3\\lib\\site-packages\\yfinance\\ticker.py:146\u001b[0m, in \u001b[0;36mTicker.recommendations\u001b[1;34m(self)\u001b[0m\n\u001b[0;32m    144\u001b[0m \u001b[38;5;129m@property\u001b[39m\n\u001b[0;32m    145\u001b[0m \u001b[38;5;28;01mdef\u001b[39;00m \u001b[38;5;21mrecommendations\u001b[39m(\u001b[38;5;28mself\u001b[39m):\n\u001b[1;32m--> 146\u001b[0m     \u001b[38;5;28;01mreturn\u001b[39;00m \u001b[38;5;28;43mself\u001b[39;49m\u001b[38;5;241;43m.\u001b[39;49m\u001b[43mget_recommendations\u001b[49m\u001b[43m(\u001b[49m\u001b[43m)\u001b[49m\n",
      "File \u001b[1;32m~\\Anaconda3\\lib\\site-packages\\yfinance\\base.py:1425\u001b[0m, in \u001b[0;36mTickerBase.get_recommendations\u001b[1;34m(self, proxy, as_dict)\u001b[0m\n\u001b[0;32m   1423\u001b[0m \u001b[38;5;28;01mdef\u001b[39;00m \u001b[38;5;21mget_recommendations\u001b[39m(\u001b[38;5;28mself\u001b[39m, proxy\u001b[38;5;241m=\u001b[39m\u001b[38;5;28;01mNone\u001b[39;00m, as_dict\u001b[38;5;241m=\u001b[39m\u001b[38;5;28;01mFalse\u001b[39;00m):\n\u001b[0;32m   1424\u001b[0m     \u001b[38;5;28mself\u001b[39m\u001b[38;5;241m.\u001b[39m_quote\u001b[38;5;241m.\u001b[39mproxy \u001b[38;5;241m=\u001b[39m proxy\n\u001b[1;32m-> 1425\u001b[0m     data \u001b[38;5;241m=\u001b[39m \u001b[38;5;28;43mself\u001b[39;49m\u001b[38;5;241;43m.\u001b[39;49m\u001b[43m_quote\u001b[49m\u001b[38;5;241;43m.\u001b[39;49m\u001b[43mrecommendations\u001b[49m\n\u001b[0;32m   1426\u001b[0m     \u001b[38;5;28;01mif\u001b[39;00m as_dict:\n\u001b[0;32m   1427\u001b[0m         \u001b[38;5;28;01mreturn\u001b[39;00m data\u001b[38;5;241m.\u001b[39mto_dict()\n",
      "File \u001b[1;32m~\\Anaconda3\\lib\\site-packages\\yfinance\\scrapers\\quote.py:109\u001b[0m, in \u001b[0;36mQuote.recommendations\u001b[1;34m(self)\u001b[0m\n\u001b[0;32m    106\u001b[0m \u001b[38;5;129m@property\u001b[39m\n\u001b[0;32m    107\u001b[0m \u001b[38;5;28;01mdef\u001b[39;00m \u001b[38;5;21mrecommendations\u001b[39m(\u001b[38;5;28mself\u001b[39m) \u001b[38;5;241m-\u001b[39m\u001b[38;5;241m>\u001b[39m pd\u001b[38;5;241m.\u001b[39mDataFrame:\n\u001b[0;32m    108\u001b[0m     \u001b[38;5;28;01mif\u001b[39;00m \u001b[38;5;28mself\u001b[39m\u001b[38;5;241m.\u001b[39m_recommendations \u001b[38;5;129;01mis\u001b[39;00m \u001b[38;5;28;01mNone\u001b[39;00m:\n\u001b[1;32m--> 109\u001b[0m         \u001b[38;5;28;43mself\u001b[39;49m\u001b[38;5;241;43m.\u001b[39;49m\u001b[43m_scrape\u001b[49m\u001b[43m(\u001b[49m\u001b[38;5;28;43mself\u001b[39;49m\u001b[38;5;241;43m.\u001b[39;49m\u001b[43mproxy\u001b[49m\u001b[43m)\u001b[49m\n\u001b[0;32m    110\u001b[0m     \u001b[38;5;28;01mreturn\u001b[39;00m \u001b[38;5;28mself\u001b[39m\u001b[38;5;241m.\u001b[39m_recommendations\n",
      "File \u001b[1;32m~\\Anaconda3\\lib\\site-packages\\yfinance\\scrapers\\quote.py:124\u001b[0m, in \u001b[0;36mQuote._scrape\u001b[1;34m(self, proxy)\u001b[0m\n\u001b[0;32m    121\u001b[0m \u001b[38;5;28mself\u001b[39m\u001b[38;5;241m.\u001b[39m_already_scraped \u001b[38;5;241m=\u001b[39m \u001b[38;5;28;01mTrue\u001b[39;00m\n\u001b[0;32m    123\u001b[0m \u001b[38;5;66;03m# get info and sustainability\u001b[39;00m\n\u001b[1;32m--> 124\u001b[0m json_data \u001b[38;5;241m=\u001b[39m \u001b[38;5;28;43mself\u001b[39;49m\u001b[38;5;241;43m.\u001b[39;49m\u001b[43m_data\u001b[49m\u001b[38;5;241;43m.\u001b[39;49m\u001b[43mget_json_data_stores\u001b[49m\u001b[43m(\u001b[49m\u001b[43mproxy\u001b[49m\u001b[38;5;241;43m=\u001b[39;49m\u001b[43mproxy\u001b[49m\u001b[43m)\u001b[49m\n\u001b[0;32m    125\u001b[0m \u001b[38;5;28;01mtry\u001b[39;00m:\n\u001b[0;32m    126\u001b[0m     quote_summary_store \u001b[38;5;241m=\u001b[39m json_data[\u001b[38;5;124m'\u001b[39m\u001b[38;5;124mQuoteSummaryStore\u001b[39m\u001b[38;5;124m'\u001b[39m]\n",
      "File \u001b[1;32m~\\Anaconda3\\lib\\site-packages\\yfinance\\data.py:41\u001b[0m, in \u001b[0;36mlru_cache_freezeargs.<locals>.wrapped\u001b[1;34m(*args, **kwargs)\u001b[0m\n\u001b[0;32m     39\u001b[0m args \u001b[38;5;241m=\u001b[39m \u001b[38;5;28mtuple\u001b[39m([\u001b[38;5;28mtuple\u001b[39m(arg) \u001b[38;5;28;01mif\u001b[39;00m \u001b[38;5;28misinstance\u001b[39m(arg, \u001b[38;5;28mlist\u001b[39m) \u001b[38;5;28;01melse\u001b[39;00m arg \u001b[38;5;28;01mfor\u001b[39;00m arg \u001b[38;5;129;01min\u001b[39;00m args])\n\u001b[0;32m     40\u001b[0m kwargs \u001b[38;5;241m=\u001b[39m {k: \u001b[38;5;28mtuple\u001b[39m(v) \u001b[38;5;28;01mif\u001b[39;00m \u001b[38;5;28misinstance\u001b[39m(v, \u001b[38;5;28mlist\u001b[39m) \u001b[38;5;28;01melse\u001b[39;00m v \u001b[38;5;28;01mfor\u001b[39;00m k, v \u001b[38;5;129;01min\u001b[39;00m kwargs\u001b[38;5;241m.\u001b[39mitems()}\n\u001b[1;32m---> 41\u001b[0m \u001b[38;5;28;01mreturn\u001b[39;00m func(\u001b[38;5;241m*\u001b[39margs, \u001b[38;5;241m*\u001b[39m\u001b[38;5;241m*\u001b[39mkwargs)\n",
      "File \u001b[1;32m~\\Anaconda3\\lib\\site-packages\\yfinance\\data.py:311\u001b[0m, in \u001b[0;36mTickerData.get_json_data_stores\u001b[1;34m(self, sub_page, proxy)\u001b[0m\n\u001b[0;32m    308\u001b[0m     keys \u001b[38;5;241m+\u001b[39m\u001b[38;5;241m=\u001b[39m response_gh\u001b[38;5;241m.\u001b[39mtext\u001b[38;5;241m.\u001b[39msplitlines()\n\u001b[0;32m    310\u001b[0m \u001b[38;5;66;03m# Decrypt!\u001b[39;00m\n\u001b[1;32m--> 311\u001b[0m stores \u001b[38;5;241m=\u001b[39m \u001b[43mdecrypt_cryptojs_aes_stores\u001b[49m\u001b[43m(\u001b[49m\u001b[43mdata\u001b[49m\u001b[43m,\u001b[49m\u001b[43m \u001b[49m\u001b[43mkeys\u001b[49m\u001b[43m)\u001b[49m\n\u001b[0;32m    312\u001b[0m \u001b[38;5;28;01mif\u001b[39;00m stores \u001b[38;5;129;01mis\u001b[39;00m \u001b[38;5;28;01mNone\u001b[39;00m:\n\u001b[0;32m    313\u001b[0m     \u001b[38;5;66;03m# Maybe Yahoo returned old format, not encrypted\u001b[39;00m\n\u001b[0;32m    314\u001b[0m     \u001b[38;5;28;01mif\u001b[39;00m \u001b[38;5;124m\"\u001b[39m\u001b[38;5;124mcontext\u001b[39m\u001b[38;5;124m\"\u001b[39m \u001b[38;5;129;01min\u001b[39;00m data \u001b[38;5;129;01mand\u001b[39;00m \u001b[38;5;124m\"\u001b[39m\u001b[38;5;124mdispatcher\u001b[39m\u001b[38;5;124m\"\u001b[39m \u001b[38;5;129;01min\u001b[39;00m data[\u001b[38;5;124m\"\u001b[39m\u001b[38;5;124mcontext\u001b[39m\u001b[38;5;124m\"\u001b[39m]:\n",
      "File \u001b[1;32m~\\Anaconda3\\lib\\site-packages\\yfinance\\data.py:162\u001b[0m, in \u001b[0;36mdecrypt_cryptojs_aes_stores\u001b[1;34m(data, keys)\u001b[0m\n\u001b[0;32m    160\u001b[0m             \u001b[38;5;28;01mpass\u001b[39;00m\n\u001b[0;32m    161\u001b[0m     \u001b[38;5;28;01mif\u001b[39;00m \u001b[38;5;129;01mnot\u001b[39;00m success:\n\u001b[1;32m--> 162\u001b[0m         \u001b[38;5;28;01mraise\u001b[39;00m \u001b[38;5;167;01mException\u001b[39;00m(\u001b[38;5;124m\"\u001b[39m\u001b[38;5;124myfinance failed to decrypt Yahoo data response\u001b[39m\u001b[38;5;124m\"\u001b[39m)\n\u001b[0;32m    164\u001b[0m decoded_stores \u001b[38;5;241m=\u001b[39m json\u001b[38;5;241m.\u001b[39mloads(plaintext)\n\u001b[0;32m    165\u001b[0m \u001b[38;5;28;01mreturn\u001b[39;00m decoded_stores\n",
      "\u001b[1;31mException\u001b[0m: yfinance failed to decrypt Yahoo data response"
     ]
    }
   ],
   "source": [
    "get_info_on_stock(\"TSLA\")"
   ]
  },
  {
   "cell_type": "markdown",
   "id": "c21d8938",
   "metadata": {},
   "source": [
    "### Holds Stocks Not Downloaded"
   ]
  },
  {
   "cell_type": "code",
   "execution_count": 10,
   "id": "d9ab16e4",
   "metadata": {},
   "outputs": [],
   "source": [
    "# initialise lists for undownloaded and missing stocks\n",
    "\n",
    "stocks_not_downloaded =[]\n",
    "missing_stocks = []"
   ]
  },
  {
   "cell_type": "markdown",
   "id": "17ae2b0c",
   "metadata": {},
   "source": [
    "### Function that Returns a Stock Dataframe from a CSV"
   ]
  },
  {
   "cell_type": "code",
   "execution_count": 11,
   "id": "1170ab74",
   "metadata": {},
   "outputs": [],
   "source": [
    "# reads the dataframe from the csv file, chnages the index to date, and returns it\n",
    "def get_stock_df_from_csv(folder, ticker):\n",
    "    #try to get the file and, if it does not exist, issue a warning\n",
    "    try:\n",
    "        df = pd.read_csv(folder + ticker + '.csv')\n",
    "    except FileNotFoundError:\n",
    "        print(\"File doesn't exist\")\n",
    "    else:\n",
    "        return df"
   ]
  },
  {
   "cell_type": "markdown",
   "id": "2d4a388e",
   "metadata": {},
   "source": [
    "### Returns an Named Column's Data from a CSV"
   ]
  },
  {
   "cell_type": "code",
   "execution_count": 12,
   "id": "7cfd1ad4",
   "metadata": {},
   "outputs": [],
   "source": [
    "def get_column_from_csv(file, col_name):\n",
    "    #try to get the file and, if it does not exist, issue a warning\n",
    "    try:\n",
    "        df = pd.read_csv(file)\n",
    "    except FileNotFoundError:\n",
    "        print(\"File doesn't exist\")\n",
    "    else:\n",
    "        return df[col_name]"
   ]
  },
  {
   "cell_type": "markdown",
   "id": "ffaf185e",
   "metadata": {},
   "source": [
    "### Get Stock Tickers"
   ]
  },
  {
   "cell_type": "code",
   "execution_count": 14,
   "id": "e23b95ef",
   "metadata": {},
   "outputs": [
    {
     "data": {
      "text/plain": [
       "0       4SI.JO\n",
       "1      ABSP.JO\n",
       "2       APF.JO\n",
       "3       ACE.JO\n",
       "4       ACS.JO\n",
       "        ...   \n",
       "394     WHL.JO\n",
       "395     WKF.JO\n",
       "396     YRK.JO\n",
       "397     ZCI.JO\n",
       "398     ZED.JO\n",
       "Name: Ticker, Length: 399, dtype: object"
      ]
     },
     "execution_count": 14,
     "metadata": {},
     "output_type": "execute_result"
    }
   ],
   "source": [
    "pth = r'C:\\Users\\hilton.netta\\py\\Python4Finance\\Johannesburg.csv'\n",
    "tickers = get_column_from_csv(pth, \"Ticker\")\n",
    "tickers"
   ]
  },
  {
   "cell_type": "markdown",
   "id": "446f6a76",
   "metadata": {},
   "source": [
    "### Function that Saves Stock Data to CSV"
   ]
  },
  {
   "cell_type": "code",
   "execution_count": 15,
   "id": "6cb87c81",
   "metadata": {},
   "outputs": [],
   "source": [
    "def save_to_csv_from_yahoo(folder, ticker):\n",
    "    stock = yf.Ticker(ticker)\n",
    "    try:\n",
    "        print(\"Get data for: \", ticker)\n",
    "        df = stock.history(period = 'max')['Close']\n",
    "        time.sleep(2)\n",
    "        if df.empty:\n",
    "            stocks_not_downloaded.append(ticker)\n",
    "        the_file = folder + ticker.replace(\".\",\"_\") + '.csv'\n",
    "        print(the_file, \" saved\")\n",
    "        df.to_csv(the_file)\n",
    "    except Exception as ex:\n",
    "        stocks_not_downloaded.append(ticker)\n",
    "        print(\"Couldn't get data for: \",ticker)"
   ]
  },
  {
   "cell_type": "markdown",
   "id": "7d4f1634",
   "metadata": {},
   "source": [
    "### Get Five Years of Data for the First 20 Stocks"
   ]
  },
  {
   "cell_type": "code",
   "execution_count": 16,
   "id": "42b81202",
   "metadata": {},
   "outputs": [
    {
     "name": "stdout",
     "output_type": "stream",
     "text": [
      "Get data for:  4SI.JO\n",
      "C:\\Users\\hilton.netta\\py\\Python4Finance\\StockData\\\\4SI_JO.csv  saved\n",
      "Couldn't get data for:  4SI.JO\n",
      "Get data for:  ABSP.JO\n",
      "C:\\Users\\hilton.netta\\py\\Python4Finance\\StockData\\\\ABSP_JO.csv  saved\n",
      "Couldn't get data for:  ABSP.JO\n",
      "Get data for:  APF.JO\n",
      "C:\\Users\\hilton.netta\\py\\Python4Finance\\StockData\\\\APF_JO.csv  saved\n",
      "Couldn't get data for:  APF.JO\n",
      "Get data for:  ACE.JO\n",
      "Got error from yahoo api for ticker ACE.JO, Error: {'code': 'Not Found', 'description': 'No data found, symbol may be delisted'}\n",
      "- ACE.JO: No timezone found, symbol may be delisted\n",
      "C:\\Users\\hilton.netta\\py\\Python4Finance\\StockData\\\\ACE_JO.csv  saved\n",
      "Couldn't get data for:  ACE.JO\n",
      "Get data for:  ACS.JO\n",
      "C:\\Users\\hilton.netta\\py\\Python4Finance\\StockData\\\\ACS_JO.csv  saved\n",
      "Couldn't get data for:  ACS.JO\n",
      "Get data for:  ADI.JO\n",
      "Got error from yahoo api for ticker ADI.JO, Error: {'code': 'Not Found', 'description': 'No data found, symbol may be delisted'}\n",
      "- ADI.JO: No timezone found, symbol may be delisted\n",
      "C:\\Users\\hilton.netta\\py\\Python4Finance\\StockData\\\\ADI_JO.csv  saved\n",
      "Couldn't get data for:  ADI.JO\n",
      "Get data for:  AIP.JO\n",
      "C:\\Users\\hilton.netta\\py\\Python4Finance\\StockData\\\\AIP_JO.csv  saved\n",
      "Couldn't get data for:  AIP.JO\n",
      "Get data for:  ADR.JO\n",
      "C:\\Users\\hilton.netta\\py\\Python4Finance\\StockData\\\\ADR_JO.csv  saved\n",
      "Couldn't get data for:  ADR.JO\n",
      "Get data for:  ANA.JO\n",
      "Got error from yahoo api for ticker ANA.JO, Error: {'code': 'Not Found', 'description': 'No data found, symbol may be delisted'}\n",
      "- ANA.JO: No timezone found, symbol may be delisted\n",
      "C:\\Users\\hilton.netta\\py\\Python4Finance\\StockData\\\\ANA_JO.csv  saved\n",
      "Couldn't get data for:  ANA.JO\n",
      "Get data for:  AVL.JO\n",
      "C:\\Users\\hilton.netta\\py\\Python4Finance\\StockData\\\\AVL_JO.csv  saved\n",
      "Couldn't get data for:  AVL.JO\n",
      "Get data for:  ADH.JO\n",
      "C:\\Users\\hilton.netta\\py\\Python4Finance\\StockData\\\\ADH_JO.csv  saved\n",
      "Couldn't get data for:  ADH.JO\n",
      "Get data for:  AFE.JO\n",
      "C:\\Users\\hilton.netta\\py\\Python4Finance\\StockData\\\\AFE_JO.csv  saved\n",
      "Couldn't get data for:  AFE.JO\n",
      "Get data for:  AEY.JO\n",
      "Got error from yahoo api for ticker AEY.JO, Error: {'code': 'Not Found', 'description': 'No data found, symbol may be delisted'}\n",
      "- AEY.JO: No timezone found, symbol may be delisted\n",
      "C:\\Users\\hilton.netta\\py\\Python4Finance\\StockData\\\\AEY_JO.csv  saved\n",
      "Couldn't get data for:  AEY.JO\n",
      "Get data for:  AOO.JO\n",
      "C:\\Users\\hilton.netta\\py\\Python4Finance\\StockData\\\\AOO_JO.csv  saved\n",
      "Couldn't get data for:  AOO.JO\n",
      "Get data for:  ABL.JO\n",
      "Got error from yahoo api for ticker ABL.JO, Error: {'code': 'Not Found', 'description': 'No data found, symbol may be delisted'}\n",
      "- ABL.JO: No timezone found, symbol may be delisted\n",
      "C:\\Users\\hilton.netta\\py\\Python4Finance\\StockData\\\\ABL_JO.csv  saved\n",
      "Couldn't get data for:  ABL.JO\n",
      "Get data for:  ADW.JO\n",
      "C:\\Users\\hilton.netta\\py\\Python4Finance\\StockData\\\\ADW_JO.csv  saved\n",
      "Couldn't get data for:  ADW.JO\n",
      "Get data for:  AEA.JO\n",
      "Got error from yahoo api for ticker AEA.JO, Error: {'code': 'Not Found', 'description': 'No data found, symbol may be delisted'}\n",
      "- AEA.JO: No timezone found, symbol may be delisted\n",
      "C:\\Users\\hilton.netta\\py\\Python4Finance\\StockData\\\\AEA_JO.csv  saved\n",
      "Couldn't get data for:  AEA.JO\n",
      "Get data for:  AEE.JO\n",
      "C:\\Users\\hilton.netta\\py\\Python4Finance\\StockData\\\\AEE_JO.csv  saved\n",
      "Couldn't get data for:  AEE.JO\n",
      "Get data for:  AME.JO\n",
      "C:\\Users\\hilton.netta\\py\\Python4Finance\\StockData\\\\AME_JO.csv  saved\n",
      "Couldn't get data for:  AME.JO\n",
      "Get data for:  AFX.JO\n",
      "Got error from yahoo api for ticker AFX.JO, Error: {'code': 'Not Found', 'description': 'No data found, symbol may be delisted'}\n",
      "- AFX.JO: No timezone found, symbol may be delisted\n",
      "C:\\Users\\hilton.netta\\py\\Python4Finance\\StockData\\\\AFX_JO.csv  saved\n",
      "Couldn't get data for:  AFX.JO\n",
      "Done\n"
     ]
    }
   ],
   "source": [
    "fldr = r'C:\\Users\\hilton.netta\\py\\Python4Finance\\StockData\\\\'\n",
    "for x in range(20):\n",
    "    save_to_csv_from_yahoo(fldr, tickers[x])\n",
    "print(\"Done\")"
   ]
  },
  {
   "cell_type": "code",
   "execution_count": null,
   "id": "f56c7ff7",
   "metadata": {},
   "outputs": [],
   "source": []
  }
 ],
 "metadata": {
  "kernelspec": {
   "display_name": "Python 3 (ipykernel)",
   "language": "python",
   "name": "python3"
  },
  "language_info": {
   "codemirror_mode": {
    "name": "ipython",
    "version": 3
   },
   "file_extension": ".py",
   "mimetype": "text/x-python",
   "name": "python",
   "nbconvert_exporter": "python",
   "pygments_lexer": "ipython3",
   "version": "3.9.12"
  }
 },
 "nbformat": 4,
 "nbformat_minor": 5
}
