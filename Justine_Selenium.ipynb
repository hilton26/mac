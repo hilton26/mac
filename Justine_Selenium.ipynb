{
 "cells": [
  {
   "cell_type": "markdown",
   "metadata": {},
   "source": [
    "How To Handle Dropdown with Select In Selenium With Python- Selenium Webdriver Tutorial Python #7 (Oct 2020)\n",
    "Source: https://www.youtube.com/watch?v=p9NpddaIZWs\n",
    "\n",
    "Python with selenium: unable to locate element which really exist\n",
    "https://stackoverflow.com/questions/24369249/python-with-selenium-unable-to-locate-element-which-really-exist\n",
    "\n",
    "Handle Alert In Selenium With Python - Selenium Webdriver Tutorials With Python #15 (Jan 2021)\n",
    "https://www.youtube.com/watch?v=NjdaD4ftj3M\n",
    "\n",
    "Error message: \"'chromedriver' executable needs to be available in the path\"\n",
    "https://stackoverflow.com/questions/29858752/error-message-chromedriver-executable-needs-to-be-available-in-the-path\n",
    "\n",
    "Selenium WebDriver: I want to overwrite value in field instead of appending to it with sendKeys using Java\n",
    "https://stackoverflow.com/questions/3249583/selenium-webdriver-i-want-to-overwrite-value-in-field-instead-of-appending-to-i\n",
    "\n",
    "ModuleNotFoundError: No module named 'selenium'\n",
    "https://stackoverflow.com/questions/43797328/modulenotfounderror-no-module-named-selenium"
   ]
  },
  {
   "cell_type": "code",
   "execution_count": 1,
   "metadata": {},
   "outputs": [],
   "source": [
    "# import selenium and time - for the sleep timer\n",
    "import os\n",
    "from selenium import webdriver\n",
    "from selenium.webdriver.common.by import By\n",
    "from selenium.webdriver.common.keys import Keys\n",
    "from selenium.webdriver.support.ui import WebDriverWait\n",
    "from selenium.webdriver.support import expected_conditions as EC\n",
    "from selenium.common.exceptions import NoSuchElementException\n",
    "import time\n",
    "\n",
    "# import the Regex module for the order list and consultant code\n",
    "import Justine_Regex"
   ]
  },
  {
   "cell_type": "code",
   "execution_count": 2,
   "metadata": {},
   "outputs": [],
   "source": [
    "# specify Justine credentials \n",
    "justine_account_number = '10194398'\n",
    "justine_pw = 'Lucyfox197'\n",
    "\n",
    "# set urls\n",
    "login_page = 'https://www.justine.co.za/REPSuite/loginMain.page'\n",
    "place_an_order_page = 'https://www.justine.co.za/SLSuite/PlaceAnOrder.page'\n",
    "order_entry_page = 'https://www.justine.co.za/SLSuite/orderEntry.page'\n",
    "rep_order_entry_page = 'https://www.justine.co.za/REPSuite/PlaceAnOrder.page'\n",
    "\n",
    "# set up the web browser\n",
    "#os.environ[\"PATH\"] +='C:\\\\Users\\\\User\\\\Py\\\\WebDrivers' # for Windows\n",
    "os.environ[\"PATH\"] += ':/Users/hilton/Py/SeleniumDrivers'# for Mac\n"
   ]
  },
  {
   "cell_type": "code",
   "execution_count": 3,
   "metadata": {},
   "outputs": [],
   "source": [
    "# get the consultant code\n",
    "justine_consultant_account_number = Justine_Regex.Order.get_consultant_code(0)\n",
    "#justine_consultant_account_number\n",
    "\n",
    "# get the order list\n",
    "order_list = Justine_Regex.Order.get_order_list(0)\n",
    "#order_list"
   ]
  },
  {
   "cell_type": "code",
   "execution_count": 16,
   "metadata": {},
   "outputs": [],
   "source": [
    "def open_page():\n",
    "    \n",
    "    # set the driver \n",
    "    driver = webdriver.Chrome()\n",
    "    \n",
    "    # login to the justine page\n",
    "    driver.get(login_page)\n",
    "    # allow the first justine page time to open up\n",
    "    driver.implicitly_wait(5)\n",
    "\n",
    "    # enter Justine credentials and deal with handle alert\n",
    "    driver.find_element(By.CSS_SELECTOR,'input[name=\"userIdDisplay\"]').send_keys(justine_account_number)\n",
    "    driver.find_element(By.CSS_SELECTOR,'input[name=\"password\"]').send_keys(justine_pw)\n",
    "    driver.find_element(By.CSS_SELECTOR,'input[name=\"password\"]').send_keys(Keys.RETURN)\n",
    "\n",
    "    # allow the first justine page time to open up\n",
    "    time.sleep(5)\n",
    "\n",
    "    try:\n",
    "        driver.switch_to.alert.accept()\n",
    "    except:\n",
    "        #print(\"no alert\")\n",
    "        pass\n",
    "\n",
    "    # enter consultant's account number\n",
    "    driver.get('https://www.justine.co.za/SLSuite/selectUser.page')\n",
    "    driver.find_element(By.CSS_SELECTOR,'input[name=\"dummyAcctNum\"]').send_keys(justine_consultant_account_number)\n",
    "    driver.find_element(By.CSS_SELECTOR,'input[name=\"dummyAcctNum\"]').send_keys(Keys.RETURN)\n",
    "\n",
    "    # driver.get(place_an_order_page)\n",
    "    driver.implicitly_wait(20)\n",
    "    \n",
    "    # open the rep order entry page\n",
    "    driver.get(rep_order_entry_page)\n",
    "\n",
    "    # circumvent the NoSuchElementExeption event and go to the rep order page\n",
    "    try:\n",
    "        driver.find_element(By.CSS_SELECTOR,'input[id=\"startOrder\"]').click()\n",
    "    except: NoSuchElementExeption\n",
    "\n",
    "    # show the order list array\n",
    "    # print(order_list)\n",
    "    \n",
    "            \n",
    "    # enter order line number and quantity\n",
    "    for i in range(len(order_list)):\n",
    "        driver.find_element(By.CSS_SELECTOR,f'input[id=\"newItems[{i}].linenumber\"]').send_keys(Keys.BACK_SPACE)        \n",
    "        driver.find_element(By.CSS_SELECTOR,f'input[id=\"newItems[{i}].linenumber\"]').send_keys(order_list[i][0])\n",
    "        driver.find_element(By.CSS_SELECTOR,f'input[id=\"newItems[{i}].quantity\"]').send_keys(Keys.BACK_SPACE) \n",
    "        driver.find_element(By.CSS_SELECTOR,f'input[id=\"newItems[{i}].quantity\"]').send_keys(order_list[i][1])   \n",
    "    driver.find_element(By.CSS_SELECTOR,f'input[id=\"newItems[{i}].quantity\"]').send_keys(Keys.RETURN) \n",
    "\n",
    "#if __name__ == \"__main__\":\n",
    "    #open_page()\n",
    "        "
   ]
  },
  {
   "cell_type": "code",
   "execution_count": 17,
   "metadata": {},
   "outputs": [],
   "source": [
    "open_page()"
   ]
  }
 ],
 "metadata": {
  "kernelspec": {
   "display_name": "Python 3 (ipykernel)",
   "language": "python",
   "name": "python3"
  },
  "language_info": {
   "codemirror_mode": {
    "name": "ipython",
    "version": 3
   },
   "file_extension": ".py",
   "mimetype": "text/x-python",
   "name": "python",
   "nbconvert_exporter": "python",
   "pygments_lexer": "ipython3",
   "version": "3.9.7"
  }
 },
 "nbformat": 4,
 "nbformat_minor": 4
}
