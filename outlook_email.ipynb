{
 "cells": [
  {
   "cell_type": "markdown",
   "id": "e959dbd7",
   "metadata": {},
   "source": [
    "# Send an Outlook Email with Python"
   ]
  },
  {
   "cell_type": "markdown",
   "id": "b8f630b2",
   "metadata": {},
   "source": [
    "https://medium.com/mlearning-ai/use-python-to-send-outlook-emails-d673ce9e33e4"
   ]
  },
  {
   "cell_type": "code",
   "execution_count": 17,
   "id": "6601917e",
   "metadata": {},
   "outputs": [
    {
     "data": {
      "text/plain": [
       "<COMObject Add>"
      ]
     },
     "execution_count": 17,
     "metadata": {},
     "output_type": "execute_result"
    }
   ],
   "source": [
    "import win32com.client as win32\n",
    "from   datetime import datetime\n",
    "import os\n",
    "\n",
    "pth = r'C:\\Users\\hilton.netta\\OneDrive - Prescient\\py'\n",
    "\n",
    "outlook      = win32.Dispatch('outlook.application') # specify Outlook application\n",
    "mail         = outlook.CreateItem(0) # create the mail object\n",
    "mail.Subject = 'Currencies Exchange Prices as of ' + datetime.now().strftime('%#d %b %Y %H:%M')\n",
    "mail.To      = \"hiltonnetta@gmail.com;\"\n",
    "mail.CC      = ''\n",
    "mail.BCC     = ''\n",
    "attachment   = mail.Attachments.Add(os.path.join(pth,'dog2.jfif'))\n",
    "attachment.PropertyAccessor.SetProperty(\"http://schemas.microsoft.com/mapi/proptag/0x3712001F\", \"doggy_img\")\n",
    "mail.HTMLBody = r\"\"\"\n",
    "Dear Carrie,<br><br>\n",
    "The highlighted currencies exchange prices are as follows:<br><br>\n",
    "<img src=\"cid:doggy_img\"><br><br>\n",
    "For more details, you can check the table in the Excel file attached.<br><br>\n",
    "Best regards,<br>\n",
    "Yeung\n",
    "\"\"\"\n",
    "mail.Attachments.Add(os.path.join(pth,'dog2.jfif')) # attaching a file\n",
    "\n",
    "\n",
    "#cid = content id. By specifying it to be currency_img, we can show the image in the Email body."
   ]
  },
  {
   "cell_type": "code",
   "execution_count": 16,
   "id": "71c5ec7e",
   "metadata": {},
   "outputs": [],
   "source": [
    "mail.Send()"
   ]
  },
  {
   "cell_type": "code",
   "execution_count": null,
   "id": "fbb8a158",
   "metadata": {},
   "outputs": [],
   "source": []
  }
 ],
 "metadata": {
  "kernelspec": {
   "display_name": "Python 3 (ipykernel)",
   "language": "python",
   "name": "python3"
  },
  "language_info": {
   "codemirror_mode": {
    "name": "ipython",
    "version": 3
   },
   "file_extension": ".py",
   "mimetype": "text/x-python",
   "name": "python",
   "nbconvert_exporter": "python",
   "pygments_lexer": "ipython3",
   "version": "3.9.12"
  }
 },
 "nbformat": 4,
 "nbformat_minor": 5
}
