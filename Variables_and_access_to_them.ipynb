{
 "cells": [
  {
   "cell_type": "markdown",
   "id": "a5bff019",
   "metadata": {},
   "source": [
    "### Python | Using variable outside and inside the class and method\n",
    "https://www.geeksforgeeks.org/python-using-variable-outside-and-inside-the-class-and-method/"
   ]
  },
  {
   "cell_type": "markdown",
   "id": "0d8dbcc4",
   "metadata": {},
   "source": [
    "#### Variable defined outside the class"
   ]
  },
  {
   "cell_type": "markdown",
   "id": "0e7b5a87",
   "metadata": {},
   "source": [
    "The variables that are defined outside the class can be accessed by any class or any methods in the class by just writing the variable name."
   ]
  },
  {
   "cell_type": "code",
   "execution_count": 1,
   "id": "a0f9f788",
   "metadata": {},
   "outputs": [
    {
     "name": "stdout",
     "output_type": "stream",
     "text": [
      "Outside_class1 outside_class\n",
      "Outside_class2 outside_class\n",
      "Outside_class3 outside_class\n",
      "Outside_class4 outside_class\n",
      "Outside_class5 outside_class\n"
     ]
    }
   ],
   "source": [
    "# Program to demonstrate 'Variable \n",
    "# defined outside the class'\n",
    "  \n",
    "# Variable defined outside the class.\n",
    "outVar = 'outside_class'    \n",
    "print(\"Outside_class1\", outVar)\n",
    "  \n",
    "''' Class one '''\n",
    "class Geek:\n",
    "    print(\"Outside_class2\", outVar)\n",
    "  \n",
    "    def access_method(self):\n",
    "        print(\"Outside_class3\", outVar)\n",
    "  \n",
    "# Calling method by creating object\n",
    "uac = Geek()\n",
    "uac.access_method()\n",
    "  \n",
    "''' Class two '''\n",
    "class Another_Geek_class:\n",
    "    print(\"Outside_class4\", outVar) \n",
    "  \n",
    "    def another_access_method(self):\n",
    "        print(\"Outside_class5\", outVar)\n",
    "  \n",
    "# Calling method by creating object\n",
    "uaac = Another_Geek_class()\n",
    "uaac.another_access_method()"
   ]
  },
  {
   "cell_type": "markdown",
   "id": "64e4c3e3",
   "metadata": {},
   "source": [
    "#### Variable defined inside the class"
   ]
  },
  {
   "cell_type": "markdown",
   "id": "6dd40676",
   "metadata": {},
   "source": [
    "The variables that are defined inside the class but outside the method can be accessed within the class(all methods included) using the instance of a class. For Example – self.var_name.\n",
    "If you want to use that variable even outside the class, you must declared that variable as a global. Then the variable can be accessed using its name inside and outside the class and not using the instance of the class."
   ]
  },
  {
   "cell_type": "code",
   "execution_count": 2,
   "id": "28b51264",
   "metadata": {},
   "outputs": [
    {
     "name": "stdout",
     "output_type": "stream",
     "text": [
      "Inside_class2 inside_class\n",
      "Inside_class3 inside_class\n",
      "\n",
      "\n"
     ]
    }
   ],
   "source": [
    "# Program to demonstrate 'Variable \n",
    "# defined inside the class'\n",
    "  \n",
    "# print(\"Inside_class1\", inVar) # Error\n",
    "  \n",
    "''' Class one'''\n",
    "class Geek:\n",
    "  \n",
    "    # Variable defined inside the class.\n",
    "    inVar = 'inside_class'\n",
    "    print(\"Inside_class2\", inVar)\n",
    "  \n",
    "    def access_method(self):\n",
    "        print(\"Inside_class3\", self.inVar)\n",
    "  \n",
    "uac = Geek()\n",
    "uac.access_method()\n",
    "  \n",
    "''' Class two '''\n",
    "class another_Geek_class:\n",
    "    print()\n",
    "# print(\"Inside_class4\", inVar) # Error\n",
    "  \n",
    "    def another_access_method(self):\n",
    "        print()\n",
    "# print(\"Inside_class5\", inVar) # Error\n",
    "  \n",
    "uaac = another_Geek_class()\n",
    "uaac.another_access_method()"
   ]
  },
  {
   "cell_type": "markdown",
   "id": "9142d6df",
   "metadata": {},
   "source": [
    "The statements which are marked as error will produce an error upon execution as the variable is not accessible there."
   ]
  },
  {
   "cell_type": "markdown",
   "id": "5d739450",
   "metadata": {},
   "source": [
    "#### Variable defined inside the method"
   ]
  },
  {
   "cell_type": "markdown",
   "id": "c2e61007",
   "metadata": {},
   "source": [
    "The variables that are defined inside the methods can be accessed within that method only by simply using the variable name. Example – var_name.\n",
    "If you want to use that variable outside the method or class, you have to declared that variable as a global."
   ]
  },
  {
   "cell_type": "code",
   "execution_count": 3,
   "id": "b798a3b3",
   "metadata": {},
   "outputs": [
    {
     "name": "stdout",
     "output_type": "stream",
     "text": [
      "\n",
      "Inside_method3 inside_method\n",
      "\n",
      "\n"
     ]
    }
   ],
   "source": [
    "# Program to demonstrate 'Variable \n",
    "# defined inside the method'\n",
    "  \n",
    "# print(\"Inside_method1\", inVar) # Error\n",
    "  \n",
    "'''class one'''\n",
    "class Geek:\n",
    "    print()\n",
    "# print(\"Inside_method2\", inVar) # Error\n",
    "  \n",
    "    def access_method(self):\n",
    "  \n",
    "        # Variable defined inside the method.\n",
    "        inVar = 'inside_method'\n",
    "        print(\"Inside_method3\", inVar)\n",
    "  \n",
    "uac = Geek()\n",
    "uac.access_method()\n",
    "  \n",
    "'''class two'''\n",
    "class AnotherGeek:\n",
    "    print()\n",
    "# print(\"Inside_method4\", inVar) # Error\n",
    "  \n",
    "    def access_method(self):\n",
    "        print()\n",
    "# print(\"Inside_method5\", inVar) # Error\n",
    "  \n",
    "uaac = AnotherGeek()\n",
    "uaac.access_method()"
   ]
  },
  {
   "cell_type": "markdown",
   "id": "0fb2f6b1",
   "metadata": {},
   "source": [
    "The statements which are marked as error will produce error upon execution as the variable is not accessible there."
   ]
  },
  {
   "cell_type": "code",
   "execution_count": null,
   "id": "8723a898",
   "metadata": {},
   "outputs": [],
   "source": []
  }
 ],
 "metadata": {
  "kernelspec": {
   "display_name": "Python 3",
   "language": "python",
   "name": "python3"
  },
  "language_info": {
   "codemirror_mode": {
    "name": "ipython",
    "version": 3
   },
   "file_extension": ".py",
   "mimetype": "text/x-python",
   "name": "python",
   "nbconvert_exporter": "python",
   "pygments_lexer": "ipython3",
   "version": "3.8.8"
  }
 },
 "nbformat": 4,
 "nbformat_minor": 5
}
