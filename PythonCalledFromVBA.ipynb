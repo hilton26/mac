{
 "cells": [
  {
   "cell_type": "markdown",
   "id": "8e550b11",
   "metadata": {},
   "source": [
    "# How to Replace VBA with Python(Step-By-Step Tutorial)\n",
    "\n",
    "https://www.youtube.com/watch?v=6qo3ly3-_I8&t=407s"
   ]
  },
  {
   "attachments": {},
   "cell_type": "markdown",
   "id": "11b7d034",
   "metadata": {},
   "source": [
    "pythonpath:       C:\\Users\\hilton.netta\\AppData\\Local\\Programs\\Python\\Python311\\python.exe (on command line -> where python)\n",
    "conda.exe path:   C:\\Users\\hilton.netta\\Anaconda3\\Scripts\n",
    "xlwings add-in:   C:\\Users\\hilton.netta\\Anaconda3\\Lib\\site-packages\\xlwings\\addin\n",
    "xlwings.xlam:     C:\\Users\\hilton.netta\\AppData\\Roaming\\XLWINGS\n",
    "xlstart location: C:\\Users\\hilton.netta\\AppData\\Roaming\\Microsoft\\Excel\\XLSTART"
   ]
  },
  {
   "cell_type": "code",
   "execution_count": 2,
   "id": "edbba3f4",
   "metadata": {},
   "outputs": [],
   "source": [
    "import xlwings as xw\n",
    "\n",
    "def main():\n",
    "    wb = xw.Book.caller()\n",
    "    sheet = wb.sheets('sheet1')\n",
    "    sheet[\"A1\"].value = \"Called from VBA\""
   ]
  },
  {
   "cell_type": "code",
   "execution_count": null,
   "id": "627987e7",
   "metadata": {},
   "outputs": [],
   "source": []
  }
 ],
 "metadata": {
  "kernelspec": {
   "display_name": "Python 3 (ipykernel)",
   "language": "python",
   "name": "python3"
  },
  "language_info": {
   "codemirror_mode": {
    "name": "ipython",
    "version": 3
   },
   "file_extension": ".py",
   "mimetype": "text/x-python",
   "name": "python",
   "nbconvert_exporter": "python",
   "pygments_lexer": "ipython3",
   "version": "3.9.12"
  }
 },
 "nbformat": 4,
 "nbformat_minor": 5
}
