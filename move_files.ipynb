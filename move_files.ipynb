{
 "cells": [
  {
   "cell_type": "markdown",
   "id": "87702a65",
   "metadata": {},
   "source": [
    "Python - Move and overwrite files and folders<br>\n",
    "https://stackoverflow.com/questions/7419665/python-move-and-overwrite-files-and-folders"
   ]
  },
  {
   "cell_type": "code",
   "execution_count": null,
   "id": "1ef082dc",
   "metadata": {},
   "outputs": [],
   "source": [
    "# move the files to the PIM business derivative cover folder\n",
    "start_time = time.time()\n",
    "\n",
    "from os import listdir\n",
    "from os.path import isfile, join\n",
    "import shutil\n",
    "\n",
    "# list the saved files\n",
    "files = [f for f in listdir(pthSave) if isfile(join(pthSave, f))] # listing only files, not directories\n",
    "\n",
    "# copy the files\n",
    "for file in notebook.tqdm(files):\n",
    "    dest = r'\\\\fileserver.prescient.local\\pim-business\\Business Practice\\Derivative Cover\\\\' + file\n",
    "    if os.path.exists(dest):\n",
    "        os.remove(dest)\n",
    "    shutil.move(pthSave + r'\\\\' + file, r'\\\\fileserver.prescient.local\\pim-business\\Business Practice\\Derivative Cover')\n",
    "    \n",
    "print(f\"--- {round(time.time() - start_time,1)} seconds ---\")"
   ]
  }
 ],
 "metadata": {
  "kernelspec": {
   "display_name": "Python 3",
   "language": "python",
   "name": "python3"
  },
  "language_info": {
   "codemirror_mode": {
    "name": "ipython",
    "version": 3
   },
   "file_extension": ".py",
   "mimetype": "text/x-python",
   "name": "python",
   "nbconvert_exporter": "python",
   "pygments_lexer": "ipython3",
   "version": "3.8.8"
  }
 },
 "nbformat": 4,
 "nbformat_minor": 5
}
