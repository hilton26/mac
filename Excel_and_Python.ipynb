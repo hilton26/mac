{
 "cells": [
  {
   "cell_type": "code",
   "execution_count": 6,
   "id": "bf515f54",
   "metadata": {},
   "outputs": [
    {
     "data": {
      "text/plain": [
       "openpyxl.workbook.workbook.Workbook"
      ]
     },
     "execution_count": 6,
     "metadata": {},
     "output_type": "execute_result"
    }
   ],
   "source": [
    "# Source: https://www.youtube.com/watch?v=q6Mc_sAPZ2Y\n",
    "\n",
    "import openpyxl\n",
    "import os\n",
    "from pathlib import Path\n",
    "\n",
    "pth = Path('C:/Users/hilton.netta/Documents/')\n",
    "# Python 3 Quick Tip: The easy way to deal with file paths on Windows, Mac and Linux\n",
    "# Source: https://medium.com/@ageitgey/python-3-quick-tip-the-easy-way-to-deal-with-file-paths-on-windows-mac-and-linux-11a072b58d5f\n",
    "\n",
    "filename = pth / '20210630 NFMW Funds Reg28.xlsx'\n",
    "\n",
    "wb = openpyxl.load_workbook(filename)\n",
    "type(wb)\n",
    "# print(filename)"
   ]
  },
  {
   "cell_type": "code",
   "execution_count": 9,
   "id": "dc49cf04",
   "metadata": {},
   "outputs": [
    {
     "data": {
      "text/plain": [
       "['NFMWSTA Reg28 30Jun2021',\n",
       " 'NFMWAGG Reg28 30Jun2021',\n",
       " 'NFMWEQU Reg28 30Jun2021',\n",
       " 'NFMWGF Reg28 30Jun2021',\n",
       " 'Holdings',\n",
       " 'PRMFB3',\n",
       " 'PSIB3',\n",
       " 'PCMMB3',\n",
       " 'PCQFB3',\n",
       " 'PFFB3',\n",
       " 'PRIFB3']"
      ]
     },
     "execution_count": 9,
     "metadata": {},
     "output_type": "execute_result"
    }
   ],
   "source": [
    "wb.sheetnames"
   ]
  },
  {
   "cell_type": "code",
   "execution_count": 14,
   "id": "82e95d31",
   "metadata": {},
   "outputs": [
    {
     "data": {
      "text/plain": [
       "openpyxl.worksheet.worksheet.Worksheet"
      ]
     },
     "execution_count": 14,
     "metadata": {},
     "output_type": "execute_result"
    }
   ],
   "source": [
    "sheet = wb['PFFB3']\n",
    "type(sheet)"
   ]
  },
  {
   "cell_type": "code",
   "execution_count": 15,
   "id": "e7963d20",
   "metadata": {},
   "outputs": [
    {
     "data": {
      "text/plain": [
       "<Cell 'PFFB3'.A1>"
      ]
     },
     "execution_count": 15,
     "metadata": {},
     "output_type": "execute_result"
    }
   ],
   "source": [
    "sheet['A1']"
   ]
  },
  {
   "cell_type": "code",
   "execution_count": 16,
   "id": "ac4d0227",
   "metadata": {},
   "outputs": [
    {
     "data": {
      "text/plain": [
       "'Entity Name'"
      ]
     },
     "execution_count": 16,
     "metadata": {},
     "output_type": "execute_result"
    }
   ],
   "source": [
    "sheet['A1'].value"
   ]
  },
  {
   "cell_type": "code",
   "execution_count": 36,
   "id": "4fc14ca4",
   "metadata": {},
   "outputs": [
    {
     "data": {
      "text/plain": [
       "'Synthetic Cash_Nov21 R186 Bond Option 8.77 Put'"
      ]
     },
     "execution_count": 36,
     "metadata": {},
     "output_type": "execute_result"
    }
   ],
   "source": [
    "sheet['D105'].value"
   ]
  },
  {
   "cell_type": "code",
   "execution_count": 37,
   "id": "19535fc1",
   "metadata": {},
   "outputs": [],
   "source": [
    "sheet2=wb['Holdings']"
   ]
  },
  {
   "cell_type": "code",
   "execution_count": 39,
   "id": "bf7a4dc9",
   "metadata": {},
   "outputs": [
    {
     "data": {
      "text/plain": [
       "datetime.datetime(2021, 6, 30, 0, 0)"
      ]
     },
     "execution_count": 39,
     "metadata": {},
     "output_type": "execute_result"
    }
   ],
   "source": [
    "sheet2['A1'].value"
   ]
  },
  {
   "cell_type": "code",
   "execution_count": 40,
   "id": "f2d92c3d",
   "metadata": {},
   "outputs": [],
   "source": [
    "sheet2['I2'].value = 73"
   ]
  },
  {
   "cell_type": "code",
   "execution_count": 43,
   "id": "219cbe91",
   "metadata": {},
   "outputs": [],
   "source": [
    "wb.save(pth / '20210630 NFMW Funds Reg28.xlsx')"
   ]
  },
  {
   "cell_type": "code",
   "execution_count": 44,
   "id": "b9c031be",
   "metadata": {},
   "outputs": [],
   "source": [
    "sheet2.title = 'My Sheet Name'\n",
    "wb.save('20210630 NFMW Funds Reg28.xlsx')"
   ]
  },
  {
   "cell_type": "code",
   "execution_count": 46,
   "id": "fd18d0e9",
   "metadata": {},
   "outputs": [
    {
     "data": {
      "text/plain": [
       "'Synthetic Cash_Nov21 R186 Bond Option 8.77 Put'"
      ]
     },
     "execution_count": 46,
     "metadata": {},
     "output_type": "execute_result"
    }
   ],
   "source": [
    "sheet.cell(row=105, column=4).value"
   ]
  },
  {
   "cell_type": "code",
   "execution_count": 49,
   "id": "964dac31",
   "metadata": {},
   "outputs": [
    {
     "name": "stdout",
     "output_type": "stream",
     "text": [
      "Synthetic Cash_Nov21 R186 Bond Option 8.77 Put\n",
      "None\n",
      "None\n",
      "None\n",
      "None\n"
     ]
    }
   ],
   "source": [
    "for i in range(105, 110): print(sheet.cell(row=i, column = 4).value)"
   ]
  },
  {
   "cell_type": "code",
   "execution_count": 55,
   "id": "971c1ea4",
   "metadata": {},
   "outputs": [
    {
     "data": {
      "text/plain": [
       "1140"
      ]
     },
     "execution_count": 55,
     "metadata": {},
     "output_type": "execute_result"
    }
   ],
   "source": [
    "sheet.max_row"
   ]
  },
  {
   "cell_type": "code",
   "execution_count": 56,
   "id": "30cb7883",
   "metadata": {},
   "outputs": [
    {
     "data": {
      "text/plain": [
       "42"
      ]
     },
     "execution_count": 56,
     "metadata": {},
     "output_type": "execute_result"
    }
   ],
   "source": [
    "sheet.max_column"
   ]
  },
  {
   "cell_type": "code",
   "execution_count": null,
   "id": "8010d8ca",
   "metadata": {},
   "outputs": [],
   "source": []
  }
 ],
 "metadata": {
  "kernelspec": {
   "display_name": "Python 3",
   "language": "python",
   "name": "python3"
  },
  "language_info": {
   "codemirror_mode": {
    "name": "ipython",
    "version": 3
   },
   "file_extension": ".py",
   "mimetype": "text/x-python",
   "name": "python",
   "nbconvert_exporter": "python",
   "pygments_lexer": "ipython3",
   "version": "3.8.8"
  }
 },
 "nbformat": 4,
 "nbformat_minor": 5
}
