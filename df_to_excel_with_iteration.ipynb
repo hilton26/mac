{
 "cells": [
  {
   "cell_type": "markdown",
   "id": "afd6ffb4",
   "metadata": {},
   "source": [
    "df.to_excel<br>\n",
    "https://www.codegrepper.com/code-examples/python/df.to_excel\n",
    "\n",
    "How to Convert NumPy Array to Pandas DataFrame<br>\n",
    "https://datatofish.com/numpy-array-to-pandas-dataframe/\n",
    "\n",
    "Interacting with Excel from a Jupyter notebook<br>\n",
    "https://docs.xlwings.org/en/stable/quickstart.html\n",
    "\n",
    "From pandas to excel via xlwings - do not deposit index<br>\n",
    "https://stackoverflow.com/questions/33020656/from-pandas-to-excel-via-xlwings-do-not-deposit-index"
   ]
  },
  {
   "cell_type": "code",
   "execution_count": 305,
   "id": "bdc01364",
   "metadata": {},
   "outputs": [],
   "source": [
    "import time\n",
    "start_time = time.time()"
   ]
  },
  {
   "cell_type": "code",
   "execution_count": 306,
   "id": "6c722ac2",
   "metadata": {
    "scrolled": true
   },
   "outputs": [],
   "source": [
    "# import libraries\n",
    "import pandas as pd\n",
    "import numpy as np\n",
    "import xlwings as xw\n",
    "from pathlib import Path"
   ]
  },
  {
   "cell_type": "code",
   "execution_count": 307,
   "id": "b4616892",
   "metadata": {},
   "outputs": [],
   "source": [
    "# create / open the source dataframe and get the unique names\n",
    "pthPy = Path('/Volumes/Seagate/OneDrive/Py/')\n",
    "df = pd.read_excel(pthPy / '2014 IAL.xlsx',sheet_name = 'IAL retail data')\n",
    "fnames = df['Name'].unique()"
   ]
  },
  {
   "cell_type": "code",
   "execution_count": 308,
   "id": "8ccc1a2d",
   "metadata": {},
   "outputs": [],
   "source": [
    "# set path to the template\n",
    "pthDesktop = Path('/Users/hilton/Desktop/')\n",
    "wb = xw.Book(pthDesktop / 'first.xlsx')\n",
    "sht = wb.sheets['c_glocks']"
   ]
  },
  {
   "cell_type": "code",
   "execution_count": 309,
   "id": "ea4054f6",
   "metadata": {},
   "outputs": [],
   "source": [
    "# create individual files\n",
    "for fname in fnames:\n",
    "    sht.clear() # clear the receiving sheet\n",
    "    subset = df[df['Name'] == fname] # make a dataframe of the next subset\n",
    "    sht.range('A1').options(index = False).value = subset # paste onto the sheet from the source\n",
    "    wb.save('/Users/hilton/Desktop/py_test/' + subset.iloc[0, 7] + ' new.xlsx') # save the file\n",
    "\n",
    "# close the workbook\n",
    "wb.close()"
   ]
  },
  {
   "cell_type": "code",
   "execution_count": 310,
   "id": "856a280e",
   "metadata": {},
   "outputs": [
    {
     "name": "stdout",
     "output_type": "stream",
     "text": [
      "--- 111.66829299926758 seconds ---\n"
     ]
    }
   ],
   "source": [
    "print(\"--- %s seconds ---\" % (time.time() - start_time))"
   ]
  },
  {
   "cell_type": "code",
   "execution_count": null,
   "id": "f8cedb1d",
   "metadata": {},
   "outputs": [],
   "source": []
  }
 ],
 "metadata": {
  "kernelspec": {
   "display_name": "Python 3 (ipykernel)",
   "language": "python",
   "name": "python3"
  },
  "language_info": {
   "codemirror_mode": {
    "name": "ipython",
    "version": 3
   },
   "file_extension": ".py",
   "mimetype": "text/x-python",
   "name": "python",
   "nbconvert_exporter": "python",
   "pygments_lexer": "ipython3",
   "version": "3.9.7"
  }
 },
 "nbformat": 4,
 "nbformat_minor": 5
}
