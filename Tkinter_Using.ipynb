{
 "cells": [
  {
   "cell_type": "code",
   "execution_count": null,
   "id": "fa74970e",
   "metadata": {},
   "outputs": [],
   "source": [
    "# Installing Tkinter\n",
    "# https://www.tutorialspoint.com/how-to-install-tkinter-in-python\n",
    "# !pip install tk"
   ]
  },
  {
   "cell_type": "code",
   "execution_count": null,
   "id": "6cbe33ef-6769-4702-838b-d31aaf41b05c",
   "metadata": {},
   "outputs": [],
   "source": []
  },
  {
   "cell_type": "code",
   "execution_count": null,
   "id": "5f1fb889",
   "metadata": {},
   "outputs": [],
   "source": [
    "import tkinter as tk\n",
    "\n",
    "class App:\n",
    "    \n",
    "    def __init__(self, parent):\n",
    "        frame = tk.Frame(parent)\n",
    "        frame.pack()\n",
    "        \n",
    "        print_btn = tk.Button(frame, text = 'Print', command = lambda: self.on_print('Print'))\n",
    "        print_btn.pack(side = tk.LEFT)\n",
    "    \n",
    "        close_btn = tk.Button(frame, text = 'close', command = frame.quit)\n",
    "        close_btn.pack(side = tk.LEFT)\n",
    "    \n",
    "    def on_print(self, num):\n",
    "        print(\"You just printed something\")\n",
    "    \n",
    "if __name__ == \"__main__\":\n",
    "    root = tk.Tk()\n",
    "    app = App(root)\n",
    "    root.mainloop()"
   ]
  }
 ],
 "metadata": {
  "kernelspec": {
   "display_name": "Python 3",
   "language": "python",
   "name": "python3"
  },
  "language_info": {
   "codemirror_mode": {
    "name": "ipython",
    "version": 3
   },
   "file_extension": ".py",
   "mimetype": "text/x-python",
   "name": "python",
   "nbconvert_exporter": "python",
   "pygments_lexer": "ipython3",
   "version": "3.8.8"
  }
 },
 "nbformat": 4,
 "nbformat_minor": 5
}
