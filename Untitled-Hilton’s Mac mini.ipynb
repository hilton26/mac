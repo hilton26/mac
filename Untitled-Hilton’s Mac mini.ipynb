{
 "cells": [
  {
   "cell_type": "markdown",
   "id": "acd5c07f",
   "metadata": {},
   "source": [
    "Creating a range of dates in Python<br>\n",
    "https://stackoverflow.com/questions/993358/creating-a-range-of-dates-in-python\n",
    "\n",
    "How to convert datetime to integer in python<br>\n",
    "https://stackoverflow.com/questions/28154066/how-to-convert-datetime-to-integer-in-python"
   ]
  },
  {
   "cell_type": "code",
   "execution_count": null,
   "id": "84dcc8e9",
   "metadata": {},
   "outputs": [],
   "source": [
    "import time\n",
    "start_time = time.time()\n"
   ]
  },
  {
   "cell_type": "code",
   "execution_count": 8,
   "id": "51f232de",
   "metadata": {},
   "outputs": [],
   "source": [
    "import pandas as pd\n",
    "from datetime import datetime\n",
    "\n",
    "datelist = pd.date_range(datetime.today(), periods=100).tolist()"
   ]
  },
  {
   "cell_type": "code",
   "execution_count": 15,
   "id": "64b719eb",
   "metadata": {},
   "outputs": [],
   "source": [
    "import datetime\n",
    "\n",
    "a = datetime.datetime.today()\n",
    "numdays = 100\n",
    "dateList = []\n",
    "for x in range (0, numdays):\n",
    "    dateList.append(a - datetime.timedelta(days = x))\n",
    "# print(dateList)\n",
    "\n",
    "base = datetime.datetime.today()\n",
    "date_list = [base - datetime.timedelta(days=x) for x in range(numdays)]"
   ]
  },
  {
   "cell_type": "code",
   "execution_count": 23,
   "id": "e7964da7",
   "metadata": {},
   "outputs": [],
   "source": [
    "import xlwings as xw\n",
    "wb = xw.Book('/Users/hilton/Desktop/' + 'PHolidays.xlsx')\n",
    "sh = wb.sheets['Sheet1']"
   ]
  },
  {
   "cell_type": "code",
   "execution_count": null,
   "id": "dbf3a5da",
   "metadata": {},
   "outputs": [],
   "source": [
    "print(\"--- %s seconds ---\" % (time.time() - start_time))"
   ]
  },
  {
   "cell_type": "code",
   "execution_count": 41,
   "id": "dbbd2075",
   "metadata": {},
   "outputs": [],
   "source": [
    "# working_days(start_date, end_date, public_holidays):\n",
    "def work_days(start_date, end_date):\n",
    "    t = end_date - start_date\n",
    "    return t"
   ]
  },
  {
   "cell_type": "code",
   "execution_count": 42,
   "id": "bb0989b2",
   "metadata": {},
   "outputs": [
    {
     "data": {
      "text/plain": [
       "datetime.timedelta(days=1)"
      ]
     },
     "execution_count": 42,
     "metadata": {},
     "output_type": "execute_result"
    }
   ],
   "source": [
    "stdate = datetime.datetime(2012,11,3,0,0)\n",
    "endate = datetime.datetime(2012,11,4,0,0)\n",
    "\n",
    "diff = work_days(stdate, endate)\n",
    "diff"
   ]
  },
  {
   "cell_type": "code",
   "execution_count": 43,
   "id": "7699d7ea",
   "metadata": {},
   "outputs": [
    {
     "ename": "TypeError",
     "evalue": "unsupported operand type(s) for +: 'datetime.timedelta' and 'int'",
     "output_type": "error",
     "traceback": [
      "\u001b[0;31m---------------------------------------------------------------------------\u001b[0m",
      "\u001b[0;31mTypeError\u001b[0m                                 Traceback (most recent call last)",
      "\u001b[0;32m/var/folders/tn/qpcd_fbx3y18d0537n7lmhvm0000gn/T/ipykernel_77897/2230661532.py\u001b[0m in \u001b[0;36m<module>\u001b[0;34m\u001b[0m\n\u001b[0;32m----> 1\u001b[0;31m \u001b[0mdiff\u001b[0m \u001b[0;34m+\u001b[0m \u001b[0;36m1\u001b[0m\u001b[0;34m\u001b[0m\u001b[0;34m\u001b[0m\u001b[0m\n\u001b[0m",
      "\u001b[0;31mTypeError\u001b[0m: unsupported operand type(s) for +: 'datetime.timedelta' and 'int'"
     ]
    }
   ],
   "source": [
    "diff + 1"
   ]
  },
  {
   "cell_type": "code",
   "execution_count": 44,
   "id": "7e958ba4",
   "metadata": {},
   "outputs": [
    {
     "data": {
      "text/plain": [
       "1651297479"
      ]
     },
     "execution_count": 44,
     "metadata": {},
     "output_type": "execute_result"
    }
   ],
   "source": [
    "int(datetime.datetime.utcnow().timestamp())"
   ]
  },
  {
   "cell_type": "code",
   "execution_count": 46,
   "id": "78e25a9b",
   "metadata": {},
   "outputs": [
    {
     "data": {
      "text/plain": [
       "20220430"
      ]
     },
     "execution_count": 46,
     "metadata": {},
     "output_type": "execute_result"
    }
   ],
   "source": [
    "# Creating a datetime object so we can test.\n",
    "a = datetime.now()\n",
    "\n",
    "# Converting a to string in the desired format (YYYYMMDD) using strftime\n",
    "# and then to int.\n",
    "a = int(a.strftime('%Y%m%d'))\n",
    "a"
   ]
  },
  {
   "cell_type": "code",
   "execution_count": null,
   "id": "78d0f17e",
   "metadata": {},
   "outputs": [],
   "source": []
  }
 ],
 "metadata": {
  "kernelspec": {
   "display_name": "Python 3 (ipykernel)",
   "language": "python",
   "name": "python3"
  },
  "language_info": {
   "codemirror_mode": {
    "name": "ipython",
    "version": 3
   },
   "file_extension": ".py",
   "mimetype": "text/x-python",
   "name": "python",
   "nbconvert_exporter": "python",
   "pygments_lexer": "ipython3",
   "version": "3.9.7"
  }
 },
 "nbformat": 4,
 "nbformat_minor": 5
}
