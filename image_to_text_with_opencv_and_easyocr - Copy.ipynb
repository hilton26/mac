{
 "cells": [
  {
   "cell_type": "markdown",
   "id": "05bffed1",
   "metadata": {},
   "source": [
    "### How to Extract Text from Images in Python using OpenCV and EasyOCR\n",
    "\n",
    "https://www.youtube.com/watch?v=9_SRXdO9EC4"
   ]
  },
  {
   "cell_type": "code",
   "execution_count": 3,
   "id": "1aa92c44",
   "metadata": {},
   "outputs": [],
   "source": [
    "#!pip3 install opencv-python\n",
    "#!pip3 install matplotlib\n",
    "#!pip3 install numpy\n",
    "#!pip3 install torch torchvision torchaudio\n",
    "#!pip3 install pytorch\n",
    "#!pip3 install easyocr"
   ]
  },
  {
   "cell_type": "code",
   "execution_count": 4,
   "id": "f0de86a6",
   "metadata": {},
   "outputs": [
    {
     "ename": "ImportError",
     "evalue": "dlopen(/Users/anaconda3/envs/py310/lib/python3.10/site-packages/cv2/python-3.10/cv2.cpython-310-darwin.so, 2): Library not loaded: @rpath/libgstreamer-1.0.0.dylib\n  Referenced from: /Users/anaconda3/envs/py310/lib/libopencv_gapi.4.6.0.dylib\n  Reason: Incompatible library version: libopencv_gapi.406.dylib requires version 1401.0.0 or later, but libgstreamer-1.0.0.dylib provides version 0.0.0",
     "output_type": "error",
     "traceback": [
      "\u001b[0;31m---------------------------------------------------------------------------\u001b[0m",
      "\u001b[0;31mImportError\u001b[0m                               Traceback (most recent call last)",
      "Cell \u001b[0;32mIn[4], line 1\u001b[0m\n\u001b[0;32m----> 1\u001b[0m \u001b[38;5;28;01mimport\u001b[39;00m \u001b[38;5;21;01mcv2\u001b[39;00m\n\u001b[1;32m      2\u001b[0m \u001b[38;5;28;01mimport\u001b[39;00m \u001b[38;5;21;01measyocr\u001b[39;00m\n\u001b[1;32m      3\u001b[0m \u001b[38;5;28;01mimport\u001b[39;00m \u001b[38;5;21;01mpandas\u001b[39;00m \u001b[38;5;28;01mas\u001b[39;00m \u001b[38;5;21;01mpd\u001b[39;00m\n",
      "\u001b[0;31mImportError\u001b[0m: dlopen(/Users/anaconda3/envs/py310/lib/python3.10/site-packages/cv2/python-3.10/cv2.cpython-310-darwin.so, 2): Library not loaded: @rpath/libgstreamer-1.0.0.dylib\n  Referenced from: /Users/anaconda3/envs/py310/lib/libopencv_gapi.4.6.0.dylib\n  Reason: Incompatible library version: libopencv_gapi.406.dylib requires version 1401.0.0 or later, but libgstreamer-1.0.0.dylib provides version 0.0.0"
     ]
    }
   ],
   "source": [
    "import cv2\n",
    "import easyocr\n",
    "import pandas as pd\n",
    "import numpy as np\n",
    "import matplotlib.pyplot as plt\n",
    "%matplotlib inline"
   ]
  },
  {
   "cell_type": "code",
   "execution_count": 7,
   "id": "102c2bab",
   "metadata": {},
   "outputs": [],
   "source": [
    "in_l_path = r'/Users/hilton/Downloads/english/Barcode/Page_01.tif'"
   ]
  },
  {
   "cell_type": "code",
   "execution_count": 5,
   "id": "0be36f08",
   "metadata": {},
   "outputs": [],
   "source": [
    "def recognise_text(img_pth):\n",
    "    reader = easyocr.Reader(['en'])\n",
    "    return reader.readtext(img_pth)"
   ]
  },
  {
   "cell_type": "code",
   "execution_count": 8,
   "id": "7e6f1999",
   "metadata": {},
   "outputs": [
    {
     "ename": "NameError",
     "evalue": "name 'easyocr' is not defined",
     "output_type": "error",
     "traceback": [
      "\u001b[0;31m---------------------------------------------------------------------------\u001b[0m",
      "\u001b[0;31mNameError\u001b[0m                                 Traceback (most recent call last)",
      "Cell \u001b[0;32mIn[8], line 1\u001b[0m\n\u001b[0;32m----> 1\u001b[0m result \u001b[38;5;241m=\u001b[39m \u001b[43mrecognise_text\u001b[49m\u001b[43m(\u001b[49m\u001b[43min_l_path\u001b[49m\u001b[43m)\u001b[49m\n",
      "Cell \u001b[0;32mIn[5], line 2\u001b[0m, in \u001b[0;36mrecognise_text\u001b[0;34m(img_pth)\u001b[0m\n\u001b[1;32m      1\u001b[0m \u001b[38;5;28;01mdef\u001b[39;00m \u001b[38;5;21mrecognise_text\u001b[39m(img_pth):\n\u001b[0;32m----> 2\u001b[0m     reader \u001b[38;5;241m=\u001b[39m \u001b[43measyocr\u001b[49m\u001b[38;5;241m.\u001b[39mReader([\u001b[38;5;124m'\u001b[39m\u001b[38;5;124men\u001b[39m\u001b[38;5;124m'\u001b[39m])\n\u001b[1;32m      3\u001b[0m     \u001b[38;5;28;01mreturn\u001b[39;00m reader\u001b[38;5;241m.\u001b[39mreadtext(img_pth)\n",
      "\u001b[0;31mNameError\u001b[0m: name 'easyocr' is not defined"
     ]
    }
   ],
   "source": [
    "result = recognise_text(in_l_path)"
   ]
  },
  {
   "cell_type": "code",
   "execution_count": null,
   "id": "b0290863",
   "metadata": {},
   "outputs": [],
   "source": []
  }
 ],
 "metadata": {
  "kernelspec": {
   "display_name": "Python 3 (ipykernel)",
   "language": "python",
   "name": "python3"
  },
  "language_info": {
   "codemirror_mode": {
    "name": "ipython",
    "version": 3
   },
   "file_extension": ".py",
   "mimetype": "text/x-python",
   "name": "python",
   "nbconvert_exporter": "python",
   "pygments_lexer": "ipython3",
   "version": "3.10.11"
  }
 },
 "nbformat": 4,
 "nbformat_minor": 5
}
