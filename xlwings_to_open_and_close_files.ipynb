{
 "cells": [
  {
   "cell_type": "markdown",
   "id": "a5105e71",
   "metadata": {},
   "source": [
    "### Open and then close Excel files\n",
    "\n",
    "How to suppress \"Update Links\" Alert with xlwings<br>\n",
    "https://stackoverflow.com/questions/56582161/how-to-suppress-update-links-alert-with-xlwings"
   ]
  },
  {
   "cell_type": "code",
   "execution_count": 1,
   "id": "13c12800",
   "metadata": {},
   "outputs": [
    {
     "name": "stdout",
     "output_type": "stream",
     "text": [
      "--- 6.5 seconds ---\n"
     ]
    }
   ],
   "source": [
    "# move the files to the PIM business derivative cover folder\n",
    "import time # to calculate durations of runs\n",
    "start_time = time.time()\n",
    "\n",
    "import xlwings as xw\n",
    "import win32com.client as win32 # library to convert xls to xlsx\n",
    "from os import listdir\n",
    "from os.path import isfile, join\n",
    "import shutil\n",
    "from tqdm import tqdm, notebook # notebook version of tqdm\n",
    "\n",
    "pthSave = r'C:\\Users\\hilton.netta\\Documents\\DervFiles' # path to were the files will be saved\n",
    "\n",
    "# list the saved files\n",
    "files = [f for f in listdir(pthSave) if isfile(join(pthSave, f))] # listing only files, not directories\n",
    "    \n",
    "print(f\"--- {round(time.time() - start_time,1)} seconds ---\")"
   ]
  },
  {
   "cell_type": "code",
   "execution_count": 2,
   "id": "b248c591",
   "metadata": {},
   "outputs": [],
   "source": [
    "app = xw.App(add_book=False)\n",
    "app.display_alerts = False\n",
    "#wb = app.books.api.Open(fullpath, UpdateLinks=False)"
   ]
  },
  {
   "cell_type": "code",
   "execution_count": 19,
   "id": "8a718e68",
   "metadata": {},
   "outputs": [
    {
     "data": {
      "application/vnd.jupyter.widget-view+json": {
       "model_id": "b5ef799bb67d4a3f887abd214213d19d",
       "version_major": 2,
       "version_minor": 0
      },
      "text/plain": [
       "  0%|          | 0/77 [00:00<?, ?it/s]"
      ]
     },
     "metadata": {},
     "output_type": "display_data"
    },
    {
     "ename": "TypeError",
     "evalue": "Close() got an unexpected keyword argument 'SaveFile'",
     "output_type": "error",
     "traceback": [
      "\u001b[1;31m---------------------------------------------------------------------------\u001b[0m",
      "\u001b[1;31mTypeError\u001b[0m                                 Traceback (most recent call last)",
      "\u001b[1;32m<ipython-input-19-db90ce9ed960>\u001b[0m in \u001b[0;36m<module>\u001b[1;34m\u001b[0m\n\u001b[0;32m      5\u001b[0m     \u001b[0mexcel\u001b[0m \u001b[1;33m=\u001b[0m \u001b[0mwin32\u001b[0m\u001b[1;33m.\u001b[0m\u001b[0mgencache\u001b[0m\u001b[1;33m.\u001b[0m\u001b[0mEnsureDispatch\u001b[0m\u001b[1;33m(\u001b[0m\u001b[1;34m'Excel.Application'\u001b[0m\u001b[1;33m)\u001b[0m\u001b[1;33m\u001b[0m\u001b[1;33m\u001b[0m\u001b[0m\n\u001b[0;32m      6\u001b[0m     \u001b[0mwb\u001b[0m \u001b[1;33m=\u001b[0m \u001b[0mexcel\u001b[0m\u001b[1;33m.\u001b[0m\u001b[0mWorkbooks\u001b[0m\u001b[1;33m.\u001b[0m\u001b[0mOpen\u001b[0m\u001b[1;33m(\u001b[0m\u001b[0mfile\u001b[0m\u001b[1;33m,\u001b[0m \u001b[0mUpdateLinks\u001b[0m \u001b[1;33m=\u001b[0m \u001b[1;32mFalse\u001b[0m\u001b[1;33m)\u001b[0m\u001b[1;33m\u001b[0m\u001b[1;33m\u001b[0m\u001b[0m\n\u001b[1;32m----> 7\u001b[1;33m     \u001b[0mwb\u001b[0m\u001b[1;33m.\u001b[0m\u001b[0mClose\u001b[0m\u001b[1;33m(\u001b[0m\u001b[0mSaveFile\u001b[0m \u001b[1;33m=\u001b[0m \u001b[1;32mFalse\u001b[0m\u001b[1;33m)\u001b[0m\u001b[1;33m\u001b[0m\u001b[1;33m\u001b[0m\u001b[0m\n\u001b[0m\u001b[0;32m      8\u001b[0m \u001b[1;33m\u001b[0m\u001b[0m\n\u001b[0;32m      9\u001b[0m \u001b[0mexcel\u001b[0m\u001b[1;33m.\u001b[0m\u001b[0mApplication\u001b[0m\u001b[1;33m.\u001b[0m\u001b[0mQuit\u001b[0m\u001b[1;33m(\u001b[0m\u001b[1;33m)\u001b[0m\u001b[1;33m\u001b[0m\u001b[1;33m\u001b[0m\u001b[0m\n",
      "\u001b[1;31mTypeError\u001b[0m: Close() got an unexpected keyword argument 'SaveFile'"
     ]
    }
   ],
   "source": [
    "# convert Eagle holdings and derivative delta files from .xls to .xlsx using MS Office\n",
    "start_time = time.time()\n",
    "\n",
    "for file in notebook.tqdm(files):\n",
    "    excel = win32.gencache.EnsureDispatch('Excel.Application')\n",
    "    wb = excel.Workbooks.Open(file, UpdateLinks = False)\n",
    "    wb.Close(SaveFile = False)\n",
    "\n",
    "excel.Application.Quit()\n",
    "\n",
    "print(f\"--- {round(time.time() - start_time,1)} seconds ---\")"
   ]
  },
  {
   "cell_type": "code",
   "execution_count": null,
   "id": "1ef9b0e3",
   "metadata": {},
   "outputs": [],
   "source": []
  }
 ],
 "metadata": {
  "kernelspec": {
   "display_name": "Python 3 (ipykernel)",
   "language": "python",
   "name": "python3"
  },
  "language_info": {
   "codemirror_mode": {
    "name": "ipython",
    "version": 3
   },
   "file_extension": ".py",
   "mimetype": "text/x-python",
   "name": "python",
   "nbconvert_exporter": "python",
   "pygments_lexer": "ipython3",
   "version": "3.9.12"
  }
 },
 "nbformat": 4,
 "nbformat_minor": 5
}
