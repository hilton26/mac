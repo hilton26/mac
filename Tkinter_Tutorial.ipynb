{
 "cells": [
  {
   "cell_type": "markdown",
   "id": "61ffaf3d-3ba9-4e86-8869-66eb83711831",
   "metadata": {},
   "source": [
    "## Developing a Full Tkinter Object-Oriented Application\n",
    "https://www.pythontutorial.net/tkinter/tkinter-object-oriented-application/"
   ]
  },
  {
   "cell_type": "markdown",
   "id": "b964d1e1-369d-47fd-9a74-bc3ee76de398",
   "metadata": {},
   "source": [
    "In this tutorial, you’ll learn how to develop a full Tkinter object-oriented application.\n",
    "\n",
    "You’ll convert the temperature converter application to a new one that uses object-oriented programming approach:"
   ]
  },
  {
   "cell_type": "markdown",
   "id": "eadfbf83-fb81-4993-825c-9e8a87244738",
   "metadata": {},
   "source": [
    "### How to Get the Input From Tkinter Text Box\n",
    "https://www.geeksforgeeks.org/how-to-get-the-input-from-tkinter-text-box/"
   ]
  },
  {
   "cell_type": "markdown",
   "id": "eadd2e6d-05e8-438b-a264-7f7f5e4e6337",
   "metadata": {},
   "source": [
    "#### Approach:\n",
    "Create Tkinter window<br>\n",
    "Create a TextBox widget<br>\n",
    "Create a Button widget<br>\n",
    "Create a function that will return text from textbox using get() method after hitting a button"
   ]
  },
  {
   "cell_type": "code",
   "execution_count": 49,
   "id": "4ce5421f-1dbc-479b-819c-6492c71b9b6b",
   "metadata": {},
   "outputs": [],
   "source": [
    "import tkinter as tk\n",
    "  \n",
    "# Top level window\n",
    "frame = tk.Tk()\n",
    "frame.title(\"TextBox Input\")\n",
    "frame.geometry('600x400')\n",
    "# Function for getting Input\n",
    "# from textbox and printing it \n",
    "# at label widget\n",
    "  \n",
    "def printInput():\n",
    "    inp = inputtxt.get(1.0, \"end-1c\")\n",
    "    lbl.config(text = \"Provided Input: \"+inp)\n",
    "  \n",
    "# TextBox Creation\n",
    "inputtxt = tk.Text(frame,\n",
    "                   height = 16,\n",
    "                   width = 64)\n",
    "  \n",
    "inputtxt.pack()\n",
    "  \n",
    "# Button Creation\n",
    "printButton = tk.Button(frame,\n",
    "                        text = \"Print\", \n",
    "                        command = printInput)\n",
    "printButton.pack()\n",
    "  \n",
    "# Label Creation\n",
    "lbl = tk.Label(frame, text = \"\")\n",
    "lbl.pack()\n",
    "frame.mainloop()\n",
    "\n",
    "# o = printInput.inp()"
   ]
  },
  {
   "cell_type": "markdown",
   "id": "85684156-176b-436f-8a84-eff7ad47ab15",
   "metadata": {},
   "source": [
    "### Tkinter Command Binding\n",
    "https://www.pythontutorial.net/tkinter/tkinter-command/"
   ]
  },
  {
   "cell_type": "markdown",
   "id": "008c66b2-1ea0-4371-aeae-27ec822df8da",
   "metadata": {},
   "source": [
    "To use the command binding, you follow these steps:\n",
    "\n",
    "First, define a function as a callback.\n",
    "Then, assign the name of the function to the command option of the widget.### Tkinter Command Binding\n",
    "https://www.pythontutorial.net/tkinter/tkinter-command/"
   ]
  },
  {
   "cell_type": "markdown",
   "id": "69ee6183-9bcc-42f9-b953-91d2442b2303",
   "metadata": {},
   "source": [
    "To use the command binding, you follow these steps:\n",
    "\n",
    "First, define a function as a callback.<br>\n",
    "Then, assign the name of the function to the command option of the widget."
   ]
  },
  {
   "cell_type": "code",
   "execution_count": 41,
   "id": "950ecfdd-d178-4117-8588-1ce984e1366c",
   "metadata": {},
   "outputs": [
    {
     "name": "stdout",
     "output_type": "stream",
     "text": [
      "Button clicked\n"
     ]
    }
   ],
   "source": [
    "import tkinter as tk\n",
    "from tkinter import ttk\n",
    "\n",
    "root = tk.Tk()\n",
    "\n",
    "\n",
    "def button_clicked():\n",
    "    print('Button clicked')\n",
    "\n",
    "\n",
    "button = ttk.Button(root, text='Click Me', command=button_clicked)\n",
    "button.pack()\n",
    "\n",
    "root.mainloop()"
   ]
  },
  {
   "cell_type": "code",
   "execution_count": 48,
   "id": "75de8eb8-e9f7-4ace-b544-ac9be9fb715e",
   "metadata": {},
   "outputs": [
    {
     "name": "stdout",
     "output_type": "stream",
     "text": [
      "Paper clicked\n",
      "Rock clicked\n",
      "Scissors clicked\n",
      "Paper clicked\n"
     ]
    }
   ],
   "source": [
    "import tkinter as tk\n",
    "from tkinter import ttk\n",
    "\n",
    "root = tk.Tk()\n",
    "\n",
    "\n",
    "def select(option):\n",
    "    print(option)\n",
    "\n",
    "\n",
    "ttk.Button(root, text='Rock', command=lambda: select('Rock clicked')).pack()\n",
    "ttk.Button(root, text='Paper',command=lambda: select('Paper clicked')).pack()\n",
    "ttk.Button(root, text='Scissors', command=lambda: select('Scissors clicked')).pack()\n",
    "\n",
    "root.mainloop()"
   ]
  },
  {
   "cell_type": "markdown",
   "id": "0c1f7456-1bdc-4b24-81c0-f22245a6e895",
   "metadata": {},
   "source": [
    "##### Limitations of command binding\n",
    "First, the command option isn’t available in all widgets. It’s limited to the Button and some other widgets.\n",
    "\n",
    "Second, the command button binds to the left-click and the backspace. It doesn’t bind to the Return key.\n",
    "\n",
    "To check this you can move focus to a button in the program above and press the backspace and return keys. This is not really user-friendly. Unfortunately, you cannot change the binding of the command function easily.\n",
    "\n",
    "To overcome these limitations, Tkinter provides an alternative way for associating a function with an event, which is called event binding."
   ]
  },
  {
   "cell_type": "markdown",
   "id": "60d4f4be-2225-4af4-84ef-6084641acfc8",
   "metadata": {},
   "source": [
    "### Tkinter Event Binding\n",
    "https://www.pythontutorial.net/tkinter/tkinter-event-binding/"
   ]
  },
  {
   "cell_type": "markdown",
   "id": "6d60519b-b4cd-4c9c-a9ab-3597291bc62d",
   "metadata": {},
   "source": [
    "##### Introduction to the Tkinter event binding\n",
    "Assigning a function to an event of a widget is called event binding. When the event occurs, the assigned function is invoked automatically.\n",
    "\n",
    "In the previous tutorial, you learned how to bind a function to an event of a widget via the command option. However, not all Tkinter widgets support the command option.\n",
    "\n",
    "Therefore, Tkinter provides you with an alternative way for event binding via the bind() method. The following shows the general syntax of the bind() method:<br>\n",
    "###### widget.bind(event, handler, add=None)"
   ]
  },
  {
   "cell_type": "markdown",
   "id": "d4b7e51e-3f25-4bb8-ad18-a5b0dfe6ae46",
   "metadata": {},
   "source": [
    "When an event occurs in the widget, Tkinter will invoke the handler automatically with the event detail.\n",
    "\n",
    "If you want to register an additional handler, you can pass the '+' to the add argument. It means that you can have multiple event handlers that respond to the same event."
   ]
  },
  {
   "cell_type": "code",
   "execution_count": 52,
   "id": "1c1a97f0-9a7e-4120-9a8e-8af9ddb3a63c",
   "metadata": {},
   "outputs": [
    {
     "name": "stdout",
     "output_type": "stream",
     "text": [
      "Return key pressed.\n"
     ]
    }
   ],
   "source": [
    "import tkinter as tk\n",
    "from tkinter import ttk\n",
    "\n",
    "def return_pressed(event):\n",
    "    print('Return key pressed.')\n",
    "\n",
    "root = tk.Tk()\n",
    "\n",
    "btn = ttk.Button(root, text='Save')\n",
    "btn.bind('<Return>', return_pressed)\n",
    "\n",
    "btn.focus()\n",
    "btn.pack(expand=True)\n",
    "\n",
    "root.mainloop()"
   ]
  },
  {
   "cell_type": "markdown",
   "id": "9ea34f7d-75d9-42a9-a7de-15e3e05a8b50",
   "metadata": {},
   "source": [
    "The following example illustrates how to use the bind() method to register multiple handlers for the same event:"
   ]
  },
  {
   "cell_type": "code",
   "execution_count": 53,
   "id": "081afd64-9c64-4a4d-b2ae-79f80df0b76f",
   "metadata": {},
   "outputs": [
    {
     "name": "stdout",
     "output_type": "stream",
     "text": [
      "Return key pressed.\n",
      "<KeyPress event state=Mod1 keysym=Return keycode=13 char='\\r' x=84 y=8>\n",
      "Return key pressed.\n",
      "<KeyPress event state=Mod1|0x40000 keysym=Return keycode=13 char='\\r' x=45 y=10>\n"
     ]
    }
   ],
   "source": [
    "import tkinter as tk\n",
    "from tkinter import ttk\n",
    "\n",
    "\n",
    "def return_pressed(event):\n",
    "    print('Return key pressed.')\n",
    "\n",
    "\n",
    "def log(event):\n",
    "    print(event)\n",
    "\n",
    "\n",
    "root = tk.Tk()\n",
    "\n",
    "btn = ttk.Button(root, text='Save')\n",
    "btn.bind('<Return>', return_pressed)\n",
    "btn.bind('<Return>', log, add='+')\n",
    "\n",
    "\n",
    "btn.focus()\n",
    "btn.pack(expand=True)\n",
    "\n",
    "root.mainloop()"
   ]
  },
  {
   "cell_type": "markdown",
   "id": "9a2af820-978a-407f-934b-c26d9a1b79ff",
   "metadata": {},
   "source": [
    "###### Summary\n",
    "Use the bind() method to bind an event to a widget.<br>\n",
    "Tkinter supports both instance-level and class-level bindings."
   ]
  },
  {
   "cell_type": "markdown",
   "id": "9331e3d2-5f9f-4753-a746-c6908847da27",
   "metadata": {},
   "source": [
    "### Tkinter Entry Widget Example\n",
    "https://www.pythontutorial.net/tkinter/tkinter-entry/"
   ]
  },
  {
   "cell_type": "code",
   "execution_count": 55,
   "id": "8ff45661-ff35-43f4-ad07-a846cfe106bf",
   "metadata": {},
   "outputs": [],
   "source": [
    "import tkinter as tk\n",
    "from tkinter import ttk\n",
    "from tkinter.messagebox import showinfo\n",
    "\n",
    "# root window\n",
    "root = tk.Tk()\n",
    "root.geometry(\"300x150\")\n",
    "root.resizable(False, False)\n",
    "root.title('Sign In')\n",
    "\n",
    "# store email address and password\n",
    "# First, create two string variables to hold the current text of the email and password Entry widgets:\n",
    "email = tk.StringVar()\n",
    "password = tk.StringVar()\n",
    "\n",
    "\n",
    "def login_clicked():\n",
    "    \"\"\" callback when the login button clicked\n",
    "    \"\"\"\n",
    "    msg = f'You entered email: {email.get()} and password: {password.get()}'\n",
    "    showinfo(\n",
    "        title='Information',\n",
    "        message=msg\n",
    "    )\n",
    "\n",
    "\n",
    "# Sign in frame\n",
    "signin = ttk.Frame(root)\n",
    "signin.pack(padx=10, pady=10, fill='x', expand=True)\n",
    "\n",
    "\n",
    "# email\n",
    "email_label = ttk.Label(signin, text=\"Email Address:\")\n",
    "email_label.pack(fill='x', expand=True)\n",
    "\n",
    "# Second, create the email Entry widget and associate it with the email variable:\n",
    "email_entry = ttk.Entry(signin, textvariable=email) \n",
    "email_entry.pack(fill='x', expand=True)\n",
    "email_entry.focus() # sets focus on the email entry\n",
    "\n",
    "# password\n",
    "password_label = ttk.Label(signin, text=\"Password:\")\n",
    "password_label.pack(fill='x', expand=True)\n",
    "\n",
    "# Third, create the password entry widget and assign the password variable to its textvariable:\n",
    "password_entry = ttk.Entry(signin, textvariable=password, show=\"*\")\n",
    "password_entry.pack(fill='x', expand=True)\n",
    "\n",
    "# login button\n",
    "login_button = ttk.Button(signin, text=\"Login\", command=login_clicked)\n",
    "login_button.pack(fill='x', expand=True, pady=10)\n",
    "\n",
    "\n",
    "root.mainloop()"
   ]
  },
  {
   "cell_type": "markdown",
   "id": "e2cac76d-b90c-4b2a-8566-a8299f076b33",
   "metadata": {},
   "source": [
    "###### Summary\n",
    "Use the ttk.Entry widget to create a textbox.<br>\n",
    "Use an instance of the StringVar() class to associate the current text of the Entry widget with a string variable.<br>\n",
    "Use the show option to create a password entry."
   ]
  },
  {
   "cell_type": "code",
   "execution_count": 8,
   "id": "3970fa41-c592-4c18-871a-acbbff7fb636",
   "metadata": {},
   "outputs": [
    {
     "ename": "TclError",
     "evalue": "bad attribute \"-toolwindow\": must be -alpha, -fullscreen, -modified, -notify, -titlepath, -topmost, -transparent, or -type",
     "output_type": "error",
     "traceback": [
      "\u001b[0;31m---------------------------------------------------------------------------\u001b[0m",
      "\u001b[0;31mTclError\u001b[0m                                  Traceback (most recent call last)",
      "\u001b[0;32m/var/folders/tn/qpcd_fbx3y18d0537n7lmhvm0000gn/T/ipykernel_22121/4253530011.py\u001b[0m in \u001b[0;36m<module>\u001b[0;34m\u001b[0m\n\u001b[1;32m     91\u001b[0m \u001b[0;34m\u001b[0m\u001b[0m\n\u001b[1;32m     92\u001b[0m \u001b[0;32mif\u001b[0m \u001b[0m__name__\u001b[0m \u001b[0;34m==\u001b[0m \u001b[0;34m\"__main__\"\u001b[0m\u001b[0;34m:\u001b[0m\u001b[0;34m\u001b[0m\u001b[0;34m\u001b[0m\u001b[0m\n\u001b[0;32m---> 93\u001b[0;31m     \u001b[0mapp\u001b[0m \u001b[0;34m=\u001b[0m \u001b[0mApp\u001b[0m\u001b[0;34m(\u001b[0m\u001b[0;34m)\u001b[0m\u001b[0;34m\u001b[0m\u001b[0;34m\u001b[0m\u001b[0m\n\u001b[0m\u001b[1;32m     94\u001b[0m     \u001b[0mapp\u001b[0m\u001b[0;34m.\u001b[0m\u001b[0mmainloop\u001b[0m\u001b[0;34m(\u001b[0m\u001b[0;34m)\u001b[0m\u001b[0;34m\u001b[0m\u001b[0;34m\u001b[0m\u001b[0m\n",
      "\u001b[0;32m/var/folders/tn/qpcd_fbx3y18d0537n7lmhvm0000gn/T/ipykernel_22121/4253530011.py\u001b[0m in \u001b[0;36m__init__\u001b[0;34m(self)\u001b[0m\n\u001b[1;32m     72\u001b[0m         \u001b[0mself\u001b[0m\u001b[0;34m.\u001b[0m\u001b[0mresizable\u001b[0m\u001b[0;34m(\u001b[0m\u001b[0;36m0\u001b[0m\u001b[0;34m,\u001b[0m \u001b[0;36m0\u001b[0m\u001b[0;34m)\u001b[0m\u001b[0;34m\u001b[0m\u001b[0;34m\u001b[0m\u001b[0m\n\u001b[1;32m     73\u001b[0m         \u001b[0;31m# windows only (remove the minimize/maximize button)\u001b[0m\u001b[0;34m\u001b[0m\u001b[0;34m\u001b[0m\u001b[0m\n\u001b[0;32m---> 74\u001b[0;31m         \u001b[0mself\u001b[0m\u001b[0;34m.\u001b[0m\u001b[0mattributes\u001b[0m\u001b[0;34m(\u001b[0m\u001b[0;34m'-toolwindow'\u001b[0m\u001b[0;34m,\u001b[0m \u001b[0;32mTrue\u001b[0m\u001b[0;34m)\u001b[0m\u001b[0;34m\u001b[0m\u001b[0;34m\u001b[0m\u001b[0m\n\u001b[0m\u001b[1;32m     75\u001b[0m \u001b[0;34m\u001b[0m\u001b[0m\n\u001b[1;32m     76\u001b[0m         \u001b[0;31m# layout on the root window\u001b[0m\u001b[0;34m\u001b[0m\u001b[0;34m\u001b[0m\u001b[0m\n",
      "\u001b[0;32m~/opt/anaconda3/lib/python3.9/tkinter/__init__.py\u001b[0m in \u001b[0;36mwm_attributes\u001b[0;34m(self, *args)\u001b[0m\n\u001b[1;32m   1974\u001b[0m         \"\"\"\n\u001b[1;32m   1975\u001b[0m         \u001b[0margs\u001b[0m \u001b[0;34m=\u001b[0m \u001b[0;34m(\u001b[0m\u001b[0;34m'wm'\u001b[0m\u001b[0;34m,\u001b[0m \u001b[0;34m'attributes'\u001b[0m\u001b[0;34m,\u001b[0m \u001b[0mself\u001b[0m\u001b[0;34m.\u001b[0m\u001b[0m_w\u001b[0m\u001b[0;34m)\u001b[0m \u001b[0;34m+\u001b[0m \u001b[0margs\u001b[0m\u001b[0;34m\u001b[0m\u001b[0;34m\u001b[0m\u001b[0m\n\u001b[0;32m-> 1976\u001b[0;31m         \u001b[0;32mreturn\u001b[0m \u001b[0mself\u001b[0m\u001b[0;34m.\u001b[0m\u001b[0mtk\u001b[0m\u001b[0;34m.\u001b[0m\u001b[0mcall\u001b[0m\u001b[0;34m(\u001b[0m\u001b[0margs\u001b[0m\u001b[0;34m)\u001b[0m\u001b[0;34m\u001b[0m\u001b[0;34m\u001b[0m\u001b[0m\n\u001b[0m\u001b[1;32m   1977\u001b[0m \u001b[0;34m\u001b[0m\u001b[0m\n\u001b[1;32m   1978\u001b[0m     \u001b[0mattributes\u001b[0m \u001b[0;34m=\u001b[0m \u001b[0mwm_attributes\u001b[0m\u001b[0;34m\u001b[0m\u001b[0;34m\u001b[0m\u001b[0m\n",
      "\u001b[0;31mTclError\u001b[0m: bad attribute \"-toolwindow\": must be -alpha, -fullscreen, -modified, -notify, -titlepath, -topmost, -transparent, or -type"
     ]
    }
   ],
   "source": [
    "import tkinter as tk\n",
    "from tkinter import ttk\n",
    "\n",
    "\n",
    "class InputFrame(ttk.Frame):\n",
    "    def __init__(self, container):\n",
    "        super().__init__(container)\n",
    "        # setup the grid layout manager\n",
    "        self.columnconfigure(0, weight=1)\n",
    "        self.columnconfigure(0, weight=3)\n",
    "\n",
    "        self.__create_widgets()\n",
    "\n",
    "    def __create_widgets(self):\n",
    "        # Find what\n",
    "        ttk.Label(self, text='Find what:').grid(column=0, row=0, sticky=tk.W)\n",
    "        keyword = ttk.Entry(self, width=30)\n",
    "        keyword.focus()\n",
    "        keyword.grid(column=1, row=0, sticky=tk.W)\n",
    "\n",
    "        # Replace with:\n",
    "        ttk.Label(self, text='Replace with:').grid(\n",
    "            column=0, row=1, sticky=tk.W)\n",
    "        replacement = ttk.Entry(self, width=30)\n",
    "        replacement.grid(column=1, row=1, sticky=tk.W)\n",
    "\n",
    "        # Match Case checkbox\n",
    "        match_case = tk.StringVar()\n",
    "        match_case_check = ttk.Checkbutton(\n",
    "            self,\n",
    "            text='Match case',\n",
    "            variable=match_case,\n",
    "            command=lambda: print(match_case.get()))\n",
    "        match_case_check.grid(column=0, row=2, sticky=tk.W)\n",
    "\n",
    "        # Wrap Around checkbox\n",
    "        wrap_around = tk.StringVar()\n",
    "        wrap_around_check = ttk.Checkbutton(\n",
    "            self,\n",
    "            variable=wrap_around,\n",
    "            text='Wrap around',\n",
    "            command=lambda: print(wrap_around.get()))\n",
    "        wrap_around_check.grid(column=0, row=3, sticky=tk.W)\n",
    "\n",
    "        for widget in self.winfo_children():\n",
    "            widget.grid(padx=0, pady=5)\n",
    "\n",
    "\n",
    "class ButtonFrame(ttk.Frame):\n",
    "    def __init__(self, container):\n",
    "        super().__init__(container)\n",
    "        # setup the grid layout manager\n",
    "        self.columnconfigure(0, weight=1)\n",
    "\n",
    "        self.__create_widgets()\n",
    "\n",
    "    def __create_widgets(self):\n",
    "        ttk.Button(self, text='Find Next').grid(column=0, row=0)\n",
    "        ttk.Button(self, text='Replace').grid(column=0, row=1)\n",
    "        ttk.Button(self, text='Replace All').grid(column=0, row=2)\n",
    "        ttk.Button(self, text='Cancel').grid(column=0, row=3)\n",
    "\n",
    "        for widget in self.winfo_children():\n",
    "            widget.grid(padx=0, pady=3)\n",
    "\n",
    "\n",
    "class App(tk.Tk):\n",
    "    def __init__(self):\n",
    "        super().__init__()\n",
    "        self.title('Replace')\n",
    "        self.geometry('400x150')\n",
    "        self.resizable(0, 0)\n",
    "        # windows only (remove the minimize/maximize button)\n",
    "        self.attributes('-toolwindow', True)\n",
    "\n",
    "        # layout on the root window\n",
    "        self.columnconfigure(0, weight=4)\n",
    "        self.columnconfigure(1, weight=1)\n",
    "\n",
    "        self.__create_widgets()\n",
    "\n",
    "    def __create_widgets(self):\n",
    "        # create the input frame\n",
    "        input_frame = InputFrame(self)\n",
    "        input_frame.grid(column=0, row=0)\n",
    "\n",
    "        # create the button frame\n",
    "        button_frame = ButtonFrame(self)\n",
    "        button_frame.grid(column=1, row=0)\n",
    "\n",
    "\n",
    "if __name__ == \"__main__\":\n",
    "    app = App()\n",
    "    app.mainloop()"
   ]
  },
  {
   "cell_type": "code",
   "execution_count": 7,
   "id": "8f5354d5",
   "metadata": {},
   "outputs": [
    {
     "name": "stdout",
     "output_type": "stream",
     "text": [
      "Requirement already satisfied: tk in /Library/Frameworks/Python.framework/Versions/3.8/lib/python3.8/site-packages (0.1.0)\r\n"
     ]
    }
   ],
   "source": [
    "!pip install tk"
   ]
  },
  {
   "cell_type": "code",
   "execution_count": 9,
   "id": "6ba33ac2",
   "metadata": {},
   "outputs": [
    {
     "name": "stdout",
     "output_type": "stream",
     "text": [
      "Requirement already satisfied: selenium in /Library/Frameworks/Python.framework/Versions/3.8/lib/python3.8/site-packages (3.141.0)\r\n",
      "Requirement already satisfied: urllib3 in /Library/Frameworks/Python.framework/Versions/3.8/lib/python3.8/site-packages (from selenium) (1.25.9)\r\n"
     ]
    }
   ],
   "source": [
    "!pip3 install selenium"
   ]
  },
  {
   "cell_type": "code",
   "execution_count": null,
   "id": "dc0dcca2",
   "metadata": {},
   "outputs": [],
   "source": []
  }
 ],
 "metadata": {
  "kernelspec": {
   "display_name": "Python 3 (ipykernel)",
   "language": "python",
   "name": "python3"
  },
  "language_info": {
   "codemirror_mode": {
    "name": "ipython",
    "version": 3
   },
   "file_extension": ".py",
   "mimetype": "text/x-python",
   "name": "python",
   "nbconvert_exporter": "python",
   "pygments_lexer": "ipython3",
   "version": "3.9.7"
  }
 },
 "nbformat": 4,
 "nbformat_minor": 5
}
