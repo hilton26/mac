{
 "cells": [
  {
   "cell_type": "markdown",
   "id": "880cf5f5",
   "metadata": {},
   "source": [
    "# Getting the most recent file in a folder"
   ]
  },
  {
   "cell_type": "code",
   "execution_count": 43,
   "id": "2a33ee5e",
   "metadata": {},
   "outputs": [],
   "source": [
    "import os"
   ]
  },
  {
   "cell_type": "code",
   "execution_count": 44,
   "id": "bd82c230",
   "metadata": {},
   "outputs": [],
   "source": [
    "pth  =  r'C:\\Users\\hilton.netta\\Downloads'\n",
    "sfx  =  r'.xls'\n",
    "parN = 'Portfolio Analytics Report - New'\n",
    "der  = 'Derivative Exposure'\n",
    "r28  = 'Reg 28 Report - Incl Effective Exposure'\n",
    "uTp  = 'Unit Trust Prices'"
   ]
  },
  {
   "cell_type": "code",
   "execution_count": 45,
   "id": "eeb10cbb",
   "metadata": {},
   "outputs": [
    {
     "name": "stdout",
     "output_type": "stream",
     "text": [
      " C:\\Users\\hilton.netta\\Downloads\\Portfolio Analytics Report - New(29).xls \n",
      " C:\\Users\\hilton.netta\\Downloads\\Derivative Exposure.xlsx \n",
      " C:\\Users\\hilton.netta\\Downloads\\Reg 28 Report - Incl Effective Exposure.xls \n",
      " C:\\Users\\hilton.netta\\Downloads\\Unit Trust Prices(4).xls\n"
     ]
    }
   ],
   "source": [
    "#https://stackoverflow.com/questions/64255610/read-latest-file-with-a-filename-contains-string-in-python\n",
    "#https://stackoverflow.com/questions/9816816/get-absolute-paths-of-all-files-in-a-directory\n",
    "\n",
    "fls     = os.listdir(r'C:\\Users\\hilton.netta\\Downloads')\n",
    "parN_nm = max([os.path.abspath(os.path.join(pth, fl)) for fl in fls if parN in fl], key = os.path.getmtime)\n",
    "der_nm  = max([os.path.abspath(os.path.join(pth, fl)) for fl in fls if der  in fl], key = os.path.getmtime)\n",
    "r28_nm  = max([os.path.abspath(os.path.join(pth, fl)) for fl in fls if r28  in fl], key = os.path.getmtime)\n",
    "uTp_nm  = max([os.path.abspath(os.path.join(pth, fl)) for fl in fls if uTp  in fl], key = os.path.getmtime)\n",
    "print('', parN_nm, '\\n', der_nm, '\\n', r28_nm, '\\n', uTp_nm)"
   ]
  },
  {
   "cell_type": "code",
   "execution_count": 46,
   "id": "4399bc29",
   "metadata": {},
   "outputs": [],
   "source": [
    "fls     = os.listdir(r'C:\\Users\\hilton.netta\\Downloads')\n",
    "nm = ['Portfolio Analytics Report - New', 'Derivative Exposure', 'Reg 28 Report - Incl Effective Exposure', 'Unit Trust Prices']\n",
    "nm_list = []\n",
    "for p in nm:\n",
    "    nm_list += max([os.path.abspath(os.path.join(pth, fl)) for fl in fls if p in fl], key = os.path.getmtime)"
   ]
  },
  {
   "cell_type": "code",
   "execution_count": 47,
   "id": "f78049cc",
   "metadata": {},
   "outputs": [
    {
     "name": "stdout",
     "output_type": "stream",
     "text": [
      " C:\\Users\\hilton.netta\\Downloads\\Portfolio Analytics Report - New \n",
      " C:\\Users\\hilton.netta\\Downloads\\Derivative Exposure.xls \n",
      " C:\\Users\\hilton.netta\\Downloads\\Reg 28 Report - Incl Effective Exposure.xl \n",
      " C:\\Users\\hilton.netta\\Downloads\\Unit Trust Prices\n"
     ]
    }
   ],
   "source": [
    "print('', parN_nm[0:parN_nm.rfind('(')], '\\n', der_nm[0:der_nm.rfind('(')], '\\n', r28_nm[0:r28_nm.rfind('(')], '\\n', uTp_nm[0:uTp_nm.rfind('(')])"
   ]
  },
  {
   "cell_type": "code",
   "execution_count": null,
   "id": "8ff66a23",
   "metadata": {},
   "outputs": [],
   "source": [
    "q = parN_nm[0:parN_nm.rfind('(')]\n",
    "q + '.xlsx'"
   ]
  },
  {
   "cell_type": "code",
   "execution_count": 21,
   "id": "0af435ca",
   "metadata": {},
   "outputs": [
    {
     "data": {
      "text/plain": [
       "['Portfolio Analytics Report - New',\n",
       " 'Derivative Exposure',\n",
       " 'Reg 28 Report - Incl Effective Exposure',\n",
       " 'Unit Trust Prices']"
      ]
     },
     "execution_count": 21,
     "metadata": {},
     "output_type": "execute_result"
    }
   ],
   "source": [
    "tr"
   ]
  },
  {
   "cell_type": "code",
   "execution_count": 27,
   "id": "2571d488",
   "metadata": {},
   "outputs": [
    {
     "name": "stdout",
     "output_type": "stream",
     "text": [
      "3\n"
     ]
    }
   ],
   "source": [
    "string = 'Geeks'\n",
    "letter = 'k'\n",
    "print(string.rfind(letter))"
   ]
  },
  {
   "cell_type": "code",
   "execution_count": 28,
   "id": "8db49390",
   "metadata": {},
   "outputs": [
    {
     "data": {
      "text/plain": [
       "'C:\\\\Users\\\\hilton.netta\\\\Downloads\\\\Portfolio Analytics Report - New(28).xls'"
      ]
     },
     "execution_count": 28,
     "metadata": {},
     "output_type": "execute_result"
    }
   ],
   "source": [
    "parN_nm"
   ]
  },
  {
   "cell_type": "code",
   "execution_count": 31,
   "id": "681e3b0e",
   "metadata": {},
   "outputs": [
    {
     "data": {
      "text/plain": [
       "64"
      ]
     },
     "execution_count": 31,
     "metadata": {},
     "output_type": "execute_result"
    }
   ],
   "source": [
    "w = parN_nm.rfind('(')\n",
    "w"
   ]
  },
  {
   "cell_type": "code",
   "execution_count": 37,
   "id": "eba19c9d",
   "metadata": {},
   "outputs": [
    {
     "data": {
      "text/plain": [
       "'C:\\\\Users\\\\hilton.netta\\\\Downloads\\\\Portfolio Analytics Report - New.xlsx'"
      ]
     },
     "execution_count": 37,
     "metadata": {},
     "output_type": "execute_result"
    }
   ],
   "source": [
    "q = parN_nm[0:w]\n",
    "q + '.xlsx'"
   ]
  },
  {
   "cell_type": "code",
   "execution_count": null,
   "id": "3d4a0fe2",
   "metadata": {},
   "outputs": [],
   "source": []
  }
 ],
 "metadata": {
  "kernelspec": {
   "display_name": "Python 3 (ipykernel)",
   "language": "python",
   "name": "python3"
  },
  "language_info": {
   "codemirror_mode": {
    "name": "ipython",
    "version": 3
   },
   "file_extension": ".py",
   "mimetype": "text/x-python",
   "name": "python",
   "nbconvert_exporter": "python",
   "pygments_lexer": "ipython3",
   "version": "3.9.12"
  }
 },
 "nbformat": 4,
 "nbformat_minor": 5
}
