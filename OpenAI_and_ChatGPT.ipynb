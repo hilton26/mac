{
 "cells": [
  {
   "cell_type": "markdown",
   "id": "8c5276fc",
   "metadata": {},
   "source": [
    "### Getting Started with OpenAI API and GPT-3 | Beginner Python Tutorial\n",
    "https://www.youtube.com/watch?v=Zb5Nylziu6E\n",
    "https://www.geeksforgeeks.org/how-to-use-chatgpt-api-in-python/"
   ]
  },
  {
   "cell_type": "code",
   "execution_count": 1,
   "id": "1fe9be7f",
   "metadata": {},
   "outputs": [],
   "source": [
    "!pip install -q openai"
   ]
  },
  {
   "cell_type": "code",
   "execution_count": 4,
   "id": "ba6274de",
   "metadata": {},
   "outputs": [
    {
     "ename": "ModuleNotFoundError",
     "evalue": "No module named 'api_secrets'",
     "output_type": "error",
     "traceback": [
      "\u001b[1;31m---------------------------------------------------------------------------\u001b[0m",
      "\u001b[1;31mModuleNotFoundError\u001b[0m                       Traceback (most recent call last)",
      "Cell \u001b[1;32mIn[4], line 2\u001b[0m\n\u001b[0;32m      1\u001b[0m \u001b[38;5;28;01mimport\u001b[39;00m \u001b[38;5;21;01mopenai\u001b[39;00m\n\u001b[1;32m----> 2\u001b[0m \u001b[38;5;28;01mfrom\u001b[39;00m \u001b[38;5;21;01mapi_secrets\u001b[39;00m \u001b[38;5;28;01mimport\u001b[39;00m API_KEY\n",
      "\u001b[1;31mModuleNotFoundError\u001b[0m: No module named 'api_secrets'"
     ]
    }
   ],
   "source": [
    "import openai\n",
    "from api_secrets import API_KEY"
   ]
  },
  {
   "cell_type": "code",
   "execution_count": null,
   "id": "a55fceef",
   "metadata": {},
   "outputs": [],
   "source": []
  }
 ],
 "metadata": {
  "kernelspec": {
   "display_name": "Python 3 (ipykernel)",
   "language": "python",
   "name": "python3"
  },
  "language_info": {
   "codemirror_mode": {
    "name": "ipython",
    "version": 3
   },
   "file_extension": ".py",
   "mimetype": "text/x-python",
   "name": "python",
   "nbconvert_exporter": "python",
   "pygments_lexer": "ipython3",
   "version": "3.9.12"
  }
 },
 "nbformat": 4,
 "nbformat_minor": 5
}
