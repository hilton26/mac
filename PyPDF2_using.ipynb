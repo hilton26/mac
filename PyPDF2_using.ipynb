{
 "cells": [
  {
   "cell_type": "markdown",
   "id": "99399343",
   "metadata": {},
   "source": [
    "10 Python Tips and Tricks For Writing Better Code<br>\n",
    "https://www.youtube.com/watch?v=C-gEQdGVXbk\n",
    "\n",
    "Working with PDF files in Python<br>https://www.geeksforgeeks.org/working-with-pdf-files-in-python/\n",
    "\n",
    "Xref table not zero-indexed. ID numbers for objects will be corrected. won't continue<br>https://stackoverflow.com/questions/49939085/xref-table-not-zero-indexed-id-numbers-for-objects-will-be-corrected-wont-con\n",
    "\n",
    "PyPDF2 Library for Working with PDF Files in Python<br>\n",
    "https://www.analyticsvidhya.com/blog/2021/09/pypdf2-library-for-working-with-pdf-files-in-python/\n",
    "\n",
    "How to delete pages from pdf file using Python?<br>\n",
    "https://stackoverflow.com/questions/39574096/how-to-delete-pages-from-pdf-file-using-python"
   ]
  },
  {
   "cell_type": "code",
   "execution_count": 27,
   "id": "1cd69f18",
   "metadata": {},
   "outputs": [],
   "source": [
    "# importing required modules\n",
    "import PyPDF2\n",
    "from PyPDF2 import PdfFileWriter, PdfFileReader"
   ]
  },
  {
   "cell_type": "code",
   "execution_count": 31,
   "id": "b52f9222",
   "metadata": {},
   "outputs": [],
   "source": [
    "# creating a pdf file object\n",
    "pth = 'C:\\\\Users\\\\hilton.netta\\\\Downloads\\\\'\n",
    "pdfDoc = open(pth + 'Insurance_Act_2017_GN41388.pdf', 'rb')\n",
    "\n",
    "# creating a pdf reader object\n",
    "pdfReader = PyPDF2.PdfFileReader(pdfDoc, strict = False)"
   ]
  },
  {
   "cell_type": "code",
   "execution_count": 40,
   "id": "9b16faa9",
   "metadata": {},
   "outputs": [
    {
     "name": "stdout",
     "output_type": "stream",
     "text": [
      "[1, 3, 5, 7, 9, 11, 13, 15, 17, 19, 21, 23, 25, 27, 29, 31, 33, 35, 37, 39, 41, 43, 45, 47, 49, 51, 53, 55, 57, 59, 61, 63, 65, 67, 69, 71, 73, 75, 77, 79, 81, 83, 85, 87, 89, 91, 93, 95, 97, 99, 101, 103, 105, 107, 109, 111, 113, 115, 117, 119, 121, 123, 125, 127, 129, 131, 133, 135, 137, 139, 141, 143, 145, 147, 149, 151, 153, 155, 157, 159, 161, 163, 165, 167, 169, 171, 173, 175, 177, 179, 181, 183, 185, 187, 189, 191, 193, 195, 197, 199, 201, 203]\n"
     ]
    }
   ],
   "source": [
    "# identify the pdf pages without Afrikaans text\n",
    "afrikaans_text = \"Versekeringswet\"\n",
    "pages_to_keep = [] # page numbering starts from 0\n",
    "for i in range(pdfReader.numPages):\n",
    "    if afrikaans_text not in pdfReader.getPage(i).extractText():\n",
    "        pages_to_keep.append(i)\n",
    "\n",
    "print(pages_to_keep)"
   ]
  },
  {
   "cell_type": "code",
   "execution_count": 43,
   "id": "37de2810",
   "metadata": {},
   "outputs": [],
   "source": [
    "# create an output pdf object\n",
    "# infile = PdfFileReader('source.pdf', 'rb')\n",
    "output = PdfFileWriter()\n",
    "\n",
    "for i in pages_to_keep:\n",
    "    p = pdfReader.getPage(i)\n",
    "    output.addPage(p)\n",
    "\n",
    "with open(pth + 'newfile.pdf', 'wb') as f:\n",
    "    output.write(f)    \n"
   ]
  },
  {
   "cell_type": "code",
   "execution_count": 44,
   "id": "af4f3f3c",
   "metadata": {},
   "outputs": [],
   "source": [
    "# closing the pdf file object\n",
    "pdfDoc.close()"
   ]
  },
  {
   "cell_type": "code",
   "execution_count": 20,
   "id": "a64b1444",
   "metadata": {},
   "outputs": [
    {
     "name": "stdout",
     "output_type": "stream",
     "text": [
      "56\n",
      "\n"
     ]
    }
   ],
   "source": [
    "\n",
    " \n",
    "# creating a pdf file object\n",
    "pdfFileObj = open('example.pdf', 'rb')\n",
    " \n",
    "# creating a pdf reader object\n",
    "pdfReader = PyPDF2.PdfFileReader(pdfFileObj, strict = False)\n",
    " \n",
    "# printing number of pages in pdf file\n",
    "print(pdfReader.numPages)\n",
    " \n",
    "# creating a page object\n",
    "pageObj = pdfReader.getPage(0)\n",
    " \n",
    "# extracting text from page\n",
    "print(pageObj.extractText())\n",
    " \n",
    "# closing the pdf file object\n",
    "pdfFileObj.close()"
   ]
  },
  {
   "cell_type": "code",
   "execution_count": 6,
   "id": "2b03a35c",
   "metadata": {},
   "outputs": [],
   "source": [
    "# Python program to create\n",
    "# a file explorer in Tkinter\n",
    "  \n",
    "# import all components\n",
    "# from the tkinter library\n",
    "from tkinter import *\n",
    "  \n",
    "# import filedialog module\n",
    "from tkinter import filedialog\n",
    "  \n",
    "# Function for opening the\n",
    "# file explorer window\n",
    "def browseFiles():\n",
    "    filename = filedialog.askopenfilename(initialdir = \"/\",\n",
    "                                          title = \"Select a File\",\n",
    "                                          filetypes = ((\"Text files\",\n",
    "                                                        \"*.txt*\"),\n",
    "                                                       (\"all files\",\n",
    "                                                        \"*.*\")))\n",
    "      \n",
    "    # Change label contents\n",
    "    label_file_explorer.configure(text=\"File Opened: \"+filename)\n",
    "      \n",
    "      \n",
    "                                                                                                  \n",
    "# Create the root window\n",
    "window = Tk()\n",
    "  \n",
    "# Set window title\n",
    "window.title('File Explorer')\n",
    "  \n",
    "# Set window size\n",
    "window.geometry(\"500x500\")\n",
    "  \n",
    "#Set window background color\n",
    "window.config(background = \"white\")\n",
    "  \n",
    "# Create a File Explorer label\n",
    "label_file_explorer = Label(window,\n",
    "                            text = \"File Explorer using Tkinter\",\n",
    "                            width = 100, height = 4,\n",
    "                            fg = \"blue\")\n",
    "  \n",
    "      \n",
    "button_explore = Button(window,\n",
    "                        text = \"Browse Files\",\n",
    "                        command = browseFiles)\n",
    "  \n",
    "button_exit = Button(window,\n",
    "                     text = \"Exit\",\n",
    "                     command = exit)\n",
    "  \n",
    "# Grid method is chosen for placing\n",
    "# the widgets at respective positions\n",
    "# in a table like structure by\n",
    "# specifying rows and columns\n",
    "label_file_explorer.grid(column = 1, row = 1)\n",
    "  \n",
    "button_explore.grid(column = 1, row = 2)\n",
    "  \n",
    "button_exit.grid(column = 1,row = 3)\n",
    "  \n",
    "# Let the window wait for any events\n",
    "window.mainloop()"
   ]
  },
  {
   "cell_type": "code",
   "execution_count": 2,
   "id": "e2922333",
   "metadata": {},
   "outputs": [
    {
     "data": {
      "text/plain": [
       "133000"
      ]
     },
     "execution_count": 2,
     "metadata": {},
     "output_type": "execute_result"
    }
   ],
   "source": [
    "10_000+123_000"
   ]
  },
  {
   "cell_type": "code",
   "execution_count": null,
   "id": "f13501f6",
   "metadata": {},
   "outputs": [],
   "source": []
  }
 ],
 "metadata": {
  "kernelspec": {
   "display_name": "Python 3",
   "language": "python",
   "name": "python3"
  },
  "language_info": {
   "codemirror_mode": {
    "name": "ipython",
    "version": 3
   },
   "file_extension": ".py",
   "mimetype": "text/x-python",
   "name": "python",
   "nbconvert_exporter": "python",
   "pygments_lexer": "ipython3",
   "version": "3.8.8"
  }
 },
 "nbformat": 4,
 "nbformat_minor": 5
}
