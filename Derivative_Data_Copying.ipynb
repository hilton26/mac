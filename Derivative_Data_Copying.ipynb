{
 "cells": [
  {
   "cell_type": "markdown",
   "id": "794e59b3",
   "metadata": {},
   "source": [
    "How to Replace VBA with Python(Step-By-Step Tutorial) Sep 2021\n",
    "https://www.youtube.com/watch?v=6qo3ly3-_I8\n",
    "\n",
    "Python: Pandas read_excel cannot open .xls file, ValueError: File is not a recognized excel file\n",
    "https://stackoverflow.com/questions/68018701/python-pandas-read-excel-cannot-open-xls-file-valueerror-file-is-not-a-recog\n",
    "\n",
    "Python 3 Quick Tip: The easy way to deal with file paths on Windows, Mac and Linux\n",
    "https://medium.com/@ageitgey/python-3-quick-tip-the-easy-way-to-deal-with-file-paths-on-windows-mac-and-linux-11a072b58d5f\n",
    "\n",
    "Data to Fish: Convert CSV to Excel using Python (example included)\n",
    "https://datatofish.com/csv-to-excel-python/\n",
    "\n",
    "How To Fix pandas.parser.CParserError: Error tokenizing data\n",
    "https://towardsdatascience.com/fix-pandas-parser-error-tokenizing-data-889167292d38"
   ]
  },
  {
   "cell_type": "code",
   "execution_count": 1,
   "id": "9ee2efd7",
   "metadata": {},
   "outputs": [
    {
     "ename": "FileNotFoundError",
     "evalue": "[Errno 2] No such file or directory: 'C:\\\\\\\\Users\\\\\\\\hilton.netta\\\\\\\\Downloads\\\\\\\\Derivative Exposure.xlsx'",
     "output_type": "error",
     "traceback": [
      "\u001b[1;31m---------------------------------------------------------------------------\u001b[0m",
      "\u001b[1;31mFileNotFoundError\u001b[0m                         Traceback (most recent call last)",
      "\u001b[1;32m<ipython-input-1-3c8178e45c3d>\u001b[0m in \u001b[0;36m<module>\u001b[1;34m\u001b[0m\n\u001b[0;32m     19\u001b[0m \u001b[1;33m\u001b[0m\u001b[0m\n\u001b[0;32m     20\u001b[0m \u001b[1;31m# FROM files\u001b[0m\u001b[1;33m\u001b[0m\u001b[1;33m\u001b[0m\u001b[1;33m\u001b[0m\u001b[0m\n\u001b[1;32m---> 21\u001b[1;33m \u001b[0mshSd\u001b[0m \u001b[1;33m=\u001b[0m \u001b[0mopenpyxl\u001b[0m\u001b[1;33m.\u001b[0m\u001b[0mload_workbook\u001b[0m\u001b[1;33m(\u001b[0m\u001b[1;34mr'C:\\\\Users\\\\hilton.netta\\\\Downloads\\\\Derivative Exposure.xlsx'\u001b[0m\u001b[1;33m)\u001b[0m\u001b[1;33m[\u001b[0m\u001b[1;34m'Derivative Exposure'\u001b[0m\u001b[1;33m]\u001b[0m\u001b[1;33m\u001b[0m\u001b[1;33m\u001b[0m\u001b[0m\n\u001b[0m\u001b[0;32m     22\u001b[0m \u001b[0mshSh\u001b[0m \u001b[1;33m=\u001b[0m \u001b[0mopenpyxl\u001b[0m\u001b[1;33m.\u001b[0m\u001b[0mload_workbook\u001b[0m\u001b[1;33m(\u001b[0m\u001b[1;34mr'C:\\\\Users\\\\hilton.netta\\\\Downloads\\\\Portfolio Analytics Report - New.xlsx'\u001b[0m\u001b[1;33m)\u001b[0m\u001b[1;33m[\u001b[0m\u001b[1;34m'Portfolio Analytics Report - Ne'\u001b[0m\u001b[1;33m]\u001b[0m\u001b[1;33m\u001b[0m\u001b[1;33m\u001b[0m\u001b[0m\n\u001b[0;32m     23\u001b[0m \u001b[1;33m\u001b[0m\u001b[0m\n",
      "\u001b[1;32m~\\Anaconda3\\lib\\site-packages\\openpyxl\\reader\\excel.py\u001b[0m in \u001b[0;36mload_workbook\u001b[1;34m(filename, read_only, keep_vba, data_only, keep_links)\u001b[0m\n\u001b[0;32m    313\u001b[0m \u001b[1;33m\u001b[0m\u001b[0m\n\u001b[0;32m    314\u001b[0m     \"\"\"\n\u001b[1;32m--> 315\u001b[1;33m     reader = ExcelReader(filename, read_only, keep_vba,\n\u001b[0m\u001b[0;32m    316\u001b[0m                         data_only, keep_links)\n\u001b[0;32m    317\u001b[0m     \u001b[0mreader\u001b[0m\u001b[1;33m.\u001b[0m\u001b[0mread\u001b[0m\u001b[1;33m(\u001b[0m\u001b[1;33m)\u001b[0m\u001b[1;33m\u001b[0m\u001b[1;33m\u001b[0m\u001b[0m\n",
      "\u001b[1;32m~\\Anaconda3\\lib\\site-packages\\openpyxl\\reader\\excel.py\u001b[0m in \u001b[0;36m__init__\u001b[1;34m(self, fn, read_only, keep_vba, data_only, keep_links)\u001b[0m\n\u001b[0;32m    122\u001b[0m     def __init__(self,  fn, read_only=False, keep_vba=KEEP_VBA,\n\u001b[0;32m    123\u001b[0m                   data_only=False, keep_links=True):\n\u001b[1;32m--> 124\u001b[1;33m         \u001b[0mself\u001b[0m\u001b[1;33m.\u001b[0m\u001b[0marchive\u001b[0m \u001b[1;33m=\u001b[0m \u001b[0m_validate_archive\u001b[0m\u001b[1;33m(\u001b[0m\u001b[0mfn\u001b[0m\u001b[1;33m)\u001b[0m\u001b[1;33m\u001b[0m\u001b[1;33m\u001b[0m\u001b[0m\n\u001b[0m\u001b[0;32m    125\u001b[0m         \u001b[0mself\u001b[0m\u001b[1;33m.\u001b[0m\u001b[0mvalid_files\u001b[0m \u001b[1;33m=\u001b[0m \u001b[0mself\u001b[0m\u001b[1;33m.\u001b[0m\u001b[0marchive\u001b[0m\u001b[1;33m.\u001b[0m\u001b[0mnamelist\u001b[0m\u001b[1;33m(\u001b[0m\u001b[1;33m)\u001b[0m\u001b[1;33m\u001b[0m\u001b[1;33m\u001b[0m\u001b[0m\n\u001b[0;32m    126\u001b[0m         \u001b[0mself\u001b[0m\u001b[1;33m.\u001b[0m\u001b[0mread_only\u001b[0m \u001b[1;33m=\u001b[0m \u001b[0mread_only\u001b[0m\u001b[1;33m\u001b[0m\u001b[1;33m\u001b[0m\u001b[0m\n",
      "\u001b[1;32m~\\Anaconda3\\lib\\site-packages\\openpyxl\\reader\\excel.py\u001b[0m in \u001b[0;36m_validate_archive\u001b[1;34m(filename)\u001b[0m\n\u001b[0;32m     94\u001b[0m             \u001b[1;32mraise\u001b[0m \u001b[0mInvalidFileException\u001b[0m\u001b[1;33m(\u001b[0m\u001b[0mmsg\u001b[0m\u001b[1;33m)\u001b[0m\u001b[1;33m\u001b[0m\u001b[1;33m\u001b[0m\u001b[0m\n\u001b[0;32m     95\u001b[0m \u001b[1;33m\u001b[0m\u001b[0m\n\u001b[1;32m---> 96\u001b[1;33m     \u001b[0marchive\u001b[0m \u001b[1;33m=\u001b[0m \u001b[0mZipFile\u001b[0m\u001b[1;33m(\u001b[0m\u001b[0mfilename\u001b[0m\u001b[1;33m,\u001b[0m \u001b[1;34m'r'\u001b[0m\u001b[1;33m)\u001b[0m\u001b[1;33m\u001b[0m\u001b[1;33m\u001b[0m\u001b[0m\n\u001b[0m\u001b[0;32m     97\u001b[0m     \u001b[1;32mreturn\u001b[0m \u001b[0marchive\u001b[0m\u001b[1;33m\u001b[0m\u001b[1;33m\u001b[0m\u001b[0m\n\u001b[0;32m     98\u001b[0m \u001b[1;33m\u001b[0m\u001b[0m\n",
      "\u001b[1;32m~\\Anaconda3\\lib\\zipfile.py\u001b[0m in \u001b[0;36m__init__\u001b[1;34m(self, file, mode, compression, allowZip64, compresslevel, strict_timestamps)\u001b[0m\n\u001b[0;32m   1249\u001b[0m             \u001b[1;32mwhile\u001b[0m \u001b[1;32mTrue\u001b[0m\u001b[1;33m:\u001b[0m\u001b[1;33m\u001b[0m\u001b[1;33m\u001b[0m\u001b[0m\n\u001b[0;32m   1250\u001b[0m                 \u001b[1;32mtry\u001b[0m\u001b[1;33m:\u001b[0m\u001b[1;33m\u001b[0m\u001b[1;33m\u001b[0m\u001b[0m\n\u001b[1;32m-> 1251\u001b[1;33m                     \u001b[0mself\u001b[0m\u001b[1;33m.\u001b[0m\u001b[0mfp\u001b[0m \u001b[1;33m=\u001b[0m \u001b[0mio\u001b[0m\u001b[1;33m.\u001b[0m\u001b[0mopen\u001b[0m\u001b[1;33m(\u001b[0m\u001b[0mfile\u001b[0m\u001b[1;33m,\u001b[0m \u001b[0mfilemode\u001b[0m\u001b[1;33m)\u001b[0m\u001b[1;33m\u001b[0m\u001b[1;33m\u001b[0m\u001b[0m\n\u001b[0m\u001b[0;32m   1252\u001b[0m                 \u001b[1;32mexcept\u001b[0m \u001b[0mOSError\u001b[0m\u001b[1;33m:\u001b[0m\u001b[1;33m\u001b[0m\u001b[1;33m\u001b[0m\u001b[0m\n\u001b[0;32m   1253\u001b[0m                     \u001b[1;32mif\u001b[0m \u001b[0mfilemode\u001b[0m \u001b[1;32min\u001b[0m \u001b[0mmodeDict\u001b[0m\u001b[1;33m:\u001b[0m\u001b[1;33m\u001b[0m\u001b[1;33m\u001b[0m\u001b[0m\n",
      "\u001b[1;31mFileNotFoundError\u001b[0m: [Errno 2] No such file or directory: 'C:\\\\\\\\Users\\\\\\\\hilton.netta\\\\\\\\Downloads\\\\\\\\Derivative Exposure.xlsx'"
     ]
    }
   ],
   "source": [
    "import os\n",
    "from pathlib import Path\n",
    "import openpyxl\n",
    "import pandas as pd\n",
    "\n",
    "# TO file\n",
    "derv_test_path = Path('\\\\\\pim-cpt-fs\\\\profile$\\\\PProfile Operations\\\\Legal\\\\Legal and Compliance Framework\\\\Hilton\\\\W\\\\')\n",
    "flnm =  derv_test_path / 'DervTest.xlsx'\n",
    "wb = openpyxl.load_workbook(flnm)\n",
    "shD = wb['D']\n",
    "shH = wb['H']\n",
    "\n",
    "# clear existing data from 'H' and 'D' sheets in the derivative workings file\n",
    "# https://www.codegrepper.com/code-examples/python/how+to+delete+every+row+in+excel+using+openpyxl\n",
    "# ws.delete_rows(firstrow, numberofrows) #for multiple row deletion\n",
    "# ws.delete_rows(rownum) #for single row\n",
    "shH.delete_rows(1, shH.max_row + 1) # for entire sheet\n",
    "shD.delete_rows(1, shD.max_row + 1) # for entire sheet\n",
    "\n",
    "# FROM files\n",
    "shSd = openpyxl.load_workbook(r'C:\\\\Users\\\\hilton.netta\\\\Downloads\\\\Derivative Exposure.xlsx')['Derivative Exposure']\n",
    "shSh = openpyxl.load_workbook(r'C:\\\\Users\\\\hilton.netta\\\\Downloads\\\\Portfolio Analytics Report - New.xlsx')['Portfolio Analytics Report - Ne']\n",
    "\n",
    "# copy from source to destination file for derivatives\n",
    "\n",
    "for i in range (1, shSd.max_row + 1):\n",
    "    for j in range (1, shSd.max_column + 1):\n",
    "        # reading cell value from source excel file and writing to destination excel file\n",
    "        shD.cell(row = i, column = j).value = shSd.cell(row = i, column = j).value\n",
    "        \n",
    "# copy from source to destination file for holdings\n",
    "for i in range (1, shSh.max_row + 1):\n",
    "    for j in range (1, shSh.max_column + 1):\n",
    "        # reading cell value from source excel file and writing to destination excel file\n",
    "        shH.cell(row = i, column = j).value = shSh.cell(row = i, column = j).value\n",
    "        \n",
    "# save the file\n",
    "wb.save(flnm)"
   ]
  },
  {
   "cell_type": "code",
   "execution_count": null,
   "id": "9a3aa0fd",
   "metadata": {},
   "outputs": [],
   "source": [
    "# shSd['Entity Name']\n",
    "print(shSd[\"A10\"].value, shSh.cell(7, 20).value)\n"
   ]
  },
  {
   "cell_type": "code",
   "execution_count": null,
   "id": "5741e984",
   "metadata": {},
   "outputs": [],
   "source": [
    "# list the unique fund names from the holdings file\n",
    "\n",
    "funds=[]\n",
    "for cel in shSh.iter_rows(min_row = 1, max_row = shSh.max_row, min_col = 37, max_col = 37, values_only=True):\n",
    "    if cel not in funds:\n",
    "        funds += [cel]\n",
    "\n",
    "print(funds) \n",
    "# funds2=funds.remove(\"(\"Entity ID\",)\")\n",
    "# print(funds2)\n",
    "# print(funds[3])"
   ]
  },
  {
   "cell_type": "code",
   "execution_count": null,
   "id": "dea9b7da",
   "metadata": {},
   "outputs": [],
   "source": [
    "print(shSh[\"A3\"].value)"
   ]
  },
  {
   "cell_type": "code",
   "execution_count": null,
   "id": "e0d32841",
   "metadata": {},
   "outputs": [],
   "source": [
    "funds=[]\n",
    "for cel in shSh[:0,:0]:\n",
    "    if cel not in funds:\n",
    "        funds += [cel]"
   ]
  },
  {
   "cell_type": "code",
   "execution_count": null,
   "id": "a74ab0bd",
   "metadata": {},
   "outputs": [],
   "source": []
  },
  {
   "cell_type": "code",
   "execution_count": null,
   "id": "2a0b7a86-5cf1-4dc3-a218-c32daa8b18b1",
   "metadata": {},
   "outputs": [],
   "source": []
  }
 ],
 "metadata": {
  "kernelspec": {
   "display_name": "Python 3",
   "language": "python",
   "name": "python3"
  },
  "language_info": {
   "codemirror_mode": {
    "name": "ipython",
    "version": 3
   },
   "file_extension": ".py",
   "mimetype": "text/x-python",
   "name": "python",
   "nbconvert_exporter": "python",
   "pygments_lexer": "ipython3",
   "version": "3.8.8"
  }
 },
 "nbformat": 4,
 "nbformat_minor": 5
}
