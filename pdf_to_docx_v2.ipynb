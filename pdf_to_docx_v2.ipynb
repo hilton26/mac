{
 "cells": [
  {
   "cell_type": "markdown",
   "id": "0ccf988f",
   "metadata": {},
   "source": [
    "### How to Convert PDF to Docx in Python\n",
    "https://www.thepythoncode.com/article/convert-pdf-files-to-docx-in-python"
   ]
  },
  {
   "cell_type": "code",
   "execution_count": 1,
   "id": "d58870f9",
   "metadata": {},
   "outputs": [],
   "source": [
    "# import Libraries\n",
    "from pdf2docx import parse #!pip install pdf2docx==0.5.6\n",
    "from typing import Tuple"
   ]
  },
  {
   "cell_type": "code",
   "execution_count": 6,
   "id": "dc7a12fb",
   "metadata": {},
   "outputs": [],
   "source": [
    "# function to convert .pdf to .docx\n",
    "def convert_pdf2docx(input_file: str, output_file: str, pages: Tuple = None):\n",
    "    # converts pdf to docx and prints a summary of the conversion process\n",
    "    if pages:\n",
    "        pages = [int(i) for i in list(pages) if i.isnumeric()]\n",
    "    result = parse(pdf_file = input_file,\n",
    "                   docx_with_path = output_file, pages=pages)\n",
    "    summary = {\n",
    "        \"File\": input_file, \"Pages\": str(pages), \"Output File\": output_file\n",
    "    }\n",
    "    # Printing Summary\n",
    "    print(\"## Summary ########################################################\")\n",
    "    print(\"\\n\".join(\"{}:{}\".format(i, j) for i, j in summary.items()))\n",
    "    print(\"###################################################################\")\n",
    "    return result"
   ]
  },
  {
   "cell_type": "code",
   "execution_count": 11,
   "id": "30c4fea9",
   "metadata": {},
   "outputs": [
    {
     "name": "stderr",
     "output_type": "stream",
     "text": [
      "[INFO] Start to convert P:\\Working Folders\\Hilton\\docs\\20221007 PIM_Amplats_Portfolio Management Agreement.pdf\n",
      "[INFO] \u001b[1;36m[1/4] Opening document...\u001b[0m\n",
      "[INFO] \u001b[1;36m[2/4] Analyzing document...\u001b[0m\n",
      "[WARNING] Words count: 0. It might be a scanned pdf, which is not supported yet.\n",
      "[INFO] \u001b[1;36m[3/4] Parsing pages...\u001b[0m\n",
      "[INFO] (1/38) Page 1\n",
      "[INFO] (2/38) Page 2\n",
      "[INFO] (3/38) Page 3\n",
      "[INFO] (4/38) Page 4\n",
      "[INFO] (5/38) Page 5\n",
      "[INFO] (6/38) Page 6\n",
      "[INFO] (7/38) Page 7\n",
      "[INFO] (8/38) Page 8\n",
      "[INFO] (9/38) Page 9\n",
      "[INFO] (10/38) Page 10\n",
      "[INFO] (11/38) Page 11\n",
      "[INFO] (12/38) Page 12\n",
      "[INFO] (13/38) Page 13\n",
      "[INFO] (14/38) Page 14\n",
      "[INFO] (15/38) Page 15\n",
      "[INFO] (16/38) Page 16\n",
      "[INFO] (17/38) Page 17\n",
      "[INFO] (18/38) Page 18\n",
      "[INFO] (19/38) Page 19\n",
      "[INFO] (20/38) Page 20\n",
      "[INFO] (21/38) Page 21\n",
      "[INFO] (22/38) Page 22\n",
      "[INFO] (23/38) Page 23\n",
      "[INFO] (24/38) Page 24\n",
      "[INFO] (25/38) Page 25\n",
      "[INFO] (26/38) Page 26\n",
      "[INFO] (27/38) Page 27\n",
      "[INFO] (28/38) Page 28\n",
      "[INFO] (29/38) Page 29\n",
      "[INFO] (30/38) Page 30\n",
      "[INFO] (31/38) Page 31\n",
      "[INFO] (32/38) Page 32\n",
      "[INFO] (33/38) Page 33\n",
      "[INFO] (34/38) Page 34\n",
      "[INFO] (35/38) Page 35\n",
      "[INFO] (36/38) Page 36\n",
      "[INFO] (37/38) Page 37\n",
      "[INFO] (38/38) Page 38\n",
      "[INFO] \u001b[1;36m[4/4] Creating pages...\u001b[0m\n",
      "[INFO] (1/38) Page 1\n",
      "[INFO] (2/38) Page 2\n",
      "[INFO] (3/38) Page 3\n",
      "[INFO] (4/38) Page 4\n",
      "[INFO] (5/38) Page 5\n",
      "[INFO] (6/38) Page 6\n",
      "[INFO] (7/38) Page 7\n",
      "[INFO] (8/38) Page 8\n",
      "[INFO] (9/38) Page 9\n",
      "[INFO] (10/38) Page 10\n",
      "[INFO] (11/38) Page 11\n",
      "[INFO] (12/38) Page 12\n",
      "[INFO] (13/38) Page 13\n",
      "[INFO] (14/38) Page 14\n",
      "[INFO] (15/38) Page 15\n",
      "[INFO] (16/38) Page 16\n",
      "[INFO] (17/38) Page 17\n",
      "[INFO] (18/38) Page 18\n",
      "[INFO] (19/38) Page 19\n",
      "[INFO] (20/38) Page 20\n",
      "[INFO] (21/38) Page 21\n",
      "[INFO] (22/38) Page 22\n",
      "[INFO] (23/38) Page 23\n",
      "[INFO] (24/38) Page 24\n",
      "[INFO] (25/38) Page 25\n",
      "[INFO] (26/38) Page 26\n",
      "[INFO] (27/38) Page 27\n",
      "[INFO] (28/38) Page 28\n",
      "[INFO] (29/38) Page 29\n",
      "[INFO] (30/38) Page 30\n",
      "[INFO] (31/38) Page 31\n",
      "[INFO] (32/38) Page 32\n",
      "[INFO] (33/38) Page 33\n",
      "[INFO] (34/38) Page 34\n",
      "[INFO] (35/38) Page 35\n",
      "[INFO] (36/38) Page 36\n",
      "[INFO] (37/38) Page 37\n",
      "[INFO] (38/38) Page 38\n",
      "[INFO] Terminated in 70.65s.\n"
     ]
    },
    {
     "name": "stdout",
     "output_type": "stream",
     "text": [
      "## Summary ########################################################\n",
      "File:P:\\Working Folders\\Hilton\\docs\\20221007 PIM_Amplats_Portfolio Management Agreement.pdf\n",
      "Pages:None\n",
      "Output File:P:\\Working Folders\\Hilton\\docs\\20221007 PIM_Amplats_Portfolio Management Agreement.docx\n",
      "###################################################################\n"
     ]
    }
   ],
   "source": [
    "# implement the convert_pdf2docx() function\n",
    "if __name__ == \"__main__\":\n",
    "    import sys\n",
    "    # !pip install os-sys\n",
    "    # !pip install syspath\n",
    "    # https://www.folkstalk.com/tech/pip-install-sys-with-code-examples/\n",
    "    #input_file = sys.argv[1]\n",
    "    #output_file = sys.argv[2]\n",
    "    input_file = r'P:\\Working Folders\\Hilton\\docs\\20221007 PIM_Amplats_Portfolio Management Agreement.pdf'\n",
    "    output_file = r'P:\\Working Folders\\Hilton\\docs\\20221007 PIM_Amplats_Portfolio Management Agreement.docx'    \n",
    "    \n",
    "    convert_pdf2docx(input_file, output_file)"
   ]
  },
  {
   "cell_type": "code",
   "execution_count": 10,
   "id": "001f9f11",
   "metadata": {},
   "outputs": [
    {
     "ename": "SyntaxError",
     "evalue": "invalid syntax (806329105.py, line 1)",
     "output_type": "error",
     "traceback": [
      "\u001b[1;36m  Input \u001b[1;32mIn [10]\u001b[1;36m\u001b[0m\n\u001b[1;33m    convert_pdf2docx.py letter.pdf letter.docx\u001b[0m\n\u001b[1;37m                        ^\u001b[0m\n\u001b[1;31mSyntaxError\u001b[0m\u001b[1;31m:\u001b[0m invalid syntax\n"
     ]
    }
   ],
   "source": [
    "convert_pdf2docx.py letter.pdf letter.docx"
   ]
  },
  {
   "cell_type": "code",
   "execution_count": null,
   "id": "7080de63",
   "metadata": {},
   "outputs": [],
   "source": []
  }
 ],
 "metadata": {
  "kernelspec": {
   "display_name": "Python 3 (ipykernel)",
   "language": "python",
   "name": "python3"
  },
  "language_info": {
   "codemirror_mode": {
    "name": "ipython",
    "version": 3
   },
   "file_extension": ".py",
   "mimetype": "text/x-python",
   "name": "python",
   "nbconvert_exporter": "python",
   "pygments_lexer": "ipython3",
   "version": "3.9.12"
  }
 },
 "nbformat": 4,
 "nbformat_minor": 5
}
