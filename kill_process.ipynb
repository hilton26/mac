{
 "cells": [
  {
   "cell_type": "markdown",
   "id": "4ced3d7d",
   "metadata": {},
   "source": [
    "Kill a Process by name using Python<br>\n",
    "https://www.geeksforgeeks.org/kill-a-process-by-name-using-python/"
   ]
  },
  {
   "cell_type": "code",
   "execution_count": null,
   "id": "98c32097",
   "metadata": {},
   "outputs": [],
   "source": [
    "import os, signal\n",
    "  \n",
    "def process():\n",
    "     \n",
    "    # Ask user for the name of process\n",
    "    name = input(\"Enter process Name: \")\n",
    "    try:\n",
    "         \n",
    "        # iterating through each instance of the process\n",
    "        for line in os.popen(\"ps ax | grep \" + name + \" | grep -v grep\"):\n",
    "            fields = line.split()\n",
    "             \n",
    "            # extracting Process ID from the output\n",
    "            pid = fields[0]\n",
    "             \n",
    "            # terminating process\n",
    "            os.kill(int(pid), signal.SIGKILL)\n",
    "        print(\"Process Successfully terminated\")\n",
    "         \n",
    "    except:\n",
    "        print(\"Error Encountered while running script\")\n",
    "  \n",
    "process()"
   ]
  }
 ],
 "metadata": {
  "kernelspec": {
   "display_name": "Python 3",
   "language": "python",
   "name": "python3"
  },
  "language_info": {
   "codemirror_mode": {
    "name": "ipython",
    "version": 3
   },
   "file_extension": ".py",
   "mimetype": "text/x-python",
   "name": "python",
   "nbconvert_exporter": "python",
   "pygments_lexer": "ipython3",
   "version": "3.8.8"
  }
 },
 "nbformat": 4,
 "nbformat_minor": 5
}
