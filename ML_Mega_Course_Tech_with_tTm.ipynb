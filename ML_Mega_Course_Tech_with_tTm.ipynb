{
 "cells": [
  {
   "cell_type": "markdown",
   "id": "ef4f7243",
   "metadata": {},
   "source": [
    "### Python Machine Learning & AI Mega Course - Learn 4 Different Areas of ML & AI - Tech with Tim\n",
    "https://www.youtube.com/watch?v=WFr2WgN9_xE"
   ]
  },
  {
   "cell_type": "code",
   "execution_count": null,
   "id": "e4602670",
   "metadata": {},
   "outputs": [],
   "source": []
  }
 ],
 "metadata": {
  "kernelspec": {
   "display_name": "Python 3 (ipykernel)",
   "language": "python",
   "name": "python3"
  },
  "language_info": {
   "codemirror_mode": {
    "name": "ipython",
    "version": 3
   },
   "file_extension": ".py",
   "mimetype": "text/x-python",
   "name": "python",
   "nbconvert_exporter": "python",
   "pygments_lexer": "ipython3",
   "version": "3.9.12"
  }
 },
 "nbformat": 4,
 "nbformat_minor": 5
}
