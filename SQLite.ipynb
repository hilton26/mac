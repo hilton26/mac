{
 "cells": [
  {
   "cell_type": "markdown",
   "id": "6a1230f3",
   "metadata": {},
   "source": [
    "### SQLite Backend for Beginners - Create Quick Databases with Python and SQL\n",
    "https://www.youtube.com/watch?v=Ohj-CqALrwk"
   ]
  },
  {
   "cell_type": "code",
   "execution_count": 3,
   "id": "6d1d1a1f",
   "metadata": {},
   "outputs": [],
   "source": [
    "import sqlite3"
   ]
  },
  {
   "cell_type": "code",
   "execution_count": 4,
   "id": "2468d2f6",
   "metadata": {},
   "outputs": [
    {
     "data": {
      "text/plain": [
       "<sqlite3.Cursor at 0x19bf7f39f80>"
      ]
     },
     "execution_count": 4,
     "metadata": {},
     "output_type": "execute_result"
    }
   ],
   "source": [
    "# create an empty database with SQLIte3\n",
    "connection = sqlite3.connect(\"gta.db\")\n",
    "\n",
    "# to use SWL commands we need a cursor object\n",
    "cursor = connection.cursor()\n",
    "\n",
    "# the container within which to pass SQL commands is \"cursor.execute()\"\n",
    "# create a tbale called \"gta\" with the headings \"release_year\", \"release_name\", and \"city\"\n",
    "cursor.execute(\"create table gta (release_year integer, release_name text, city text)\")"
   ]
  },
  {
   "cell_type": "code",
   "execution_count": 5,
   "id": "07151a93",
   "metadata": {},
   "outputs": [
    {
     "data": {
      "text/plain": [
       "[(1997, 'Grand Theft Auto', 'state of New Guernsey'),\n",
       " (1999, 'Grand Theft Auto 2', 'Anywhere, USA'),\n",
       " (2001, 'Grand Theft Auto III', 'Liberty City'),\n",
       " (2002, 'Grand Theft Auto: Vice City', 'Vice City'),\n",
       " (2004, 'Grand Theft Auto: San Andreas', 'state of San Andreas'),\n",
       " (2008, 'Grand Theft Auto IV', 'Liberty City'),\n",
       " (2013, 'Grand Theft Auto V', 'Los Santos')]"
      ]
     },
     "execution_count": 5,
     "metadata": {},
     "output_type": "execute_result"
    }
   ],
   "source": [
    "# create the data for the database\n",
    "release_list = [\n",
    "    (1997, \"Grand Theft Auto\", \"state of New Guernsey\"),\n",
    "    (1999, \"Grand Theft Auto 2\", \"Anywhere, USA\"),\n",
    "    (2001, \"Grand Theft Auto III\", \"Liberty City\"),\n",
    "    (2002, \"Grand Theft Auto: Vice City\", \"Vice City\"),\n",
    "    (2004, \"Grand Theft Auto: San Andreas\", \"state of San Andreas\"),\n",
    "    (2008, \"Grand Theft Auto IV\", \"Liberty City\"),\n",
    "    (2013, \"Grand Theft Auto V\", \"Los Santos\")\n",
    "]\n",
    "release_list"
   ]
  },
  {
   "cell_type": "code",
   "execution_count": 6,
   "id": "66a1092f",
   "metadata": {},
   "outputs": [
    {
     "data": {
      "text/plain": [
       "<sqlite3.Cursor at 0x19bf7f39f80>"
      ]
     },
     "execution_count": 6,
     "metadata": {},
     "output_type": "execute_result"
    }
   ],
   "source": [
    "cursor.executemany(\"insert into gta values (?,?,?)\", release_list)"
   ]
  },
  {
   "cell_type": "code",
   "execution_count": 8,
   "id": "fda1ad90",
   "metadata": {},
   "outputs": [
    {
     "name": "stdout",
     "output_type": "stream",
     "text": [
      "(1997, 'Grand Theft Auto', 'state of New Guernsey')\n",
      "(1999, 'Grand Theft Auto 2', 'Anywhere, USA')\n",
      "(2001, 'Grand Theft Auto III', 'Liberty City')\n",
      "(2002, 'Grand Theft Auto: Vice City', 'Vice City')\n",
      "(2004, 'Grand Theft Auto: San Andreas', 'state of San Andreas')\n",
      "(2008, 'Grand Theft Auto IV', 'Liberty City')\n",
      "(2013, 'Grand Theft Auto V', 'Los Santos')\n"
     ]
    }
   ],
   "source": [
    "# check the contents of the database by printing the database rows\n",
    "for row in cursor.execute(\"select * from gta\"):\n",
    "    print(row)"
   ]
  },
  {
   "cell_type": "code",
   "execution_count": 9,
   "id": "1a6b3897",
   "metadata": {},
   "outputs": [
    {
     "name": "stdout",
     "output_type": "stream",
     "text": [
      "[(2001, 'Grand Theft Auto III', 'Liberty City'), (2008, 'Grand Theft Auto IV', 'Liberty City')]\n"
     ]
    }
   ],
   "source": [
    "# print specific rows from the database\n",
    "cursor.execute(\"select * from gta where city=:c\", {\"c\": \"Liberty City\"})\n",
    "gta_search = cursor.fetchall()\n",
    "print(gta_search)"
   ]
  },
  {
   "cell_type": "code",
   "execution_count": 18,
   "id": "d1dac7f2",
   "metadata": {},
   "outputs": [
    {
     "data": {
      "text/plain": [
       "<sqlite3.Cursor at 0x19bf7f39f80>"
      ]
     },
     "execution_count": 18,
     "metadata": {},
     "output_type": "execute_result"
    }
   ],
   "source": [
    "#create a new table \n",
    "cursor.execute(\"create table city (gta_city text, real_city text)\")\n",
    "cursor.executemany(\"insert into city values (?,?)\", [(\"Liberty City\", \"New York City\"), (\"Vice City\", \"Miami\"), (\"Los Santos\",\"Los Angeles\"), (\"state of New Guernsey\",\"New Jersey\"),(\"Anywhere, USA\",\"Cleveland\")])"
   ]
  },
  {
   "cell_type": "code",
   "execution_count": 19,
   "id": "0b827caf",
   "metadata": {},
   "outputs": [
    {
     "name": "stdout",
     "output_type": "stream",
     "text": [
      "('Liberty City', 'New York City')\n",
      "('Vice City', 'Miami')\n",
      "('Los Santos', 'Los Angeles')\n",
      "('state of New Guernsey', 'New Jersey')\n",
      "('Anywhere, USA', 'Cleveland')\n"
     ]
    }
   ],
   "source": [
    "# check the contents of the database by printing the database rows\n",
    "for row in cursor.execute(\"select * from city\"):\n",
    "    print(row)"
   ]
  },
  {
   "cell_type": "code",
   "execution_count": 22,
   "id": "cabf10f2",
   "metadata": {},
   "outputs": [
    {
     "name": "stdout",
     "output_type": "stream",
     "text": [
      "[('Liberty City', 'New York City')]\n"
     ]
    }
   ],
   "source": [
    "# print specific rows from the \"city\" database\n",
    "cursor.execute(\"select * from city where gta_city=:c\", {\"c\": \"Liberty City\"})\n",
    "city_search = cursor.fetchall()\n",
    "print(city_search)"
   ]
  },
  {
   "cell_type": "code",
   "execution_count": 24,
   "id": "517d8fd7",
   "metadata": {},
   "outputs": [
    {
     "name": "stdout",
     "output_type": "stream",
     "text": [
      "[2001, 'Grand Theft Auto III', 'New York City']\n",
      "[2008, 'Grand Theft Auto IV', 'New York City']\n"
     ]
    }
   ],
   "source": [
    "for i in gta_search:\n",
    "    adjusted = [city_search[0][1] if value == city_search[0][0] else value for value in i]\n",
    "    print(adjusted)"
   ]
  },
  {
   "cell_type": "code",
   "execution_count": 27,
   "id": "d9eb92ae",
   "metadata": {},
   "outputs": [],
   "source": [
    "connection.close()"
   ]
  },
  {
   "cell_type": "code",
   "execution_count": null,
   "id": "32a37c22",
   "metadata": {},
   "outputs": [],
   "source": []
  }
 ],
 "metadata": {
  "kernelspec": {
   "display_name": "Python 3",
   "language": "python",
   "name": "python3"
  },
  "language_info": {
   "codemirror_mode": {
    "name": "ipython",
    "version": 3
   },
   "file_extension": ".py",
   "mimetype": "text/x-python",
   "name": "python",
   "nbconvert_exporter": "python",
   "pygments_lexer": "ipython3",
   "version": "3.8.8"
  }
 },
 "nbformat": 4,
 "nbformat_minor": 5
}
