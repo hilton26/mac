{
 "cells": [
  {
   "cell_type": "markdown",
   "id": "ce65c480",
   "metadata": {},
   "source": [
    "### 13 Advanced Python Scripts For Everyday Programming\n",
    "https://pythonians.medium.com/13-advanced-python-scripts-for-everyday-programming-8de4c6dba476"
   ]
  },
  {
   "cell_type": "markdown",
   "id": "e3f2516a",
   "metadata": {},
   "source": [
    "#### 2. Search on Google\n",
    "You can extract the Redirect URLs from Google Search Engine. Install the following mention module and follow the Code."
   ]
  },
  {
   "cell_type": "code",
   "execution_count": 4,
   "id": "f5295890",
   "metadata": {},
   "outputs": [
    {
     "name": "stdout",
     "output_type": "stream",
     "text": [
      "https://medium.com/\n",
      "https://en.wikipedia.org/wiki/Medium_(website)\n",
      "https://twitter.com/Medium?ref_src=twsrc%5Egoogle%7Ctwcamp%5Eserp%7Ctwgr%5Eauthor\n",
      "https://twitter.com/Medium/status/1583178476936658950?ref_src=twsrc%5Egoogle%7Ctwcamp%5Eserp%7Ctwgr%5Etweet\n",
      "https://twitter.com/Medium/status/1582834632835629056?ref_src=twsrc%5Egoogle%7Ctwcamp%5Eserp%7Ctwgr%5Etweet\n",
      "https://twitter.com/Medium/status/1582745483248029696?ref_src=twsrc%5Egoogle%7Ctwcamp%5Eserp%7Ctwgr%5Etweet\n",
      "https://twitter.com/Medium/status/1582422506849243136?ref_src=twsrc%5Egoogle%7Ctwcamp%5Eserp%7Ctwgr%5Etweet\n",
      "https://blog.hubspot.com/marketing/how-to-use-medium\n",
      "https://www.crunchbase.com/organization/medium\n",
      "https://www.similarweb.com/website/medium.com/\n",
      "https://www.thetylerhenrymedium.com/\n",
      "https://www.youtube.com/watch?v=XWwUT465s2w\n",
      "https://twitter.com/medium\n",
      "https://www.growthmachine.com/blog/should-you-publish-on-medium\n",
      "https://www.linkedin.com/company/medium-com\n",
      "https://www.trustradius.com/products/medium/reviews\n",
      "https://findingtom.com/what-is-medium-com\n",
      "https://medium.design/\n",
      "https://apps.apple.com/us/app/medium/id828256236\n",
      "https://www.facebook.com/medium/\n",
      "https://buffer.com/library/how-to-use-medium/\n",
      "https://www.instagram.com/medium/\n",
      "https://www.medicalmedium.com/preferred/supplements\n",
      "https://www.medicalmedium.com/\n",
      "https://medium.statuspage.io/\n",
      "https://www.theatlantic.com/technology/archive/2013/08/what-is-medium/278965/\n",
      "https://www.madx.digital/learn/the-most-popular-topics-on-medium\n",
      "https://beebom.com/medium-alternatives/\n",
      "https://writingcooperative.com/my-first-60-days-on-medium-here-is-the-good-the-bad-and-the-ugly-d347288c1bd3\n",
      "https://www.sendible.com/insights/blog-publishing-on-medium\n",
      "https://github.com/gothinkster/realworld\n",
      "https://seattlemedium.com/beautiful-house-plants-the-easy-way/\n",
      "https://seattlemedium.com/nay-on-ye-kanye-blames-george-floyd-for-his-own-death/\n",
      "https://teehanlax.com/story/medium/\n",
      "https://towardsdatascience.com/https-medium-com-vishalmorde-xgboost-algorithm-long-she-may-rein-edd9f99be63d\n",
      "https://netflixtechblog.com/netflix-recommendations-beyond-the-5-stars-part-2-d9b96aa399f5\n",
      "https://www.theverge.com/2021/3/24/22349175/medium-layoffs-union-evan-williams-blogger-twitter-subscription\n",
      "https://neilpatel.com/blog/marketers-guide-to-medium/\n",
      "https://uxdesign.cc/\n",
      "https://betterprogramming.pub/how-to-deploy-your-react-app-to-heroku-aedc28b218ae\n",
      "https://medium.datadriveninvestor.com/what-is-quora-and-how-you-can-earn-money-by-using-quora-34bda48a4945\n",
      "https://www.merriam-webster.com/dictionary/medium\n",
      "https://zapier.com/apps/medium/integrations\n",
      "https://blog.devgenius.io/7-useful-html-elements-that-nobody-is-talking-about-4b76ee877688\n",
      "https://levelup.gitconnected.com/understanding-hashing-and-equality-in-python-with-hash-and-eq-12f6da79e8ad\n",
      "https://javascript.plainenglish.io/\n",
      "https://www.edureka.co/blog/what-is-rest-api/\n",
      "https://betterhumans.pub/cognitive-bias-cheat-sheet-55a472476b18\n",
      "https://www.inc.com/amy-morin/6-ways-to-stop-overthinking-everything.html\n",
      "https://dmv.ny.gov/\n",
      "https://www.nhs.uk/medicines/metformin/\n",
      "https://www.rd.com/list/medium-dog-breeds/\n",
      "https://www.webmd.com/\n",
      "https://sebastiandedeyne.com/\n",
      "https://www.droptica.com/\n",
      "https://www.way.com/\n",
      "https://laraveldaily.com/\n"
     ]
    }
   ],
   "source": [
    "# pip install google\n",
    "from googlesearch import search\n",
    "query = \"Medium.com\"\n",
    " \n",
    "for url in search(query):\n",
    "    print(url)"
   ]
  },
  {
   "cell_type": "markdown",
   "id": "74569cbc",
   "metadata": {},
   "source": [
    "#### 3. Make Web Bot\n",
    "This script will help you to automate Websites with Python. You can build a web bot that can control any website. Check out the below code. This script is handy in web scraping and web automation."
   ]
  },
  {
   "cell_type": "code",
   "execution_count": 7,
   "id": "497b8934",
   "metadata": {},
   "outputs": [
    {
     "ename": "SyntaxError",
     "evalue": "invalid syntax (1547026658.py, line 4)",
     "output_type": "error",
     "traceback": [
      "\u001b[1;36m  Input \u001b[1;32mIn [7]\u001b[1;36m\u001b[0m\n\u001b[1;33m    from selenium.webdriver.common.keys\u001b[0m\n\u001b[1;37m                                       ^\u001b[0m\n\u001b[1;31mSyntaxError\u001b[0m\u001b[1;31m:\u001b[0m invalid syntax\n"
     ]
    }
   ],
   "source": [
    "# pip install selenium\n",
    "import time\n",
    "from selenium import webdriver\n",
    "from selenium.webdriver.common.keys\n",
    "import Keysbot = webdriver.Chrome(\"chromedriver.exe\")\n",
    "bot.get('http://www.google.com')\n",
    "search = bot.find_element_by_name('q')\n",
    "search.send_keys(\"@codedev101\")\n",
    "search.send_keys(Keys.RETURN)\n",
    "time.sleep(5)\n",
    "bot.quit()"
   ]
  },
  {
   "cell_type": "code",
   "execution_count": 2,
   "id": "779e1a74",
   "metadata": {},
   "outputs": [
    {
     "name": "stdout",
     "output_type": "stream",
     "text": [
      "It's pd.isna  : True\n"
     ]
    }
   ],
   "source": [
    "import pandas as pd\n",
    "x = float(\"nan\")\n",
    "print(f\"It's pd.isna  : {pd.isna(x)}\")"
   ]
  },
  {
   "cell_type": "code",
   "execution_count": null,
   "id": "3a9a6837",
   "metadata": {},
   "outputs": [],
   "source": []
  }
 ],
 "metadata": {
  "kernelspec": {
   "display_name": "Python 3 (ipykernel)",
   "language": "python",
   "name": "python3"
  },
  "language_info": {
   "codemirror_mode": {
    "name": "ipython",
    "version": 3
   },
   "file_extension": ".py",
   "mimetype": "text/x-python",
   "name": "python",
   "nbconvert_exporter": "python",
   "pygments_lexer": "ipython3",
   "version": "3.9.12"
  }
 },
 "nbformat": 4,
 "nbformat_minor": 5
}
