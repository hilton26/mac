{
 "cells": [
  {
   "cell_type": "markdown",
   "id": "47c4cf5d",
   "metadata": {},
   "source": [
    "Automate WhatsApp Meesages with Python in 3 Steps<br>\n",
    "https://www.youtube.com/watch?v=MQQTABNMZCE"
   ]
  },
  {
   "cell_type": "code",
   "execution_count": 4,
   "id": "03261d15",
   "metadata": {},
   "outputs": [
    {
     "name": "stdout",
     "output_type": "stream",
     "text": [
      "In 103 Seconds WhatsApp will open and after 12 Seconds Message will be Delivered!\n"
     ]
    }
   ],
   "source": [
    "import pywhatkit\n",
    "pywhatkit.sendwhatmsg('+27733259935', 'Second test message from Python', 20,30, 12, True, 5)"
   ]
  }
 ],
 "metadata": {
  "kernelspec": {
   "display_name": "Python 3 (ipykernel)",
   "language": "python",
   "name": "python3"
  },
  "language_info": {
   "codemirror_mode": {
    "name": "ipython",
    "version": 3
   },
   "file_extension": ".py",
   "mimetype": "text/x-python",
   "name": "python",
   "nbconvert_exporter": "python",
   "pygments_lexer": "ipython3",
   "version": "3.9.7"
  }
 },
 "nbformat": 4,
 "nbformat_minor": 5
}
