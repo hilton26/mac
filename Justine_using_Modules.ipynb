{
 "cells": [
  {
   "cell_type": "markdown",
   "id": "07de1be3",
   "metadata": {},
   "source": [
    "##### How can I edit PYTHONPATH on a Mac?\n",
    "https://stackoverflow.com/questions/15742779/how-can-i-edit-pythonpath-on-a-mac\n",
    "\n",
    "##### Add to the PATH on Mac OS X 10.8 Mountain Lion and up\n",
    "https://www.architectryan.com/2012/10/02/add-to-the-path-on-mac-os-x-mountain-lion/"
   ]
  },
  {
   "cell_type": "code",
   "execution_count": 5,
   "id": "546e67ba",
   "metadata": {},
   "outputs": [],
   "source": [
    "import Justine_Selenium"
   ]
  },
  {
   "cell_type": "code",
   "execution_count": 6,
   "id": "2092b929",
   "metadata": {},
   "outputs": [],
   "source": [
    "# import Justine_regex\n",
    "# Justine_Regex.Order.get_consultant_code(0)\n",
    "# Justine_Regex.Order.get_order_list(0)"
   ]
  },
  {
   "cell_type": "code",
   "execution_count": 7,
   "id": "0eebd1d7",
   "metadata": {},
   "outputs": [],
   "source": [
    "Justine_Selenium.open_page()"
   ]
  },
  {
   "cell_type": "code",
   "execution_count": null,
   "id": "b5554b40",
   "metadata": {},
   "outputs": [],
   "source": []
  }
 ],
 "metadata": {
  "kernelspec": {
   "display_name": "Python 3 (ipykernel)",
   "language": "python",
   "name": "python3"
  },
  "language_info": {
   "codemirror_mode": {
    "name": "ipython",
    "version": 3
   },
   "file_extension": ".py",
   "mimetype": "text/x-python",
   "name": "python",
   "nbconvert_exporter": "python",
   "pygments_lexer": "ipython3",
   "version": "3.9.7"
  }
 },
 "nbformat": 4,
 "nbformat_minor": 5
}
