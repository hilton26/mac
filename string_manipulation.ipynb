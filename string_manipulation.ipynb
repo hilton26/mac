{
 "cells": [
  {
   "cell_type": "markdown",
   "id": "709fca93",
   "metadata": {},
   "source": [
    "Python String Manipulation Handbook<br>\n",
    "https://www.freecodecamp.org/news/python-string-manipulation-handbook/#pythonstringbasics"
   ]
  },
  {
   "cell_type": "markdown",
   "id": "07ac4aab",
   "metadata": {},
   "source": []
  },
  {
   "cell_type": "code",
   "execution_count": 7,
   "id": "5b0361f6",
   "metadata": {},
   "outputs": [
    {
     "name": "stdout",
     "output_type": "stream",
     "text": [
      "[\"let's\", 'go', 'to', 'the', 'beach']\n"
     ]
    }
   ],
   "source": [
    "my_phrase = \"let's go to the beach\"\n",
    "my_words = my_phrase.split(\" \")\n",
    "wordz = []\n",
    "\n",
    "for word in my_words:\n",
    "    wordz.append(word)\n",
    "    #print(word)\n",
    "    \n",
    "print(wordz)"
   ]
  },
  {
   "cell_type": "code",
   "execution_count": 8,
   "id": "09909d49",
   "metadata": {},
   "outputs": [],
   "source": [
    "import re # import regex"
   ]
  },
  {
   "cell_type": "code",
   "execution_count": null,
   "id": "4607f85c",
   "metadata": {},
   "outputs": [],
   "source": []
  }
 ],
 "metadata": {
  "kernelspec": {
   "display_name": "Python 3 (ipykernel)",
   "language": "python",
   "name": "python3"
  },
  "language_info": {
   "codemirror_mode": {
    "name": "ipython",
    "version": 3
   },
   "file_extension": ".py",
   "mimetype": "text/x-python",
   "name": "python",
   "nbconvert_exporter": "python",
   "pygments_lexer": "ipython3",
   "version": "3.9.12"
  }
 },
 "nbformat": 4,
 "nbformat_minor": 5
}
