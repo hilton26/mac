{
 "cells": [
  {
   "cell_type": "markdown",
   "id": "3a2c78ca",
   "metadata": {},
   "source": [
    "## Calendars and National Holidays\n",
    "\n",
    "https://practicaldatascience.co.uk/data-science/how-to-get-a-list-of-national-holiday-dates-in-python"
   ]
  },
  {
   "cell_type": "code",
   "execution_count": 6,
   "id": "863c4774",
   "metadata": {},
   "outputs": [
    {
     "name": "stdout",
     "output_type": "stream",
     "text": [
      "Requirement already satisfied: holidays in c:\\users\\hilton.netta\\anaconda3\\lib\\site-packages (0.32)\n",
      "Requirement already satisfied: python-dateutil in c:\\users\\hilton.netta\\anaconda3\\lib\\site-packages (from holidays) (2.8.2)\n",
      "Requirement already satisfied: six>=1.5 in c:\\users\\hilton.netta\\anaconda3\\lib\\site-packages (from python-dateutil->holidays) (1.16.0)\n"
     ]
    }
   ],
   "source": [
    "#https://practicaldatascience.co.uk/data-science/how-to-get-a-list-of-national-holiday-dates-in-python\n",
    "!pip3 install holidays"
   ]
  },
  {
   "cell_type": "code",
   "execution_count": 7,
   "id": "03eeda77",
   "metadata": {},
   "outputs": [],
   "source": [
    "import pandas as pd\n",
    "import holidays"
   ]
  },
  {
   "cell_type": "code",
   "execution_count": 8,
   "id": "9ff2859c",
   "metadata": {},
   "outputs": [],
   "source": [
    "# https://practicaldatascience.co.uk/data-science/how-to-get-a-list-of-national-holiday-dates-in-python\n",
    "# Create a function to get national holiday dates\n",
    "def get_national_holidays(start_date, end_date, country):\n",
    "    \"\"\"Return a list of the dates of national holidays between two dates \n",
    "    for a given country.\n",
    "    \n",
    "    Args:\n",
    "        start_date (str): Start date of the period\n",
    "        end_date (str): End date of the period\n",
    "        country (str): Country to get the national holidays for\n",
    "    \n",
    "    Returns:\n",
    "        list: List of national holiday dates\n",
    "    \"\"\"\n",
    "\n",
    "    # Get the bank holidays for the given country\n",
    "    holiday_days = holidays.CountryHoliday(country)\n",
    "\n",
    "    # Create a list of dates between the start and end date\n",
    "    date_range = pd.date_range(start_date, end_date)\n",
    "\n",
    "    # Filter the dates to only include Bank Holidays\n",
    "    national_holidays = [date for date in date_range if date in holiday_days]\n",
    "\n",
    "    return national_holidays"
   ]
  },
  {
   "cell_type": "code",
   "execution_count": 13,
   "id": "6f1187c0",
   "metadata": {},
   "outputs": [
    {
     "data": {
      "text/plain": [
       "[Timestamp('2023-01-01 00:00:00', freq='D'),\n",
       " Timestamp('2023-01-02 00:00:00', freq='D'),\n",
       " Timestamp('2023-03-21 00:00:00', freq='D'),\n",
       " Timestamp('2023-04-07 00:00:00', freq='D'),\n",
       " Timestamp('2023-04-10 00:00:00', freq='D'),\n",
       " Timestamp('2023-04-27 00:00:00', freq='D'),\n",
       " Timestamp('2023-05-01 00:00:00', freq='D'),\n",
       " Timestamp('2023-06-16 00:00:00', freq='D'),\n",
       " Timestamp('2023-08-09 00:00:00', freq='D'),\n",
       " Timestamp('2023-09-24 00:00:00', freq='D'),\n",
       " Timestamp('2023-09-25 00:00:00', freq='D'),\n",
       " Timestamp('2023-12-16 00:00:00', freq='D'),\n",
       " Timestamp('2023-12-25 00:00:00', freq='D'),\n",
       " Timestamp('2023-12-26 00:00:00', freq='D')]"
      ]
     },
     "execution_count": 13,
     "metadata": {},
     "output_type": "execute_result"
    }
   ],
   "source": [
    "national_holidays_ZA = get_national_holidays('2023-01-01', '2023-12-31', 'ZA')\n",
    "national_holidays_ZA"
   ]
  },
  {
   "cell_type": "code",
   "execution_count": 9,
   "id": "80a5008b",
   "metadata": {},
   "outputs": [
    {
     "data": {
      "text/plain": [
       "[Timestamp('2023-01-01 00:00:00', freq='D'),\n",
       " Timestamp('2023-01-02 00:00:00', freq='D'),\n",
       " Timestamp('2023-04-07 00:00:00', freq='D'),\n",
       " Timestamp('2023-05-01 00:00:00', freq='D'),\n",
       " Timestamp('2023-05-08 00:00:00', freq='D'),\n",
       " Timestamp('2023-05-29 00:00:00', freq='D'),\n",
       " Timestamp('2023-12-25 00:00:00', freq='D'),\n",
       " Timestamp('2023-12-26 00:00:00', freq='D')]"
      ]
     },
     "execution_count": 9,
     "metadata": {},
     "output_type": "execute_result"
    }
   ],
   "source": [
    "national_holidays_GB = get_national_holidays('2023-01-01', '2023-12-31', 'GB')\n",
    "national_holidays_GB"
   ]
  },
  {
   "cell_type": "code",
   "execution_count": 11,
   "id": "662f0866",
   "metadata": {},
   "outputs": [
    {
     "data": {
      "text/plain": [
       "[Timestamp('2023-01-01 00:00:00', freq='D'),\n",
       " Timestamp('2023-01-02 00:00:00', freq='D'),\n",
       " Timestamp('2023-01-16 00:00:00', freq='D'),\n",
       " Timestamp('2023-02-20 00:00:00', freq='D'),\n",
       " Timestamp('2023-05-29 00:00:00', freq='D'),\n",
       " Timestamp('2023-06-19 00:00:00', freq='D'),\n",
       " Timestamp('2023-07-04 00:00:00', freq='D'),\n",
       " Timestamp('2023-09-04 00:00:00', freq='D'),\n",
       " Timestamp('2023-10-09 00:00:00', freq='D'),\n",
       " Timestamp('2023-11-10 00:00:00', freq='D'),\n",
       " Timestamp('2023-11-11 00:00:00', freq='D'),\n",
       " Timestamp('2023-11-23 00:00:00', freq='D'),\n",
       " Timestamp('2023-12-25 00:00:00', freq='D')]"
      ]
     },
     "execution_count": 11,
     "metadata": {},
     "output_type": "execute_result"
    }
   ],
   "source": [
    "national_holidays_US = get_national_holidays('2023-01-01', '2023-12-31', 'US')\n",
    "national_holidays_US"
   ]
  },
  {
   "cell_type": "code",
   "execution_count": null,
   "id": "433910dd",
   "metadata": {},
   "outputs": [],
   "source": []
  },
  {
   "cell_type": "code",
   "execution_count": 5,
   "id": "b2fc4d52",
   "metadata": {},
   "outputs": [
    {
     "name": "stdout",
     "output_type": "stream",
     "text": [
      "Number of business days in April 2022: 21\n"
     ]
    }
   ],
   "source": [
    "# https://pynative.com/python-get-business-days/#:~:text=Use%20the%20calendar%20module%20to,to%205%2C%20i.e.%2C%20weekdays.\n",
    "import numpy as np\n",
    "\n",
    "# Number of weekdays in April 2022\n",
    "res = np.busday_count('2022-04', '2022-05')\n",
    "print(\"Number of business days in April 2022:\", res)"
   ]
  },
  {
   "cell_type": "code",
   "execution_count": 4,
   "id": "b8982cd5",
   "metadata": {},
   "outputs": [
    {
     "name": "stdout",
     "output_type": "stream",
     "text": [
      "Number of business days is: 20\n"
     ]
    }
   ],
   "source": [
    "#https://pynative.com/python-get-business-days/#:~:text=Use%20the%20calendar%20module%20to,to%205%2C%20i.e.%2C%20weekdays.\n",
    "import datetime\n",
    "import numpy as np\n",
    "\n",
    "start = datetime.date(2022, 2, 15)\n",
    "end = datetime.date(2022, 3, 16)\n",
    "\n",
    "# include holidays in a list\n",
    "days = np.busday_count(start, end, holidays=['2022-02-21'])\n",
    "print('Number of business days is:', days)"
   ]
  }
 ],
 "metadata": {
  "kernelspec": {
   "display_name": "Python 3 (ipykernel)",
   "language": "python",
   "name": "python3"
  },
  "language_info": {
   "codemirror_mode": {
    "name": "ipython",
    "version": 3
   },
   "file_extension": ".py",
   "mimetype": "text/x-python",
   "name": "python",
   "nbconvert_exporter": "python",
   "pygments_lexer": "ipython3",
   "version": "3.9.12"
  }
 },
 "nbformat": 4,
 "nbformat_minor": 5
}
