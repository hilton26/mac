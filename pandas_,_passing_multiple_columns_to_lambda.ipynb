{
 "cells": [
  {
   "cell_type": "markdown",
   "id": "81e7f787",
   "metadata": {},
   "source": [
    "### Pandas Tricks — Pass Multiple Columns To Lambda\n",
    "https://codeforests.medium.com/ppicpandas-tricks-pass-multiple-columns-to-lambda-e0c16312fb50"
   ]
  },
  {
   "cell_type": "code",
   "execution_count": 2,
   "id": "b6e10943",
   "metadata": {},
   "outputs": [
    {
     "data": {
      "text/html": [
       "<div>\n",
       "<style scoped>\n",
       "    .dataframe tbody tr th:only-of-type {\n",
       "        vertical-align: middle;\n",
       "    }\n",
       "\n",
       "    .dataframe tbody tr th {\n",
       "        vertical-align: top;\n",
       "    }\n",
       "\n",
       "    .dataframe thead th {\n",
       "        text-align: right;\n",
       "    }\n",
       "</style>\n",
       "<table border=\"1\" class=\"dataframe\">\n",
       "  <thead>\n",
       "    <tr style=\"text-align: right;\">\n",
       "      <th></th>\n",
       "      <th>Order#</th>\n",
       "      <th>Weight</th>\n",
       "      <th>Package Size</th>\n",
       "      <th>Delivery Mode</th>\n",
       "    </tr>\n",
       "  </thead>\n",
       "  <tbody>\n",
       "    <tr>\n",
       "      <th>0</th>\n",
       "      <td>1</td>\n",
       "      <td>5.0</td>\n",
       "      <td>80</td>\n",
       "      <td>Same Day</td>\n",
       "    </tr>\n",
       "    <tr>\n",
       "      <th>1</th>\n",
       "      <td>2</td>\n",
       "      <td>2.1</td>\n",
       "      <td>45</td>\n",
       "      <td>Next Day</td>\n",
       "    </tr>\n",
       "    <tr>\n",
       "      <th>2</th>\n",
       "      <td>3</td>\n",
       "      <td>8.1</td>\n",
       "      <td>110</td>\n",
       "      <td>Express</td>\n",
       "    </tr>\n",
       "    <tr>\n",
       "      <th>3</th>\n",
       "      <td>4</td>\n",
       "      <td>7.5</td>\n",
       "      <td>90</td>\n",
       "      <td>Next Day</td>\n",
       "    </tr>\n",
       "  </tbody>\n",
       "</table>\n",
       "</div>"
      ],
      "text/plain": [
       "  Order#  Weight  Package Size Delivery Mode\n",
       "0      1     5.0            80      Same Day\n",
       "1      2     2.1            45      Next Day\n",
       "2      3     8.1           110       Express\n",
       "3      4     7.5            90      Next Day"
      ]
     },
     "execution_count": 2,
     "metadata": {},
     "output_type": "execute_result"
    }
   ],
   "source": [
    "import pandas as pd\n",
    "df = pd.DataFrame({ \"Order#\" : [\"1\", \"2\", \"3\", \"4\"], \"Weight\" : [5.0, 2.1, 8.1, 7.5], \"Package Size\" : [80, 45, 110, 90], \"Delivery Mode\": [\"Same Day\", \"Next Day\", \"Express\", \"Next Day\"]})\n",
    "df"
   ]
  },
  {
   "cell_type": "markdown",
   "id": "600f5fda",
   "metadata": {},
   "source": [
    "Let’s also implement a calculate_rate function where we need to pass in the weight, package size, and delivery mode in order to calculate the delivery charges:"
   ]
  },
  {
   "cell_type": "code",
   "execution_count": 4,
   "id": "0037364f",
   "metadata": {},
   "outputs": [],
   "source": [
    "def calculate_rate(weight, package_size, delivery_mode): \n",
    "#set the charges as $20 since we do not have the complete rate card \n",
    "    charges = 20 \n",
    "    if weight <=1 and package_size <60: \n",
    "        if delivery_mode == \"Express\": \n",
    "            charges = 13 \n",
    "        elif delivery_mode == \"Next Day\": \n",
    "            charges = 8\n",
    "        else: \n",
    "            charges = 10 \n",
    "    elif weight <=5 and package_size <80: \n",
    "        if delivery_mode == \"Express\": \n",
    "            charges = 15 \n",
    "        elif delivery_mode == \"Next Day\": \n",
    "            charges = 9 \n",
    "        else: \n",
    "            charges = 11 \n",
    "    elif weight <=8 and package_size <100: \n",
    "        if delivery_mode == \"Express\": \n",
    "            charges = 17 \n",
    "        elif delivery_mode == \"Next Day\": \n",
    "            charges = 11 \n",
    "        else: \n",
    "            charges = 13\n",
    "    \n",
    "    return charges"
   ]
  },
  {
   "cell_type": "markdown",
   "id": "b522f1b4",
   "metadata": {},
   "source": [
    "#### Pass multiple columns to lambda\n",
    "Here comes to the most important part. You probably already know data frame has the apply function where you can apply the lambda function to the selected dataframe. We will also use the apply function, and we have a few ways to pass the columns to our calculate_rate function."
   ]
  },
  {
   "cell_type": "markdown",
   "id": "0fb8c8ea",
   "metadata": {},
   "source": [
    "#### Option 1\n",
    "We can select the columns that involved in our calculation as a subset of the original data frame, and use the apply function to it.\n",
    "\n",
    "And in the apply function, we have the parameter axis=1 to indicate that the x in the lambda represents a row, so we can unpack the x with *x and pass it to calculate_rate function."
   ]
  },
  {
   "cell_type": "code",
   "execution_count": 8,
   "id": "cabef675",
   "metadata": {},
   "outputs": [],
   "source": [
    "df[\"Delivery Charges\"] = df[[\"Weight\", \"Package Size\", \"Delivery Mode\"]].apply(lambda x : calculate_rate(*x), axis=1)"
   ]
  },
  {
   "cell_type": "markdown",
   "id": "a4f626fd",
   "metadata": {},
   "source": [
    "If we check the df again in Jupyter Notebook, you should see the new column “Delivery Charges” with the figures calculated based on the logic we defined in calculate_rate function."
   ]
  },
  {
   "cell_type": "code",
   "execution_count": 9,
   "id": "71f96f2e",
   "metadata": {},
   "outputs": [
    {
     "data": {
      "text/html": [
       "<div>\n",
       "<style scoped>\n",
       "    .dataframe tbody tr th:only-of-type {\n",
       "        vertical-align: middle;\n",
       "    }\n",
       "\n",
       "    .dataframe tbody tr th {\n",
       "        vertical-align: top;\n",
       "    }\n",
       "\n",
       "    .dataframe thead th {\n",
       "        text-align: right;\n",
       "    }\n",
       "</style>\n",
       "<table border=\"1\" class=\"dataframe\">\n",
       "  <thead>\n",
       "    <tr style=\"text-align: right;\">\n",
       "      <th></th>\n",
       "      <th>Order#</th>\n",
       "      <th>Weight</th>\n",
       "      <th>Package Size</th>\n",
       "      <th>Delivery Mode</th>\n",
       "      <th>Delivery Charges</th>\n",
       "    </tr>\n",
       "  </thead>\n",
       "  <tbody>\n",
       "    <tr>\n",
       "      <th>0</th>\n",
       "      <td>1</td>\n",
       "      <td>5.0</td>\n",
       "      <td>80</td>\n",
       "      <td>Same Day</td>\n",
       "      <td>13</td>\n",
       "    </tr>\n",
       "    <tr>\n",
       "      <th>1</th>\n",
       "      <td>2</td>\n",
       "      <td>2.1</td>\n",
       "      <td>45</td>\n",
       "      <td>Next Day</td>\n",
       "      <td>9</td>\n",
       "    </tr>\n",
       "    <tr>\n",
       "      <th>2</th>\n",
       "      <td>3</td>\n",
       "      <td>8.1</td>\n",
       "      <td>110</td>\n",
       "      <td>Express</td>\n",
       "      <td>20</td>\n",
       "    </tr>\n",
       "    <tr>\n",
       "      <th>3</th>\n",
       "      <td>4</td>\n",
       "      <td>7.5</td>\n",
       "      <td>90</td>\n",
       "      <td>Next Day</td>\n",
       "      <td>11</td>\n",
       "    </tr>\n",
       "  </tbody>\n",
       "</table>\n",
       "</div>"
      ],
      "text/plain": [
       "  Order#  Weight  Package Size Delivery Mode  Delivery Charges\n",
       "0      1     5.0            80      Same Day                13\n",
       "1      2     2.1            45      Next Day                 9\n",
       "2      3     8.1           110       Express                20\n",
       "3      4     7.5            90      Next Day                11"
      ]
     },
     "execution_count": 9,
     "metadata": {},
     "output_type": "execute_result"
    }
   ],
   "source": [
    "df"
   ]
  },
  {
   "cell_type": "markdown",
   "id": "30e1f24f",
   "metadata": {},
   "source": [
    "#### Option 2\n",
    "If you do not want to get a subset of the data frame and then apply the lambda, you can also directly use the apply function to the original data frame. In this case, you will need to select the columns before passing to the calculate_rate function. Same as above, we will need to specify the axis=1 to indicate it’s applying to each row."
   ]
  },
  {
   "cell_type": "code",
   "execution_count": 10,
   "id": "b044d7bd",
   "metadata": {},
   "outputs": [],
   "source": [
    "df[\"Delivery Charges\"] = df.apply(lambda x : calculate_rate(x[\"Weight\"], x[\"Package Size\"], x[\"Delivery Mode\"]), axis=1)"
   ]
  },
  {
   "cell_type": "markdown",
   "id": "232753d0",
   "metadata": {},
   "source": [
    "This will produce the same result as option 1. And you can also use format like x.Weight instead of x[“Weight”] when passing in the parameter."
   ]
  },
  {
   "cell_type": "code",
   "execution_count": 11,
   "id": "aff353db",
   "metadata": {},
   "outputs": [
    {
     "data": {
      "text/html": [
       "<div>\n",
       "<style scoped>\n",
       "    .dataframe tbody tr th:only-of-type {\n",
       "        vertical-align: middle;\n",
       "    }\n",
       "\n",
       "    .dataframe tbody tr th {\n",
       "        vertical-align: top;\n",
       "    }\n",
       "\n",
       "    .dataframe thead th {\n",
       "        text-align: right;\n",
       "    }\n",
       "</style>\n",
       "<table border=\"1\" class=\"dataframe\">\n",
       "  <thead>\n",
       "    <tr style=\"text-align: right;\">\n",
       "      <th></th>\n",
       "      <th>Order#</th>\n",
       "      <th>Weight</th>\n",
       "      <th>Package Size</th>\n",
       "      <th>Delivery Mode</th>\n",
       "      <th>Delivery Charges</th>\n",
       "    </tr>\n",
       "  </thead>\n",
       "  <tbody>\n",
       "    <tr>\n",
       "      <th>0</th>\n",
       "      <td>1</td>\n",
       "      <td>5.0</td>\n",
       "      <td>80</td>\n",
       "      <td>Same Day</td>\n",
       "      <td>13</td>\n",
       "    </tr>\n",
       "    <tr>\n",
       "      <th>1</th>\n",
       "      <td>2</td>\n",
       "      <td>2.1</td>\n",
       "      <td>45</td>\n",
       "      <td>Next Day</td>\n",
       "      <td>9</td>\n",
       "    </tr>\n",
       "    <tr>\n",
       "      <th>2</th>\n",
       "      <td>3</td>\n",
       "      <td>8.1</td>\n",
       "      <td>110</td>\n",
       "      <td>Express</td>\n",
       "      <td>20</td>\n",
       "    </tr>\n",
       "    <tr>\n",
       "      <th>3</th>\n",
       "      <td>4</td>\n",
       "      <td>7.5</td>\n",
       "      <td>90</td>\n",
       "      <td>Next Day</td>\n",
       "      <td>11</td>\n",
       "    </tr>\n",
       "  </tbody>\n",
       "</table>\n",
       "</div>"
      ],
      "text/plain": [
       "  Order#  Weight  Package Size Delivery Mode  Delivery Charges\n",
       "0      1     5.0            80      Same Day                13\n",
       "1      2     2.1            45      Next Day                 9\n",
       "2      3     8.1           110       Express                20\n",
       "3      4     7.5            90      Next Day                11"
      ]
     },
     "execution_count": 11,
     "metadata": {},
     "output_type": "execute_result"
    }
   ],
   "source": [
    "df"
   ]
  },
  {
   "cell_type": "markdown",
   "id": "366c129d",
   "metadata": {},
   "source": [
    "#### Conclusion\n",
    "The two options we discussed to pass multiple columns to lambda are basically the same, and it’s either applying to the subset or the original data frame. I have not yet tested with a large set of data, so there might be some differences in terms of the performance, you may need to take a note if you are dealing with a lot of data."
   ]
  },
  {
   "cell_type": "code",
   "execution_count": null,
   "id": "3b988c47",
   "metadata": {},
   "outputs": [],
   "source": []
  }
 ],
 "metadata": {
  "kernelspec": {
   "display_name": "Python 3 (ipykernel)",
   "language": "python",
   "name": "python3"
  },
  "language_info": {
   "codemirror_mode": {
    "name": "ipython",
    "version": 3
   },
   "file_extension": ".py",
   "mimetype": "text/x-python",
   "name": "python",
   "nbconvert_exporter": "python",
   "pygments_lexer": "ipython3",
   "version": "3.9.12"
  }
 },
 "nbformat": 4,
 "nbformat_minor": 5
}
