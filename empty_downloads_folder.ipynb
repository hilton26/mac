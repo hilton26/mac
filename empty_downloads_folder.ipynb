{
 "cells": [
  {
   "cell_type": "code",
   "execution_count": 1,
   "id": "6705b487",
   "metadata": {},
   "outputs": [],
   "source": [
    "# import libraries\n",
    "import time # to calculate durations of runs\n",
    "start_time = time.time()\n",
    "\n",
    "import os, shutil           # for windows os folder and file manipulation\n",
    "from pathlib import Path    # to get windows user paths\n",
    "# https://stackoverflow.com/questions/35851281/python-finding-the-users-downloads-folder\n",
    "\n",
    "from tqdm import tqdm, notebook # notebook version of tqdm\n",
    "#\" ...any time you see a loop somewhere in your code in you can simply wrap it in either tdqm() or tqdm_notebook() in Jupyter\" "
   ]
  },
  {
   "cell_type": "code",
   "execution_count": 2,
   "id": "1ac2bc22",
   "metadata": {},
   "outputs": [],
   "source": [
    "# set up paths\n",
    "# https://stackoverflow.com/questions/35851281/python-finding-the-users-downloads-folder\n",
    "pthDx = str(Path.home() / \"Downloads\") # print(str(Path.home())) -> C:\\Users\\udername"
   ]
  },
  {
   "cell_type": "code",
   "execution_count": 3,
   "id": "496409e9",
   "metadata": {},
   "outputs": [],
   "source": [
    "# create a time difference function\n",
    "import datetime\n",
    "\n",
    "def timediff(start, end, decimals = 1):\n",
    "    if int((end - start)/3600) > 0: # non-zero hours\n",
    "        return str(int((end - start)/3600)) + 'hr ' + str(int((end - start)/60)) +'min ' + str(round((end - start) % 60,decimals)) + 'sec'\n",
    "    elif int((end - start)/60) > 0: # non-zero hours and minutes\n",
    "        return str(int((end - start)/60)) +'min ' + str(round((end - start) % 60, decimals)) + 'sec'\n",
    "    else:\n",
    "        return str(round((end - start) % 60,decimals)) + 'sec'"
   ]
  },
  {
   "cell_type": "code",
   "execution_count": 4,
   "id": "66023277",
   "metadata": {},
   "outputs": [
    {
     "name": "stderr",
     "output_type": "stream",
     "text": [
      "100%|██████████| 13/13 [00:00<00:00, 1857.15it/s]"
     ]
    },
    {
     "name": "stdout",
     "output_type": "stream",
     "text": [
      "0.1sec\n"
     ]
    },
    {
     "name": "stderr",
     "output_type": "stream",
     "text": [
      "\n"
     ]
    }
   ],
   "source": [
    "# delete contents of the local Downloads folder\n",
    "for filename in tqdm(os.listdir(pthDx)):\n",
    "    file_path = os.path.join(pthDx, filename)\n",
    "    try:\n",
    "        if os.path.isfile(file_path) or os.path.islink(file_path):\n",
    "            os.unlink(file_path)\n",
    "        elif os.path.isdir(file_path):\n",
    "            shutil.rmtree(file_path)\n",
    "    except Exception as e:\n",
    "        print(\"Couldn't delete %s because %s \" % (file_path, e))\n",
    "\n",
    "print(timediff(start_time, time.time())) # time for this cell to complete"
   ]
  },
  {
   "cell_type": "code",
   "execution_count": null,
   "id": "9c6e47ca",
   "metadata": {},
   "outputs": [],
   "source": []
  },
  {
   "cell_type": "code",
   "execution_count": 5,
   "id": "52ae25e6",
   "metadata": {},
   "outputs": [],
   "source": [
    "# create new folder under Downloads if it does not exist\n",
    "# https://www.geeksforgeeks.org/how-to-create-directory-if-it-does-not-exist-using-python/\n",
    "import os \n",
    "  \n",
    "if not os.path.exists(pthDx + \"\\Saves\"): # check if the folder already exists, and, if not, ...\n",
    "    os.makedirs(pthDx + \"\\Saves\")        # ... create the folder"
   ]
  },
  {
   "cell_type": "code",
   "execution_count": 6,
   "id": "48b9e164",
   "metadata": {},
   "outputs": [
    {
     "name": "stderr",
     "output_type": "stream",
     "text": [
      "  0%|          | 0/1 [00:00<?, ?it/s]\n"
     ]
    },
    {
     "ename": "PermissionError",
     "evalue": "[Errno 13] Permission denied: 'C:\\\\Users\\\\hilton.netta\\\\Downloads\\\\Saves'",
     "output_type": "error",
     "traceback": [
      "\u001b[1;31m---------------------------------------------------------------------------\u001b[0m",
      "\u001b[1;31mPermissionError\u001b[0m                           Traceback (most recent call last)",
      "Input \u001b[1;32mIn [6]\u001b[0m, in \u001b[0;36m<cell line: 3>\u001b[1;34m()\u001b[0m\n\u001b[0;32m      3\u001b[0m \u001b[38;5;28;01mfor\u001b[39;00m file \u001b[38;5;129;01min\u001b[39;00m tqdm(os\u001b[38;5;241m.\u001b[39mlistdir(pthDx)):\n\u001b[0;32m      4\u001b[0m     f \u001b[38;5;241m=\u001b[39m os\u001b[38;5;241m.\u001b[39mpath\u001b[38;5;241m.\u001b[39mjoin(pthDx, file)\n\u001b[1;32m----> 5\u001b[0m     \u001b[43mshutil\u001b[49m\u001b[38;5;241;43m.\u001b[39;49m\u001b[43mcopy\u001b[49m\u001b[43m(\u001b[49m\u001b[43mf\u001b[49m\u001b[43m,\u001b[49m\u001b[43m \u001b[49m\u001b[43mpthDx\u001b[49m\u001b[43m \u001b[49m\u001b[38;5;241;43m+\u001b[39;49m\u001b[43m \u001b[49m\u001b[38;5;124;43m\"\u001b[39;49m\u001b[38;5;124;43m\\\u001b[39;49m\u001b[38;5;124;43mSaves\u001b[39;49m\u001b[38;5;124;43m\"\u001b[39;49m\u001b[43m)\u001b[49m\n",
      "File \u001b[1;32m~\\Anaconda3\\lib\\shutil.py:427\u001b[0m, in \u001b[0;36mcopy\u001b[1;34m(src, dst, follow_symlinks)\u001b[0m\n\u001b[0;32m    425\u001b[0m \u001b[38;5;28;01mif\u001b[39;00m os\u001b[38;5;241m.\u001b[39mpath\u001b[38;5;241m.\u001b[39misdir(dst):\n\u001b[0;32m    426\u001b[0m     dst \u001b[38;5;241m=\u001b[39m os\u001b[38;5;241m.\u001b[39mpath\u001b[38;5;241m.\u001b[39mjoin(dst, os\u001b[38;5;241m.\u001b[39mpath\u001b[38;5;241m.\u001b[39mbasename(src))\n\u001b[1;32m--> 427\u001b[0m \u001b[43mcopyfile\u001b[49m\u001b[43m(\u001b[49m\u001b[43msrc\u001b[49m\u001b[43m,\u001b[49m\u001b[43m \u001b[49m\u001b[43mdst\u001b[49m\u001b[43m,\u001b[49m\u001b[43m \u001b[49m\u001b[43mfollow_symlinks\u001b[49m\u001b[38;5;241;43m=\u001b[39;49m\u001b[43mfollow_symlinks\u001b[49m\u001b[43m)\u001b[49m\n\u001b[0;32m    428\u001b[0m copymode(src, dst, follow_symlinks\u001b[38;5;241m=\u001b[39mfollow_symlinks)\n\u001b[0;32m    429\u001b[0m \u001b[38;5;28;01mreturn\u001b[39;00m dst\n",
      "File \u001b[1;32m~\\Anaconda3\\lib\\shutil.py:264\u001b[0m, in \u001b[0;36mcopyfile\u001b[1;34m(src, dst, follow_symlinks)\u001b[0m\n\u001b[0;32m    262\u001b[0m     os\u001b[38;5;241m.\u001b[39msymlink(os\u001b[38;5;241m.\u001b[39mreadlink(src), dst)\n\u001b[0;32m    263\u001b[0m \u001b[38;5;28;01melse\u001b[39;00m:\n\u001b[1;32m--> 264\u001b[0m     \u001b[38;5;28;01mwith\u001b[39;00m \u001b[38;5;28;43mopen\u001b[39;49m\u001b[43m(\u001b[49m\u001b[43msrc\u001b[49m\u001b[43m,\u001b[49m\u001b[43m \u001b[49m\u001b[38;5;124;43m'\u001b[39;49m\u001b[38;5;124;43mrb\u001b[39;49m\u001b[38;5;124;43m'\u001b[39;49m\u001b[43m)\u001b[49m \u001b[38;5;28;01mas\u001b[39;00m fsrc:\n\u001b[0;32m    265\u001b[0m         \u001b[38;5;28;01mtry\u001b[39;00m:\n\u001b[0;32m    266\u001b[0m             \u001b[38;5;28;01mwith\u001b[39;00m \u001b[38;5;28mopen\u001b[39m(dst, \u001b[38;5;124m'\u001b[39m\u001b[38;5;124mwb\u001b[39m\u001b[38;5;124m'\u001b[39m) \u001b[38;5;28;01mas\u001b[39;00m fdst:\n\u001b[0;32m    267\u001b[0m                 \u001b[38;5;66;03m# macOS\u001b[39;00m\n",
      "\u001b[1;31mPermissionError\u001b[0m: [Errno 13] Permission denied: 'C:\\\\Users\\\\hilton.netta\\\\Downloads\\\\Saves'"
     ]
    }
   ],
   "source": [
    "# copy the contents of the Downloads folder to the Downloads\\Saves sub-folder\n",
    "files = os.listdir(pthDx)\n",
    "for file in tqdm(os.listdir(pthDx)):\n",
    "    f = os.path.join(pthDx, file)\n",
    "    shutil.copy(f, pthDx + \"\\Saves\")"
   ]
  }
 ],
 "metadata": {
  "kernelspec": {
   "display_name": "Python 3 (ipykernel)",
   "language": "python",
   "name": "python3"
  },
  "language_info": {
   "codemirror_mode": {
    "name": "ipython",
    "version": 3
   },
   "file_extension": ".py",
   "mimetype": "text/x-python",
   "name": "python",
   "nbconvert_exporter": "python",
   "pygments_lexer": "ipython3",
   "version": "3.9.12"
  }
 },
 "nbformat": 4,
 "nbformat_minor": 5
}
