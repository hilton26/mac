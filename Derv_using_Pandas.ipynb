{
 "cells": [
  {
   "cell_type": "markdown",
   "id": "d5f715c1",
   "metadata": {},
   "source": [
    "Become an Excel Wizard With Python<br>\n",
    "https://www.youtube.com/watch?v=q6Mc_sAPZ2Y\n",
    "\n",
    "Python 3 Quick Tip: The easy way to deal with file paths on Windows, Mac and Linux<br>\n",
    "https://medium.com/@ageitgey/python-3-quick-tip-the-easy-way-to-deal-with-file-paths-on-windows-mac-and-linux-11a072b58d5f\n",
    "\n",
    "Openpyxl: Removing Duplicate cells from a column<br>\n",
    "https://stackoverflow.com/questions/42372968/openpyxl-removing-duplicate-cells-from-a-column\n",
    "\n",
    "How to Perform a SUMIF Function in Pandas?<br>\n",
    "https://www.geeksforgeeks.org/how-to-perform-a-sumif-function-in-pandas/\n",
    "\n",
    "How do I get the row count of a Pandas DataFrame?<br>\n",
    "https://stackoverflow.com/questions/15943769/how-do-i-get-the-row-count-of-a-pandas-dataframe\n",
    "\n",
    "How can I extract the nth row of a pandas data frame as a pandas data frame?<br>\n",
    "https://stackoverflow.com/questions/46307490/how-can-i-extract-the-nth-row-of-a-pandas-data-frame-as-a-pandas-data-frame\n",
    "\n",
    "Pandas loc vs. iloc vs. at vs. iat?<br>\n",
    "https://re-thought.com/how-to-change-or-update-a-cell-value-in-python-pandas-dataframe/\n",
    "\n",
    "Replacing column values in a pandas DataFrame<br>\n",
    "https://stackoverflow.com/questions/23307301/replacing-column-values-in-a-pandas-dataframe\n",
    "\n",
    "Update a dataframe within apply after using groupby<br>\n",
    "https://stackoverflow.com/questions/43926479/update-a-dataframe-within-apply-after-using-groupby\n",
    "\n",
    "Python strftime - date without leading 0?<br>\n",
    "Source: https://stackoverflow.com/questions/904928/python-strftime-date-without-leading-0\n",
    "\n",
    "Formatting dates in Python<br>\n",
    "https://www.geeksforgeeks.org/formatting-dates-in-python/\n",
    "\n",
    "Difference between two dates in Python<br>\n",
    "https://stackoverflow.com/questions/8419564/difference-between-two-dates-in-python\n",
    "\n",
    "How can I subtract a day from a Python date?<br>\n",
    "https://www.tutorialspoint.com/How-can-I-subtract-a-day-from-a-Python-date#:~:text=You%20can%20subtract%20a%20day,subtract%20it%20from%20the%20date\n",
    "\n",
    "Accessing elements of pandas series<br>\n",
    "https://www.geeksforgeeks.org/accessing-elements-of-a-pandas-series/\n",
    "\n",
    "Tutorial: Advanced For Loops in Python (Looping through a series by label):<br>\n",
    "https://www.dataquest.io/blog/tutorial-advanced-for-loops-python-pandas/\n",
    "\n",
    "Python - List Comprehension<br>\n",
    "https://www.w3schools.com/python/python_lists_comprehension.asp\n",
    "\n",
    "Pandas - Multiplying Columns To Make A New Column<br>\n",
    "https://www.youtube.com/watch?v=0MvYbrKMCKA\n",
    "\n",
    "Pandas replace column values with a list<br>\n",
    "https://stackoverflow.com/questions/44608524/pandas-replace-column-values-with-a-list\n",
    "\n",
    "Exporting a Pandas DataFrame to an Excel file<br>\n",
    "https://www.geeksforgeeks.org/exporting-a-pandas-dataframe-to-an-excel-file/\n",
    "\n",
    "Export from pandas to_excel without row names (index)?\n",
    "https://stackoverflow.com/questions/22089317/export-from-pandas-to-excel-without-row-names-index"
   ]
  },
  {
   "cell_type": "code",
   "execution_count": 1,
   "id": "9a804459",
   "metadata": {},
   "outputs": [],
   "source": [
    "import os\n",
    "import pandas as pd\n",
    "import numpy as np\n",
    "from pathlib import Path\n",
    "from openpyxl import load_workbook"
   ]
  },
  {
   "cell_type": "code",
   "execution_count": 2,
   "id": "853ba7ad",
   "metadata": {},
   "outputs": [],
   "source": [
    "# a days difference function\n",
    "\n",
    "def days_between(d1, d2):\n",
    "    d1 = datetime.strptime(d1, \"%Y-%m-%d\")\n",
    "    d2 = datetime.strptime(d2, \"%Y-%m-%d\")\n",
    "    return abs((d2 - d1).days)"
   ]
  },
  {
   "cell_type": "code",
   "execution_count": 9,
   "id": "0aea1429",
   "metadata": {},
   "outputs": [],
   "source": [
    "# set the names of the files to use\n",
    "\n",
    "import datetime\n",
    "from datetime import date\n",
    "from datetime import timedelta\n",
    "\n",
    "# variables ...\n",
    "ydy = date.today() - timedelta(days=1)\n",
    "yday = f'{ydy:%#d}{ydy:%#b}{ydy:%Y}' # current date without leading zeroes, e.g. 3May2021\n",
    "\n",
    "# ... and paths\n",
    "#pth = Path('//pim-cpt-statpro/SPC_602/Client/Profiles/PIM/Exports')\n",
    "#flnDerv = pth / f'Derivative Exposure {yday}.xlsx'\n",
    "#flnHoldings = pth / f'Portfolio Analytics Report - New {yday}.xlsx'\n",
    "pth = r'C:\\Users\\hilton.netta\\Downloads'\n",
    "flnDerv = pth + '\\Derivative Exposure.xlsx'\n",
    "flnHoldings = pth + '\\Portfolio Analytics Report - New.xlsx'"
   ]
  },
  {
   "cell_type": "code",
   "execution_count": 10,
   "id": "8b2bd166",
   "metadata": {},
   "outputs": [
    {
     "data": {
      "text/plain": [
       "(pandas.core.frame.DataFrame, pandas.core.frame.DataFrame)"
      ]
     },
     "execution_count": 10,
     "metadata": {},
     "output_type": "execute_result"
    }
   ],
   "source": [
    "# create dataframes of the derivaties and holdings spreadsheets\n",
    "\n",
    "wbD = pd.read_excel(open(flnDerv,'rb'), sheet_name = 'Derivative Exposure')\n",
    "wbH = pd.read_excel(open(flnHoldings,'rb'), sheet_name = 'Portfolio Analytics Report - Ne')\n",
    "type(wbD), type(wbH)"
   ]
  },
  {
   "cell_type": "code",
   "execution_count": 11,
   "id": "6f7db7b7",
   "metadata": {},
   "outputs": [],
   "source": [
    "# list the unique fund codes\n",
    "\n",
    "fndcodes = wbH.loc[:,'Entity ID'].unique()\n",
    "# print(fndcodes)"
   ]
  },
  {
   "cell_type": "code",
   "execution_count": 12,
   "id": "3a735fde",
   "metadata": {},
   "outputs": [
    {
     "name": "stdout",
     "output_type": "stream",
     "text": [
      "76 76 76\n"
     ]
    }
   ],
   "source": [
    "# find the NAV of each fund; this will be used as a lookup later\n",
    "\n",
    "navs = wbH.groupby('Entity ID')['Sum of Market Value Income'].sum() # this has type 'pandas.core.series.Series'\n",
    "# navs.head(3)\n",
    "\n",
    "# convert the navs series to a dictionary to make it lookupable\n",
    "nav = navs.to_dict()\n",
    "print(navs.shape[0], len(navs), len(nav)) # .shape[0] doesnt work for dictionaries"
   ]
  },
  {
   "cell_type": "code",
   "execution_count": 13,
   "id": "7d41a182",
   "metadata": {},
   "outputs": [],
   "source": [
    "# recalc the '% of Total Market Value' column per fund\n",
    "\n",
    "newTMV=[]\n",
    "for i, row in wbH.iterrows():\n",
    "    fndpct = row['Sum of Market Value Income'] / nav[row['Entity ID']]\n",
    "    newTMV.append(fndpct)\n",
    "    \n",
    "#type(newTMV)"
   ]
  },
  {
   "cell_type": "code",
   "execution_count": 14,
   "id": "e7d8e79b",
   "metadata": {},
   "outputs": [],
   "source": [
    "# replace the '% of Total Market Value' with the values in the new list\n",
    "\n",
    "wbH['% of Total Market Value'] = newTMV\n",
    "\n",
    "# wbH['% of Total Market Value'] "
   ]
  },
  {
   "cell_type": "code",
   "execution_count": 15,
   "id": "1659bc08",
   "metadata": {},
   "outputs": [],
   "source": [
    "# save the dataframe as an Excel file\n",
    "\n",
    "wbH.to_excel(pth + '\\Portfolio Analytics Report - NewNew.xlsx', index = False)"
   ]
  },
  {
   "cell_type": "code",
   "execution_count": 19,
   "id": "535fb445",
   "metadata": {},
   "outputs": [],
   "source": [
    "# load the 'Derv.xlsm' workbook\n",
    "\n",
    "pathD = r'\\\\pim-cpt-fs\\profile$\\PProfile Operations\\Legal\\Legal and Compliance Framework\\Hilton\\W\\Derv.xlsm'\n",
    "wbDerv = load_workbook(pathD)"
   ]
  },
  {
   "cell_type": "code",
   "execution_count": 110,
   "id": "b7a61249",
   "metadata": {},
   "outputs": [],
   "source": [
    "writer = pd.ExcelWriter(pathD, engine = 'openpyxl')\n",
    "writer.book = wbDerv"
   ]
  },
  {
   "cell_type": "code",
   "execution_count": null,
   "id": "72a50d6a",
   "metadata": {},
   "outputs": [],
   "source": []
  }
 ],
 "metadata": {
  "kernelspec": {
   "display_name": "Python 3",
   "language": "python",
   "name": "python3"
  },
  "language_info": {
   "codemirror_mode": {
    "name": "ipython",
    "version": 3
   },
   "file_extension": ".py",
   "mimetype": "text/x-python",
   "name": "python",
   "nbconvert_exporter": "python",
   "pygments_lexer": "ipython3",
   "version": "3.8.8"
  }
 },
 "nbformat": 4,
 "nbformat_minor": 5
}
