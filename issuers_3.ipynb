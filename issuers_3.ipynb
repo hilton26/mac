{
 "cells": [
  {
   "cell_type": "markdown",
   "id": "4742ecd7",
   "metadata": {},
   "source": [
    "# Step 3: Changing % Column and Splitting out reports\n",
    "\n",
    "Source: Eagle 'Reg 28 Report - Incl Effective Exposure' with nine columns: 0. 'Entity Name', 1. 'Investment Type', 2. 'i Issue Name', 3. 'Primary Asset ID', 4. 'CCY', 5. 'Reg28 Classification', 6. 'End Market Value', 7. 'Percentage', 8. 'Closing Exposure PA'"
   ]
  },
  {
   "cell_type": "markdown",
   "id": "3a2fe99d",
   "metadata": {},
   "source": [
    "#### Resources\n",
    "\n",
    "structures                       P:\\Working Folders\\Hilton\\W\\structures.xlsm\n",
    "\n",
    "Reg28 sheet format and formula   P:\\Working Folders\\Hilton\\W\\Reg28 Checker Format and Formulae.docx\n",
    "\n",
    "input file                       P:\\Working Folders\\Hilton\\W\\Reg 28 Report - input.xlsx\n",
    "\n",
    "issuer results file              P:\\Working Folders\\Hilton\\W\\issuers_1_done.xlsx\n",
    "\n",
    "merged file                      P:\\Working Folders\\Hilton\\W\\merged.xlsx\n",
    "\n",
    "output file                      P:\\Working Folders\\Hilton\\W\\issuers_2_done.xlsx"
   ]
  },
  {
   "cell_type": "code",
   "execution_count": 1,
   "id": "8f0e09c4",
   "metadata": {},
   "outputs": [],
   "source": [
    "# create a time difference function\n",
    "import datetime, time\n",
    "\n",
    "def timediff(start, end, decimals = 1):\n",
    "    if   int((end - start) / 3600) > 0: # non-zero hours\n",
    "        return str(int(  (end - start) / 3600))           + 'hr '  + \\\n",
    "               str(int(  (end - start) /   60))           + 'min ' + \\\n",
    "               str(round((end - start) %   60, decimals)) + 'sec'\n",
    "    elif int((end - start) /   60) > 0: # non-zero hours and minutes\n",
    "        return str(int(  (end - start) /   60))           + 'min ' + \\\n",
    "               str(round((end - start) %   60, decimals)) + 'sec'\n",
    "    else:\n",
    "        return str(round((end - start) %   60, decimals)) + 'sec'"
   ]
  },
  {
   "cell_type": "code",
   "execution_count": 2,
   "id": "259de842",
   "metadata": {},
   "outputs": [
    {
     "name": "stdout",
     "output_type": "stream",
     "text": [
      "1.0sec\n"
     ]
    }
   ],
   "source": [
    "# libraries, libraries!\n",
    "\n",
    "    # time, to determine run durations\n",
    "start_time          = time.time()\n",
    "start_time_overlord = start_time\n",
    "\n",
    "    # general libraries\n",
    "import pandas   as     pd        # for dataframes\n",
    "import numpy    as     np        # for np.NaN\n",
    "import re                        # for regex\n",
    "from   re       import search    # for regex\n",
    "import os\n",
    "from   datetime import datetime  # for script run durations\n",
    "\n",
    "    # utilise openpyxl tools to add excel features to results sheet\n",
    "import openpyxl        as     px                                          # for adding sort filters to the excel sheet\n",
    "from   openpyxl.cell   import Cell                                        # to format cells\n",
    "from   openpyxl.styles import Alignment, Color, PatternFill, Font, Border # to format cells\n",
    "\n",
    "    # access Excel application to open results sheet\n",
    "import win32com.client as win32                                           # library to convert xls to xlsx\n",
    "excel = win32.gencache.EnsureDispatch('Excel.Application')                # to open excel application\n",
    "\n",
    "from tqdm import tqdm, notebook # notebook version of tqdm\n",
    "#\" ...any time you see a loop somewhere in your code in you can simply wrap it in either tdqm() or tqdm_notebook() in Jupyter\" \n",
    "\n",
    "print(timediff(start_time, time.time()))\n",
    "\n",
    "# Possible error message when loading libraries, labraries!:\n",
    "  # \"TypeError: This COM object can not automate the makepy process - please run makepy manually for this object\"\n",
    "  # Solution: close all running Excel applications\n",
    "  # https://stackoverflow.com/questions/57030278/typeerror-this-com-object-can-not-automate-the-makepy-process-please-run-make"
   ]
  },
  {
   "cell_type": "code",
   "execution_count": 3,
   "id": "4c3bbc97",
   "metadata": {},
   "outputs": [],
   "source": [
    "# (2) get report date - https://stackoverflow.com/questions/43544514/pandas-read-specific-excel-cell-value-into-a-variable\n",
    "pthW             = r'P:\\Working Folders\\Hilton\\W'                   # path to working folder\n",
    "input_filename   = r'\\Reg 28 Report - input.xlsx'                   # input file name\n",
    "\n",
    "k                = pd.read_excel(pthW + input_filename, index_col = None, usecols = 'K', nrows = 0)\n",
    "report_date      = list(k)[0] # https://realpython.com/lessons/list-methods-return-values/"
   ]
  },
  {
   "cell_type": "code",
   "execution_count": 4,
   "id": "23bfa10e",
   "metadata": {},
   "outputs": [
    {
     "name": "stdout",
     "output_type": "stream",
     "text": [
      "0.0sec\n"
     ]
    }
   ],
   "source": [
    "# set paths\n",
    "start_time = time.time()\n",
    "\n",
    "pthCompliance    = r'P:\\Investment Operations\\GRC\\Compliance'       # path to PIM Compliance folder\n",
    "pthW             = r'P:\\Working Folders\\Hilton\\W'\n",
    "pthBondData      = pthCompliance + r'\\Reporting Requirements\\Monthly Reports\\MonthEnd17.xlsm'\n",
    "input_filename   = r'\\Reg 28 Report - input.xlsx'\n",
    "results_filename = r'\\issuers_2_done.xlsx'                          # output file name\n",
    "pthReports       = r'P:\\Investment Operations\\GRC\\Compliance\\Reg28 and Reg30 Reporting'\n",
    "output_folder    = r'P:\\Working Folders\\Hilton\\W\\Reg_Tests'\n",
    "\n",
    "print(timediff(start_time, time.time()))"
   ]
  },
  {
   "cell_type": "code",
   "execution_count": 5,
   "id": "21625769",
   "metadata": {},
   "outputs": [
    {
     "data": {
      "application/vnd.jupyter.widget-view+json": {
       "model_id": "b42d6f64f4774a81a66829c4ecf30c3c",
       "version_major": 2,
       "version_minor": 0
      },
      "text/plain": [
       "0it [00:00, ?it/s]"
      ]
     },
     "metadata": {},
     "output_type": "display_data"
    },
    {
     "name": "stdout",
     "output_type": "stream",
     "text": [
      "1.00 1\n",
      "0.2sec\n"
     ]
    }
   ],
   "source": [
    "# change the 'Percentage of Market Value' column to the fund-specific % of NAV based on 'Sum of Market Value Income' column (M)\n",
    "start_time = time.time()\n",
    "\n",
    "#results    = pd.read_excel('P:\\Working Folders\\Hilton\\W\\issuers_2_done.xlsx', sheet_name = 'all')\n",
    "results    = pd.read_excel(pthW + results_filename, sheet_name = 'all')\n",
    "fund_codes = results['Entity Name'].unique()\n",
    "navs       = results.groupby('Entity Name')['End Market Value'].sum() # (column N) this has type 'pandas.core.series.Series'\n",
    "nav        = navs.to_dict() # nav series changed to dictionary to make it lookupable\n",
    "\n",
    "# recalc the '% of Total Market Value' column per fund and ...\n",
    "newTMV = []\n",
    "for i, row in notebook.tqdm(results.iterrows()):\n",
    "    if nav[row['Entity Name']] == 0:\n",
    "        fndpct = 100\n",
    "    else:\n",
    "        fndpct = row['End Market Value'] / nav[row['Entity Name']] * 100\n",
    "    newTMV.append(fndpct)\n",
    "    \n",
    "# ... replace 'Percentage of Market Value' with the values in the new list\n",
    "results['Percentage of Market Value'] = newTMV\n",
    "print('%.2f' % (results['Percentage of Market Value'].sum() / 100), len(fund_codes)) #check, should equal number of funds\n",
    "\n",
    "print(timediff(start_time, time.time()))"
   ]
  },
  {
   "cell_type": "code",
   "execution_count": 6,
   "id": "feaf649e",
   "metadata": {},
   "outputs": [],
   "source": [
    "# get a list of unique fund codes\n",
    "\n",
    "colsR28    = ['Entity Name', 'Investment Type', 'i Issue Name', 'Primary Asset ID', 'CCY', 'Reg 28 Classification',\n",
    "              'End Market Value', 'Percentage of Market Value', 'Closing Exposure PA', 'Issuer', 'Infra']\n",
    "colsR30    = ['Entity Name', 'Investment Type', 'i Issue Name', 'Primary Asset ID', 'CCY', 'Reg 30 Classification',\n",
    "              'End Market Value', 'Percentage of Market Value', 'Closing Exposure PA', 'Issuer']\n",
    "\n",
    "R28 = results[colsR28]\n",
    "R30 = results[colsR30]"
   ]
  },
  {
   "cell_type": "code",
   "execution_count": 7,
   "id": "17d7b594",
   "metadata": {},
   "outputs": [
    {
     "name": "stdout",
     "output_type": "stream",
     "text": [
      "0.2sec\n"
     ]
    }
   ],
   "source": [
    "# save the Reg 28 fund reports individually in the temporary resultant fodler\n",
    "\n",
    "start_time = time.time()\n",
    "\n",
    "pthReports = r'P:\\Working Folders\\Hilton\\W\\Reg_Tests'\n",
    "\n",
    "for fund_code in fund_codes:\n",
    "    fname = os.path.join(pthReports, f'{fund_code} Reg28 {report_date.strftime(\"%d%b%Y\")}.xlsx')\n",
    "    R28[R28['Entity Name'] == fund_code].to_excel(fname, sheet_name = f'{fund_code} Reg28 {report_date.strftime(\"%d%b%Y\")}', index = False)\n",
    "    \n",
    "print(timediff(start_time, time.time()))"
   ]
  },
  {
   "cell_type": "code",
   "execution_count": 8,
   "id": "b05dc781",
   "metadata": {},
   "outputs": [
    {
     "name": "stdout",
     "output_type": "stream",
     "text": [
      "0.2sec\n",
      "1.8sec\n"
     ]
    }
   ],
   "source": [
    "# save the Reg 30 fund reports individually\n",
    "\n",
    "start_time = time.time()\n",
    "\n",
    "for fund_code in fund_codes:\n",
    "    fname = os.path.join(pthReports, f'{fund_code} Reg30 {report_date.strftime(\"%d%b%Y\")}.xlsx')\n",
    "    R30[R30['Entity Name'] == fund_code].to_excel(fname, sheet_name = f'{fund_code} Reg30 {report_date.strftime(\"%d%b%Y\")}', index = False)\n",
    "    \n",
    "print(timediff(start_time, time.time()))\n",
    "print(timediff(start_time_overlord, time.time()))"
   ]
  },
  {
   "cell_type": "code",
   "execution_count": 9,
   "id": "75b12b5b",
   "metadata": {},
   "outputs": [],
   "source": [
    "# open the resultant folder and the reporting folder\n",
    "\n",
    "os.startfile(os.path.realpath(output_folder))\n",
    "os.startfile(os.path.realpath(pthReports))"
   ]
  },
  {
   "cell_type": "code",
   "execution_count": 10,
   "id": "84afd7a7",
   "metadata": {},
   "outputs": [],
   "source": [
    "# dataframes:  example, no_issuer, no_CLN_issuer\n",
    "# structures   P:\\Working Folders\\Hilton\\W\\structures.xlsm\n",
    "# results      P:\\Working Folders\\Hilton\\W\\issuers_1_done.xlsx\n",
    "# merged       P:\\Working Folders\\Hilton\\W\\merged.xlsx\n",
    "# output       P:\\Working Folders\\Hilton\\W\\issuers_2_done.xlsx\n",
    "# Reg 28 & 30  P:\\Investment Operations\\GRC\\Compliance\\Reg28 and Reg30 Reporting\n",
    "# folder       P:\\Working Folders\\Hilton\\W\\Reg_Tests"
   ]
  }
 ],
 "metadata": {
  "kernelspec": {
   "display_name": "Python 3 (ipykernel)",
   "language": "python",
   "name": "python3"
  },
  "language_info": {
   "codemirror_mode": {
    "name": "ipython",
    "version": 3
   },
   "file_extension": ".py",
   "mimetype": "text/x-python",
   "name": "python",
   "nbconvert_exporter": "python",
   "pygments_lexer": "ipython3",
   "version": "3.9.12"
  }
 },
 "nbformat": 4,
 "nbformat_minor": 5
}
