{
 "cells": [
  {
   "cell_type": "markdown",
   "id": "360f32f9",
   "metadata": {},
   "source": [
    "# Pull Holdings and Derivative Data from Eagle"
   ]
  },
  {
   "cell_type": "markdown",
   "id": "1f1d2dac",
   "metadata": {},
   "source": [
    "How to wait until Element is Visible in Selenium Python  \n",
    "\n",
    "https://pythonexamples.org/python-selenium-wait-until-element-is-visible/"
   ]
  },
  {
   "cell_type": "code",
   "execution_count": 1,
   "id": "facf3dba",
   "metadata": {},
   "outputs": [],
   "source": [
    "# create a time difference function\n",
    "import datetime, time\n",
    "\n",
    "def timediff(start, end, decimals = 1):\n",
    "    if   int((end - start) / 3600) > 0: # non-zero hours\n",
    "        return str(int(  (end - start) / 3600)) + 'hr '  + str(int(  (end - start) / 60)          ) + 'min '\\\n",
    "         +                                                 str(round((end - start) % 60, decimals)) + 'sec'\n",
    "    elif int((end - start) / 60)   > 0: # non-zero hours and minutes\n",
    "        return str(int(  (end - start) / 60))   + 'min ' + str(round((end - start) % 60, decimals)) + 'sec'\n",
    "    else:\n",
    "        return                                             str(round((end - start) % 60, decimals)) + 'sec'"
   ]
  },
  {
   "cell_type": "code",
   "execution_count": 2,
   "id": "02a9e7c4",
   "metadata": {},
   "outputs": [
    {
     "name": "stdout",
     "output_type": "stream",
     "text": [
      "Importing libraries ...\n",
      "Importing libraries completed: 1.7sec \n",
      "\n"
     ]
    }
   ],
   "source": [
    "start_time          = time.time()\n",
    "start_time_overlord = start_time\n",
    "print('Importing libraries ...')\n",
    "\n",
    "# load libraries\n",
    "import pandas as pd\n",
    "import numpy as np\n",
    "import os\n",
    "import csv\n",
    "from datetime import date, datetime\n",
    "from selenium.webdriver.common.by import By\n",
    "from selenium.webdriver.common.keys import Keys\n",
    "from selenium.webdriver.support.select import Select\n",
    "from selenium.webdriver.support.ui import WebDriverWait\n",
    "from selenium.webdriver.support import expected_conditions as EC\n",
    "#import networkdays as networkdays\n",
    "\n",
    "print(f'Importing libraries completed: {timediff(start_time, time.time())}', '\\n')"
   ]
  },
  {
   "cell_type": "code",
   "execution_count": 3,
   "id": "03a44b8e",
   "metadata": {},
   "outputs": [
    {
     "name": "stdout",
     "output_type": "stream",
     "text": [
      "Setting up paths ...\n",
      "Setting up paths completed: 0.0sec \n",
      "\n"
     ]
    }
   ],
   "source": [
    "start_time = time.time()\n",
    "print(f'Setting up paths ...')\n",
    "\n",
    "# set paths to the driver, urls, and report parameters\n",
    "os.environ[\"PATH\"] = r'C:/SeleniumDrivers' # + os.pathsep + os.getenv(\"PATH\")\n",
    "# https://stackoverflow.com/questions/61213005/modify-beginning-of-path-variable-with-os-environ-in-python\n",
    "eagle_portal       = r'https://eagleportal.prescient.co.za'\n",
    "url_default        = eagle_portal + r'/Default.aspx'\n",
    "url_derv           = eagle_portal + r'/Queries/Query.aspx?rpt=DerivativeExposure'\n",
    "url_parn           = eagle_portal + r'/Queries/Query.aspx?rpt=PortfolioAnalytics'\n",
    "pth                = r'P:\\Investment Operations\\GRC\\Compliance\\Daily\\py_reports.xlsm' # variables stored here\n",
    "\n",
    "print(f'Setting up paths completed: {timediff(start_time, time.time())}', '\\n')"
   ]
  },
  {
   "cell_type": "code",
   "execution_count": 4,
   "id": "ec8e4efc",
   "metadata": {},
   "outputs": [
    {
     "name": "stdout",
     "output_type": "stream",
     "text": [
      "Collecting input data ...\n",
      "Report date:          2023-09-22 00:00:00 \n",
      " Portfolios (95):      3BBCIINC,ABMMABR,ABMMBND,ABMMEQU,ADRRC,ASBTOS,ASHFLX,ASHGFB,CAPGIP,CMPFINC,ECICBALC,ELCIPF,ENGENMBF,GAEMBF,GEMSMEDC,GMRETF,GMRETF2,GRFINV,GTCWP2,HOLDINC,HOLYPF,IJGBAL,IJGCOR,IJGIPF,IMPALA,LIBTAA,MEDINC,METGRP,MOMBBF,MOMFLX,MOMIPF,MOMPRET,MULTICH,MWPFEQU,MWPFILB,NESEQU,NFMEQRF2,NFMWEQU,NGKINC,PABS,PBBGPF,PBNDQ,PCAEF,PCBF,PCCEF,PCEQTF,PCGEARF,PCGEF,PCSHQ,PEQ,PEQF,PEYF,PFFIF,PGBZAR,PGCBF,PGCEF,PGEMZAR,PGIF,PGIP_I,PGIPZAR,PGPCEM_C,PGPCGE_C,PGPCZAR,PGPGBF_C,PGPGIF_C,PGPRF_C,PICPROV,PIMBAL,PIPFP,PLMED,PLPRNA,POIF_C,PORFIP,PPEF,PPOS,PPSBAL_C,PPSFLEX,PPSNAM,PPWEQU,PSIF,PSPAM,PSSPFEQU,PSTIF,QIFFGIF,RETFGD,RETFPE,SAAMCAU,SAAMINC,SAAMMOD,SDINCPM,SILAIF,SILEQF,SISLP,SMMAIF,UCTRFINC \n",
      "\n",
      "Collecting input data completed: 5.3sec \n",
      "\n"
     ]
    }
   ],
   "source": [
    "start_time = time.time()\n",
    "print('Collecting input data ...')\n",
    "\n",
    "#get user details, report date, and fund names from the py_report.xlsm sheet\n",
    "import xlwings as xw\n",
    "wb             = xw.Book(r'P:\\Investment Operations\\GRC\\Compliance\\Daily\\py_reports.xlsm') # open calc workbook as an object\n",
    "\n",
    "# get variables from source sheet and then close the sheet\n",
    "when           = wb.sheets['dervs'].range('B1').value\n",
    "when_fmt       = wb.sheets['dervs'].range('B1').value.strftime('%#m/%#d/%Y')  \n",
    "aladdin        = wb.sheets['creds'].range('A1').value\n",
    "sesame         = wb.sheets['creds'].range('A2').value\n",
    "list_funds     = wb.sheets['dervs'].range('A:A')[1:].value #https://stackoverflow.com/questions/48513093/xlwings-how-to-select-an-entire-column-without-headers\n",
    "df_fnds_       = [s for s in list_funds if s != None]\n",
    "fnds_          = (',').join(df_fnds_) \n",
    "wb.close()\n",
    "\n",
    "# set reporting date\n",
    "day_           = f'{when:%#d}' # f'{when:%d}' report date with leading zeroes\n",
    "month_year_    = f'{when:%B}, {when:%Y}'\n",
    "month_         = f'{when:%b}'\n",
    "year_          = f'{when:%Y}'\n",
    "\n",
    "# check inputs\n",
    "print(f'Report date:          {when}', '\\n', f'Portfolios ({len(df_fnds_)}):      {fnds_}')\n",
    "print(f'Collecting input data completed: {timediff(start_time, time.time())}', '\\n')"
   ]
  },
  {
   "cell_type": "code",
   "execution_count": null,
   "id": "7faacc5e",
   "metadata": {},
   "outputs": [
    {
     "name": "stdout",
     "output_type": "stream",
     "text": [
      "Assigning webdriver ...\n"
     ]
    }
   ],
   "source": [
    "start_time = time.time()\n",
    "print('Assigning webdriver ...')\n",
    "\n",
    "#assign the browser driver\n",
    "from selenium import webdriver\n",
    "\n",
    "driver = webdriver.Firefox()\n",
    "    \n",
    "# open the browser on the Eagle web page\n",
    "driver.get(url_default)          # default page\n",
    "wait = WebDriverWait(driver, 10) # https://selenium-python.readthedocs.io/waits.html, max wait for elements to appear\n",
    "\n",
    "# login with credentials\n",
    "driver.find_element(By.CSS_SELECTOR, '#LoginCtrl_MainLoginControl_UserName'   ).send_keys(aladdin)\n",
    "driver.find_element(By.CSS_SELECTOR, '#LoginCtrl_MainLoginControl_Password'   ).send_keys(sesame)\n",
    "driver.find_element(By.CSS_SELECTOR, '#LoginCtrl_MainLoginControl_LoginButton').click()\n",
    "    \n",
    "print(f'Assigning webdriver completed: {timediff(start_time, time.time())}', '\\n')"
   ]
  },
  {
   "cell_type": "code",
   "execution_count": 35,
   "id": "8169bb31",
   "metadata": {},
   "outputs": [
    {
     "name": "stdout",
     "output_type": "stream",
     "text": [
      "Save holdings data ...\n",
      "Save holdings data completed: 2min 6.3sec\n"
     ]
    }
   ],
   "source": [
    "start_time = time.time()\n",
    "print('Pulling and then saving holdings data ...')\n",
    "\n",
    "##get the PAR-N holdings\n",
    "\n",
    "#having logged in, open the reporting page\n",
    "driver.get(url_parn)             # fund holdings page\n",
    "\n",
    "# switch to the query page\n",
    "driver.find_element(By.CSS_SELECTOR, '#ModifyLinkLabel').click()\n",
    "\n",
    "edit_criteria_window = driver.window_handles[0] # save curent window handle\n",
    "# https://stackoverflow.com/questions/10629815/how-to-switch-to-new-window-in-selenium-for-python\n",
    "\n",
    "# update the calendar\n",
    "driver.find_element(By.CSS_SELECTOR, 'td[id=\"ctl00_c_qc_QueryInputs_QueryInputsPopup_DATE1_DateCtrl_From_B-1\"]').click()\n",
    "driver.find_element(By.CSS_SELECTOR, 'td[id=\"ctl00_c_qc_QueryInputs_QueryInputsPopup_DATE1_DateCtrl_From_DDD_C_NMC\"]').click()\n",
    "lmonth_selector = wait.until(EC.element_to_be_clickable((By.CSS_SELECTOR, 'td[id=\"ctl00_c_qc_QueryInputs_QueryInputsPopup_DATE1_DateCtrl_From_DDD_C_PMC\"]')))\n",
    "while driver.find_element(By.XPATH,'//td[@id=\"ctl00_c_qc_QueryInputs_QueryInputsPopup_DATE1_DateCtrl_From_DDD_C_TC\"]').text != month_year_:\n",
    "    lmonth_selector.click()\n",
    "day_selector = driver.find_element(By.XPATH,f'//td[@class=\"dxeCalendarDay\"][text()={day_}] | //td[@class=\"dxeCalendarDay dxeCalendarWeekend\"][text()={day_}]')\n",
    "day_selector.click()\n",
    "\n",
    "# get the web element for the FUND LIST and assign values to it\n",
    "fund_selector  = driver.find_element(By.CSS_SELECTOR, 'input[id=\"ctl00_c_qc_QueryInputs_QueryInputsPopup_FUND0_SelectedIds\"]')\n",
    "driver.execute_script(f'arguments[0].value = \"{fnds_}\";', fund_selector)\n",
    "\n",
    "# get the web element of the 'Submit' button and then click it\n",
    "submit_button  = driver.find_element(By.CSS_SELECTOR, 'input[id=\"ctl00_c_qc_QueryInputs_QueryInputsPopup_RunBtn\"]')\n",
    "submit_button.click()\n",
    "\n",
    "#Wait for and then click the export button and then the xls download button\n",
    "#https://stackoverflow.com/questions/56085152/selenium-python-error-element-could-not-be-scrolled-into-view\n",
    "WebDriverWait(driver, 1000).until(EC.element_to_be_clickable((By.CSS_SELECTOR,  'a[id=\"DistrBtn\"]'        ))).click()\n",
    "WebDriverWait(driver, 1000).until(EC.element_to_be_clickable((By.CSS_SELECTOR, 'td[id=\"ExportMnu_DXI4_T\"]'))).click()\n",
    "\n",
    "#latest_download_file() # wait for downloads to complete before moving to next line\n",
    "#https://www.w3docs.com/snippets/java/how-can-i-ask-the-selenium-webdriver-to-wait-for-few-seconds-in-java.html#:~:text=To%20make%20the%20Selenium%20WebDriver,Wait%20for%205%20seconds%20Thread.\n",
    "time.sleep(30) # wait for 30 seconds after the holdings data downloads\n",
    "\n",
    "print(f'Pulling and then saving holdings data completed: {timediff(start_time, time.time())}', '\\n')"
   ]
  },
  {
   "cell_type": "code",
   "execution_count": 37,
   "id": "df9bfc5b",
   "metadata": {},
   "outputs": [
    {
     "name": "stdout",
     "output_type": "stream",
     "text": [
      "Pull and then save derivative data ...\n",
      "Pull and then save derivative data completed: 11.0sec\n",
      "Total time for holdings and derivative data: 4min 20.6sec\n"
     ]
    }
   ],
   "source": [
    "start_time = time.time()\n",
    "print('Pulling and then saving derivative data ...')\n",
    "\n",
    "#get the derivative metrics\n",
    "\n",
    "#having logged in, open the reporting page\n",
    "driver.get(url_derv)\n",
    "\n",
    "# switch to the query page\n",
    "driver.find_element(By.CSS_SELECTOR, '#ModifyLinkLabel').click()\n",
    "\n",
    "edit_criteria_window = driver.window_handles[0] # save curent window handle\n",
    "# https://stackoverflow.com/questions/10629815/how-to-switch-to-new-window-in-selenium-for-python\n",
    "\n",
    "# update the 'from' calendar\n",
    "driver.find_element(By.CSS_SELECTOR, 'td[id=\"ctl00_c_qc_QueryInputs_QueryInputsPopup_DATE1_DateCtrl_From_B-1\"]').click()\n",
    "driver.find_element(By.CSS_SELECTOR, 'td[id=\"ctl00_c_qc_QueryInputs_QueryInputsPopup_DATE1_DateCtrl_From_DDD_C_NMC\"]').click()\n",
    "lmonth_selector = wait.until(EC.element_to_be_clickable((By.CSS_SELECTOR, 'td[id=\"ctl00_c_qc_QueryInputs_QueryInputsPopup_DATE1_DateCtrl_From_DDD_C_PMC\"]')))\n",
    "while driver.find_element(By.XPATH,'//td[@id=\"ctl00_c_qc_QueryInputs_QueryInputsPopup_DATE1_DateCtrl_From_DDD_C_TC\"]').text != month_year_:\n",
    "    lmonth_selector.click()\n",
    "day_selector = driver.find_element(By.XPATH, f'//td[@class=\"dxeCalendarDay\"][text()={day_}] | //td[@class=\"dxeCalendarDay dxeCalendarWeekend\"][text()={day_}]')\n",
    "day_selector.click()\n",
    "\n",
    "# get the web element for the fund list and assign values to it\n",
    "fund_selector  = driver.find_element(By.CSS_SELECTOR, 'input[id=\"ctl00_c_qc_QueryInputs_QueryInputsPopup_FUND0_SelectedIds\"]')\n",
    "driver.execute_script(f'arguments[0].value = \"{fnds_}\";', fund_selector)\n",
    "\n",
    "# get the web element of the 'Submit' button and then click it\n",
    "submit_button  = driver.find_element(By.CSS_SELECTOR, 'input[id=\"ctl00_c_qc_QueryInputs_QueryInputsPopup_RunBtn\"]')\n",
    "submit_button.click()\n",
    "\n",
    "#Wait for and then click the export button and then the xls download button\n",
    "#https://stackoverflow.com/questions/56085152/selenium-python-error-element-could-not-be-scrolled-into-view\n",
    "WebDriverWait(driver, 1000).until(EC.element_to_be_clickable((By.CSS_SELECTOR,  'a[id=\"DistrBtn\"]'        ))).click()\n",
    "WebDriverWait(driver, 1000).until(EC.element_to_be_clickable((By.CSS_SELECTOR, 'td[id=\"ExportMnu_DXI4_T\"]'))).click()\n",
    "\n",
    "#latest_download_file() # wait for downloads to complete before moving to next line\n",
    "\n",
    "print(f'Pulling and then saving derivative data completed: {timediff(start_time, time.time())}', '\\n')\n",
    "print(f'Roundtrip time for holdings and derivative data: {timediff(start_time_overlord, time.time())}', '\\n')"
   ]
  },
  {
   "cell_type": "code",
   "execution_count": 38,
   "id": "9c713bbd",
   "metadata": {},
   "outputs": [],
   "source": [
    "driver.quit() # close the web driver"
   ]
  }
 ],
 "metadata": {
  "kernelspec": {
   "display_name": "Python 3 (ipykernel)",
   "language": "python",
   "name": "python3"
  },
  "language_info": {
   "codemirror_mode": {
    "name": "ipython",
    "version": 3
   },
   "file_extension": ".py",
   "mimetype": "text/x-python",
   "name": "python",
   "nbconvert_exporter": "python",
   "pygments_lexer": "ipython3",
   "version": "3.9.12"
  }
 },
 "nbformat": 4,
 "nbformat_minor": 5
}
