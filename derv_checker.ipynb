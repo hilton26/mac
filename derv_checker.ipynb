{
 "cells": [
  {
   "cell_type": "markdown",
   "id": "7a063e26",
   "metadata": {},
   "source": [
    "# Derivative Cover Reporting"
   ]
  },
  {
   "cell_type": "code",
   "execution_count": 1,
   "id": "a5c912fa",
   "metadata": {},
   "outputs": [],
   "source": [
    "# create a time difference function\n",
    "import datetime, time\n",
    "\n",
    "def timediff(start, end, decimals = 1):\n",
    "    if   int((end - start) / 3600) > 0: # non-zero hours\n",
    "        return str(int(  (end - start) / 3600))           + 'hr '  + \\\n",
    "               str(int(  (end - start) /   60))           + 'min ' + \\\n",
    "               str(round((end - start) %   60, decimals)) + 'sec'\n",
    "    elif int((end - start) /   60) > 0: # non-zero hours and minutes\n",
    "        return str(int(  (end - start) /   60))           + 'min ' + \\\n",
    "               str(round((end - start) %   60, decimals)) + 'sec'\n",
    "    else:\n",
    "        return str(round((end - start) %   60, decimals)) + 'sec'"
   ]
  },
  {
   "cell_type": "code",
   "execution_count": 2,
   "id": "707dd525",
   "metadata": {},
   "outputs": [
    {
     "name": "stdout",
     "output_type": "stream",
     "text": [
      "Importing libraries ...\n",
      "Importing libraries completed: 0.8sec \n",
      "\n",
      "Setting up paths ...\n",
      "Setting up paths completed: 0.0sec \n",
      "\n",
      "Collecting input data ...\n",
      "Report date:          2023-09-21 00:00:00 \n",
      " Portfolios (1):      PPOS \n",
      "\n",
      "Collecting input data completed: 5.7sec \n",
      "\n",
      "Assigning webdriver ...\n",
      "Assigning webdriver completed: 22.5sec \n",
      "\n",
      "Pulling and then saving holdings data ...\n",
      "Pulling and then saving holdings data completed: 45.1sec \n",
      "\n",
      "Pulling and then saving derivative data ...\n",
      "Pulling and then saving derivative data completed: 10.6sec \n",
      "\n",
      "Roundtrip time for holdings and derivative data: 1min 24.7sec \n",
      "\n",
      "Importing libraries ...\n",
      "Importing libraries completed: 0.1sec \n",
      "\n",
      "Starting Excel ...\n",
      "Starting Excel completed: 0.0sec \n",
      "\n",
      "Setting up paths ...\n",
      "Setting up paths completed: 0.0sec \n",
      "\n",
      "Getting the reporting date ...\n",
      " Reporting date: 21Sep2023\n",
      "Getting the reporting date: 3.2sec \n",
      "\n",
      "Getting names of downloaded holdings and derivative files ...\n",
      " C:\\Users\\hilton.netta\\Downloads\\Portfolio Analytics Report - New(31).xls \n",
      " C:\\Users\\hilton.netta\\Downloads\\Derivative Exposure(2).xls\n",
      "Getting names of downloaded holdings and derivative files completed: 0.0sec \n",
      "\n",
      "Converting xls files to xlsx ...\n",
      "Converting xls files to xlsx completed: 3.0sec \n",
      "\n",
      "Creating dataframes from fund holdings and derivative data ...\n",
      "Creating dataframes from fund holdings and derivative data completed: 0.9sec \n",
      "\n",
      "Calculating and saving fund Total Market Value percentages ...\n"
     ]
    },
    {
     "data": {
      "application/vnd.jupyter.widget-view+json": {
       "model_id": "63a33bedd7b8422d8d1d285f4a655d93",
       "version_major": 2,
       "version_minor": 0
      },
      "text/plain": [
       "0it [00:00, ?it/s]"
      ]
     },
     "metadata": {},
     "output_type": "display_data"
    },
    {
     "name": "stdout",
     "output_type": "stream",
     "text": [
      "Calculating and saving fund Total Market Value percentages completed: 0.0sec \n",
      "\n",
      "Recalculating Current Exposure percentage column ...\n"
     ]
    },
    {
     "data": {
      "application/vnd.jupyter.widget-view+json": {
       "model_id": "33368b669171459ab72cdbf1a3c27f39",
       "version_major": 2,
       "version_minor": 0
      },
      "text/plain": [
       "0it [00:00, ?it/s]"
      ]
     },
     "metadata": {},
     "output_type": "display_data"
    },
    {
     "name": "stdout",
     "output_type": "stream",
     "text": [
      "Recalculating Current Exposure percentage column completed: 0.0sec \n",
      "\n",
      "Creating individual fund derivative calculation files ...\n"
     ]
    },
    {
     "data": {
      "application/vnd.jupyter.widget-view+json": {
       "model_id": "792dc943da09475f93ddc384ebb14e22",
       "version_major": 2,
       "version_minor": 0
      },
      "text/plain": [
       "  0%|          | 0/1 [00:00<?, ?it/s]"
      ]
     },
     "metadata": {},
     "output_type": "display_data"
    },
    {
     "name": "stdout",
     "output_type": "stream",
     "text": [
      "Creating individual fund derivative calculation files completed: 19.5sec \n",
      "\n",
      "Saving the fund derivative calculation files to Export folder ...\n"
     ]
    },
    {
     "data": {
      "application/vnd.jupyter.widget-view+json": {
       "model_id": "9a24be39b272434aa25f774d072b7442",
       "version_major": 2,
       "version_minor": 0
      },
      "text/plain": [
       "  0%|          | 0/1 [00:00<?, ?it/s]"
      ]
     },
     "metadata": {},
     "output_type": "display_data"
    },
    {
     "name": "stdout",
     "output_type": "stream",
     "text": [
      "Save the fund derivative calculation files to Export folder completed: 0.2sec \n",
      "\n",
      "Summary sheet required? No\n",
      "Opening the Summary sheet for review ...\n",
      "Opening the Summary sheet for review completed: 27.2sec\n",
      "Roundtrip time for deivative calcs and summary sheet: 54.2sec \n",
      "\n",
      "Roundtrip time: 2min 24.1sec\n"
     ]
    }
   ],
   "source": [
    "start_time_0          = time.time()\n",
    "\n",
    "#https://stackoverflow.com/questions/72962306/how-to-use-run-command-to-execute-another-notebook-using-file-path\n",
    "%run \"C:/Users/hilton.netta/OneDrive - Prescient/py/gitrepo/derv_checker_downloads.ipynb\"\n",
    "%run \"C:/Users/hilton.netta/OneDrive - Prescient/py/gitrepo/derv_checker_compiling.ipynb\"\n",
    "\n",
    "print(f'Roundtrip time: {timediff(start_time_0, time.time())}')"
   ]
  }
 ],
 "metadata": {
  "kernelspec": {
   "display_name": "Python 3 (ipykernel)",
   "language": "python",
   "name": "python3"
  },
  "language_info": {
   "codemirror_mode": {
    "name": "ipython",
    "version": 3
   },
   "file_extension": ".py",
   "mimetype": "text/x-python",
   "name": "python",
   "nbconvert_exporter": "python",
   "pygments_lexer": "ipython3",
   "version": "3.9.12"
  }
 },
 "nbformat": 4,
 "nbformat_minor": 5
}
