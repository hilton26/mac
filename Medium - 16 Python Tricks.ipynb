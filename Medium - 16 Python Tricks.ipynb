{
 "cells": [
  {
   "cell_type": "markdown",
   "id": "8066595b",
   "metadata": {},
   "source": [
    "### Medium: 16 Python Tricks To Learn Before You Write Your Next Code\n",
    "\n",
    "https://medium.com/codex/16-python-tricks-to-learn-before-you-write-your-next-code-bb91dd955f1b"
   ]
  },
  {
   "cell_type": "markdown",
   "id": "b6821097",
   "metadata": {},
   "source": [
    "#### 1. Ternary operator\n",
    "The ternary operator is a shorthand for an if-else statement. The syntax is value_if_true if condition else value_if_false. It's a one-liner that can replace a multi-line if-else statement, making your code more concise."
   ]
  },
  {
   "cell_type": "code",
   "execution_count": 2,
   "id": "ce13c1fd",
   "metadata": {},
   "outputs": [],
   "source": [
    "a = 5 \n",
    "b = 10 \n",
    "max = a if a > b else b  ##value_if_true if condition else value_if_false"
   ]
  },
  {
   "cell_type": "markdown",
   "id": "993db7aa",
   "metadata": {},
   "source": [
    "#### 2. Enumerate function\n",
    "The enumerate() function adds a counter to an iterable and returns it in a form of enumerate object. This function is useful when you want to iterate over a list and also keep track of the index."
   ]
  },
  {
   "cell_type": "code",
   "execution_count": 3,
   "id": "4cf31732",
   "metadata": {},
   "outputs": [
    {
     "name": "stdout",
     "output_type": "stream",
     "text": [
      "0 apple\n",
      "1 banana\n",
      "2 mango\n"
     ]
    }
   ],
   "source": [
    "fruits = ['apple', 'banana', 'mango'] \n",
    "for index, fruit in enumerate(fruits): \n",
    "    print(index, fruit)"
   ]
  },
  {
   "cell_type": "code",
   "execution_count": null,
   "id": "3bd3f1ba",
   "metadata": {},
   "outputs": [],
   "source": []
  }
 ],
 "metadata": {
  "kernelspec": {
   "display_name": "Python 3 (ipykernel)",
   "language": "python",
   "name": "python3"
  },
  "language_info": {
   "codemirror_mode": {
    "name": "ipython",
    "version": 3
   },
   "file_extension": ".py",
   "mimetype": "text/x-python",
   "name": "python",
   "nbconvert_exporter": "python",
   "pygments_lexer": "ipython3",
   "version": "3.9.12"
  }
 },
 "nbformat": 4,
 "nbformat_minor": 5
}
