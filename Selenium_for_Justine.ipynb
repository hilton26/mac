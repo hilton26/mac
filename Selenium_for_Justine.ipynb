{
 "cells": [
  {
   "cell_type": "markdown",
   "metadata": {},
   "source": [
    "How To Handle Dropdown with Select In Selenium With Python- Selenium Webdriver Tutorial Python #7 (Oct 2020)\n",
    "Source: https://www.youtube.com/watch?v=p9NpddaIZWs\n",
    "\n",
    "Python with selenium: unable to locate element which really exist\n",
    "https://stackoverflow.com/questions/24369249/python-with-selenium-unable-to-locate-element-which-really-exist\n",
    "\n"
   ]
  },
  {
   "cell_type": "code",
   "execution_count": 136,
   "metadata": {},
   "outputs": [],
   "source": [
    "# import selenium and time - for the sleep timer\n",
    "import os\n",
    "from selenium import webdriver\n",
    "from selenium.webdriver.common.by import By\n",
    "from selenium.webdriver.common.keys import Keys\n",
    "from selenium.webdriver.support.ui import WebDriverWait\n",
    "from selenium.webdriver.support import expected_conditions as EC\n",
    "from selenium.common.exceptions import NoSuchElementException\n",
    "import time"
   ]
  },
  {
   "cell_type": "code",
   "execution_count": 137,
   "metadata": {},
   "outputs": [
    {
     "name": "stdout",
     "output_type": "stream",
     "text": [
      "[[2, '27958'], [1, '41969'], [2, '28824'], [3, '00751'], [7, '1373470'], [2, '31220'], [2, '1321154']]\n"
     ]
    }
   ],
   "source": [
    "# Specify Justine credentials \n",
    "justine_account_number = '10194398'\n",
    "justine_pw = 'Lucyfox197'\n",
    "justine_consultant_account_number = '10194398'\n",
    "\n",
    "# Identify or create the order list\n",
    "order_list = [[2,'27958'],[1,'41969'],[2,'28824'],[3,'00751'],[7,'1373470'],[2,'31220'],[2,'1321154']]\n",
    "type(order_list)\n",
    "print(order_list)"
   ]
  },
  {
   "cell_type": "code",
   "execution_count": 138,
   "metadata": {},
   "outputs": [
    {
     "name": "stdout",
     "output_type": "stream",
     "text": [
      "no alert\n"
     ]
    },
    {
     "ename": "NoSuchWindowException",
     "evalue": "Message: no such window\n  (Session info: chrome=97.0.4692.71)\nStacktrace:\nBacktrace:\n\tOrdinal0 [0x007BFDC3+2555331]\n\tOrdinal0 [0x007577F1+2127857]\n\tOrdinal0 [0x00652CD0+1060048]\n\tOrdinal0 [0x00645763+1005411]\n\tOrdinal0 [0x006445DD+1000925]\n\tOrdinal0 [0x006447C7+1001415]\n\tOrdinal0 [0x0065ABC0+1092544]\n\tOrdinal0 [0x0065505B+1069147]\n\tOrdinal0 [0x00654BD5+1067989]\n\tOrdinal0 [0x006553AB+1069995]\n\tOrdinal0 [0x00655650+1070672]\n\tOrdinal0 [0x0067E212+1237522]\n\tOrdinal0 [0x0067E69B+1238683]\n\tOrdinal0 [0x006A9252+1413714]\n\tOrdinal0 [0x00697B54+1342292]\n\tOrdinal0 [0x006A75FA+1406458]\n\tOrdinal0 [0x00697976+1341814]\n\tOrdinal0 [0x006736B6+1193654]\n\tOrdinal0 [0x00674546+1197382]\n\tGetHandleVerifier [0x00959622+1619522]\n\tGetHandleVerifier [0x00A0882C+2336844]\n\tGetHandleVerifier [0x008523E1+541697]\n\tGetHandleVerifier [0x00851443+537699]\n\tOrdinal0 [0x0075D18E+2150798]\n\tOrdinal0 [0x00761518+2168088]\n\tOrdinal0 [0x00761660+2168416]\n\tOrdinal0 [0x0076B330+2208560]\n\tBaseThreadInitThunk [0x764DFA29+25]\n\tRtlGetAppContainerNamedObjectPath [0x778A7A9E+286]\n\tRtlGetAppContainerNamedObjectPath [0x778A7A6E+238]\n",
     "output_type": "error",
     "traceback": [
      "\u001b[1;31m---------------------------------------------------------------------------\u001b[0m",
      "\u001b[1;31mNoSuchWindowException\u001b[0m                     Traceback (most recent call last)",
      "\u001b[1;32m~\\AppData\\Local\\Temp/ipykernel_9508/2267713519.py\u001b[0m in \u001b[0;36m<module>\u001b[1;34m\u001b[0m\n\u001b[0;32m     41\u001b[0m \u001b[1;32mexcept\u001b[0m\u001b[1;33m:\u001b[0m \u001b[0mNoSuchElementException\u001b[0m\u001b[1;33m\u001b[0m\u001b[1;33m\u001b[0m\u001b[0m\n\u001b[0;32m     42\u001b[0m \u001b[1;33m\u001b[0m\u001b[0m\n\u001b[1;32m---> 43\u001b[1;33m \u001b[0mdriver\u001b[0m\u001b[1;33m.\u001b[0m\u001b[0mfind_element\u001b[0m\u001b[1;33m(\u001b[0m\u001b[0mBy\u001b[0m\u001b[1;33m.\u001b[0m\u001b[0mCSS_SELECTOR\u001b[0m\u001b[1;33m,\u001b[0m\u001b[1;34m'input[id=\"startOrder\"]'\u001b[0m\u001b[1;33m)\u001b[0m\u001b[1;33m.\u001b[0m\u001b[0mclick\u001b[0m\u001b[1;33m(\u001b[0m\u001b[1;33m)\u001b[0m\u001b[1;33m\u001b[0m\u001b[1;33m\u001b[0m\u001b[0m\n\u001b[0m\u001b[0;32m     44\u001b[0m \u001b[1;33m\u001b[0m\u001b[0m\n\u001b[0;32m     45\u001b[0m \u001b[1;33m\u001b[0m\u001b[0m\n",
      "\u001b[1;32m~\\anaconda3\\lib\\site-packages\\selenium\\webdriver\\remote\\webdriver.py\u001b[0m in \u001b[0;36mfind_element\u001b[1;34m(self, by, value)\u001b[0m\n\u001b[0;32m   1242\u001b[0m             \u001b[0mvalue\u001b[0m \u001b[1;33m=\u001b[0m \u001b[1;34m'[name=\"%s\"]'\u001b[0m \u001b[1;33m%\u001b[0m \u001b[0mvalue\u001b[0m\u001b[1;33m\u001b[0m\u001b[1;33m\u001b[0m\u001b[0m\n\u001b[0;32m   1243\u001b[0m \u001b[1;33m\u001b[0m\u001b[0m\n\u001b[1;32m-> 1244\u001b[1;33m         return self.execute(Command.FIND_ELEMENT, {\n\u001b[0m\u001b[0;32m   1245\u001b[0m             \u001b[1;34m'using'\u001b[0m\u001b[1;33m:\u001b[0m \u001b[0mby\u001b[0m\u001b[1;33m,\u001b[0m\u001b[1;33m\u001b[0m\u001b[1;33m\u001b[0m\u001b[0m\n\u001b[0;32m   1246\u001b[0m             'value': value})['value']\n",
      "\u001b[1;32m~\\anaconda3\\lib\\site-packages\\selenium\\webdriver\\remote\\webdriver.py\u001b[0m in \u001b[0;36mexecute\u001b[1;34m(self, driver_command, params)\u001b[0m\n\u001b[0;32m    422\u001b[0m         \u001b[0mresponse\u001b[0m \u001b[1;33m=\u001b[0m \u001b[0mself\u001b[0m\u001b[1;33m.\u001b[0m\u001b[0mcommand_executor\u001b[0m\u001b[1;33m.\u001b[0m\u001b[0mexecute\u001b[0m\u001b[1;33m(\u001b[0m\u001b[0mdriver_command\u001b[0m\u001b[1;33m,\u001b[0m \u001b[0mparams\u001b[0m\u001b[1;33m)\u001b[0m\u001b[1;33m\u001b[0m\u001b[1;33m\u001b[0m\u001b[0m\n\u001b[0;32m    423\u001b[0m         \u001b[1;32mif\u001b[0m \u001b[0mresponse\u001b[0m\u001b[1;33m:\u001b[0m\u001b[1;33m\u001b[0m\u001b[1;33m\u001b[0m\u001b[0m\n\u001b[1;32m--> 424\u001b[1;33m             \u001b[0mself\u001b[0m\u001b[1;33m.\u001b[0m\u001b[0merror_handler\u001b[0m\u001b[1;33m.\u001b[0m\u001b[0mcheck_response\u001b[0m\u001b[1;33m(\u001b[0m\u001b[0mresponse\u001b[0m\u001b[1;33m)\u001b[0m\u001b[1;33m\u001b[0m\u001b[1;33m\u001b[0m\u001b[0m\n\u001b[0m\u001b[0;32m    425\u001b[0m             response['value'] = self._unwrap_value(\n\u001b[0;32m    426\u001b[0m                 response.get('value', None))\n",
      "\u001b[1;32m~\\anaconda3\\lib\\site-packages\\selenium\\webdriver\\remote\\errorhandler.py\u001b[0m in \u001b[0;36mcheck_response\u001b[1;34m(self, response)\u001b[0m\n\u001b[0;32m    245\u001b[0m                 \u001b[0malert_text\u001b[0m \u001b[1;33m=\u001b[0m \u001b[0mvalue\u001b[0m\u001b[1;33m[\u001b[0m\u001b[1;34m'alert'\u001b[0m\u001b[1;33m]\u001b[0m\u001b[1;33m.\u001b[0m\u001b[0mget\u001b[0m\u001b[1;33m(\u001b[0m\u001b[1;34m'text'\u001b[0m\u001b[1;33m)\u001b[0m\u001b[1;33m\u001b[0m\u001b[1;33m\u001b[0m\u001b[0m\n\u001b[0;32m    246\u001b[0m             \u001b[1;32mraise\u001b[0m \u001b[0mexception_class\u001b[0m\u001b[1;33m(\u001b[0m\u001b[0mmessage\u001b[0m\u001b[1;33m,\u001b[0m \u001b[0mscreen\u001b[0m\u001b[1;33m,\u001b[0m \u001b[0mstacktrace\u001b[0m\u001b[1;33m,\u001b[0m \u001b[0malert_text\u001b[0m\u001b[1;33m)\u001b[0m  \u001b[1;31m# type: ignore[call-arg]  # mypy is not smart enough here\u001b[0m\u001b[1;33m\u001b[0m\u001b[1;33m\u001b[0m\u001b[0m\n\u001b[1;32m--> 247\u001b[1;33m         \u001b[1;32mraise\u001b[0m \u001b[0mexception_class\u001b[0m\u001b[1;33m(\u001b[0m\u001b[0mmessage\u001b[0m\u001b[1;33m,\u001b[0m \u001b[0mscreen\u001b[0m\u001b[1;33m,\u001b[0m \u001b[0mstacktrace\u001b[0m\u001b[1;33m)\u001b[0m\u001b[1;33m\u001b[0m\u001b[1;33m\u001b[0m\u001b[0m\n\u001b[0m\u001b[0;32m    248\u001b[0m \u001b[1;33m\u001b[0m\u001b[0m\n\u001b[0;32m    249\u001b[0m     \u001b[1;32mdef\u001b[0m \u001b[0m_value_or_default\u001b[0m\u001b[1;33m(\u001b[0m\u001b[0mself\u001b[0m\u001b[1;33m,\u001b[0m \u001b[0mobj\u001b[0m\u001b[1;33m:\u001b[0m \u001b[0mMapping\u001b[0m\u001b[1;33m[\u001b[0m\u001b[0m_KT\u001b[0m\u001b[1;33m,\u001b[0m \u001b[0m_VT\u001b[0m\u001b[1;33m]\u001b[0m\u001b[1;33m,\u001b[0m \u001b[0mkey\u001b[0m\u001b[1;33m:\u001b[0m \u001b[0m_KT\u001b[0m\u001b[1;33m,\u001b[0m \u001b[0mdefault\u001b[0m\u001b[1;33m:\u001b[0m \u001b[0m_VT\u001b[0m\u001b[1;33m)\u001b[0m \u001b[1;33m->\u001b[0m \u001b[0m_VT\u001b[0m\u001b[1;33m:\u001b[0m\u001b[1;33m\u001b[0m\u001b[1;33m\u001b[0m\u001b[0m\n",
      "\u001b[1;31mNoSuchWindowException\u001b[0m: Message: no such window\n  (Session info: chrome=97.0.4692.71)\nStacktrace:\nBacktrace:\n\tOrdinal0 [0x007BFDC3+2555331]\n\tOrdinal0 [0x007577F1+2127857]\n\tOrdinal0 [0x00652CD0+1060048]\n\tOrdinal0 [0x00645763+1005411]\n\tOrdinal0 [0x006445DD+1000925]\n\tOrdinal0 [0x006447C7+1001415]\n\tOrdinal0 [0x0065ABC0+1092544]\n\tOrdinal0 [0x0065505B+1069147]\n\tOrdinal0 [0x00654BD5+1067989]\n\tOrdinal0 [0x006553AB+1069995]\n\tOrdinal0 [0x00655650+1070672]\n\tOrdinal0 [0x0067E212+1237522]\n\tOrdinal0 [0x0067E69B+1238683]\n\tOrdinal0 [0x006A9252+1413714]\n\tOrdinal0 [0x00697B54+1342292]\n\tOrdinal0 [0x006A75FA+1406458]\n\tOrdinal0 [0x00697976+1341814]\n\tOrdinal0 [0x006736B6+1193654]\n\tOrdinal0 [0x00674546+1197382]\n\tGetHandleVerifier [0x00959622+1619522]\n\tGetHandleVerifier [0x00A0882C+2336844]\n\tGetHandleVerifier [0x008523E1+541697]\n\tGetHandleVerifier [0x00851443+537699]\n\tOrdinal0 [0x0075D18E+2150798]\n\tOrdinal0 [0x00761518+2168088]\n\tOrdinal0 [0x00761660+2168416]\n\tOrdinal0 [0x0076B330+2208560]\n\tBaseThreadInitThunk [0x764DFA29+25]\n\tRtlGetAppContainerNamedObjectPath [0x778A7A9E+286]\n\tRtlGetAppContainerNamedObjectPath [0x778A7A6E+238]\n"
     ]
    }
   ],
   "source": [
    "os.environ[\"PATH\"] += os.pathsep + 'C:\\\\Users\\\\User\\\\Py\\\\WebDrivers'\n",
    "# https://stackoverflow.com/questions/29858752/error-message-chromedriver-executable-needs-to-be-available-in-the-path\n",
    "driver = webdriver.Chrome()\n",
    "\n",
    "# specify and open the login page\n",
    "login_page = 'https://www.justine.co.za/REPSuite/loginMain.page'\n",
    "place_an_order_page = 'https://www.justine.co.za/SLSuite/PlaceAnOrder.page'\n",
    "order_entry_page = 'https://www.justine.co.za/SLSuite/orderEntry.page'\n",
    "\n",
    "# login to the justine page\n",
    "driver.get(login_page)\n",
    "# allow the first justine page time to open up\n",
    "driver.implicitly_wait(5)\n",
    "\n",
    "#Source: https://www.youtube.com/watch?v=NjdaD4ftj3M\n",
    "driver.find_element(By.CSS_SELECTOR,'input[name=\"userIdDisplay\"]').send_keys(justine_account_number)\n",
    "driver.find_element(By.CSS_SELECTOR,'input[name=\"password\"]').send_keys(justine_pw)\n",
    "driver.find_element(By.CSS_SELECTOR,'input[name=\"password\"]').send_keys(Keys.RETURN)\n",
    "\n",
    "# allow the first justine page time to open up\n",
    "time.sleep(5)\n",
    "\n",
    "try:\n",
    "    driver.switch_to.alert.accept()\n",
    "    #Source: https://www.youtube.com/watch?v=NjdaD4ftj3M\n",
    "    print(\"alert accepted\")\n",
    "except:\n",
    "    print(\"no alert\")\n",
    "\n",
    "# driver.get(place_an_order_page)\n",
    "driver.implicitly_wait(20)\n",
    "driver.get(order_entry_page)\n",
    "\n",
    "# clear the intermediate iframe\n",
    "driver.switch_to.frame(driver.find_element(By.CSS_SELECTOR,'iframe[id=\"TB_iframeContent\"]'))\n",
    "driver.find_element(By.CSS_SELECTOR,'input[type=\"button\"][onclick=\"checkDirty();\"]').click()\n",
    "\n",
    "# circumvent the NoSuchElementExeption event and go to the order page\n",
    "try:\n",
    "    driver.find_element(By.CSS_SELECTOR,'input[id=\"startOrder\"]').click()\n",
    "except: NoSuchElementException\n",
    "\n",
    "driver.find_element(By.CSS_SELECTOR,'input[id=\"startOrder\"]').click()\n",
    "    \n",
    "    "
   ]
  },
  {
   "cell_type": "code",
   "execution_count": 132,
   "metadata": {},
   "outputs": [],
   "source": [
    "# Enter order line number and quantity\n",
    "for i in range(len(order_list)):\n",
    "    # driver.find_element(By.CSS_SELECTOR,f'input[id=\"newItems[{i}].linenumber\"]').clear()\n",
    "    driver.find_element(By.CSS_SELECTOR,f'input[id=\"newItems[{i}].linenumber\"]').send_keys(order_list[i][1])\n",
    "    # driver.find_element(By.CSS_SELECTOR,f'input[id=\"newItems[{i}].quantity\"]').clear()    \n",
    "    driver.find_element(By.CSS_SELECTOR,f'input[id=\"newItems[{i}].quantity\"]').send_keys(str(order_list[i][0]))"
   ]
  },
  {
   "cell_type": "code",
   "execution_count": 135,
   "metadata": {},
   "outputs": [],
   "source": [
    "driver.quit()"
   ]
  },
  {
   "cell_type": "code",
   "execution_count": 126,
   "metadata": {},
   "outputs": [
    {
     "name": "stdout",
     "output_type": "stream",
     "text": [
      "27958\n",
      "41969\n",
      "28824\n",
      "00751\n",
      "1373470\n",
      "31220\n",
      "1321154\n"
     ]
    }
   ],
   "source": [
    " for i in range(len(order_list)):\n",
    "    print(str(order_list[i][1]))"
   ]
  },
  {
   "cell_type": "code",
   "execution_count": 128,
   "metadata": {},
   "outputs": [
    {
     "name": "stdout",
     "output_type": "stream",
     "text": [
      "2\n",
      "1\n",
      "2\n",
      "3\n",
      "1\n",
      "2\n",
      "2\n"
     ]
    }
   ],
   "source": [
    " for i in range(len(order_list)):\n",
    "    print(order_list[i][0])"
   ]
  },
  {
   "cell_type": "code",
   "execution_count": 11,
   "metadata": {},
   "outputs": [
    {
     "name": "stdout",
     "output_type": "stream",
     "text": [
      "Parent window title: AVON GI3\n"
     ]
    }
   ],
   "source": [
    "#prints parent window title\n",
    "print(\"Parent window title: \" + driver.title)"
   ]
  },
  {
   "cell_type": "code",
   "execution_count": 10,
   "metadata": {},
   "outputs": [
    {
     "name": "stdout",
     "output_type": "stream",
     "text": [
      "CDwindow-ADB570C3E38CE0FE7D405A12E80A648E\n"
     ]
    }
   ],
   "source": [
    "#get current window handle\n",
    "p = driver.current_window_handle\n",
    "print(p)"
   ]
  },
  {
   "cell_type": "code",
   "execution_count": 9,
   "metadata": {},
   "outputs": [
    {
     "name": "stdout",
     "output_type": "stream",
     "text": [
      "['CDwindow-ADB570C3E38CE0FE7D405A12E80A648E']\n"
     ]
    }
   ],
   "source": [
    "#get first child window\n",
    "chwd = driver.window_handles\n",
    "print(chwd)"
   ]
  },
  {
   "cell_type": "code",
   "execution_count": 117,
   "metadata": {},
   "outputs": [
    {
     "name": "stdout",
     "output_type": "stream",
     "text": [
      "Child window title: AVON GI3\n"
     ]
    }
   ],
   "source": [
    "for w in chwd:\n",
    "#switch focus to child window\n",
    "    if(w!=p):\n",
    "        driver.switch_to.window(w)\n",
    "        break\n",
    "time.sleep(0.9)\n",
    "print(\"Child window title: \" + driver.title)\n",
    "driver.quit()"
   ]
  },
  {
   "cell_type": "code",
   "execution_count": 22,
   "metadata": {},
   "outputs": [
    {
     "data": {
      "text/plain": [
       "<selenium.webdriver.remote.webelement.WebElement (session=\"f37641c6a00033d76139a61c8a1eb266\", element=\"a7a7192f-6bdd-447c-a941-1896a098d9af\")>"
      ]
     },
     "execution_count": 22,
     "metadata": {},
     "output_type": "execute_result"
    }
   ],
   "source": [
    "driver.find_element(By.CSS_SELECTOR,'input[id=\"newItems[0].quantity\"]').click()\n",
    "driver.find_element(By.CSS_SELECTOR,'input[id=\"newItems[0].linenumber\"]')"
   ]
  },
  {
   "cell_type": "code",
   "execution_count": 17,
   "metadata": {},
   "outputs": [],
   "source": [
    "# driver.get('https://www.justine.co.za/SLSuite/orderEntry.page')"
   ]
  },
  {
   "cell_type": "code",
   "execution_count": 31,
   "metadata": {},
   "outputs": [],
   "source": [
    "# driver.find_element(By.CSS_SELECTOR,'input[id=\"newItems[0].quantity\"]').click()\n",
    "# driver.find_element(By.CSS_SELECTOR,'input[id=\"newItems[0].quantity\"]').click()\n",
    "driver.find_element(By.CSS_SELECTOR,'input[id=\"newItems[0].quantity\"]').clear()\n",
    "driver.find_element(By.CSS_SELECTOR,'input[id=\"newItems[0].quantity\"]').send_keys(7)\n"
   ]
  },
  {
   "cell_type": "code",
   "execution_count": 108,
   "metadata": {},
   "outputs": [],
   "source": [
    "driver.find_element(By.CSS_SELECTOR,f'input[id=\"newItems[{0}].linenumber\"]').send_keys(order_list[0][1])"
   ]
  },
  {
   "cell_type": "code",
   "execution_count": null,
   "metadata": {},
   "outputs": [],
   "source": []
  }
 ],
 "metadata": {
  "kernelspec": {
   "display_name": "Python 3 (ipykernel)",
   "language": "python",
   "name": "python3"
  },
  "language_info": {
   "codemirror_mode": {
    "name": "ipython",
    "version": 3
   },
   "file_extension": ".py",
   "mimetype": "text/x-python",
   "name": "python",
   "nbconvert_exporter": "python",
   "pygments_lexer": "ipython3",
   "version": "3.9.7"
  }
 },
 "nbformat": 4,
 "nbformat_minor": 2
}
