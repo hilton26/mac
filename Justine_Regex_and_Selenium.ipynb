{
 "cells": [
  {
   "cell_type": "markdown",
   "metadata": {},
   "source": [
    "Regular expression for number with length of 4, 5 or 6<br>https://stackoverflow.com/questions/7864971/regular-expression-for-number-with-length-of-4-5-or-6<br><br>\n",
    "Doc, rtf and txt reader in python<br>https://stackoverflow.com/questions/3278850/doc-rtf-and-txt-reader-in-python/30123122<br><br>Regex<br>https://www.computerhope.com/jargon/r/regex.htm<br><br>Python | Extract numbers from string<br>https://www.geeksforgeeks.org/python-extract-numbers-from-string/"
   ]
  },
  {
   "cell_type": "code",
   "execution_count": 27,
   "metadata": {},
   "outputs": [],
   "source": [
    "import re\n",
    "pth='/Users/hilton/Py/'\n",
    "txt = open(pth + 'Justine_Orders.txt').read()\n",
    "#print(txt)"
   ]
  },
  {
   "cell_type": "code",
   "execution_count": 28,
   "metadata": {
    "scrolled": true
   },
   "outputs": [],
   "source": [
    "# get the eight-digit number in the text, thus is the consultant reference number\n",
    "#c = re.findall(\"\\d{8}\", txt)\n",
    "#print(c)"
   ]
  },
  {
   "cell_type": "code",
   "execution_count": 29,
   "metadata": {
    "scrolled": true
   },
   "outputs": [],
   "source": [
    "# isolate the 4 <= digit numbers <= 7, these are the product numbers\n",
    "#x = re.findall(\"\\d{3,7}\", txt)\n",
    "#print(x)"
   ]
  },
  {
   "cell_type": "code",
   "execution_count": 30,
   "metadata": {},
   "outputs": [],
   "source": [
    "# CONSULTANT NUMBERS - remove consultant number from the product list\n",
    "#x.remove(str(int(int(c[0])/10)))\n",
    "#print(x)"
   ]
  },
  {
   "cell_type": "code",
   "execution_count": 31,
   "metadata": {},
   "outputs": [],
   "source": [
    "# PRODUCT NUMBERS - identify the product numbers less than four digits and prepend them with zeroes\n",
    "for i in range(len(x)):\n",
    "    if len(x[i]) < 5:\n",
    "        x[i] = '00' + x[i]\n",
    "# x"
   ]
  },
  {
   "cell_type": "code",
   "execution_count": 32,
   "metadata": {},
   "outputs": [],
   "source": [
    "# QUANTITIES - isolate the one- and two-digit numbers in the text, these are the quantities\n",
    "z = re.findall(\"\\D\\d\\D|\\D\\d\\d\\D\", txt)\n",
    "# print(z)\n",
    "\n",
    "# list the qauntities\n",
    "y=[]\n",
    "for i in range(len(z)):\n",
    "  y += re.findall('\\d+', z[i])\n",
    "#y"
   ]
  },
  {
   "cell_type": "code",
   "execution_count": 33,
   "metadata": {},
   "outputs": [],
   "source": [
    "order_list =  list(zip(x, y))\n",
    "#order_list"
   ]
  },
  {
   "cell_type": "code",
   "execution_count": 21,
   "metadata": {},
   "outputs": [],
   "source": [
    "# import selenium and time - for the sleep timer\n",
    "import os\n",
    "from selenium import webdriver\n",
    "from selenium.webdriver.common.by import By\n",
    "from selenium.webdriver.common.keys import Keys\n",
    "from selenium.webdriver.support.ui import WebDriverWait\n",
    "from selenium.webdriver.support import expected_conditions as EC\n",
    "from selenium.common.exceptions import NoSuchElementException\n",
    "import time\n",
    "\n",
    "# import the Regex module for the order list and consultant code\n",
    "import Justine_Regex"
   ]
  },
  {
   "cell_type": "code",
   "execution_count": 22,
   "metadata": {},
   "outputs": [],
   "source": [
    "# specify Justine credentials \n",
    "justine_account_number = '10194398'\n",
    "justine_pw = 'Lucyfox197'\n",
    "\n",
    "# set urls\n",
    "login_page = 'https://www.justine.co.za/REPSuite/loginMain.page'\n",
    "place_an_order_page = 'https://www.justine.co.za/SLSuite/PlaceAnOrder.page'\n",
    "order_entry_page = 'https://www.justine.co.za/SLSuite/orderEntry.page'\n",
    "rep_order_entry_page = 'https://www.justine.co.za/REPSuite/PlaceAnOrder.page'\n",
    "\n",
    "# set up the web browser\n",
    "#os.environ[\"PATH\"] +='C:\\\\Users\\\\User\\\\Py\\\\WebDrivers' # for Windows\n",
    "os.environ[\"PATH\"] += ':/Users/hilton/Py/SeleniumDrivers'# for Mac\n"
   ]
  },
  {
   "cell_type": "code",
   "execution_count": 24,
   "metadata": {},
   "outputs": [
    {
     "data": {
      "text/plain": [
       "[('09348', '1'),\n",
       " ('12435', '1'),\n",
       " ('1446081', '31'),\n",
       " ('1464728', '1'),\n",
       " ('00763', '5'),\n",
       " ('1444039', '1'),\n",
       " ('1321267', '2'),\n",
       " ('01178', '1'),\n",
       " ('1320229', '12'),\n",
       " ('1444956', '1'),\n",
       " ('000751', '8')]"
      ]
     },
     "execution_count": 24,
     "metadata": {},
     "output_type": "execute_result"
    }
   ],
   "source": [
    "# get the consultant code\n",
    "justine_consultant_account_number = Justine_Regex.Order.get_consultant_code(0)\n",
    "#justine_consultant_account_number\n",
    "\n",
    "# get the order list\n",
    "order_list = Justine_Regex.Order.get_order_list(0)\n",
    "#order_list\n"
   ]
  },
  {
   "cell_type": "code",
   "execution_count": 25,
   "metadata": {},
   "outputs": [],
   "source": [
    "# set up the web browser\n",
    "# os.environ[\"PATH\"] +='C:\\\\Users\\\\User\\\\Py\\\\WebDrivers'\n",
    "os.environ[\"PATH\"] += ':/Users/hilton/Py/SeleniumDrivers'\n",
    "driver = webdriver.Chrome()\n",
    "\n",
    "# specify and open the login page\n",
    "login_page = 'https://www.justine.co.za/REPSuite/loginMain.page'\n",
    "place_an_order_page = 'https://www.justine.co.za/SLSuite/PlaceAnOrder.page'\n",
    "order_entry_page = 'https://www.justine.co.za/SLSuite/orderEntry.page'\n",
    "rep_order_entry_page = 'https://www.justine.co.za/REPSuite/PlaceAnOrder.page'\n",
    "\n",
    "# login to the justine page\n",
    "driver.get(login_page)\n",
    "# allow the first justine page time to open up\n",
    "driver.implicitly_wait(5)\n",
    "\n",
    "# enter Justine credentials and deal with handle alert\n",
    "driver.find_element(By.CSS_SELECTOR,'input[name=\"userIdDisplay\"]').send_keys(justine_account_number)\n",
    "driver.find_element(By.CSS_SELECTOR,'input[name=\"password\"]').send_keys(justine_pw)\n",
    "driver.find_element(By.CSS_SELECTOR,'input[name=\"password\"]').send_keys(Keys.RETURN)\n",
    "\n",
    "# allow the first justine page time to open up\n",
    "time.sleep(5)\n",
    "\n",
    "try:\n",
    "    driver.switch_to.alert.accept()\n",
    "except:\n",
    "    #print(\"no alert\")\n",
    "    pass\n",
    "    \n",
    "# enter consultant's account number\n",
    "driver.get('https://www.justine.co.za/SLSuite/selectUser.page')\n",
    "driver.find_element(By.CSS_SELECTOR,'input[name=\"dummyAcctNum\"]').send_keys(justine_consultant_account_number)\n",
    "driver.find_element(By.CSS_SELECTOR,'input[name=\"dummyAcctNum\"]').send_keys(Keys.RETURN)\n",
    "\n",
    "# driver.get(place_an_order_page)\n",
    "driver.implicitly_wait(20)\n",
    "\n",
    "# open the rep order entry page\n",
    "driver.get(rep_order_entry_page)\n",
    "\n",
    "# circumvent the NoSuchElementExeption event and go to the rep order page\n",
    "try:\n",
    "    driver.find_element(By.CSS_SELECTOR,'input[id=\"startOrder\"]').click()\n",
    "except: NoSuchElementExeption\n",
    "\n",
    "# enter order line number and quantity\n",
    "for i in range(len(order_list)):\n",
    "    driver.find_element(By.CSS_SELECTOR,f'input[id=\"newItems[{i}].linenumber\"]').send_keys(order_list[i][0])\n",
    "    driver.find_element(By.CSS_SELECTOR,f'input[id=\"newItems[{i}].quantity\"]').send_keys(Keys.BACK_SPACE) \n",
    "    driver.find_element(By.CSS_SELECTOR,f'input[id=\"newItems[{i}].quantity\"]').send_keys(order_list[i][1])   \n",
    "driver.find_element(By.CSS_SELECTOR,f'input[id=\"newItems[{i}].quantity\"]').send_keys(Keys.RETURN) \n"
   ]
  },
  {
   "cell_type": "code",
   "execution_count": 26,
   "metadata": {},
   "outputs": [],
   "source": [
    "driver.quit()"
   ]
  },
  {
   "cell_type": "code",
   "execution_count": null,
   "metadata": {},
   "outputs": [],
   "source": []
  }
 ],
 "metadata": {
  "kernelspec": {
   "display_name": "Python 3 (ipykernel)",
   "language": "python",
   "name": "python3"
  },
  "language_info": {
   "codemirror_mode": {
    "name": "ipython",
    "version": 3
   },
   "file_extension": ".py",
   "mimetype": "text/x-python",
   "name": "python",
   "nbconvert_exporter": "python",
   "pygments_lexer": "ipython3",
   "version": "3.9.7"
  }
 },
 "nbformat": 4,
 "nbformat_minor": 4
}
