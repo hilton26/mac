{
 "cells": [
  {
   "cell_type": "markdown",
   "id": "d9e8beb9",
   "metadata": {},
   "source": [
    "## Extracting credit rating-type clauses from client mandates"
   ]
  },
  {
   "cell_type": "markdown",
   "id": "de15cb28",
   "metadata": {},
   "source": [
    "When import docx in python3.3 I have error ImportError: No module named 'exceptions'<br>\n",
    "https://stackoverflow.com/questions/22765313/when-import-docx-in-python3-3-i-have-error-importerror-no-module-named-excepti\n",
    "\n",
    "How to extract text from an existing docx file using python-docx<br>\n",
    "https://stackoverflow.com/questions/25228106/how-to-extract-text-from-an-existing-docx-file-using-python-docx\n",
    "\n",
    "How to extract text from word file .doc,docx,.xlsx,.pptx php<br>\n",
    "https://stackoverflow.com/questions/19503653/how-to-extract-text-from-word-file-doc-docx-xlsx-pptx-php\n",
    "\n",
    "How to iterate over files in directory using Python?<br>\n",
    "https://www.geeksforgeeks.org/how-to-iterate-over-files-in-directory-using-python/\n",
    "\n",
    "“python check for file type” Code Answer’s<br>\n",
    "https://www.codegrepper.com/code-examples/python/python+check+for+file+type\n",
    "\n",
    "Writing to an Excel spreadsheet<br>\n",
    "https://stackoverflow.com/questions/13437727/writing-to-an-excel-spreadsheet\n",
    "\n",
    "How to extract the url in hyperlinks from a docx file using python<br>\n",
    "https://stackoverflow.com/questions/40475757/how-to-extract-the-url-in-hyperlinks-from-a-docx-file-using-python\n",
    "\n",
    "Regular expression to extract text between square brackets<br>\n",
    "https://stackoverflow.com/questions/2403122/regular-expression-to-extract-text-between-square-brackets\n",
    "\n",
    "re — Regular expression operations<br>\n",
    "https://docs.python.org/3/library/re.html\n",
    "\n",
    "How do I extract links from a given text file using Python?<br>\n",
    "https://www.quora.com/How-do-I-extract-links-from-a-given-text-file-using-Python"
   ]
  },
  {
   "cell_type": "code",
   "execution_count": 1,
   "id": "fcf699ef",
   "metadata": {},
   "outputs": [],
   "source": [
    "# Installs\n",
    "\n",
    "# pip install python-docx"
   ]
  },
  {
   "cell_type": "code",
   "execution_count": 1,
   "id": "1ba7c47f",
   "metadata": {},
   "outputs": [],
   "source": [
    "# Libraries\n",
    "\n",
    "import docx\n",
    "import re\n",
    "from Word_Hyperlinks import get_hyperlinks\n",
    "\n",
    "# import xlwt # xlwt is a library for writing data and formatting information to older Excel files (ie: .xls) https://xlwt.readthedocs.io/en/latest/"
   ]
  },
  {
   "cell_type": "code",
   "execution_count": 3,
   "id": "aad51569",
   "metadata": {},
   "outputs": [],
   "source": [
    "# Constants\n",
    "\n",
    "pth = r'J:\\\\PProfile Operations\\\\Legal\\\\Legal and Compliance Framework\\\\Hilton\\\\Client Mandates\\\\'\n",
    "keywords = ['duration', 'modified duration', 'weighted average', 'maturity']"
   ]
  },
  {
   "cell_type": "code",
   "execution_count": 4,
   "id": "b856e4eb",
   "metadata": {},
   "outputs": [],
   "source": [
    "# Functions\n",
    "\n",
    "def getText(filename):\n",
    "#get all the text in a docx given its file name\n",
    "    doc = docx.Document(pth + filename)\n",
    "    fullText = []\n",
    "    for para in doc.paragraphs:\n",
    "        fullText.append(para.text)\n",
    "    return fullText\n",
    "\n",
    "def squareBracketless(filename):\n",
    "#get the text from a docx with internal square brackets removed\n",
    "    g = getText(filename)\n",
    "    new_text = []\n",
    "    for m in g:\n",
    "        if '[' in m:\n",
    "            tru = re.search('\\[(.*?)\\]',str(m)).group(0)\n",
    "            new_text.append(m.replace(tru,''))\n",
    "        else:\n",
    "            new_text.append(m)\n",
    "    return new_text\n",
    "\n",
    "def getClauses(keywds,fund):\n",
    "#get the clauses from a square-bracketless file having matching keywords\n",
    "    mumble = [fund.replace(\" Rules.docx\",\"\"),]\n",
    "    for i in getText(fund):\n",
    "            for j in keywds:\n",
    "                if j in i:\n",
    "                    if i in mumble:\n",
    "                        pass\n",
    "                    else:\n",
    "                        mumble.append(i)\n",
    "    return mumble"
   ]
  },
  {
   "cell_type": "code",
   "execution_count": 5,
   "id": "4458980f",
   "metadata": {},
   "outputs": [],
   "source": [
    "# list all the rules docx files to be interrogated\n",
    "import os\n",
    "\n",
    "# iterate over the files in the directory\n",
    "list_of_mandates = []\n",
    "for i in os.listdir(pth):\n",
    "    if os.path.isfile(os.path.join(pth, i)) and i.endswith(\".docx\") and not i.startswith(\"~\") and not i.startswith(\"!\"):\n",
    "        # getText(pth + i)\n",
    "        list_of_mandates.append(i)\n",
    "        \n",
    "# print(len(list_of_mandates), list_of_mandates)"
   ]
  },
  {
   "cell_type": "code",
   "execution_count": 6,
   "id": "d070ce3b",
   "metadata": {},
   "outputs": [],
   "source": [
    "# Set up an xlsx workbook to save results\n",
    "#import openpyxl # http://automatetheboringstuff.com/chapter12/\n",
    "from openpyxl import Workbook\n",
    "wb = Workbook()\n",
    "ws = wb.active"
   ]
  },
  {
   "cell_type": "code",
   "execution_count": 7,
   "id": "0c6f69ed",
   "metadata": {},
   "outputs": [],
   "source": [
    "# list_of_mandates = ['ENGENMBF Rules.docx', 'POIF Rules.docx', 'SMMRRF Rules.docx']\n",
    "clauses = []\n",
    "\n",
    "i = 1\n",
    "for p in list_of_mandates:\n",
    "    ws['A' + str(i)].value = str(getClauses(keywords, p))\n",
    "    i += 1\n",
    "    \n",
    "# clauses\n",
    "wb.save(pth + 'example.xlsx')"
   ]
  },
  {
   "cell_type": "code",
   "execution_count": 55,
   "id": "5baf6bee",
   "metadata": {},
   "outputs": [
    {
     "data": {
      "text/plain": [
       "['\\\\\\\\\\\\\\\\FILESERVER\\\\\\\\Clients\\\\\\\\Prescient Administration Clients\\\\\\\\PIM\\\\\\\\Segregated Clients\\\\\\\\Active Clients\\\\\\\\SBSA ITF Absa MM Absolute Return Prudential Fund (ABMMABR)\\\\\\\\Legal and Compliance\\\\\\\\Agreements\\\\\\\\2009\\\\\\\\20090116 - Portfolio Management Agreement.pdf']"
      ]
     },
     "execution_count": 55,
     "metadata": {},
     "output_type": "execute_result"
    }
   ],
   "source": [
    "get_hyperlinks('Segregated Clients', pth + 'ABMMABR Rules.docx')"
   ]
  },
  {
   "cell_type": "code",
   "execution_count": 57,
   "id": "227a6f5b",
   "metadata": {},
   "outputs": [
    {
     "ename": "UnboundLocalError",
     "evalue": "local variable 'm' referenced before assignment",
     "output_type": "error",
     "traceback": [
      "\u001b[1;31m---------------------------------------------------------------------------\u001b[0m",
      "\u001b[1;31mUnboundLocalError\u001b[0m                         Traceback (most recent call last)",
      "\u001b[1;32m<ipython-input-57-9e1d92cc11c1>\u001b[0m in \u001b[0;36m<module>\u001b[1;34m\u001b[0m\n\u001b[0;32m      1\u001b[0m \u001b[0mhula\u001b[0m \u001b[1;33m=\u001b[0m \u001b[1;33m[\u001b[0m\u001b[1;33m]\u001b[0m\u001b[1;33m\u001b[0m\u001b[1;33m\u001b[0m\u001b[0m\n\u001b[0;32m      2\u001b[0m \u001b[1;32mfor\u001b[0m \u001b[0mk\u001b[0m \u001b[1;32min\u001b[0m \u001b[0mlist_of_mandates\u001b[0m\u001b[1;33m:\u001b[0m\u001b[1;33m\u001b[0m\u001b[1;33m\u001b[0m\u001b[0m\n\u001b[1;32m----> 3\u001b[1;33m     \u001b[0mhula\u001b[0m\u001b[1;33m.\u001b[0m\u001b[0mappend\u001b[0m\u001b[1;33m(\u001b[0m\u001b[0mget_hyperlinks\u001b[0m\u001b[1;33m(\u001b[0m\u001b[1;34m'Segregated Clients'\u001b[0m\u001b[1;33m,\u001b[0m \u001b[0mpth\u001b[0m \u001b[1;33m+\u001b[0m \u001b[0mk\u001b[0m\u001b[1;33m)\u001b[0m\u001b[1;33m)\u001b[0m\u001b[1;33m\u001b[0m\u001b[1;33m\u001b[0m\u001b[0m\n\u001b[0m\u001b[0;32m      4\u001b[0m     \u001b[1;31m#hula.append(k)\u001b[0m\u001b[1;33m\u001b[0m\u001b[1;33m\u001b[0m\u001b[1;33m\u001b[0m\u001b[0m\n",
      "\u001b[1;32m~\\py\\Word_Hyperlinks.py\u001b[0m in \u001b[0;36mget_hyperlinks\u001b[1;34m(text, filename)\u001b[0m\n\u001b[0;32m     98\u001b[0m     \u001b[1;32mfor\u001b[0m \u001b[0mi\u001b[0m \u001b[1;32min\u001b[0m \u001b[0mrange\u001b[0m\u001b[1;33m(\u001b[0m\u001b[0mlen\u001b[0m\u001b[1;33m(\u001b[0m\u001b[0mlinked_text\u001b[0m\u001b[1;33m)\u001b[0m\u001b[1;33m)\u001b[0m\u001b[1;33m:\u001b[0m\u001b[1;33m\u001b[0m\u001b[1;33m\u001b[0m\u001b[0m\n\u001b[0;32m     99\u001b[0m         \u001b[0mm\u001b[0m \u001b[1;33m=\u001b[0m \u001b[0mlinked_text\u001b[0m\u001b[1;33m[\u001b[0m\u001b[0mi\u001b[0m\u001b[1;33m]\u001b[0m\u001b[1;33m[\u001b[0m\u001b[0mlist\u001b[0m\u001b[1;33m(\u001b[0m\u001b[0mlinked_text\u001b[0m\u001b[1;33m[\u001b[0m\u001b[0mi\u001b[0m\u001b[1;33m]\u001b[0m\u001b[1;33m)\u001b[0m\u001b[1;33m[\u001b[0m\u001b[1;36m1\u001b[0m\u001b[1;33m]\u001b[0m\u001b[1;33m]\u001b[0m\u001b[1;33m\u001b[0m\u001b[1;33m\u001b[0m\u001b[0m\n\u001b[1;32m--> 100\u001b[1;33m     \u001b[1;32mif\u001b[0m \u001b[0mtext\u001b[0m \u001b[1;32min\u001b[0m \u001b[0mm\u001b[0m\u001b[1;33m:\u001b[0m\u001b[1;33m\u001b[0m\u001b[1;33m\u001b[0m\u001b[0m\n\u001b[0m\u001b[0;32m    101\u001b[0m         \u001b[0mhlink\u001b[0m\u001b[1;33m.\u001b[0m\u001b[0mappend\u001b[0m\u001b[1;33m(\u001b[0m\u001b[0mm\u001b[0m\u001b[1;33m)\u001b[0m\u001b[1;33m\u001b[0m\u001b[1;33m\u001b[0m\u001b[0m\n\u001b[0;32m    102\u001b[0m     \u001b[1;32mreturn\u001b[0m \u001b[0mhlink\u001b[0m\u001b[1;33m\u001b[0m\u001b[1;33m\u001b[0m\u001b[0m\n",
      "\u001b[1;31mUnboundLocalError\u001b[0m: local variable 'm' referenced before assignment"
     ]
    }
   ],
   "source": [
    "hula = []\n",
    "for k in list_of_mandates:\n",
    "    hula.append(get_hyperlinks('Segregated Clients', pth + k))\n",
    "    #hula.append(k)"
   ]
  },
  {
   "cell_type": "code",
   "execution_count": null,
   "id": "4358b08d",
   "metadata": {},
   "outputs": [],
   "source": []
  }
 ],
 "metadata": {
  "kernelspec": {
   "display_name": "Python 3",
   "language": "python",
   "name": "python3"
  },
  "language_info": {
   "codemirror_mode": {
    "name": "ipython",
    "version": 3
   },
   "file_extension": ".py",
   "mimetype": "text/x-python",
   "name": "python",
   "nbconvert_exporter": "python",
   "pygments_lexer": "ipython3",
   "version": "3.8.8"
  }
 },
 "nbformat": 4,
 "nbformat_minor": 5
}
